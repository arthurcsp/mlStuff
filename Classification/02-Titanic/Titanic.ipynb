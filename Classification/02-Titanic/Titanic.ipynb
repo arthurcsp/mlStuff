{
    "cells": [
        {
            "cell_type": "code",
            "execution_count": 1,
            "metadata": {},
            "outputs": [
                {
                    "name": "stderr",
                    "output_type": "stream",
                    "text": [
                        "C:\\Users\\arthu\\Anaconda3\\lib\\site-packages\\statsmodels\\tools\\_testing.py:19: FutureWarning: pandas.util.testing is deprecated. Use the functions in the public API at pandas.testing instead.\n",
                        "  import pandas.util.testing as tm\n"
                    ]
                }
            ],
            "source": [
                "#Import libs\n",
                "import pandas as pd \n",
                "import matplotlib.pyplot as plt\n",
                "import numpy as np \n",
                "import random as rnd \n",
                "import seaborn as sns "
            ]
        },
        {
            "cell_type": "code",
            "execution_count": 2,
            "metadata": {},
            "outputs": [],
            "source": [
                "#### getting datasets\n",
                "df_train = pd.read_csv(\"train.csv\")\n",
                "df_test  = pd.read_csv(\"test.csv\")\n",
                "\n",
                "#combine to run operations on both datasets\n",
                "df_combine = [ df_train , df_test]"
            ]
        },
        {
            "cell_type": "code",
            "execution_count": 3,
            "metadata": {},
            "outputs": [
                {
                    "data": {
                        "text/plain": [
                            "Index(['PassengerId', 'Survived', 'Pclass', 'Name', 'Sex', 'Age', 'SibSp',\n",
                            "       'Parch', 'Ticket', 'Fare', 'Cabin', 'Embarked'],\n",
                            "      dtype='object')"
                        ]
                    },
                    "execution_count": 3,
                    "metadata": {},
                    "output_type": "execute_result"
                }
            ],
<<<<<<< HEAD
            "source": [
                "#list of columns on dataset\n",
                "df_train.columns"
            ]
        },
        {
            "cell_type": "markdown",
            "metadata": {},
            "source": [
=======
            "source": [
                "#list of columns on dataset\n",
                "df_train.columns"
            ]
        },
        {
            "cell_type": "markdown",
            "metadata": {},
            "source": [
>>>>>>> 677d7b023de30d4b7dd4b0da5fc0cba1533d2616
                "### Data Analysis "
            ]
        },
        {
            "cell_type": "code",
<<<<<<< HEAD
            "execution_count": 4,
=======
            "execution_count": 18,
>>>>>>> 677d7b023de30d4b7dd4b0da5fc0cba1533d2616
            "metadata": {},
            "outputs": [
                {
                    "data": {
                        "image/png": "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",
                        "text/plain": [
                            "<Figure size 1440x720 with 9 Axes>"
                        ]
                    },
                    "metadata": {
                        "needs_background": "light"
                    },
                    "output_type": "display_data"
                }
            ],
            "source": [
                "df_train.hist(figsize=(20,10))\n",
                "plt.show()"
            ]
        },
        {
            "cell_type": "code",
<<<<<<< HEAD
            "execution_count": 5,
=======
            "execution_count": 248,
>>>>>>> 677d7b023de30d4b7dd4b0da5fc0cba1533d2616
            "metadata": {},
            "outputs": [
                {
                    "name": "stdout",
                    "output_type": "stream",
                    "text": [
                        "<class 'pandas.core.frame.DataFrame'>\n",
                        "RangeIndex: 891 entries, 0 to 890\n",
                        "Data columns (total 12 columns):\n",
                        " #   Column       Non-Null Count  Dtype  \n",
                        "---  ------       --------------  -----  \n",
                        " 0   PassengerId  891 non-null    int64  \n",
                        " 1   Survived     891 non-null    int64  \n",
                        " 2   Pclass       891 non-null    int64  \n",
                        " 3   Name         891 non-null    object \n",
                        " 4   Sex          891 non-null    object \n",
                        " 5   Age          714 non-null    float64\n",
                        " 6   SibSp        891 non-null    int64  \n",
                        " 7   Parch        891 non-null    int64  \n",
                        " 8   Ticket       891 non-null    object \n",
                        " 9   Fare         891 non-null    float64\n",
                        " 10  Cabin        204 non-null    object \n",
                        " 11  Embarked     889 non-null    object \n",
                        "dtypes: float64(2), int64(5), object(5)\n",
                        "memory usage: 83.7+ KB\n"
                    ]
                }
            ],
            "source": [
                "#lets define some assumptions\n",
                "\"\"\"\n",
                "Pclass - Passenger Class (1 = 1st; 2 = 2nd; 3 = 3rd)\n",
                "survival  -  Survival (0 = No; 1 = Yes)\n",
                "name - Name\n",
                "sex - Sex\n",
                "age -  Age\n",
                "sibsp - Number of Siblings/Spouses Aboard\n",
                "parch - Number of Parents/Children Aboard\n",
                "ticket - Ticket Number\n",
                "fare - Passenger Fare (British pound)\n",
                "cabin - Cabin\n",
                "embarked - Port of Embarkation (C = Cherbourg; Q = Queenstown; S = Southampton)\n",
                "\"\"\"\n",
                "df_train.info()"
            ]
        },
        {
            "cell_type": "code",
<<<<<<< HEAD
            "execution_count": 6,
=======
            "execution_count": 130,
>>>>>>> 677d7b023de30d4b7dd4b0da5fc0cba1533d2616
            "metadata": {},
            "outputs": [
                {
                    "data": {
                        "text/plain": [
<<<<<<< HEAD
                            "<matplotlib.axes._subplots.AxesSubplot at 0x1b876a462c8>"
                        ]
                    },
                    "execution_count": 6,
=======
                            "<matplotlib.axes._subplots.AxesSubplot at 0x1cb84b50508>"
                        ]
                    },
                    "execution_count": 130,
>>>>>>> 677d7b023de30d4b7dd4b0da5fc0cba1533d2616
                    "metadata": {},
                    "output_type": "execute_result"
                },
                {
                    "data": {
                        "image/png": "iVBORw0KGgoAAAANSUhEUgAAAPUAAADnCAYAAADGrxD1AAAABHNCSVQICAgIfAhkiAAAAAlwSFlzAAALEgAACxIB0t1+/AAAADh0RVh0U29mdHdhcmUAbWF0cGxvdGxpYiB2ZXJzaW9uMy4xLjMsIGh0dHA6Ly9tYXRwbG90bGliLm9yZy+AADFEAAAYIUlEQVR4nO3de3wU1d3H8c/ZzSbhGlBUpKjjFRVUvGtRQdtq63qrUtuK1utTtfry9pQ+01ZkvK/aaqutFvXBKrY+eKlanWIVFUQQoYoi0qoga6GASpBNMPfkPH/MRiKG7CbZnTMz+3u/XvsKBJLzRfkyl51zjtJaI4SIjpjpAEKIwpJSCxExUmohIkZKLUTESKmFiBgptRARI6UWImKk1EJEjJRaiIiRUgsRMVJqISJGSi1ExEiphYgYKbUQESOlFiJipNRCRIyUWoiIkVILETFSaiEiRkotRMRIqYWIGCm1j5RS31ZKvaeUWqaUsk3nEdGkZIlgfyil4sD7wLeAVcBC4Ida66VGg4nIkSO1fw4BlmmtP9RaNwH/B5xsOJOIICm1f74GrOzw81XZzwlRUFJq/6hOPifXPqLgpNT+WQXs0OHnw4HVhrKICJMbZT5RSpXh3Sj7BvAfvBtlZ2it3y3GeJbt9gN2AqwOHy1gGJBoj8WmM4jOPtYCa7Kv1dmPK4HlwOp0Kil/eQJISu0jpdTxwG+AODBVa31jb7+nZbtfA8YB+7OpuDsBQ3r7vXOoAz7EK/g/gbnAnHQqmSnyuCIHKXXIWLY7HK/E7a9dDcbZXBuwGJidfb2STiWrzUYqPVLqgLNsdwfgaGAsXol3MRqoezSwlGzBgdnpVHKt2UjRJ6UOoGyRJ2RfowzHKSQNzAIeAJ5Ip5J1ZuNEk5Q6ICzbHQh8HzgTOJLO3wKLkhrgMeCBdCo513SYKJFSG2bZ7sHARcAPgL6G45jyAfBH4KF0KrnKcJbQk1IbYNluJXAWcCFwoOE4QdIGzATuBf4ib5n1jJTaR5btlgHnAdcgj4jm8jYwKZ1KPmM6SNhIqX1g2a7Cu16+DtjdcJyweQ34RTqVnGU6SFhIqYvMst3vADcBo01nCbmZeOVeaDpI0Empi8Sy3THAzXh3skXhPIV3Wr7EdJCgklIXmGW7ewG3AieYzhJhbcCfgYnyMMtXSakLJHvdfBVwI1BhOE6pWA9cmU4lHzIdJEik1AVg2e6OwIN4j3EK/7nAhelU8j+mgwSBzKfuJct2f4Q3iWGc4SilLAm8m/1/UfLkSN1Dlu1uDUwBTjOdRXzJI8DFpTwFVErdA9m3qaYCQ01nEZ1KAxPSqeQ800FMkFJ3g2W7FcAdwMWms4icWoFr0qnkTaaD+E1KnSfLdgcBTwNHmc4iumUq3k20FtNB/CKlzkN2fvMMYKTpLKJHngO+l04lN5oO4gcpdQ6W7Y7CK/Rw01lEr7wBJNOp5MemgxSbvKXVBct2xwGvIoWOggOB1yzbHWE6SLFJqbfAst3T8U7bqkxnEQWzMzDXst2vmw5STFLqTli2ewXeXlfyuGf0bA28aNnuqaaDFIuUejOW7d6G97ZV1NcIK2WVwGOW7f6X6SDFIDfKOrBs93rgatM5hG/agNPSqeRTpoMUkpQ6y7Ldy4Dfms4hfFcPfCOdSr5mOkihSKkBy3YnANOQU+5SVQ18PZ1Kvm86SCGUfKkt2/028Fc2bRonStMKvGKHftGFki519sGSecAA01lEILwJjA37k2cle/fbst1tgWeRQotNDgAezy7lHFolWersYvpP4W35KkRHxwH3mw7RGyVZauA+4HDTIURgnW3Z7s9Nh+ipkrumtmz3TLw73YHW1rCR6hl30rTu3wAMOf5y6t5/jbplC1DxMsoGDWXI8VcQq+xPw6qlrH/+blQ8wZCTJpIYPIy2ho18+vQtbHv6dSglN/V7oBk4LJ1Kvmk6SHeVVKmzG7a/AwwynSWXde7tVAwfyYD9jkO3NqObG2lc8z6VO+2HisX5bNYDAAwedy6fPHkjg8eeQ0vmE+pXvMFWx1zA+pfup+9uh1K54z6G/yShthQ4MJ1KNpgO0h0lc/qdXcJ3KiEodFtjHQ0r36X/vscCoOIJYpX96bPzAahYHICKYSNoqV3n/XqsDN3ShG5pRMXKaP5sDa211VLo3tsbb3eVUCmZUuMtQfQt0yHy0bJhLfG+A6n+229Y/cBlVM+4k7amLx8sNi5+gT67HARA1WHfo/q531Hzj6cZcMAJbHjlIQYdeaaJ6FF0hWW7R5sO0R0lUWrLdncDbjOdI1+6rZWmtcsZsP/xDDv3TlSigpr5j33x65l50yEWp9/e4wAo324Xtv/Rrxn6w5tpyawl3n8rAD59+hbWPfMrWj//zMQfIyoU8EfLdkMzBTfypbZsN4630H5oNnQvGzCE+IAhVAzz5vP3HTGGpo+XA7DxnRepW76AISf+9Cs3wLTWZOZNp2rMD9kw988MOuIM+o08mpo3ZDfYXtoRuMt0iHxFvtTARCBUk+Lj/QdTNnAIzdWrAGj46G0SQ3ak/sM3qHn9cbY97RpiicqvfN3nS16kz64HEa/sj25uBBUDpbwfi946y7LdUKzxHum735bt7gssBMpNZ+mupo8/pPq5O9GtLZQNGsrWx1/B2gevRLc2E+vjPQRXMWwEWx93KQBtzQ188vi1bHf69ah4GQ0rl7D++XtQ8TKGnPQzElvJHvcFUA2MCvrz4ZEtdfZu90K8tamEKJSH06nkWaZDdCXKp9+nIYUWhTfBst0DTIfoSiRLnb05dp3pHCKSFAF/JyWSpQbOBPYyHUJE1jGW7SZNh9iSyF1TW7abAN7DWw5WiGJZCuyTTiXbTAfZXBSP1BcghRbFtzfwA9MhOhOpI7Vlu32AZcAw01lESfgXMDJoR+uoHakvQQot/LMnATxaR+ZIbdnuALzF47Y2nUWUlMAdraN0pL4cKbTw357Ad02H6CgSpbZsNwb82HQOUbLOMx2go0iUGjgG2MF0CFGyjrNsNzD3cqJS6nNMBxAlLQ78yHSIdqEvtWW7AwnYNY0oSeeaDtAu9KUGTidECyCIyNojKJvZR6HU55gOIERWII7WoX6fOrv22AemcwiRVQsMTaeSdSZDhP1IfY7pAEJ0MAAYbzpEaEudfW86MHcchcgyfgoe2lIDRyHvTYvgGZvdUdWYMJf6ONMBhOiEwjvgGBPmUn/TdAAhtmCsycFDWWrLdgfjbRAuRBBJqXvgGMKbXUTfKMt2jc0YDGsxjjEdQIguKOBIU4OHtdRjTAcQIodxpgYOXakt2+0PjDKdQ4gcjF1Xd1lqpVStUqpmSy+/Qm7mYLypbkIE2b6W7Q4yMXBZV7+otR4AoJS6DlgLTMO7XpiA90icCYcbGleI7ojhXVf7vo9wvqffx2mt79Za12qta7TW9+DtVWXCoYbGFaK7jByA8i11q1JqglIqrpSKKaUmAK3FDNaFPQyNK0R3GdlUIt9Sn4G3GMHH2df3sp8zQZ73FmGxk4lBu7ymbqe1TgMnFzdKbpbtbgX0M51DiDwZKXVeR2ql1B5KqReVUkuyP99XKXV1caN1akcDYwrRU9tbtlvu96D5nn7fB/wcaAbQWi/GzHYjUmoRJgoDf2fzLXVfrfWCzT7XUugweZBSi7Dx/RQ831KvU0rtCmgApdR4YE3RUm2ZlFqEje+lzutGGd5ukvcCeyql/oO3Ed2EoqXaMim1CJvAlvojrfU3lVL9gJjWuraYobogpRZhE9jT7xVKqXuBw4CNRcyTi5RahE1gSz0CmIl3Gr5CKfU7pdQRxYu1RbJVrQibgX4PmFeptdb1WutHtdanAvvjBZ1d1GRCREPC7wHznk+tlBqrlLobeBOoxHts1G/h3U5ElCrfS53XjTKl1ArgLeBRYKLW+vOiptoyKbUIm2CWGthPa21qUYSOpNQibIJVaqXUz7TWtwI3KqW+Uiit9WVFS9Y5KXXBaf1QIvXKEbEl+5hOEkVtqFr4zNcxcx2p/5n9+I9iB8mTlLqAymhpnlFuL9g9ttroOtVRFsP/ZzpyLWfUvhTLYq31Ih/y5CKlLpB+1NfOrrjygyGqRlZmLS7fFxPJ9+737UqpfymlrldKjSxqoq5JqQtgO9Z/srDiJ6uHqBrZ5aT4mvweMN/3qY/GW8f4U+BepdQ7huZTS6l7aQ+1csWrFZc39VWNI0xnKRHVfg+Y9/vUWuu1Wus7gYvw3t66pmiptszUumiRMCa2ZMlz5XZVQrUON52lhASz1EqpvZRSTnblk98B8wATfzHWGhgzEsbHZy94OHHTLjGltzKdpcSs83vAfN+nfgB4BDhWa726iHlySQMmr+lD6cqyx+ZcFn/y60rJJggG+H6kzllqpVQcWK61/q0PeXJJmw4QNncl7px1Ynz+ONM5SljwjtRa61al1NZKqXKtte938jaTNjx+aMRoa/1L+eR5o2PLx5nOUuKCd6TO+giYq5T6K/DFc99a69uLkmrLVvg8XihV0lg/s2Li4uFqnbHtVMUXPvJ7wHxLvTr7imFuDy2QI3VOg6j9bHbFlauqVJ1sTxQM7/k9YL6L+V9b7CB5SpsOEGQ7qo9XvVA+salCtchz3MFQB6zye1Clde7nOZRSL9PJgx9a62OKEaorlu3WYPZsIZBGq2XvPVE+eVBc6e1MZxFfeAsns7/fg+Z7+v3TDj+uxNvx0sS63+Bdo8im8x0cG1u4aErijl2V8n/pHNEl30+9If/T7zc2+9RcpZSp5YzSSKm/cF58xrxJZdMOUgrft3cROQW31Eqpjk8hxYCDgKFFSZTbu8AJhsYOlOvLps4+Mz7zKKVQprOITi01MWi+p99vsOmaugXvaHl+MQLlYa6hcQNE62mJ1CtHxt+RedDBNs/EoLlWPjkYWKm13jn787PxrqfTGPpXCO8/lIbSPDrJwgahsRIns9LEwLkmdEwhOx9UKXUUcDPwIJDB24bHd+lUshpD1yqm9aO+dn7Fpe/sHlstCxsEn7Ezylyljmut12d//H3gXq31E1rrScBuxY3WpZI7BZeFDUInuKVWSrWfon8DeKnDr+V7PV4Mrxgc23eysEEoGSt1rmI+AsxWSq0D6oE5AEqp3fBOwU2ZaXBsX42JLVkyLXHzMJkHHSq1wGJTg+d8okwpdRiwPfB8+yL+Sqk9gP5a6zeLH7Fzlu0uIeJzq8fHZy+4rWzKKKXoazqL6JYncDLjTQ2ez9TL+Z187v3ixOmW54lwqWVhg1B72uTgea9RFkAvmA5QLHcl7px1edmTR0qhQ6kFeNZkAJM3u3prFt5e2f0N5ygYWdggEubgZPzdkmMzoT1Sp1PJemC66RyFUklj/ZyKy98YHVsuCxuE21OmA4S21FlTTQcohMHUrF9Qccmyr6nqQ0xnEb1m9HoaQl7qdCo5D/iX6Ry9saP6eNX8iks3DFR1srBB+M3Dyfi+fNHmQl3qrP81HaCnRqtl771cflWiQrXsYjqLKIj7TAeAaJT6Icwt2NBjx8YWLnqy/JrtZaWSyMgAj5oOAREodTqV/ATDbyF013nxGfOmJO4YKSuVRMqfcDJ1pkNABEqdFZobZteXTZ09qWza4bJSSeQE4tQbwv0+dUd/A9bgPc4aULKwQYT9AyfzlukQ7SJxpE6nkq1419aBlKCl6YXyifOk0JEVhC2pvhCJUmfdjYENvnPpR33taxWXLpGFDSJrOd5sxsCITKnTqeS/gT+YztGRLGxQElI4mUDtmx6ZUmfdgPc8uHGysEFJWIm3vFegRKrU6VTyU8DvTfu+YkxsyZLnyu2qhGodbjqLKKpbcDLNpkNsLlKlzvo1BvYEbjc+PnvBw4mbdpGVSiJvLQF9mjFypU6nkjV4q5767sqyx+bcVjblQFmppCRMxsk0mA7RmciVOuv3eNc7vpGFDUrKm8D9pkNsSSRLnU4lGwHHj7FitLU+VT5pzonx+eP8GE8EwuU4mTbTIbYkkqXOepAiT8uUhQ1K0iM4mVdNh+hKZEudfcpsYrG+f6ktbNDQojnkvo3s94eNjLx7I5Nf9i4nX/ywhQOmbGT0HzZyxNTPWbbeO4Dd9XoTo+7eyPF/qqOp1Vux9tV/t3DV3wN5GZqvOuBnpkPkEtlSA6RTyWeBBwr9fUtxYYOKOLx0dj/evqg/b13Yj+eWtzB/VQsXuw386dQ+vHVRf87YJ8ENrzQCcP+iJhZf3I/9h8b4+7IWtNZc/0ojk46qMPwn6ZWbcDKrTIfIJdKlzrocWFGob1aqCxsopehf7u1J2NwGza3eDoVKQU2jdyTONGiGDdi0b2FzK9Q1QyKumLa4meN3K2Nwn9Dua/gWcKvpEPnIuZh/FFi2OwZvq55e/SN2bGzhoimJO3Yt1XnQrW2aA+/1TrEvObicW75VyZyPWjhlej19ymBghWL+Bf0YWKGY9nYTt89vYuQ2ce5JVnLK9Dqem9CXRDyUpW4GDsLJGNt1oztKotQAlu3eBPy8p19/XnzGvEll0w6SedCwoUHz3el13PWdSq55uZH/GVPOocPLuG1uI+9Vt3H/SX2+9PuvndXI6KExlIKH3m5mh4Exfn1cBTEVmoJPwsncYDpEvkrh9LvdZGBRT75QFjb4skGVinE7lTHjgxbe/riVQ4d70/K/PyrBvJVfntuwuraNhatbOXlP73p7+vg+VJTBix8Gag5EV+Zi6GGmniqZUqdTyWbgTKAbt1+1npa4efZZZTPHKlWam9y3+/TzNjY0eGd19c2amSta2GubGJkGeL/aK+gLy73PdTTppUauP9q7OVbf4l2DxxTUNYfiDLEGODNos7ByicrKJ3lJp5JLLdu1gd/k+r0JWpr+Vm4v3D22WhY2ANZs1Jz9VB2tbdCm4fSRCU7YI8F9J8Jpj9YTUzC4UjH15E2n3ovWeF3Yf3vvIbvz90+wzz2fs8NAxeSxobgLfj5OJm06RHeVzDV1O8t2Fd7met/c0u/pR33t7IorP5B50CXtJpzML02H6ImSOf1ul04lNd5peKeLrsvCBgJwgUmmQ/RUyR2p21m2OxLvJkhV++f2UCtXuOW/SMg86JL2HnAoTiZjOkhPldyRul06lXwXGE92IwBZ2EDg3Rg7JcyFhhIuNUA6lZwJXCwLGwi8RStPx8mEem82KOHT74705CpHKSabziGMaQV+gJN53HSQQpBSt3Oq7gEuMh1D+E7jvXVV8Ik/ppT06fdmLgH+bDqE8N1VUSo0SKk38VayOIsiTNUUgXUtTibng0hhI6XuyCv2+Xi7fYhouxon45gOUQxyTb0lTtWvgP82HUMUXBtwMU7mXtNBikVK3RWn6jpC/GSR+IpGYAJO5gnTQYpJSp2LU3URcBclNvklgmrxHix5yXSQYpNS58OpGgc8DmxtOInomZV4hX7TdBA/yI2yfDiZWcAhwFLDSUT3vQQcWCqFBil1/pzMh8BhwLOmo4i83Qoci5P51HQQP8npd3c5VTHgl8A1yHV2UG0Ezo3KY5/dJaXuKafqUOBhYDfTUcSXvAWcgZP5p+kgpsjpd085mdeB0QR4o7QS0wJcBxxSyoUGOVIXhlN1CnAfMMR0lBK1GDgHJ9Oj1WKjRo7UheBkngL2xtuEXP6V9E8LcCNwsBR6EzlSF5pTdRje/tiyxllxvYg3wyoUu2b4SUpdDN4d8h/jHUVkNZXCeh/4KU7mGdNBgkpKXUxO1RDgauBCoNJwmrD7DO9G2O9xMs2mwwSZlNoPTtX2gI139JZyd08N3lTYX+Fkqk2HCQMptZ+k3N3xCXAHcE/YV/f0m5TaBK/cPwEuAIYaThM0aeA2YCpOphv7nol2UmqTnKoEcApwMXC04TQmteFthXQf8FecTIvhPKEmpQ4Kp2pPvNVMzwC2MZzGL8uBacAfcTKdboMkuk9KHTROVRw4EjgNOBUYZjZQwa3Am+k2HScz13SYKJJSB5lTpfCme54GnATsbjZQj7QCr+EV+RmcjMxJLzIpdZg4VTvgXXsfDYwhmCVvwpspNR+vzM/jZNabjVRapNRh5lRtAxwO7IP37PnewAigT1dfVkB1eNfF7wKv4xV5EU6msTffVCk1FTgB+ERrParXKUuMlDpqvEdUd8Yr+C7AtsB22Y/tP94GqMCb0NPZpJ56YAPeU1wbsq/1eHt6LweWActwMmuK8UdQSh2Ft9DBQ1Lq7pNSi/abc+2vVpxMk+FEKKUs4FkpdffJcjwCnEwr3g0tEQEyn1qIiJFSCxExUmohIkZKLQJHKfUI3nvcI5RSq5RS55vOFCZy91uIiJEjtRARI6UWImKk1EJEjJRaiIiRUgsRMVJqISJGSi1ExEiphYgYKbUQESOlFiJipNRCRIyUWoiIkVILETFSaiEiRkotRMRIqYWIGCm1EBEjpRYiYqTUQkSMlFqIiJFSCxExUmohIub/AQfQPOhEbhfTAAAAAElFTkSuQmCC",
                        "text/plain": [
                            "<Figure size 432x288 with 1 Axes>"
                        ]
                    },
                    "metadata": {},
                    "output_type": "display_data"
                }
            ],
            "source": [
                "df_train.Survived.value_counts().plot(kind = 'pie' , autopct = '%0.00f%%')\n",
                "## our general survival rate is 38%"
            ]
        },
        {
            "cell_type": "markdown",
            "metadata": {},
            "source": [
                "#### Pclass"
            ]
        },
        {
            "cell_type": "code",
<<<<<<< HEAD
            "execution_count": 7,
=======
            "execution_count": 110,
>>>>>>> 677d7b023de30d4b7dd4b0da5fc0cba1533d2616
            "metadata": {},
            "outputs": [
                {
                    "data": {
                        "image/png": "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",
                        "text/plain": [
                            "<Figure size 432x288 with 1 Axes>"
                        ]
                    },
                    "metadata": {
                        "needs_background": "light"
                    },
                    "output_type": "display_data"
                }
            ],
            "source": [
                "df_train.Pclass.hist()\n",
                "plt.show()\n",
                "#most of passengers are in Pclass 3"
            ]
        },
        {
            "cell_type": "code",
<<<<<<< HEAD
            "execution_count": 8,
=======
            "execution_count": 237,
>>>>>>> 677d7b023de30d4b7dd4b0da5fc0cba1533d2616
            "metadata": {},
            "outputs": [
                {
                    "data": {
                        "text/html": [
                            "<div>\n",
                            "<style scoped>\n",
                            "    .dataframe tbody tr th:only-of-type {\n",
                            "        vertical-align: middle;\n",
                            "    }\n",
                            "\n",
                            "    .dataframe tbody tr th {\n",
                            "        vertical-align: top;\n",
                            "    }\n",
                            "\n",
                            "    .dataframe thead th {\n",
                            "        text-align: right;\n",
                            "    }\n",
                            "</style>\n",
                            "<table border=\"1\" class=\"dataframe\">\n",
                            "  <thead>\n",
                            "    <tr style=\"text-align: right;\">\n",
                            "      <th>Pclass</th>\n",
                            "      <th>1</th>\n",
                            "      <th>2</th>\n",
                            "      <th>3</th>\n",
                            "    </tr>\n",
                            "    <tr>\n",
                            "      <th>Survived</th>\n",
                            "      <th></th>\n",
                            "      <th></th>\n",
                            "      <th></th>\n",
                            "    </tr>\n",
                            "  </thead>\n",
                            "  <tbody>\n",
                            "    <tr>\n",
                            "      <th>0</th>\n",
                            "      <td>0.37037</td>\n",
                            "      <td>0.527174</td>\n",
                            "      <td>0.757637</td>\n",
                            "    </tr>\n",
                            "    <tr>\n",
                            "      <th>1</th>\n",
                            "      <td>0.62963</td>\n",
                            "      <td>0.472826</td>\n",
                            "      <td>0.242363</td>\n",
                            "    </tr>\n",
                            "  </tbody>\n",
                            "</table>\n",
                            "</div>"
                        ],
                        "text/plain": [
                            "Pclass          1         2         3\n",
                            "Survived                             \n",
                            "0         0.37037  0.527174  0.757637\n",
                            "1         0.62963  0.472826  0.242363"
                        ]
                    },
<<<<<<< HEAD
                    "execution_count": 8,
=======
                    "execution_count": 237,
>>>>>>> 677d7b023de30d4b7dd4b0da5fc0cba1533d2616
                    "metadata": {},
                    "output_type": "execute_result"
                }
            ],
            "source": [
                "df_train.groupby(['Survived' , 'Pclass']).size().unstack().apply(lambda x : x/sum(x) , axis=0 )\n",
                "#but Pclass 1 is the only one who has a survival rate higher than general survival rate with 75.76%."
            ]
        },
        {
            "cell_type": "markdown",
            "metadata": {},
            "source": [
                "#### Sex"
            ]
        },
        {
            "cell_type": "code",
<<<<<<< HEAD
            "execution_count": 9,
=======
            "execution_count": 132,
>>>>>>> 677d7b023de30d4b7dd4b0da5fc0cba1533d2616
            "metadata": {},
            "outputs": [
                {
                    "data": {
                        "text/plain": [
<<<<<<< HEAD
                            "<matplotlib.axes._subplots.AxesSubplot at 0x1b876c40508>"
                        ]
                    },
                    "execution_count": 9,
=======
                            "<matplotlib.axes._subplots.AxesSubplot at 0x1cb84b98688>"
                        ]
                    },
                    "execution_count": 132,
>>>>>>> 677d7b023de30d4b7dd4b0da5fc0cba1533d2616
                    "metadata": {},
                    "output_type": "execute_result"
                },
                {
                    "data": {
                        "image/png": "iVBORw0KGgoAAAANSUhEUgAAAPUAAADnCAYAAADGrxD1AAAABHNCSVQICAgIfAhkiAAAAAlwSFlzAAALEgAACxIB0t1+/AAAADh0RVh0U29mdHdhcmUAbWF0cGxvdGxpYiB2ZXJzaW9uMy4xLjMsIGh0dHA6Ly9tYXRwbG90bGliLm9yZy+AADFEAAAXr0lEQVR4nO3deZgcVb3G8e9vtkxIwmQDQghYyCYEkwhi2BPBG4RG9kVkEUU2NZddS7hIS0BbBQVyhaAg4gUuqyZAKcEkwI2g7PuWEFJB9pClySSZ/dw/qiKTMJPpyXT3qTr9+zxPP5kZe6bexnmnzqmuqiPGGJRS7qiyHUApVVxaaqUco6VWyjFaaqUco6VWyjFaaqUco6VWyjFaaqUco6VWyjFaaqUco6VWyjFaaqUco6VWyjFaaqUco6VWyjFaaqUco6VWyjFaaqUco6VWyjFaaqUco6VWyjFaaqUco6VWyjFaaqUco6XeQCIyUUTut51DqXVpqZVyTEWXWkQ8EXlNRG4QkZdE5FYR+YqIPCoi80XkS/HjMRF5Nv53hy5+zgAR+b2IPBk/71Abr0cpgBrbARJgW+Bo4DTgSeAbwN7AIcCFwEnAvsaYNhH5CvBT4Mh1fsZFwBxjzLdFZDDwhIjMMsasLNeL6MzzgwHApsAmnf7t6rEpMAhoA1o6PZqBRmDZOo8PgFeAF8NcZmn5XpHqDS01LDTGvAggIi8Ds40xRkReBDygAbhZRLYDDFDbxc+YBBwiIufHn9cDWwGvljq85wf9gV2ALwHj43+3LsN23wVeAl7s9O8rYS6zutTbVuunpY72Smt0dPq8g+i/zxTgIWPM4SLiAQ938TMEONIY83rpYoLnB1XATkTFXVPinbHz/+PI+DGp09c6PD9YQFTwJ4B7w1ym5H/Y1Nq01D1rAN6JPz65m+fMBCaLyOR4L/8FY8yzxdi45wdDgaPix+5Ew+WkqgK2ix9HADnPD+YDM+LHY2Eu02ExX0XQUvfsF0TD73OBOd08ZwpwFfCCiAgQAgdv6AbjOfGhwHHAAXQ95E+L7YDz48dizw/uJyr438JcZpXVZI4SXXQ+GTw/qAW+SnSg7hBgI7uJSm418DdgOnBnmMtYOajoIi21RZ4fCDCBqMhHAkPtJrJmKTANmBrmMu/bDpN2WmoLPD+oIRpa/xAYbTlOkjQDtwJX6AG2DaelLiPPD+qBbwMXEL1dprpmgL8Qlfthy1lSR0tdBp4f9AO+S7Rn3sxynLR5CrgCuDvMZdpth0kDLXUJeX5QTfQ22CXAlnbTpN5C4MIwl7nddpCk01KXiOcHRwGXAZ86V1z1yf8Bk8Nc5gXbQZJKS11knh9sAdxA9PaUKo12oqPlF4e5zDLbYZJGS11Enh+cDPwaGGw5SqX4CDg7zGVutR0kSbTUReD5webA74CM7SwVKgDOCHOZt20HSQItdR95fnAicDUwxHaWCvcx4APTwlymon+ptdQbyPODzYDric7RVsnxAHBcmMsstx3EFi31BvD84DhgKjDMdhbVpfnAoZV6VpqWuhfi952nAmfazqJ6tAI4Icxl7rUdpNy01AWKL4e8nT5cUqnKzhCd+HNZJc2ztdQF8PxgBHA/sKvtLGqD3A2cXCmXd2qpe+D5wY7AX4HP2M6i+uQF4LAwl1loO0ipVfQtgnvi+cEE4DG00C4YAzzp+cF+toOUmpa6G54fHA88iJ4d5pJhwEzPDw63HaSUtNRd8PzgIuB/gDrbWVTR1QC3e37g7Ln5Oqdeh+cHVwLn2s6hSm41cGCYyzxiO0ix6Z66E88PzkMLXSn6A/d7frC77SDFpnvqmOcHXwduI7oxv6ocy4Evh7nMc7aDFIuWGvD84MtE5wzrHLoyLQYmuHJaacWX2vODzwNziVbiUJXrXWDfMJdZYDtIX1V0qT0/GAX8AxhlO4tKhEVExX7LdpC+qNhSe37QAPydaIE5pdZ4ARgf5jJNtoNsqIo8+h3fsnc6Wmj1aWOAX9kO0RcVWWrg98BE2yFUYp0Z3w02lSpu+O35wSlEd/tUan3ywLgwlwltB+mtiiq15wfbAc8CA2xnUanwOLBPmMu02g7SGxWzPnW8VOxtJLDQHU2NLPnrNbR8FB10HX7QWaxe+AyNz8+kaqPonbYh+55E/212o+ntV1j64LVIdS3DD7mA2iEj6WhqZPGMn7PpMZcSLY+timQ8cDnwA9tBeqNi9tSeH/yM6G6TifNR8Cv6jRrNoLEHYNpbMa3NfPzUDKS2Pw3jj1jruR/++XKGTDiZtvyHrF74NEP3+w5L59zARtuOp36rz1t6BU4zwEFhLvOA7SCFqogDZZ4f7EFC/9p2NK+i6V8vM3DMJACkupaq+oHdPl+qajBtLZi2ZqSqhtZl79G+YokWunQE+KPnByNtBymU83vq+O2rZ4EdbWfpSssHb7Jk5lRqh21Fy4cL6TdiW4bsfxofP3EPjS/OpqrfRtSN2JYh+32H6vqB8fN/g9TWMTxzHsseupHB+5xA7dAtbL8U1z0M7B/mMh22g/SkEubUF5PQQgOYjnZa3l/A0K+cQb+RO7B01vV8/M+7GLTrwTTs+XUQYfncW1g25waGH3Q2dZt9ls1PuhKApn+9RPXAoQAsnvFzpKqaIfudQvUAXVegBCYCpxGt4ZVoTg+/PT8YR7QmdGLVDBpO9aDh9BsZLY650Q570fLBAqoHDEGqqhGpYtDYA2h5b95a32eMIf/YHTTsdRzLH72NwXt/gwGjv8zHT99n42VUiss8P0j8X0xnS+35QRVwIwkfjVQPHELNxsNpXRItA9W06Hlqh29FW+PSfz9n1bx/UDt87dukrXxpNv23+SLV9QMxrc0gVSASfaxKZRgwxXaInjg7p47XuPqj7RyFaPngTZY8cA2mvY2awSMYdtDZLJt1PS0fvAki1DRsytADvk9NPNTuaG3iw7t/wmbHTEGqa2j610ssffA6pLqG4Yf8QOfXpdUO7JLk9bGdLLXnBzXAq8C2trMoJz0S5jITbYfojqvD7xPRQqvSmeD5QWKXLXZuTx2fOfY6sLXtLMppLxCdG564Arm4p/4WWmhVemOAb9gO0RWn9tSeH9QBbwBb2s6iKsKbwOeSdsGHa3vqU9FCq/L5LHCK7RDrcqbUnh/UAxfazqEqzmTbAdblTKmBM4DUnHSvnLGT5wd72w7RmROljufSiT4dVDntNNsBOnOi1EAGGGE7hKpYRyfpnHBXSn2C7QCqotUDJ9kOsUbqS+35wWCiPbVSNiVmCJ76UgNHAf1sh1AVLzEHzFwotQ69VVKcbjsApPyMMs8PtiRa/0hvoamSoAnYIsxllvb4zBJK+576eLTQKjkSccAs7aXWobdKmsNtB0jt8Nvzg7HAc7ZzKLWOFmBImMusshUgzXvq420HUKoLdYDVo+BpLvVBtgMo1Y39bW48laX2/GBjEnwvb1Xx9rO58VSWmmjhsrRmV+7bJT7T0Yq0FmN32wGUWo8qohU9rG08jfawHUCpHlibV6eu1J4fCNHwW6kk01L3wvbAUNshlOrBjp4fbG5jw2kstc6nVVpMsLHRNJZa59MqLba3sVEttVKl49nYaKpK7fnBAGC07RxKFcjKSjGpKjXRzdOrbYdQqkBa6gKMsh1AqV4YFS+rXFZaaqVKpxoLy0ClrdS6TpZKm7IPwdNWat1Tq7TRUvfAyhk6SvWBlroHw2wHUKqXvHJvsKBSi8gUEanp9PnGInJT6WJ1S8/5VmmzVbk3WOieugZ4XETGiMgk4Eng6dLF6paWWqVN/3JvsKD30IwxPxKR2cDjwDJgX2PMGyVNto74ksuGcm5TqSKoK/cGCx1+7wtcDVwKPAz8t4iUe4H3BtJ3DECp2nJvsNCzXa4AjjbGvAIgIkcAc4DPlSqYUo4o+5660FLvYYxpX/OJMeZPIvJIiTJ1x9rN0ZXqg7LvqQtaoUNENgN+CmxhjPmqiOxEVPQbSx2wM88P2tALOoruvJo7536veoZe/VYCHch7NT9ZtnM5t1nonvoPwE3ARfHn84A7gLKWGlgNDCzzNp02Vt6Y9/3q6buJUG87i4uqMCvKv83CDDfG3Al0ABhj2oD29X9LSegQvIgGsLrxrrpLa7XQJVX2nhRa6pUiMgwwACKyO5AvWarurbawTWdNr7v4+Tpps3LNbwUp++9socPvc4F7gW1E5FFgE+CokqXqnu6pi+SCmjvmblf17j62c1SAZeXe4Hr31CKym4iMMMY8Q3RnxAuBZuBB4O0y5FuXlroIxsob875bPWM32zkqxNJyb7Cn4ff1ROvtAuxJdKDsN0R/fX5bwlzd0eF3H+k8uuzKXuqeht/Vxpg1oY4FfmuMuQe4R0RsLPiue+o+iufRe9nOUUESt6eu7nR11v5EZ5GtUfZ7L6Gl7pN4Hq2FLq/E7an/F3hERD4iGvrOBRCRbbFz9PstC9t0gs6jrXm/3Btcb6mNMZfHV2dtDjxoPjn9rAqYXOpwXXjZwjZTT+fRVpX1akYoYAhtjPlnF1+bV5o4PXrF0nZTTefRVpW91Gm7lFH31L2k82irVgPvlnujqSp1mMssw8IcJa10Hm3dm2TzPV8xVWSpKnVMh+AF0Hl0IpR96A3pLLUOwQug53UngpXf1TSWWvfUPdB5dGI8YWOjaSy17qnXQ+fRifK4jY1qqR2i8+hEeZts3spB3dSVOsxllqJHwLuk8+hEsTL0hhSWOjbLdoCk0Xl04mipe+k+2wGSROfRifSQrQ2ntdQzgVbbIZJA59GJ9BHwlK2Np7LUYS6TJ75irNLpPDqRHiSb77C18VSWOlbxQ3CdRyfWX21uXEudUjqPTixDND20JrWlDnOZBcCrtnPYoPPoRHuKbH6xzQCpLXXsftsBbNB5dKLdYTtA2ktdcUNwnUcnWgdwm+0QaS/1Y1i4sZstOo9OvDlk8+/ZDpHqUoe5TDvwZ9s5ykHn0alwi+0AkPJSx661HaAcdB6deKuAP9kOAQ6UOsxlngE+dXNEl+g8OhXuIZsv+7K1XUl9qWO/sR2gVHQenRpX2w6whiulvhP40HaIYtN5dGrMJZt/2naINZwodZjLtBAt5ucUnUenxq9tB+jMiVLHpuLQqpg6j06NN4EZtkN05kypw1xmMXCj7RzFoPPoVLnG5hVZXXGm1LErgDbbIfpC59Gp8j7wO9sh1uVUqcNcZhHRSp2ppfPoVLmMbD5xyys7VerYT0np3lrn0amyEPit7RBdca7UYS7zGgl6z7BQOo9OnSzZfCJvqeVcqWNZ4B3bIQql8+jUeZmEnOfdFSdLHeYyjcA5tnMUKq3z6KY2w5d+18jYaY2MvraRSx5qAuDk6avZ+uoVjJvWyLhpjTz3fjsA97zSyuhrG9nnppUsWRUdMF6wtIOv3524aWlPfpC0I96diTFlX2mzbDw/mAlMsp1jfS6ouWPu92pm7GM7x4YwxrCyFQbWCa3thr1vWsnVX61n2lOtHLx9DUftVLvW8/e8cSUzT9iI219qpakNJo+v47h7VnHpxH5sN6za0qvotXvJ5g+1HWJ9nNxTd/J9oNl2iO6kfR4tIgysEwBaO6C1HWQ9z68SaG43rGo11FbD3EVtbD6wKk2FXg2cZTtET5wudZjLzAd+aTtHV1yZR7d3GMZNa2TTX67gPz5bw/hRNQBcNKeZMdc1cs4DTTS3RaPBSyb044BbVjFrYTvH7VzLZXObuXjffjbj91aWbD60HaInTg+/ATw/6E90YCNRc9a/1Z3/qEtvXy1vMhx+xyqmHljPsP7CiIFCSzucdn8T2wyp4scT1i7vzc+1sLzJMH5UNVc81sKQeuHqA+vZqHZ9+3qrngN2I5tP/NulTu+pAcJcZjUw2XaOzlx8P3pwvTDxMzU88EYbmw+qQkToVyN8a1wtT7zTvtZzV7Uabn6+le/uVsePZjfz+0P7s+vIam59IZHvEEG0Gsx30lBoqIBSA4S5TABMt50D0j+P7mzxyg6WN0UjvdWthlkL2/jc8CreWxEdGDbGMP21NnbedO1fs1882sxZ4+uorRZWt0bz8CqJyp5QFyfp0sqe1NgOUEanAbsCW9oK4Mo8eo33Gg3fnL6K9g7oMHDM6FoO3r6W/W5eyeJVBmNg3Ihqph38yct9d0UHT73bQXZi9LXz9qhj9xtXMrhemH5sf1svZX1mA7+wHaI3nJ9Td+b5wReJ1uCyUirX5tEVYAkwhmz+XdtBeqMiht9rhLnMU8AZNrbt4jy6ApyStkJDhZUaIMxlbqbM9zRzaR5dQa4im0/UzQ8KVXGljp1DmZbCdW0eXSFmAufbDrGhKrLUYS7TChxNGS76SOt53RXsdeBYsvn2Hp+ZUBVZaoAwl/kAOJISnkaq8+jUWQZ8jWw+bztIX1RsqQHCXOZx4Hul+Nk6j06dNuAYsvn5toP0VUWXGiDMZW4Erinmz9R5dOp0AN8km59lO0gxVHypAcJc5iyKeLcUnUenigFOJ5u3vgRtsWipY2EuczZFOHNI59Gpcw7Z/A22QxSTlrqTMJf5ITBlQ79f59GpczHZfOruZ9eTijpNtFCeH1wEXNab7xnA6sZn+52+WIfdqfFjsvkN/gOeZLqn7kKYy1xOL08+0Hl0anQAZ7paaNBSdyvMZa4kug67x6GMzqNTo4XoxJJptoOUkg6/e+D5walEK2p2eUuOsfLGvOl1P95K375KvBXAYWTzc2wHKTUtdQE8PzgauAkY0PnrOo9OjbeICv2s7SDloMPvAoS5zF3AeGBe56/rPDoV5gC7VkqhQUtdsDCXeRnYjfi2SDqPToUrgUlk8x/ZDlJOOvzuJc8PZBt556xZdRdMEWGg7TyqS6uIbnBwu+0gNmipN1S2YW/gNize80x16UngJLL512wHsUWH3xsqm/87MBa4w3YUBURXWWWBPSu50KB76uLINnwNuA7YwnaUCvUqcGKabuNbSrqnLoZs/j5gJ6L3s/WvZPm0El2Es4sW+hO6py62bMMEonLvYDuK42YCZ5HNv247SNJoqUsh21ADnA5cAmxiOY1rFhJdLpnKO32Wg5a6lLINGwM+cDaQyOUnUiRPtILplWTzTbbDJJmWuhyyDaOAnwAnArU9PFutrZHodlNXkM0vsx0mDbTU5ZRt2JLonuOngp640oM8MJXopvpLbIdJEy21DdmGoUR3MZ2MzrnXNR+4Frgp7bfqtUVLbVO2oT9wLPBtYB/LaWxqB+4nWg5pFtm8/lL2gZY6KbIN2xGV+yRgpOU05TIfuB24gWz+rd58o4j8J3Am8Iwx5vhiBxORLNBojLmi2D+71LTUSZNtqAYmAUcABwMj7AYqugXAXcCdfbkcUkReAw40xiwsWrK1f34WLbUqumyDEF3HfShwCNFZa2nTRnSRxWxgejHO/BKRaUSjmteJ9vTbAJ8HaoCsMWaGiJwMHAZUAzsTXYZZR/QORDNwkDFmqYicCpwW/29vACcaY1Z1LrWIbEM0NdiE6AqwU40xiT2/XEudJtmGzxDNvfcC9gZG081tliwywEtEJZ4NPEI2v6LYGxGREPgicC7wijHmFhEZDDwBfIFoAcT/ij+uJyrsD40x00Tk18AiY8xVIjLMGLMk/pmXAR8YY6auU+rZwBnGmPkiMh74mTFmv2K/pmKpsR1A9UI2vwhYBNwSfd4wGNiT6OYNO8aP7aFs90trISrwc8Cz8b/Pl6LE6zEJOERE1tz9tR7YKv74IWPMCmCFiOSB++KvvwiMiT/eOS7zYKK3GWd2/uEiMpDov/FdIv/++9mvFC+kWLTUaZbNLwf+Ej/irzVUAVsTFXxbooNuI4HNgOFEQ8iNiU6CqePTF/UYYCXRjfpWEJ38sYToPl9rHov+/XE231qS11Y4AY40xqx1Dni8R+28omlHp887+OR3/w/AYcaY5+Mh+8R1fn4VsNwYM664sUtHS+2abL6D6GDUgsKe31DFJwWPCp2ut5RmApNFZLIxxojIF4wxvTkANwh4T0RqgeNZZ81yY8zHIrJQRI42xtwl0e56jDHm+eK9hOLSUle66I9AMyVcp7vEpgBXAS/EhQuJ3jUo1MXA40SjjxeJSr6u44HrROS/iP4A3g4kttR6oEwpx+hNEpRyjJZaKcdoqZVyjJZaKcdoqZVyjJZaKcdoqZVyjJZaKcdoqZVyjJZaKcdoqZVyjJZaKcdoqZVyjJZaKcdoqZVyjJZaKcdoqZVyjJZaKcdoqZVyjJZaKcdoqZVyjJZaKcdoqZVyjJZaKcdoqZVyjJZaKcf8P3yHVd3PCdEjAAAAAElFTkSuQmCC",
                        "text/plain": [
                            "<Figure size 432x288 with 1 Axes>"
                        ]
                    },
                    "metadata": {},
                    "output_type": "display_data"
                }
            ],
            "source": [
                "df_train['Sex'].value_counts().plot(kind = 'pie' , autopct = '%00.00f%%')\n",
                "# most of passengers are women "
            ]
        },
        {
            "cell_type": "code",
<<<<<<< HEAD
            "execution_count": 10,
=======
            "execution_count": 238,
>>>>>>> 677d7b023de30d4b7dd4b0da5fc0cba1533d2616
            "metadata": {},
            "outputs": [
                {
                    "data": {
                        "text/html": [
                            "<div>\n",
                            "<style scoped>\n",
                            "    .dataframe tbody tr th:only-of-type {\n",
                            "        vertical-align: middle;\n",
                            "    }\n",
                            "\n",
                            "    .dataframe tbody tr th {\n",
                            "        vertical-align: top;\n",
                            "    }\n",
                            "\n",
                            "    .dataframe thead th {\n",
                            "        text-align: right;\n",
                            "    }\n",
                            "</style>\n",
                            "<table border=\"1\" class=\"dataframe\">\n",
                            "  <thead>\n",
                            "    <tr style=\"text-align: right;\">\n",
                            "      <th>Sex</th>\n",
                            "      <th>female</th>\n",
                            "      <th>male</th>\n",
                            "    </tr>\n",
                            "    <tr>\n",
                            "      <th>Survived</th>\n",
                            "      <th></th>\n",
                            "      <th></th>\n",
                            "    </tr>\n",
                            "  </thead>\n",
                            "  <tbody>\n",
                            "    <tr>\n",
                            "      <th>0</th>\n",
                            "      <td>0.257962</td>\n",
                            "      <td>0.811092</td>\n",
                            "    </tr>\n",
                            "    <tr>\n",
                            "      <th>1</th>\n",
                            "      <td>0.742038</td>\n",
                            "      <td>0.188908</td>\n",
                            "    </tr>\n",
                            "  </tbody>\n",
                            "</table>\n",
                            "</div>"
                        ],
                        "text/plain": [
                            "Sex         female      male\n",
                            "Survived                    \n",
                            "0         0.257962  0.811092\n",
                            "1         0.742038  0.188908"
                        ]
                    },
<<<<<<< HEAD
                    "execution_count": 10,
=======
                    "execution_count": 238,
>>>>>>> 677d7b023de30d4b7dd4b0da5fc0cba1533d2616
                    "metadata": {},
                    "output_type": "execute_result"
                }
            ],
            "source": [
                "df_train.groupby(['Survived', 'Sex']).size().unstack().apply(lambda x : x / sum(x) , axis= 0)\n",
                "## and the survival rate is about 74%. A very high survival rate considering or general survival rate. "
            ]
        },
        {
            "cell_type": "markdown",
            "metadata": {},
            "source": [
                "#### Age"
            ]
        },
        {
            "cell_type": "code",
<<<<<<< HEAD
            "execution_count": 11,
=======
            "execution_count": 145,
>>>>>>> 677d7b023de30d4b7dd4b0da5fc0cba1533d2616
            "metadata": {},
            "outputs": [
                {
                    "data": {
                        "text/plain": [
<<<<<<< HEAD
                            "<matplotlib.axes._subplots.AxesSubplot at 0x1b877013848>"
                        ]
                    },
                    "execution_count": 11,
=======
                            "<matplotlib.axes._subplots.AxesSubplot at 0x1cb8626d808>"
                        ]
                    },
                    "execution_count": 145,
>>>>>>> 677d7b023de30d4b7dd4b0da5fc0cba1533d2616
                    "metadata": {},
                    "output_type": "execute_result"
                },
                {
                    "data": {
                        "image/png": "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",
                        "text/plain": [
                            "<Figure size 1440x360 with 1 Axes>"
                        ]
                    },
                    "metadata": {
                        "needs_background": "light"
                    },
                    "output_type": "display_data"
                }
            ],
            "source": [
                "df_train['Age'].hist(  figsize=(20 , 5))"
            ]
        },
        {
            "cell_type": "code",
<<<<<<< HEAD
            "execution_count": 12,
=======
            "execution_count": 241,
>>>>>>> 677d7b023de30d4b7dd4b0da5fc0cba1533d2616
            "metadata": {},
            "outputs": [
                {
                    "data": {
                        "text/html": [
                            "<div>\n",
                            "<style scoped>\n",
                            "    .dataframe tbody tr th:only-of-type {\n",
                            "        vertical-align: middle;\n",
                            "    }\n",
                            "\n",
                            "    .dataframe tbody tr th {\n",
                            "        vertical-align: top;\n",
                            "    }\n",
                            "\n",
                            "    .dataframe thead th {\n",
                            "        text-align: right;\n",
                            "    }\n",
                            "</style>\n",
                            "<table border=\"1\" class=\"dataframe\">\n",
                            "  <thead>\n",
                            "    <tr style=\"text-align: right;\">\n",
                            "      <th></th>\n",
                            "      <th>mean</th>\n",
                            "      <th>std</th>\n",
                            "      <th>median</th>\n",
                            "    </tr>\n",
                            "    <tr>\n",
                            "      <th>Survived</th>\n",
                            "      <th></th>\n",
                            "      <th></th>\n",
                            "      <th></th>\n",
                            "    </tr>\n",
                            "  </thead>\n",
                            "  <tbody>\n",
                            "    <tr>\n",
                            "      <th>0</th>\n",
<<<<<<< HEAD
                            "      <td>30.626179</td>\n",
                            "      <td>14.172110</td>\n",
=======
                            "      <td>30.615566</td>\n",
                            "      <td>14.173556</td>\n",
>>>>>>> 677d7b023de30d4b7dd4b0da5fc0cba1533d2616
                            "      <td>28.0</td>\n",
                            "    </tr>\n",
                            "    <tr>\n",
                            "      <th>1</th>\n",
<<<<<<< HEAD
                            "      <td>28.343690</td>\n",
                            "      <td>14.950952</td>\n",
=======
                            "      <td>28.344828</td>\n",
                            "      <td>14.945289</td>\n",
>>>>>>> 677d7b023de30d4b7dd4b0da5fc0cba1533d2616
                            "      <td>28.0</td>\n",
                            "    </tr>\n",
                            "  </tbody>\n",
                            "</table>\n",
                            "</div>"
                        ],
                        "text/plain": [
                            "               mean        std  median\n",
                            "Survived                              \n",
<<<<<<< HEAD
                            "0         30.626179  14.172110    28.0\n",
                            "1         28.343690  14.950952    28.0"
                        ]
                    },
                    "execution_count": 12,
=======
                            "0         30.615566  14.173556    28.0\n",
                            "1         28.344828  14.945289    28.0"
                        ]
                    },
                    "execution_count": 241,
>>>>>>> 677d7b023de30d4b7dd4b0da5fc0cba1533d2616
                    "metadata": {},
                    "output_type": "execute_result"
                }
            ],
            "source": [
                "df_train.groupby('Survived')['Age'].agg(['mean' , 'std', 'median' ])\n",
<<<<<<< HEAD
                "### we can see that the average age of survivors is lower than that of non-survivors\n",
=======
                "### we can see that the average of survivors is lower than that of non-survivors\n",
>>>>>>> 677d7b023de30d4b7dd4b0da5fc0cba1533d2616
                "### it may indicates that exist a correlation between survival rate and age"
            ]
        },
        {
            "cell_type": "markdown",
            "metadata": {},
            "source": [
                "#### SibSp"
            ]
        },
        {
            "cell_type": "code",
<<<<<<< HEAD
            "execution_count": 13,
=======
            "execution_count": 245,
>>>>>>> 677d7b023de30d4b7dd4b0da5fc0cba1533d2616
            "metadata": {},
            "outputs": [
                {
                    "data": {
                        "image/png": "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",
                        "text/plain": [
                            "<Figure size 1440x360 with 1 Axes>"
                        ]
                    },
                    "metadata": {
                        "needs_background": "light"
                    },
                    "output_type": "display_data"
                }
            ],
            "source": [
                "df_train['SibSp'].hist(  figsize=(20, 5))\n",
                "plt.show()\n",
                "#most of the passengers has no siblings on board."
            ]
        },
        {
            "cell_type": "code",
<<<<<<< HEAD
            "execution_count": 14,
=======
            "execution_count": 246,
>>>>>>> 677d7b023de30d4b7dd4b0da5fc0cba1533d2616
            "metadata": {},
            "outputs": [
                {
                    "data": {
                        "text/html": [
                            "<div>\n",
                            "<style scoped>\n",
                            "    .dataframe tbody tr th:only-of-type {\n",
                            "        vertical-align: middle;\n",
                            "    }\n",
                            "\n",
                            "    .dataframe tbody tr th {\n",
                            "        vertical-align: top;\n",
                            "    }\n",
                            "\n",
                            "    .dataframe thead th {\n",
                            "        text-align: right;\n",
                            "    }\n",
                            "</style>\n",
                            "<table border=\"1\" class=\"dataframe\">\n",
                            "  <thead>\n",
                            "    <tr style=\"text-align: right;\">\n",
                            "      <th>Survived</th>\n",
                            "      <th>0</th>\n",
                            "      <th>1</th>\n",
                            "    </tr>\n",
                            "    <tr>\n",
                            "      <th>SibSp</th>\n",
                            "      <th></th>\n",
                            "      <th></th>\n",
                            "    </tr>\n",
                            "  </thead>\n",
                            "  <tbody>\n",
                            "    <tr>\n",
                            "      <th>0</th>\n",
                            "      <td>0.654605</td>\n",
                            "      <td>0.345395</td>\n",
                            "    </tr>\n",
                            "    <tr>\n",
                            "      <th>1</th>\n",
                            "      <td>0.464115</td>\n",
                            "      <td>0.535885</td>\n",
                            "    </tr>\n",
                            "    <tr>\n",
                            "      <th>2</th>\n",
                            "      <td>0.535714</td>\n",
                            "      <td>0.464286</td>\n",
                            "    </tr>\n",
                            "    <tr>\n",
                            "      <th>3</th>\n",
                            "      <td>0.750000</td>\n",
                            "      <td>0.250000</td>\n",
                            "    </tr>\n",
                            "    <tr>\n",
                            "      <th>4</th>\n",
                            "      <td>0.833333</td>\n",
                            "      <td>0.166667</td>\n",
                            "    </tr>\n",
                            "    <tr>\n",
                            "      <th>5</th>\n",
                            "      <td>1.000000</td>\n",
                            "      <td>0.000000</td>\n",
                            "    </tr>\n",
                            "    <tr>\n",
                            "      <th>8</th>\n",
                            "      <td>1.000000</td>\n",
                            "      <td>0.000000</td>\n",
                            "    </tr>\n",
                            "  </tbody>\n",
                            "</table>\n",
                            "</div>"
                        ],
                        "text/plain": [
                            "Survived         0         1\n",
                            "SibSp                       \n",
                            "0         0.654605  0.345395\n",
                            "1         0.464115  0.535885\n",
                            "2         0.535714  0.464286\n",
                            "3         0.750000  0.250000\n",
                            "4         0.833333  0.166667\n",
                            "5         1.000000  0.000000\n",
                            "8         1.000000  0.000000"
                        ]
                    },
<<<<<<< HEAD
                    "execution_count": 14,
=======
                    "execution_count": 246,
>>>>>>> 677d7b023de30d4b7dd4b0da5fc0cba1533d2616
                    "metadata": {},
                    "output_type": "execute_result"
                }
            ],
            "source": [
                "df_train.groupby(['SibSp', 'Survived']).size().unstack().fillna(0).apply(lambda x : x / sum(x) , axis = 1)\n",
                "### but those with 1 or 2 siblings has higher chance of survive against others."
            ]
        },
        {
            "cell_type": "code",
            "execution_count": null,
            "metadata": {},
            "outputs": [],
            "source": []
        }
    ],
    "metadata": {
        "interpreter": {
            "hash": "18e03f19e2eea32137bb6b7634899948883c996f0eeacfc3548045b6b15590e6"
        },
        "kernelspec": {
            "display_name": "Python 3.7.4 64-bit ('base': conda)",
            "name": "python3"
        },
        "language_info": {
            "codemirror_mode": {
                "name": "ipython",
                "version": 3
            },
            "file_extension": ".py",
            "mimetype": "text/x-python",
            "name": "python",
            "nbconvert_exporter": "python",
            "pygments_lexer": "ipython3",
            "version": "3.7.4"
        },
        "orig_nbformat": 4
    },
    "nbformat": 4,
    "nbformat_minor": 2
}
