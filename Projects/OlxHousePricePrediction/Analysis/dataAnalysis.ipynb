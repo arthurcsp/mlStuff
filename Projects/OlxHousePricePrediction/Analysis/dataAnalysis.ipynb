{
 "cells": [
  {
   "cell_type": "code",
   "execution_count": 1,
   "metadata": {},
   "outputs": [],
   "source": [
    "import pandas as pd \n",
    "import matplotlib.pyplot as plt \n",
    "pd.options.display.float_format = '{:,.4f}'.format\n",
    "import warnings\n",
    "warnings.simplefilter(action='ignore', category=FutureWarning)\n",
    "import numpy as np "
   ]
  },
  {
   "cell_type": "markdown",
   "metadata": {},
   "source": [
    "# Carga"
   ]
  },
  {
   "cell_type": "code",
   "execution_count": 2,
   "metadata": {},
   "outputs": [],
   "source": [
    "vixCasa = pd.read_csv(r'C:\\Users\\arthu\\OneDrive\\Projetos\\0-GitHub\\mlStuff\\Projects\\OlxHousePricePrediction\\Extraction\\data\\vixCasas.csv' , encoding='utf-16', sep='|')"
   ]
  },
  {
   "cell_type": "code",
   "execution_count": 3,
   "metadata": {},
   "outputs": [],
   "source": [
    "vixApp = pd.read_csv(r'C:\\Users\\arthu\\OneDrive\\Projetos\\0-GitHub\\mlStuff\\Projects\\OlxHousePricePrediction\\Extraction\\data\\vixApartamentos.csv' , encoding='utf-16', sep='|')"
   ]
  },
  {
   "cell_type": "code",
   "execution_count": 4,
   "metadata": {},
   "outputs": [],
   "source": [
    "df = pd.concat([vixCasa, vixApp], ignore_index=True)"
   ]
  },
  {
   "cell_type": "code",
   "execution_count": 5,
   "metadata": {},
   "outputs": [],
   "source": [
    "df = df.drop_duplicates(subset=(['Codigo']))"
   ]
  },
  {
   "cell_type": "markdown",
   "metadata": {},
   "source": [
    "# Tratamento de dados"
   ]
  },
  {
   "cell_type": "markdown",
   "metadata": {},
   "source": [
    "### Alterando tipo de dados"
   ]
  },
  {
   "cell_type": "code",
   "execution_count": 6,
   "metadata": {},
   "outputs": [],
   "source": [
    "df['Valor']= df['Valor'].map(lambda x : str(x).replace('R$ ','').replace('.','')).astype(float)"
   ]
  },
  {
   "cell_type": "code",
   "execution_count": 7,
   "metadata": {},
   "outputs": [],
   "source": [
    "df['Área útil'] =  df['Área útil'].map(lambda x : str(x).replace('m²' ,'')).astype(float)\n",
    "df['Área construída'] = df['Área construída'].map(lambda x : str(x).replace('m²' ,'')).astype(float)\n",
    "df['Area'] = df['Área útil'].fillna(df['Área construída'])"
   ]
  },
  {
   "cell_type": "code",
   "execution_count": 8,
   "metadata": {},
   "outputs": [],
   "source": [
    "df['Quartos'] = df['Quartos'].map(lambda x : 5 if x=='5 ou mais' else int(x))\n",
    "df['Banheiros'] = df['Banheiros'].fillna(0).map(lambda x : 5 if x=='5 ou mais' else int(x))\n",
    "df['Vagas na garagem'] = df['Vagas na garagem'].fillna(0).map(lambda x : 5 if x=='5 ou mais' else int(x))"
   ]
  },
  {
   "cell_type": "code",
   "execution_count": 9,
   "metadata": {},
   "outputs": [],
   "source": [
    "df.drop(['Link','Descricao','Área útil' , 'Área construída', 'Page' ,'Detalhes do imóvel', 'Condomínio', 'IPTU',\n",
    "       'Detalhes do condominio', 'Logradouro'] , axis=1, inplace=True)"
   ]
  },
  {
   "cell_type": "markdown",
   "metadata": {},
   "source": [
    "### Análise e remoção de outliers"
   ]
  },
  {
   "cell_type": "code",
   "execution_count": 10,
   "metadata": {},
   "outputs": [],
   "source": [
    "def fncCalculaLimites(x):\n",
    "    return x.quantile(0.75) + x.std()*1.5 , x.quantile(0.25) - x.std()*1.5 "
   ]
  },
  {
   "cell_type": "markdown",
   "metadata": {},
   "source": [
    "##### Valor"
   ]
  },
  {
   "cell_type": "code",
   "execution_count": 11,
   "metadata": {},
   "outputs": [
    {
     "data": {
      "image/png": "[encoded data removed]",
      "text/plain": [
       "<Figure size 2880x720 with 2 Axes>"
      ]
     },
     "metadata": {
      "needs_background": "light"
     },
     "output_type": "display_data"
    }
   ],
   "source": [
    "plt.figure(figsize=(40,10))\n",
    "plt.subplot(1,2,1)\n",
    "plt.ticklabel_format(style = 'plain')\n",
    "df['Valor'].hist(bins= 30)\n",
    "\n",
    "plt.subplot(1,2,2)\n",
    "df['Valor'].plot(kind = 'box')\n",
    "plt.show()"
   ]
  },
  {
   "cell_type": "code",
   "execution_count": 12,
   "metadata": {},
   "outputs": [
    {
     "data": {
      "text/html": [
       "<div>\n",
       "<style scoped>\n",
       "    .dataframe tbody tr th:only-of-type {\n",
       "        vertical-align: middle;\n",
       "    }\n",
       "\n",
       "    .dataframe tbody tr th {\n",
       "        vertical-align: top;\n",
       "    }\n",
       "\n",
       "    .dataframe thead th {\n",
       "        text-align: right;\n",
       "    }\n",
       "</style>\n",
       "<table border=\"1\" class=\"dataframe\">\n",
       "  <thead>\n",
       "    <tr style=\"text-align: right;\">\n",
       "      <th></th>\n",
       "      <th>Codigo</th>\n",
       "      <th>Valor</th>\n",
       "      <th>Categoria</th>\n",
       "      <th>Tipo</th>\n",
       "      <th>Quartos</th>\n",
       "      <th>Banheiros</th>\n",
       "      <th>Vagas na garagem</th>\n",
       "      <th>CEP</th>\n",
       "      <th>Município</th>\n",
       "      <th>Bairro</th>\n",
       "      <th>Area</th>\n",
       "    </tr>\n",
       "  </thead>\n",
       "  <tbody>\n",
       "    <tr>\n",
       "      <th>92</th>\n",
       "      <td>945755151</td>\n",
       "      <td>9,000.0000</td>\n",
       "      <td>Casas</td>\n",
       "      <td>Venda - casa em rua pública</td>\n",
       "      <td>5</td>\n",
       "      <td>5</td>\n",
       "      <td>1</td>\n",
       "      <td>29055450</td>\n",
       "      <td>Vitória</td>\n",
       "      <td>Praia do Canto</td>\n",
       "      <td>194.0000</td>\n",
       "    </tr>\n",
       "    <tr>\n",
       "      <th>130</th>\n",
       "      <td>980101553</td>\n",
       "      <td>0.0000</td>\n",
       "      <td>Casas</td>\n",
       "      <td>Venda - casa em rua pública</td>\n",
       "      <td>2</td>\n",
       "      <td>2</td>\n",
       "      <td>2</td>\n",
       "      <td>29015360</td>\n",
       "      <td>Vitória</td>\n",
       "      <td>Centro</td>\n",
       "      <td>NaN</td>\n",
       "    </tr>\n",
       "    <tr>\n",
       "      <th>164</th>\n",
       "      <td>979975511</td>\n",
       "      <td>0.0000</td>\n",
       "      <td>Casas</td>\n",
       "      <td>Venda - casa em rua pública</td>\n",
       "      <td>0</td>\n",
       "      <td>0</td>\n",
       "      <td>0</td>\n",
       "      <td>29050224</td>\n",
       "      <td>Vitória</td>\n",
       "      <td>Enseada do Suá</td>\n",
       "      <td>0.0000</td>\n",
       "    </tr>\n",
       "    <tr>\n",
       "      <th>183</th>\n",
       "      <td>979831242</td>\n",
       "      <td>5,500.0000</td>\n",
       "      <td>Casas</td>\n",
       "      <td>Venda - casa em rua pública</td>\n",
       "      <td>2</td>\n",
       "      <td>0</td>\n",
       "      <td>0</td>\n",
       "      <td>29030090</td>\n",
       "      <td>Vitória</td>\n",
       "      <td>São Pedro</td>\n",
       "      <td>0.0000</td>\n",
       "    </tr>\n",
       "    <tr>\n",
       "      <th>218</th>\n",
       "      <td>979665713</td>\n",
       "      <td>5,000.0000</td>\n",
       "      <td>Casas</td>\n",
       "      <td>Venda - casa em rua pública</td>\n",
       "      <td>2</td>\n",
       "      <td>2</td>\n",
       "      <td>0</td>\n",
       "      <td>29030190</td>\n",
       "      <td>Vitória</td>\n",
       "      <td>São Pedro</td>\n",
       "      <td>NaN</td>\n",
       "    </tr>\n",
       "    <tr>\n",
       "      <th>...</th>\n",
       "      <td>...</td>\n",
       "      <td>...</td>\n",
       "      <td>...</td>\n",
       "      <td>...</td>\n",
       "      <td>...</td>\n",
       "      <td>...</td>\n",
       "      <td>...</td>\n",
       "      <td>...</td>\n",
       "      <td>...</td>\n",
       "      <td>...</td>\n",
       "      <td>...</td>\n",
       "    </tr>\n",
       "    <tr>\n",
       "      <th>6823</th>\n",
       "      <td>967246313</td>\n",
       "      <td>1,250.0000</td>\n",
       "      <td>Apartamentos</td>\n",
       "      <td>Venda - apartamento padrão</td>\n",
       "      <td>1</td>\n",
       "      <td>1</td>\n",
       "      <td>0</td>\n",
       "      <td>29010001</td>\n",
       "      <td>Vitória</td>\n",
       "      <td>Centro</td>\n",
       "      <td>80.0000</td>\n",
       "    </tr>\n",
       "    <tr>\n",
       "      <th>6950</th>\n",
       "      <td>966172636</td>\n",
       "      <td>800.0000</td>\n",
       "      <td>Apartamentos</td>\n",
       "      <td>Venda - apartamento padrão</td>\n",
       "      <td>4</td>\n",
       "      <td>3</td>\n",
       "      <td>2</td>\n",
       "      <td>29090290</td>\n",
       "      <td>Vitória</td>\n",
       "      <td>Jardim Camburi</td>\n",
       "      <td>NaN</td>\n",
       "    </tr>\n",
       "    <tr>\n",
       "      <th>7080</th>\n",
       "      <td>859034326</td>\n",
       "      <td>0.0000</td>\n",
       "      <td>Apartamentos</td>\n",
       "      <td>Venda - apartamento padrão</td>\n",
       "      <td>3</td>\n",
       "      <td>2</td>\n",
       "      <td>2</td>\n",
       "      <td>29056135</td>\n",
       "      <td>Vitória</td>\n",
       "      <td>Santa Lúcia</td>\n",
       "      <td>0.0000</td>\n",
       "    </tr>\n",
       "    <tr>\n",
       "      <th>7101</th>\n",
       "      <td>965254646</td>\n",
       "      <td>0.0000</td>\n",
       "      <td>Apartamentos</td>\n",
       "      <td>Venda - apartamento padrão</td>\n",
       "      <td>2</td>\n",
       "      <td>1</td>\n",
       "      <td>1</td>\n",
       "      <td>29010250</td>\n",
       "      <td>Vitória</td>\n",
       "      <td>Centro</td>\n",
       "      <td>0.0000</td>\n",
       "    </tr>\n",
       "    <tr>\n",
       "      <th>7231</th>\n",
       "      <td>858593644</td>\n",
       "      <td>0.0000</td>\n",
       "      <td>Apartamentos</td>\n",
       "      <td>Venda - apartamento padrão</td>\n",
       "      <td>0</td>\n",
       "      <td>0</td>\n",
       "      <td>0</td>\n",
       "      <td>29056140</td>\n",
       "      <td>Vitória</td>\n",
       "      <td>Santa Lúcia</td>\n",
       "      <td>0.0000</td>\n",
       "    </tr>\n",
       "  </tbody>\n",
       "</table>\n",
       "<p>202 rows × 11 columns</p>\n",
       "</div>"
      ],
      "text/plain": [
       "         Codigo      Valor     Categoria                         Tipo  \\\n",
       "92    945755151 9,000.0000         Casas  Venda - casa em rua pública   \n",
       "130   980101553     0.0000         Casas  Venda - casa em rua pública   \n",
       "164   979975511     0.0000         Casas  Venda - casa em rua pública   \n",
       "183   979831242 5,500.0000         Casas  Venda - casa em rua pública   \n",
       "218   979665713 5,000.0000         Casas  Venda - casa em rua pública   \n",
       "...         ...        ...           ...                          ...   \n",
       "6823  967246313 1,250.0000  Apartamentos   Venda - apartamento padrão   \n",
       "6950  966172636   800.0000  Apartamentos   Venda - apartamento padrão   \n",
       "7080  859034326     0.0000  Apartamentos   Venda - apartamento padrão   \n",
       "7101  965254646     0.0000  Apartamentos   Venda - apartamento padrão   \n",
       "7231  858593644     0.0000  Apartamentos   Venda - apartamento padrão   \n",
       "\n",
       "      Quartos  Banheiros  Vagas na garagem       CEP Município  \\\n",
       "92          5          5                 1  29055450   Vitória   \n",
       "130         2          2                 2  29015360   Vitória   \n",
       "164         0          0                 0  29050224   Vitória   \n",
       "183         2          0                 0  29030090   Vitória   \n",
       "218         2          2                 0  29030190   Vitória   \n",
       "...       ...        ...               ...       ...       ...   \n",
       "6823        1          1                 0  29010001   Vitória   \n",
       "6950        4          3                 2  29090290   Vitória   \n",
       "7080        3          2                 2  29056135   Vitória   \n",
       "7101        2          1                 1  29010250   Vitória   \n",
       "7231        0          0                 0  29056140   Vitória   \n",
       "\n",
       "              Bairro     Area  \n",
       "92    Praia do Canto 194.0000  \n",
       "130           Centro      NaN  \n",
       "164   Enseada do Suá   0.0000  \n",
       "183        São Pedro   0.0000  \n",
       "218        São Pedro      NaN  \n",
       "...              ...      ...  \n",
       "6823          Centro  80.0000  \n",
       "6950  Jardim Camburi      NaN  \n",
       "7080     Santa Lúcia   0.0000  \n",
       "7101          Centro   0.0000  \n",
       "7231     Santa Lúcia   0.0000  \n",
       "\n",
       "[202 rows x 11 columns]"
      ]
     },
     "execution_count": 12,
     "metadata": {},
     "output_type": "execute_result"
    }
   ],
   "source": [
    "df[df['Valor']<=10000]"
   ]
  },
  {
   "cell_type": "code",
   "execution_count": 13,
   "metadata": {},
   "outputs": [],
   "source": [
    "df = df[df['Valor']>10000]"
   ]
  },
  {
   "cell_type": "code",
   "execution_count": 14,
   "metadata": {},
   "outputs": [
    {
     "data": {
      "image/png": "[encoded data removed]",
      "text/plain": [
       "<Figure size 2880x720 with 2 Axes>"
      ]
     },
     "metadata": {
      "needs_background": "light"
     },
     "output_type": "display_data"
    }
   ],
   "source": [
    "plt.figure(figsize=(40,10))\n",
    "plt.subplot(1,2,1)\n",
    "plt.ticklabel_format(style = 'plain')\n",
    "df['Valor'].hist(bins= 30)\n",
    "\n",
    "plt.subplot(1,2,2)\n",
    "df['Valor'].plot(kind = 'box')\n",
    "plt.show()"
   ]
  },
  {
   "cell_type": "markdown",
   "metadata": {},
   "source": [
    "##### Area"
   ]
  },
  {
   "cell_type": "code",
   "execution_count": 15,
   "metadata": {},
   "outputs": [
    {
     "data": {
      "image/png": "[encoded data removed]",
      "text/plain": [
       "<Figure size 2880x720 with 2 Axes>"
      ]
     },
     "metadata": {
      "needs_background": "light"
     },
     "output_type": "display_data"
    }
   ],
   "source": [
    "plt.figure(figsize=(40,10))\n",
    "plt.subplot(1,2,1)\n",
    "plt.ticklabel_format(style = 'plain')\n",
    "df['Area'].hist(bins= 30)\n",
    "\n",
    "plt.subplot(1,2,2)\n",
    "df['Area'].plot(kind = 'box')\n",
    "plt.show()"
   ]
  },
  {
   "cell_type": "code",
   "execution_count": 16,
   "metadata": {},
   "outputs": [
    {
     "data": {
      "text/html": [
       "<div>\n",
       "<style scoped>\n",
       "    .dataframe tbody tr th:only-of-type {\n",
       "        vertical-align: middle;\n",
       "    }\n",
       "\n",
       "    .dataframe tbody tr th {\n",
       "        vertical-align: top;\n",
       "    }\n",
       "\n",
       "    .dataframe thead th {\n",
       "        text-align: right;\n",
       "    }\n",
       "</style>\n",
       "<table border=\"1\" class=\"dataframe\">\n",
       "  <thead>\n",
       "    <tr style=\"text-align: right;\">\n",
       "      <th></th>\n",
       "      <th>Codigo</th>\n",
       "      <th>Valor</th>\n",
       "      <th>Categoria</th>\n",
       "      <th>Tipo</th>\n",
       "      <th>Quartos</th>\n",
       "      <th>Banheiros</th>\n",
       "      <th>Vagas na garagem</th>\n",
       "      <th>CEP</th>\n",
       "      <th>Município</th>\n",
       "      <th>Bairro</th>\n",
       "      <th>Area</th>\n",
       "    </tr>\n",
       "  </thead>\n",
       "  <tbody>\n",
       "    <tr>\n",
       "      <th>1</th>\n",
       "      <td>969551987</td>\n",
       "      <td>400,000.0000</td>\n",
       "      <td>Casas</td>\n",
       "      <td>Venda - casa em rua pública</td>\n",
       "      <td>3</td>\n",
       "      <td>2</td>\n",
       "      <td>2</td>\n",
       "      <td>29075910</td>\n",
       "      <td>Vitória</td>\n",
       "      <td>Goiabeiras</td>\n",
       "      <td>0.0000</td>\n",
       "    </tr>\n",
       "    <tr>\n",
       "      <th>20</th>\n",
       "      <td>972097706</td>\n",
       "      <td>265,000.0000</td>\n",
       "      <td>Casas</td>\n",
       "      <td>Venda - casa em rua pública</td>\n",
       "      <td>2</td>\n",
       "      <td>2</td>\n",
       "      <td>1</td>\n",
       "      <td>29040870</td>\n",
       "      <td>Vitória</td>\n",
       "      <td>Jucutuquara</td>\n",
       "      <td>0.0000</td>\n",
       "    </tr>\n",
       "    <tr>\n",
       "      <th>39</th>\n",
       "      <td>955083484</td>\n",
       "      <td>250,000.0000</td>\n",
       "      <td>Casas</td>\n",
       "      <td>Venda - casa em rua pública</td>\n",
       "      <td>3</td>\n",
       "      <td>2</td>\n",
       "      <td>2</td>\n",
       "      <td>29046220</td>\n",
       "      <td>Vitória</td>\n",
       "      <td>Gurigica</td>\n",
       "      <td>0.0000</td>\n",
       "    </tr>\n",
       "    <tr>\n",
       "      <th>52</th>\n",
       "      <td>915548769</td>\n",
       "      <td>190,000.0000</td>\n",
       "      <td>Casas</td>\n",
       "      <td>Venda - casa em rua pública</td>\n",
       "      <td>3</td>\n",
       "      <td>4</td>\n",
       "      <td>2</td>\n",
       "      <td>29040700</td>\n",
       "      <td>Vitória</td>\n",
       "      <td>Jucutuquara</td>\n",
       "      <td>0.0000</td>\n",
       "    </tr>\n",
       "    <tr>\n",
       "      <th>76</th>\n",
       "      <td>971949200</td>\n",
       "      <td>270,000.0000</td>\n",
       "      <td>Casas</td>\n",
       "      <td>Venda - casa em rua pública</td>\n",
       "      <td>3</td>\n",
       "      <td>2</td>\n",
       "      <td>1</td>\n",
       "      <td>29075075</td>\n",
       "      <td>Vitória</td>\n",
       "      <td>Goiabeiras</td>\n",
       "      <td>0.0000</td>\n",
       "    </tr>\n",
       "    <tr>\n",
       "      <th>...</th>\n",
       "      <td>...</td>\n",
       "      <td>...</td>\n",
       "      <td>...</td>\n",
       "      <td>...</td>\n",
       "      <td>...</td>\n",
       "      <td>...</td>\n",
       "      <td>...</td>\n",
       "      <td>...</td>\n",
       "      <td>...</td>\n",
       "      <td>...</td>\n",
       "      <td>...</td>\n",
       "    </tr>\n",
       "    <tr>\n",
       "      <th>7342</th>\n",
       "      <td>962176686</td>\n",
       "      <td>779,004.0000</td>\n",
       "      <td>Apartamentos</td>\n",
       "      <td>Venda - apartamento padrão</td>\n",
       "      <td>3</td>\n",
       "      <td>2</td>\n",
       "      <td>2</td>\n",
       "      <td>29057530</td>\n",
       "      <td>Vitória</td>\n",
       "      <td>Barro Vermelho</td>\n",
       "      <td>0.0000</td>\n",
       "    </tr>\n",
       "    <tr>\n",
       "      <th>7344</th>\n",
       "      <td>962171728</td>\n",
       "      <td>780,010.0000</td>\n",
       "      <td>Apartamentos</td>\n",
       "      <td>Venda - apartamento padrão</td>\n",
       "      <td>3</td>\n",
       "      <td>3</td>\n",
       "      <td>2</td>\n",
       "      <td>29045250</td>\n",
       "      <td>Vitória</td>\n",
       "      <td>Santa Luíza</td>\n",
       "      <td>0.0000</td>\n",
       "    </tr>\n",
       "    <tr>\n",
       "      <th>7375</th>\n",
       "      <td>961850200</td>\n",
       "      <td>780,000.0000</td>\n",
       "      <td>Apartamentos</td>\n",
       "      <td>Venda - apartamento padrão</td>\n",
       "      <td>3</td>\n",
       "      <td>3</td>\n",
       "      <td>2</td>\n",
       "      <td>29045250</td>\n",
       "      <td>Vitória</td>\n",
       "      <td>Santa Luíza</td>\n",
       "      <td>0.0000</td>\n",
       "    </tr>\n",
       "    <tr>\n",
       "      <th>7380</th>\n",
       "      <td>961800628</td>\n",
       "      <td>469,982.0000</td>\n",
       "      <td>Apartamentos</td>\n",
       "      <td>Venda - apartamento padrão</td>\n",
       "      <td>3</td>\n",
       "      <td>2</td>\n",
       "      <td>1</td>\n",
       "      <td>29090100</td>\n",
       "      <td>Vitória</td>\n",
       "      <td>Jardim Camburi</td>\n",
       "      <td>0.0000</td>\n",
       "    </tr>\n",
       "    <tr>\n",
       "      <th>7383</th>\n",
       "      <td>961675108</td>\n",
       "      <td>380,047.0000</td>\n",
       "      <td>Apartamentos</td>\n",
       "      <td>Venda - apartamento padrão</td>\n",
       "      <td>2</td>\n",
       "      <td>0</td>\n",
       "      <td>0</td>\n",
       "      <td>29060710</td>\n",
       "      <td>Vitória</td>\n",
       "      <td>Jardim da Penha</td>\n",
       "      <td>0.0000</td>\n",
       "    </tr>\n",
       "  </tbody>\n",
       "</table>\n",
       "<p>299 rows × 11 columns</p>\n",
       "</div>"
      ],
      "text/plain": [
       "         Codigo        Valor     Categoria                         Tipo  \\\n",
       "1     969551987 400,000.0000         Casas  Venda - casa em rua pública   \n",
       "20    972097706 265,000.0000         Casas  Venda - casa em rua pública   \n",
       "39    955083484 250,000.0000         Casas  Venda - casa em rua pública   \n",
       "52    915548769 190,000.0000         Casas  Venda - casa em rua pública   \n",
       "76    971949200 270,000.0000         Casas  Venda - casa em rua pública   \n",
       "...         ...          ...           ...                          ...   \n",
       "7342  962176686 779,004.0000  Apartamentos   Venda - apartamento padrão   \n",
       "7344  962171728 780,010.0000  Apartamentos   Venda - apartamento padrão   \n",
       "7375  961850200 780,000.0000  Apartamentos   Venda - apartamento padrão   \n",
       "7380  961800628 469,982.0000  Apartamentos   Venda - apartamento padrão   \n",
       "7383  961675108 380,047.0000  Apartamentos   Venda - apartamento padrão   \n",
       "\n",
       "      Quartos  Banheiros  Vagas na garagem       CEP Município  \\\n",
       "1           3          2                 2  29075910   Vitória   \n",
       "20          2          2                 1  29040870   Vitória   \n",
       "39          3          2                 2  29046220   Vitória   \n",
       "52          3          4                 2  29040700   Vitória   \n",
       "76          3          2                 1  29075075   Vitória   \n",
       "...       ...        ...               ...       ...       ...   \n",
       "7342        3          2                 2  29057530   Vitória   \n",
       "7344        3          3                 2  29045250   Vitória   \n",
       "7375        3          3                 2  29045250   Vitória   \n",
       "7380        3          2                 1  29090100   Vitória   \n",
       "7383        2          0                 0  29060710   Vitória   \n",
       "\n",
       "               Bairro   Area  \n",
       "1          Goiabeiras 0.0000  \n",
       "20        Jucutuquara 0.0000  \n",
       "39           Gurigica 0.0000  \n",
       "52        Jucutuquara 0.0000  \n",
       "76         Goiabeiras 0.0000  \n",
       "...               ...    ...  \n",
       "7342   Barro Vermelho 0.0000  \n",
       "7344      Santa Luíza 0.0000  \n",
       "7375      Santa Luíza 0.0000  \n",
       "7380   Jardim Camburi 0.0000  \n",
       "7383  Jardim da Penha 0.0000  \n",
       "\n",
       "[299 rows x 11 columns]"
      ]
     },
     "execution_count": 16,
     "metadata": {},
     "output_type": "execute_result"
    }
   ],
   "source": [
    "# Temos 341 itens com area 0 e podemos considerar erros de preenchimento\n",
    "df[df['Area']==0]"
   ]
  },
  {
   "cell_type": "code",
   "execution_count": 17,
   "metadata": {},
   "outputs": [],
   "source": [
    "# Removendo valores com erro de preenchimento\n",
    "df= df[df['Area']>0]"
   ]
  },
  {
   "cell_type": "code",
   "execution_count": 18,
   "metadata": {},
   "outputs": [],
   "source": [
    "max , min = fncCalculaLimites(df['Area'])\n",
    "df = df[(df['Area'] > min) & (df['Area'] < max)]"
   ]
  },
  {
   "cell_type": "code",
   "execution_count": 19,
   "metadata": {},
   "outputs": [
    {
     "data": {
      "image/png": "[encoded data removed]",
      "text/plain": [
       "<Figure size 2880x720 with 2 Axes>"
      ]
     },
     "metadata": {
      "needs_background": "light"
     },
     "output_type": "display_data"
    }
   ],
   "source": [
    "plt.figure(figsize=(40,10))\n",
    "plt.subplot(1,2,1)\n",
    "plt.ticklabel_format(style = 'plain')\n",
    "df['Area'].hist(bins= 30)\n",
    "\n",
    "plt.subplot(1,2,2)\n",
    "df['Area'].plot(kind = 'box')\n",
    "plt.show()"
   ]
  },
  {
   "cell_type": "markdown",
   "metadata": {},
   "source": [
    "### Campos descritivos"
   ]
  },
  {
   "cell_type": "markdown",
   "metadata": {},
   "source": [
    "##### Bairros"
   ]
  },
  {
   "cell_type": "code",
   "execution_count": 20,
   "metadata": {},
   "outputs": [
    {
     "data": {
      "text/plain": [
       "Jardim Camburi       1837\n",
       "Jardim da Penha       656\n",
       "Praia do Canto        558\n",
       "Mata da Praia         434\n",
       "Bento Ferreira        372\n",
       "                     ... \n",
       "Ilha das Caieiras       1\n",
       "Jesus de Nazareth       1\n",
       "Segurança do Lar        1\n",
       "Parque Industrial       1\n",
       "Nazareth                1\n",
       "Name: Bairro, Length: 72, dtype: int64"
      ]
     },
     "execution_count": 20,
     "metadata": {},
     "output_type": "execute_result"
    }
   ],
   "source": [
    "df['Bairro'].value_counts()"
   ]
  },
  {
   "cell_type": "code",
   "execution_count": 21,
   "metadata": {},
   "outputs": [],
   "source": [
    "regioes ={\n",
    " 'Itararé':  'Maruípe' ,\n",
    " 'Santa Lúcia':  'Zona Leste' ,\n",
    " 'Jardim Camburi': 'Jardim Camburi'  ,\n",
    " 'Goiabeiras':  'Zona Norte' ,\n",
    " 'Santa Helena':  'Zona Leste' ,\n",
    " 'Ilha do Boi':   'Zona Leste',\n",
    " 'Jucutuquara':  'Jucutuquara' ,\n",
    " 'Praia do Canto': 'Zona Leste'  ,\n",
    " 'Centro':  'Zona Sul' ,\n",
    " 'Fradinhos':  'Jucutuquara' ,\n",
    " 'Mata da Praia': 'Jardim da Penha'  ,\n",
    " \"Joana D'arc\":  'Maruípe' ,\n",
    " 'Bento Ferreira':  'Jucutuquara' ,\n",
    " 'de Lourdes':  'Jucutuquara' ,\n",
    " 'República':  'Jardim da Penha' ,\n",
    " 'Santa Cecília': 'Maruípe'  ,\n",
    " 'Morada de Camburi': 'Jardim da Penha'  ,\n",
    " 'Maruípe': 'Maruípe'  ,\n",
    " 'Tabuazeiro': 'Maruípe'  ,\n",
    " 'Maria Ortiz':  'Zona Norte' ,\n",
    " 'Santo Antônio':  'Santo Antônio' ,\n",
    " 'Santa Martha':  'Maruípe' ,\n",
    " 'São Cristóvão':   'Maruípe',\n",
    " 'Santos Reis': 'Zona Oeste'  ,\n",
    " 'Enseada do Suá': 'Zona Leste'  ,\n",
    " 'Santos Dumont':  'Maruípe' ,\n",
    " 'Jardim da Penha':  'Jardim da Penha' ,\n",
    " 'Universitário':  'Santo Antônio' ,\n",
    " 'Solon Borges': 'Zona Norte'  ,\n",
    " 'Santa Tereza':  'Santo Antônio' ,\n",
    " 'Ilha do Frade':  'Zona Leste' ,\n",
    " 'da Penha':  'Maruípe' ,\n",
    " 'Horto': 'Jucutuquara'  ,\n",
    " 'Santa Clara':   'Zona Sul',\n",
    " 'São Pedro':  'Zona Oeste' ,\n",
    " 'Parque Moscoso':  'Zona Sul'  ,\n",
    " 'Consolação':  'Jucutuquara' ,\n",
    " 'São Benedito':  'Maruípe' ,\n",
    " 'Caratoíra': 'Santo Antônio'  ,\n",
    " 'Grande Vitória':  'Santo Antônio' ,\n",
    " 'Jesus de Nazareth': 'Jucutuquara'  ,\n",
    " 'Romão': 'Jucutuquara'  ,\n",
    " 'Bonfim':  'Maruípe' ,\n",
    " 'Praia do Suá': 'Zona Leste'  ,\n",
    " 'Mário Cypreste': 'Santo Antônio'  ,\n",
    " 'Jabour': 'Zona Norte'  ,\n",
    " 'Santa Luíza':  'Zona Leste' ,\n",
    " 'São José': 'Zona Oeste'  ,\n",
    " 'Pontal de Camburi': 'Jardim da Penha'  ,\n",
    " 'Andorinhas':  'Maruípe' ,\n",
    " 'Nova Palestina':  'Zona Oeste' ,\n",
    " 'Boa Vista': 'Jardim da Penha'  ,\n",
    " 'Redenção': 'Zona Oeste'  ,\n",
    " 'Antônio Honório':  'Zona Norte' ,\n",
    " 'Monte Belo':  'Jucutuquara' ,\n",
    " 'Barro Vermelho':  'Zona Leste' ,\n",
    " 'Resistência': 'Zona Oeste'  ,\n",
    " 'Bela Vista':  \t'Santo Antônio'  ,\n",
    " 'Santo André':  'Zona Oeste' ,\n",
    " 'Ilha do Príncipe':  'Zona Sul'  ,\n",
    " 'Ilha de Santa Maria': 'Jucutuquara'  ,\n",
    " 'Fonte Grande':  'Zona Sul' ,\n",
    " 'Estrelinha':  'Santo Antônio' ,\n",
    " 'Inhanguetá':  'Santo Antônio' ,\n",
    " 'Vila Rubim':  'Zona Sul' ,\n",
    " 'Cruzamento':  'Jucutuquara' ,\n",
    " 'Ilha das Caieiras': 'Zona Oeste'  ,\n",
    " 'do Moscoso': 'Zona Sul'  ,\n",
    " 'Forte São João':  'Jucutuquara' ,\n",
    " 'Segurança do Lar':  'Zona Norte' ,\n",
    " 'Piedade' : 'Zona Sul',\n",
    " 'Parque Industrial': 'Jardim Camburi'  ,\n",
    " 'Nazareth' :'Jucutuquara'\n",
    "}"
   ]
  },
  {
   "cell_type": "code",
   "execution_count": 22,
   "metadata": {},
   "outputs": [],
   "source": [
    "df['Regiao'] = df['Bairro'].map(regioes)"
   ]
  },
  {
   "cell_type": "code",
   "execution_count": 23,
   "metadata": {},
   "outputs": [
    {
     "data": {
      "text/plain": [
       "Jardim Camburi     1838\n",
       "Zona Leste         1578\n",
       "Jardim da Penha    1193\n",
       "Jucutuquara         532\n",
       "Zona Sul            303\n",
       "Maruípe             256\n",
       "Zona Norte          104\n",
       "Santo Antônio        58\n",
       "Zona Oeste           49\n",
       "Name: Regiao, dtype: int64"
      ]
     },
     "execution_count": 23,
     "metadata": {},
     "output_type": "execute_result"
    }
   ],
   "source": [
    "df['Regiao'].value_counts()"
   ]
  },
  {
   "cell_type": "code",
   "execution_count": 24,
   "metadata": {},
   "outputs": [
    {
     "data": {
      "text/html": [
       "<div>\n",
       "<style scoped>\n",
       "    .dataframe tbody tr th:only-of-type {\n",
       "        vertical-align: middle;\n",
       "    }\n",
       "\n",
       "    .dataframe tbody tr th {\n",
       "        vertical-align: top;\n",
       "    }\n",
       "\n",
       "    .dataframe thead th {\n",
       "        text-align: right;\n",
       "    }\n",
       "</style>\n",
       "<table border=\"1\" class=\"dataframe\">\n",
       "  <thead>\n",
       "    <tr style=\"text-align: right;\">\n",
       "      <th></th>\n",
       "      <th>Codigo</th>\n",
       "      <th>Valor</th>\n",
       "      <th>Categoria</th>\n",
       "      <th>Tipo</th>\n",
       "      <th>Quartos</th>\n",
       "      <th>Banheiros</th>\n",
       "      <th>Vagas na garagem</th>\n",
       "      <th>CEP</th>\n",
       "      <th>Município</th>\n",
       "      <th>Bairro</th>\n",
       "      <th>Area</th>\n",
       "      <th>Regiao</th>\n",
       "    </tr>\n",
       "  </thead>\n",
       "  <tbody>\n",
       "    <tr>\n",
       "      <th>0</th>\n",
       "      <td>980712935</td>\n",
       "      <td>150,000.0000</td>\n",
       "      <td>Casas</td>\n",
       "      <td>Venda - casa em rua pública</td>\n",
       "      <td>3</td>\n",
       "      <td>2</td>\n",
       "      <td>1</td>\n",
       "      <td>29047503</td>\n",
       "      <td>Vitória</td>\n",
       "      <td>Itararé</td>\n",
       "      <td>110.0000</td>\n",
       "      <td>Maruípe</td>\n",
       "    </tr>\n",
       "    <tr>\n",
       "      <th>2</th>\n",
       "      <td>980709362</td>\n",
       "      <td>150,000.0000</td>\n",
       "      <td>Casas</td>\n",
       "      <td>Venda - casa em rua pública</td>\n",
       "      <td>2</td>\n",
       "      <td>2</td>\n",
       "      <td>2</td>\n",
       "      <td>29047503</td>\n",
       "      <td>Vitória</td>\n",
       "      <td>Itararé</td>\n",
       "      <td>125.0000</td>\n",
       "      <td>Maruípe</td>\n",
       "    </tr>\n",
       "    <tr>\n",
       "      <th>3</th>\n",
       "      <td>909294765</td>\n",
       "      <td>550,000.0000</td>\n",
       "      <td>Casas</td>\n",
       "      <td>Venda - casa em rua pública</td>\n",
       "      <td>2</td>\n",
       "      <td>1</td>\n",
       "      <td>1</td>\n",
       "      <td>29056260</td>\n",
       "      <td>Vitória</td>\n",
       "      <td>Santa Lúcia</td>\n",
       "      <td>100.0000</td>\n",
       "      <td>Zona Leste</td>\n",
       "    </tr>\n",
       "    <tr>\n",
       "      <th>4</th>\n",
       "      <td>958361609</td>\n",
       "      <td>1,400,000.0000</td>\n",
       "      <td>Casas</td>\n",
       "      <td>Venda - casa em rua pública</td>\n",
       "      <td>4</td>\n",
       "      <td>2</td>\n",
       "      <td>2</td>\n",
       "      <td>29090720</td>\n",
       "      <td>Vitória</td>\n",
       "      <td>Jardim Camburi</td>\n",
       "      <td>180.0000</td>\n",
       "      <td>Jardim Camburi</td>\n",
       "    </tr>\n",
       "    <tr>\n",
       "      <th>5</th>\n",
       "      <td>967294592</td>\n",
       "      <td>400,000.0000</td>\n",
       "      <td>Casas</td>\n",
       "      <td>Venda - casa em rua pública</td>\n",
       "      <td>2</td>\n",
       "      <td>1</td>\n",
       "      <td>0</td>\n",
       "      <td>29075075</td>\n",
       "      <td>Vitória</td>\n",
       "      <td>Goiabeiras</td>\n",
       "      <td>140.0000</td>\n",
       "      <td>Zona Norte</td>\n",
       "    </tr>\n",
       "    <tr>\n",
       "      <th>...</th>\n",
       "      <td>...</td>\n",
       "      <td>...</td>\n",
       "      <td>...</td>\n",
       "      <td>...</td>\n",
       "      <td>...</td>\n",
       "      <td>...</td>\n",
       "      <td>...</td>\n",
       "      <td>...</td>\n",
       "      <td>...</td>\n",
       "      <td>...</td>\n",
       "      <td>...</td>\n",
       "      <td>...</td>\n",
       "    </tr>\n",
       "    <tr>\n",
       "      <th>7395</th>\n",
       "      <td>906001758</td>\n",
       "      <td>770,000.0000</td>\n",
       "      <td>Apartamentos</td>\n",
       "      <td>Venda - apartamento padrão</td>\n",
       "      <td>3</td>\n",
       "      <td>1</td>\n",
       "      <td>2</td>\n",
       "      <td>29090010</td>\n",
       "      <td>Vitória</td>\n",
       "      <td>Jardim Camburi</td>\n",
       "      <td>90.0000</td>\n",
       "      <td>Jardim Camburi</td>\n",
       "    </tr>\n",
       "    <tr>\n",
       "      <th>7396</th>\n",
       "      <td>961513118</td>\n",
       "      <td>779,000.0000</td>\n",
       "      <td>Apartamentos</td>\n",
       "      <td>Venda - apartamento padrão</td>\n",
       "      <td>3</td>\n",
       "      <td>3</td>\n",
       "      <td>2</td>\n",
       "      <td>29045250</td>\n",
       "      <td>Vitória</td>\n",
       "      <td>Santa Luíza</td>\n",
       "      <td>87.0000</td>\n",
       "      <td>Zona Leste</td>\n",
       "    </tr>\n",
       "    <tr>\n",
       "      <th>7397</th>\n",
       "      <td>911152814</td>\n",
       "      <td>480,000.0000</td>\n",
       "      <td>Apartamentos</td>\n",
       "      <td>Venda - apartamento padrão</td>\n",
       "      <td>2</td>\n",
       "      <td>2</td>\n",
       "      <td>2</td>\n",
       "      <td>29090350</td>\n",
       "      <td>Vitória</td>\n",
       "      <td>Jardim Camburi</td>\n",
       "      <td>68.0000</td>\n",
       "      <td>Jardim Camburi</td>\n",
       "    </tr>\n",
       "    <tr>\n",
       "      <th>7398</th>\n",
       "      <td>826178336</td>\n",
       "      <td>459,500.0000</td>\n",
       "      <td>Apartamentos</td>\n",
       "      <td>Venda - apartamento padrão</td>\n",
       "      <td>2</td>\n",
       "      <td>2</td>\n",
       "      <td>1</td>\n",
       "      <td>29090670</td>\n",
       "      <td>Vitória</td>\n",
       "      <td>Jardim Camburi</td>\n",
       "      <td>65.0000</td>\n",
       "      <td>Jardim Camburi</td>\n",
       "    </tr>\n",
       "    <tr>\n",
       "      <th>7399</th>\n",
       "      <td>961497186</td>\n",
       "      <td>569,000.0000</td>\n",
       "      <td>Apartamentos</td>\n",
       "      <td>Venda - apartamento padrão</td>\n",
       "      <td>3</td>\n",
       "      <td>2</td>\n",
       "      <td>2</td>\n",
       "      <td>29090585</td>\n",
       "      <td>Vitória</td>\n",
       "      <td>Jardim Camburi</td>\n",
       "      <td>69.0000</td>\n",
       "      <td>Jardim Camburi</td>\n",
       "    </tr>\n",
       "  </tbody>\n",
       "</table>\n",
       "<p>5911 rows × 12 columns</p>\n",
       "</div>"
      ],
      "text/plain": [
       "         Codigo          Valor     Categoria                         Tipo  \\\n",
       "0     980712935   150,000.0000         Casas  Venda - casa em rua pública   \n",
       "2     980709362   150,000.0000         Casas  Venda - casa em rua pública   \n",
       "3     909294765   550,000.0000         Casas  Venda - casa em rua pública   \n",
       "4     958361609 1,400,000.0000         Casas  Venda - casa em rua pública   \n",
       "5     967294592   400,000.0000         Casas  Venda - casa em rua pública   \n",
       "...         ...            ...           ...                          ...   \n",
       "7395  906001758   770,000.0000  Apartamentos   Venda - apartamento padrão   \n",
       "7396  961513118   779,000.0000  Apartamentos   Venda - apartamento padrão   \n",
       "7397  911152814   480,000.0000  Apartamentos   Venda - apartamento padrão   \n",
       "7398  826178336   459,500.0000  Apartamentos   Venda - apartamento padrão   \n",
       "7399  961497186   569,000.0000  Apartamentos   Venda - apartamento padrão   \n",
       "\n",
       "      Quartos  Banheiros  Vagas na garagem       CEP Município  \\\n",
       "0           3          2                 1  29047503   Vitória   \n",
       "2           2          2                 2  29047503   Vitória   \n",
       "3           2          1                 1  29056260   Vitória   \n",
       "4           4          2                 2  29090720   Vitória   \n",
       "5           2          1                 0  29075075   Vitória   \n",
       "...       ...        ...               ...       ...       ...   \n",
       "7395        3          1                 2  29090010   Vitória   \n",
       "7396        3          3                 2  29045250   Vitória   \n",
       "7397        2          2                 2  29090350   Vitória   \n",
       "7398        2          2                 1  29090670   Vitória   \n",
       "7399        3          2                 2  29090585   Vitória   \n",
       "\n",
       "              Bairro     Area          Regiao  \n",
       "0            Itararé 110.0000         Maruípe  \n",
       "2            Itararé 125.0000         Maruípe  \n",
       "3        Santa Lúcia 100.0000      Zona Leste  \n",
       "4     Jardim Camburi 180.0000  Jardim Camburi  \n",
       "5         Goiabeiras 140.0000      Zona Norte  \n",
       "...              ...      ...             ...  \n",
       "7395  Jardim Camburi  90.0000  Jardim Camburi  \n",
       "7396     Santa Luíza  87.0000      Zona Leste  \n",
       "7397  Jardim Camburi  68.0000  Jardim Camburi  \n",
       "7398  Jardim Camburi  65.0000  Jardim Camburi  \n",
       "7399  Jardim Camburi  69.0000  Jardim Camburi  \n",
       "\n",
       "[5911 rows x 12 columns]"
      ]
     },
     "execution_count": 24,
     "metadata": {},
     "output_type": "execute_result"
    }
   ],
   "source": [
    "df "
   ]
  },
  {
   "cell_type": "code",
   "execution_count": 25,
   "metadata": {},
   "outputs": [
    {
     "data": {
      "text/plain": [
       "Tipo\n",
       "Venda - apartamento cobertura          175\n",
       "Venda - apartamento duplex/triplex      16\n",
       "Venda - apartamento kitchenette          8\n",
       "Venda - apartamento padrão            4518\n",
       "Venda - casa em condominio fechado     105\n",
       "Venda - casa em rua pública           1071\n",
       "Venda - casa em vila                     5\n",
       "Venda - loft/studio                     13\n",
       "dtype: int64"
      ]
     },
     "execution_count": 25,
     "metadata": {},
     "output_type": "execute_result"
    }
   ],
   "source": [
    "df.groupby('Tipo').size()"
   ]
  },
  {
   "cell_type": "code",
   "execution_count": 26,
   "metadata": {},
   "outputs": [
    {
     "data": {
      "text/plain": [
       "0       29047503\n",
       "2       29047503\n",
       "3       29056260\n",
       "4       29090720\n",
       "5       29075075\n",
       "          ...   \n",
       "7395    29090010\n",
       "7396    29045250\n",
       "7397    29090350\n",
       "7398    29090670\n",
       "7399    29090585\n",
       "Name: CEP, Length: 5911, dtype: int64"
      ]
     },
     "execution_count": 26,
     "metadata": {},
     "output_type": "execute_result"
    }
   ],
   "source": [
    "df['CEP']"
   ]
  },
  {
   "cell_type": "code",
   "execution_count": 27,
   "metadata": {},
   "outputs": [],
   "source": [
    "from api_geolocation import pos"
   ]
  },
  {
   "cell_type": "code",
   "execution_count": 28,
   "metadata": {},
   "outputs": [],
   "source": [
    "def fncLongLat(x):\n",
    "    endereco = str(x) + ', Vitoria - ES'\n",
    "    try: \n",
    "        long, lat = pos(endereco)\n",
    "    except:\n",
    "        long, lat =[0,0]\n",
    "    return long, lat"
   ]
  },
  {
   "cell_type": "code",
   "execution_count": 29,
   "metadata": {},
   "outputs": [],
   "source": [
    "add = str(29090010) + ', Vitoria - ES'"
   ]
  },
  {
   "cell_type": "code",
   "execution_count": 30,
   "metadata": {},
   "outputs": [
    {
     "data": {
      "text/plain": [
       "[-20.2605061, -40.2666699]"
      ]
     },
     "execution_count": 30,
     "metadata": {},
     "output_type": "execute_result"
    }
   ],
   "source": [
    "pos(add)"
   ]
  },
  {
   "cell_type": "code",
   "execution_count": 31,
   "metadata": {},
   "outputs": [],
   "source": [
    "km , y = fncLongLat(29047503)"
   ]
  },
  {
   "cell_type": "code",
   "execution_count": 32,
   "metadata": {},
   "outputs": [
    {
     "ename": "ValueError",
     "evalue": "too many values to unpack (expected 2)",
     "output_type": "error",
     "traceback": [
      "\u001b[1;31m---------------------------------------------------------------------------\u001b[0m",
      "\u001b[1;31mValueError\u001b[0m                                Traceback (most recent call last)",
      "\u001b[1;32m<ipython-input-32-fb7b42c92e00>\u001b[0m in \u001b[0;36m<module>\u001b[1;34m()\u001b[0m\n\u001b[1;32m----> 1\u001b[1;33m \u001b[0mdf\u001b[0m\u001b[1;33m[\u001b[0m\u001b[1;34m'long'\u001b[0m\u001b[1;33m]\u001b[0m \u001b[1;33m,\u001b[0m \u001b[0mdf\u001b[0m\u001b[1;33m[\u001b[0m\u001b[1;34m'lat'\u001b[0m\u001b[1;33m]\u001b[0m \u001b[1;33m=\u001b[0m \u001b[0mdf\u001b[0m\u001b[1;33m[\u001b[0m\u001b[1;34m'CEP'\u001b[0m\u001b[1;33m]\u001b[0m\u001b[1;33m.\u001b[0m\u001b[0mmap\u001b[0m\u001b[1;33m(\u001b[0m\u001b[0mfncLongLat\u001b[0m\u001b[1;33m)\u001b[0m\u001b[1;33m\u001b[0m\u001b[1;33m\u001b[0m\u001b[0m\n\u001b[0m",
      "\u001b[1;31mValueError\u001b[0m: too many values to unpack (expected 2)"
     ]
    }
   ],
   "source": [
    "df['long'] , df['lat'] = df['CEP'].map(fncLongLat)"
   ]
  },
  {
   "cell_type": "code",
   "execution_count": null,
   "metadata": {},
   "outputs": [],
   "source": []
  }
 ],
 "metadata": {
  "interpreter": {
   "hash": "18e03f19e2eea32137bb6b7634899948883c996f0eeacfc3548045b6b15590e6"
  },
  "kernelspec": {
   "display_name": "Python 3.7.4 64-bit ('base': conda)",
   "language": "python",
   "name": "python3"
  },
  "language_info": {
   "codemirror_mode": {
    "name": "ipython",
    "version": 3
   },
   "file_extension": ".py",
   "mimetype": "text/x-python",
   "name": "python",
   "nbconvert_exporter": "python",
   "pygments_lexer": "ipython3",
   "version": "3.7.4"
  },
  "orig_nbformat": 4
 },
 "nbformat": 4,
 "nbformat_minor": 2
}
