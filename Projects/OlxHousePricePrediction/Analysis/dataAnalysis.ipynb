{
 "cells": [
  {
   "cell_type": "code",
   "execution_count": 975,
   "metadata": {},
   "outputs": [],
   "source": [
    "import pandas as pd \n",
    "import matplotlib.pyplot as plt \n",
    "pd.options.display.float_format = '{:,.10f}'.format\n",
    "import warnings\n",
    "warnings.simplefilter(action='ignore', category=FutureWarning)\n",
    "import numpy as np "
   ]
  },
  {
   "cell_type": "markdown",
   "metadata": {},
   "source": [
    "# Carga"
   ]
  },
  {
   "cell_type": "code",
   "execution_count": 976,
   "metadata": {},
   "outputs": [],
   "source": [
    "vixCasa = pd.read_csv(r'C:\\Users\\arthu\\OneDrive\\Projetos\\0-GitHub\\mlStuff\\Projects\\OlxHousePricePrediction\\Extraction\\data\\vixCasas.csv' , encoding='utf-16', sep='|')"
   ]
  },
  {
   "cell_type": "code",
   "execution_count": 977,
   "metadata": {},
   "outputs": [],
   "source": [
    "vixApp = pd.read_csv(r'C:\\Users\\arthu\\OneDrive\\Projetos\\0-GitHub\\mlStuff\\Projects\\OlxHousePricePrediction\\Extraction\\data\\vixApartamentos.csv' , encoding='utf-16', sep='|')"
   ]
  },
  {
   "cell_type": "code",
   "execution_count": 978,
   "metadata": {},
   "outputs": [],
   "source": [
    "df = pd.concat([vixCasa, vixApp], ignore_index=True)"
   ]
  },
  {
   "cell_type": "code",
   "execution_count": 979,
   "metadata": {},
   "outputs": [],
   "source": [
    "df = df.drop_duplicates(subset=(['Codigo']))"
   ]
  },
  {
   "cell_type": "markdown",
   "metadata": {},
   "source": [
    "# Tratamento de dados"
   ]
  },
  {
   "cell_type": "markdown",
   "metadata": {},
   "source": [
    "### Alterando tipo de dados"
   ]
  },
  {
   "cell_type": "code",
   "execution_count": 980,
   "metadata": {},
   "outputs": [],
   "source": [
    "df['Valor']= df['Valor'].map(lambda x : str(x).replace('R$ ','').replace('.','')).astype(float)"
   ]
  },
  {
   "cell_type": "code",
   "execution_count": 981,
   "metadata": {},
   "outputs": [],
   "source": [
    "df['Área útil'] =  df['Área útil'].map(lambda x : str(x).replace('m²' ,'')).astype(float)\n",
    "df['Área construída'] = df['Área construída'].map(lambda x : str(x).replace('m²' ,'')).astype(float)\n",
    "df['Area'] = df['Área útil'].fillna(df['Área construída'])"
   ]
  },
  {
   "cell_type": "code",
   "execution_count": 982,
   "metadata": {},
   "outputs": [],
   "source": [
    "df['Quartos'] = df['Quartos'].map(lambda x : 5 if x=='5 ou mais' else int(x))\n",
    "df['Banheiros'] = df['Banheiros'].fillna(0).map(lambda x : 5 if x=='5 ou mais' else int(x))\n",
    "df['Vagas na garagem'] = df['Vagas na garagem'].fillna(0).map(lambda x : 5 if x=='5 ou mais' else int(x))"
   ]
  },
  {
   "cell_type": "code",
   "execution_count": 983,
   "metadata": {},
   "outputs": [],
   "source": [
    "df.drop(['Link','Descricao','Área útil' , 'Área construída', 'Page' ,'Detalhes do imóvel', 'Condomínio', 'IPTU',\n",
    "       'Detalhes do condominio', 'Logradouro','CEP', 'Município', 'Codigo'] , axis=1, inplace=True)"
   ]
  },
  {
   "cell_type": "code",
   "execution_count": 984,
   "metadata": {},
   "outputs": [],
   "source": [
    "df = df[df['Banheiros'] >0]\n",
    "df = df[df['Quartos'] >0]"
   ]
  },
  {
   "cell_type": "markdown",
   "metadata": {},
   "source": [
    "### Análise e remoção de outliers"
   ]
  },
  {
   "cell_type": "code",
   "execution_count": 985,
   "metadata": {},
   "outputs": [],
   "source": [
    "def fncCalculaLimites(x):\n",
    "    return x.quantile(0.75) + x.std()*1.5 , x.quantile(0.25) - x.std()*1.5 "
   ]
  },
  {
   "cell_type": "markdown",
   "metadata": {},
   "source": [
    "##### Valor"
   ]
  },
  {
   "cell_type": "code",
   "execution_count": 986,
   "metadata": {},
   "outputs": [
    {
     "data": {
      "image/png": "[encoded data removed]",
      "text/plain": [
       "<Figure size 2880x720 with 2 Axes>"
      ]
     },
     "metadata": {
      "needs_background": "light"
     },
     "output_type": "display_data"
    }
   ],
   "source": [
    "plt.figure(figsize=(40,10))\n",
    "plt.subplot(1,2,1)\n",
    "plt.ticklabel_format(style = 'plain')\n",
    "df['Valor'].hist(bins= 30)\n",
    "\n",
    "plt.subplot(1,2,2)\n",
    "df['Valor'].plot(kind = 'box')\n",
    "plt.show()"
   ]
  },
  {
   "cell_type": "code",
   "execution_count": 987,
   "metadata": {},
   "outputs": [
    {
     "data": {
      "text/plain": [
       "(22.73632578144708, 15.375346193339947)"
      ]
     },
     "execution_count": 987,
     "metadata": {},
     "output_type": "execute_result"
    }
   ],
   "source": [
    "fncCalculaLimites(np.log2(df[df['Valor']>0]['Valor']))"
   ]
  },
  {
   "cell_type": "code",
   "execution_count": 988,
   "metadata": {},
   "outputs": [
    {
     "data": {
      "text/plain": [
       "<AxesSubplot:>"
      ]
     },
     "execution_count": 988,
     "metadata": {},
     "output_type": "execute_result"
    },
    {
     "data": {
      "image/png": "[encoded data removed]",
      "text/plain": [
       "<Figure size 432x288 with 1 Axes>"
      ]
     },
     "metadata": {
      "needs_background": "light"
     },
     "output_type": "display_data"
    }
   ],
   "source": [
    "np.log2(df[df['Valor']>0]['Valor']).hist()"
   ]
  },
  {
   "cell_type": "code",
   "execution_count": 989,
   "metadata": {},
   "outputs": [
    {
     "data": {
      "text/html": [
       "<div>\n",
       "<style scoped>\n",
       "    .dataframe tbody tr th:only-of-type {\n",
       "        vertical-align: middle;\n",
       "    }\n",
       "\n",
       "    .dataframe tbody tr th {\n",
       "        vertical-align: top;\n",
       "    }\n",
       "\n",
       "    .dataframe thead th {\n",
       "        text-align: right;\n",
       "    }\n",
       "</style>\n",
       "<table border=\"1\" class=\"dataframe\">\n",
       "  <thead>\n",
       "    <tr style=\"text-align: right;\">\n",
       "      <th></th>\n",
       "      <th>Valor</th>\n",
       "      <th>Categoria</th>\n",
       "      <th>Tipo</th>\n",
       "      <th>Quartos</th>\n",
       "      <th>Banheiros</th>\n",
       "      <th>Vagas na garagem</th>\n",
       "      <th>Bairro</th>\n",
       "      <th>Area</th>\n",
       "    </tr>\n",
       "  </thead>\n",
       "  <tbody>\n",
       "    <tr>\n",
       "      <th>33</th>\n",
       "      <td>20,000.0000000000</td>\n",
       "      <td>Casas</td>\n",
       "      <td>Venda - casa em rua pública</td>\n",
       "      <td>2</td>\n",
       "      <td>2</td>\n",
       "      <td>1</td>\n",
       "      <td>Goiabeiras</td>\n",
       "      <td>200.0000000000</td>\n",
       "    </tr>\n",
       "    <tr>\n",
       "      <th>92</th>\n",
       "      <td>9,000.0000000000</td>\n",
       "      <td>Casas</td>\n",
       "      <td>Venda - casa em rua pública</td>\n",
       "      <td>5</td>\n",
       "      <td>5</td>\n",
       "      <td>1</td>\n",
       "      <td>Praia do Canto</td>\n",
       "      <td>194.0000000000</td>\n",
       "    </tr>\n",
       "    <tr>\n",
       "      <th>124</th>\n",
       "      <td>25,000.0000000000</td>\n",
       "      <td>Casas</td>\n",
       "      <td>Venda - casa em rua pública</td>\n",
       "      <td>3</td>\n",
       "      <td>2</td>\n",
       "      <td>0</td>\n",
       "      <td>Santa Cecília</td>\n",
       "      <td>NaN</td>\n",
       "    </tr>\n",
       "    <tr>\n",
       "      <th>130</th>\n",
       "      <td>0.0000000000</td>\n",
       "      <td>Casas</td>\n",
       "      <td>Venda - casa em rua pública</td>\n",
       "      <td>2</td>\n",
       "      <td>2</td>\n",
       "      <td>2</td>\n",
       "      <td>Centro</td>\n",
       "      <td>NaN</td>\n",
       "    </tr>\n",
       "    <tr>\n",
       "      <th>218</th>\n",
       "      <td>5,000.0000000000</td>\n",
       "      <td>Casas</td>\n",
       "      <td>Venda - casa em rua pública</td>\n",
       "      <td>2</td>\n",
       "      <td>2</td>\n",
       "      <td>0</td>\n",
       "      <td>São Pedro</td>\n",
       "      <td>NaN</td>\n",
       "    </tr>\n",
       "    <tr>\n",
       "      <th>...</th>\n",
       "      <td>...</td>\n",
       "      <td>...</td>\n",
       "      <td>...</td>\n",
       "      <td>...</td>\n",
       "      <td>...</td>\n",
       "      <td>...</td>\n",
       "      <td>...</td>\n",
       "      <td>...</td>\n",
       "    </tr>\n",
       "    <tr>\n",
       "      <th>6823</th>\n",
       "      <td>1,250.0000000000</td>\n",
       "      <td>Apartamentos</td>\n",
       "      <td>Venda - apartamento padrão</td>\n",
       "      <td>1</td>\n",
       "      <td>1</td>\n",
       "      <td>0</td>\n",
       "      <td>Centro</td>\n",
       "      <td>80.0000000000</td>\n",
       "    </tr>\n",
       "    <tr>\n",
       "      <th>6950</th>\n",
       "      <td>800.0000000000</td>\n",
       "      <td>Apartamentos</td>\n",
       "      <td>Venda - apartamento padrão</td>\n",
       "      <td>4</td>\n",
       "      <td>3</td>\n",
       "      <td>2</td>\n",
       "      <td>Jardim Camburi</td>\n",
       "      <td>NaN</td>\n",
       "    </tr>\n",
       "    <tr>\n",
       "      <th>7080</th>\n",
       "      <td>0.0000000000</td>\n",
       "      <td>Apartamentos</td>\n",
       "      <td>Venda - apartamento padrão</td>\n",
       "      <td>3</td>\n",
       "      <td>2</td>\n",
       "      <td>2</td>\n",
       "      <td>Santa Lúcia</td>\n",
       "      <td>0.0000000000</td>\n",
       "    </tr>\n",
       "    <tr>\n",
       "      <th>7101</th>\n",
       "      <td>0.0000000000</td>\n",
       "      <td>Apartamentos</td>\n",
       "      <td>Venda - apartamento padrão</td>\n",
       "      <td>2</td>\n",
       "      <td>1</td>\n",
       "      <td>1</td>\n",
       "      <td>Centro</td>\n",
       "      <td>0.0000000000</td>\n",
       "    </tr>\n",
       "    <tr>\n",
       "      <th>7354</th>\n",
       "      <td>26,000.0000000000</td>\n",
       "      <td>Apartamentos</td>\n",
       "      <td>Venda - apartamento padrão</td>\n",
       "      <td>2</td>\n",
       "      <td>2</td>\n",
       "      <td>1</td>\n",
       "      <td>Cruzamento</td>\n",
       "      <td>58.0000000000</td>\n",
       "    </tr>\n",
       "  </tbody>\n",
       "</table>\n",
       "<p>249 rows × 8 columns</p>\n",
       "</div>"
      ],
      "text/plain": [
       "                 Valor     Categoria                         Tipo  Quartos  \\\n",
       "33   20,000.0000000000         Casas  Venda - casa em rua pública        2   \n",
       "92    9,000.0000000000         Casas  Venda - casa em rua pública        5   \n",
       "124  25,000.0000000000         Casas  Venda - casa em rua pública        3   \n",
       "130       0.0000000000         Casas  Venda - casa em rua pública        2   \n",
       "218   5,000.0000000000         Casas  Venda - casa em rua pública        2   \n",
       "...                ...           ...                          ...      ...   \n",
       "6823  1,250.0000000000  Apartamentos   Venda - apartamento padrão        1   \n",
       "6950    800.0000000000  Apartamentos   Venda - apartamento padrão        4   \n",
       "7080      0.0000000000  Apartamentos   Venda - apartamento padrão        3   \n",
       "7101      0.0000000000  Apartamentos   Venda - apartamento padrão        2   \n",
       "7354 26,000.0000000000  Apartamentos   Venda - apartamento padrão        2   \n",
       "\n",
       "      Banheiros  Vagas na garagem          Bairro           Area  \n",
       "33            2                 1      Goiabeiras 200.0000000000  \n",
       "92            5                 1  Praia do Canto 194.0000000000  \n",
       "124           2                 0   Santa Cecília            NaN  \n",
       "130           2                 2          Centro            NaN  \n",
       "218           2                 0       São Pedro            NaN  \n",
       "...         ...               ...             ...            ...  \n",
       "6823          1                 0          Centro  80.0000000000  \n",
       "6950          3                 2  Jardim Camburi            NaN  \n",
       "7080          2                 2     Santa Lúcia   0.0000000000  \n",
       "7101          1                 1          Centro   0.0000000000  \n",
       "7354          2                 1      Cruzamento  58.0000000000  \n",
       "\n",
       "[249 rows x 8 columns]"
      ]
     },
     "execution_count": 989,
     "metadata": {},
     "output_type": "execute_result"
    }
   ],
   "source": [
    "df[df['Valor']<=42000]"
   ]
  },
  {
   "cell_type": "code",
   "execution_count": 990,
   "metadata": {},
   "outputs": [],
   "source": [
    "df = df[(df['Valor']>42000) & (df['Valor']<=7000000)]"
   ]
  },
  {
   "cell_type": "code",
   "execution_count": 991,
   "metadata": {},
   "outputs": [
    {
     "data": {
      "image/png": "[encoded data removed]",
      "text/plain": [
       "<Figure size 2880x720 with 2 Axes>"
      ]
     },
     "metadata": {
      "needs_background": "light"
     },
     "output_type": "display_data"
    }
   ],
   "source": [
    "plt.figure(figsize=(40,10))\n",
    "plt.subplot(1,2,1)\n",
    "plt.ticklabel_format(style = 'plain')\n",
    "df['Valor'].hist(bins= 30)\n",
    "\n",
    "plt.subplot(1,2,2)\n",
    "df['Valor'].plot(kind = 'box')\n",
    "plt.show()"
   ]
  },
  {
   "cell_type": "markdown",
   "metadata": {},
   "source": [
    "##### Area"
   ]
  },
  {
   "cell_type": "code",
   "execution_count": 992,
   "metadata": {},
   "outputs": [
    {
     "data": {
      "image/png": "[encoded data removed]",
      "text/plain": [
       "<Figure size 2880x720 with 2 Axes>"
      ]
     },
     "metadata": {
      "needs_background": "light"
     },
     "output_type": "display_data"
    }
   ],
   "source": [
    "plt.figure(figsize=(40,10))\n",
    "plt.subplot(1,2,1)\n",
    "plt.ticklabel_format(style = 'plain')\n",
    "df['Area'].hist(bins= 30)\n",
    "\n",
    "plt.subplot(1,2,2)\n",
    "df['Area'].plot(kind = 'box')\n",
    "plt.show()"
   ]
  },
  {
   "cell_type": "code",
   "execution_count": 993,
   "metadata": {},
   "outputs": [
    {
     "data": {
      "text/html": [
       "<div>\n",
       "<style scoped>\n",
       "    .dataframe tbody tr th:only-of-type {\n",
       "        vertical-align: middle;\n",
       "    }\n",
       "\n",
       "    .dataframe tbody tr th {\n",
       "        vertical-align: top;\n",
       "    }\n",
       "\n",
       "    .dataframe thead th {\n",
       "        text-align: right;\n",
       "    }\n",
       "</style>\n",
       "<table border=\"1\" class=\"dataframe\">\n",
       "  <thead>\n",
       "    <tr style=\"text-align: right;\">\n",
       "      <th></th>\n",
       "      <th>Valor</th>\n",
       "      <th>Categoria</th>\n",
       "      <th>Tipo</th>\n",
       "      <th>Quartos</th>\n",
       "      <th>Banheiros</th>\n",
       "      <th>Vagas na garagem</th>\n",
       "      <th>Bairro</th>\n",
       "      <th>Area</th>\n",
       "    </tr>\n",
       "  </thead>\n",
       "  <tbody>\n",
       "    <tr>\n",
       "      <th>1</th>\n",
       "      <td>400,000.0000000000</td>\n",
       "      <td>Casas</td>\n",
       "      <td>Venda - casa em rua pública</td>\n",
       "      <td>3</td>\n",
       "      <td>2</td>\n",
       "      <td>2</td>\n",
       "      <td>Goiabeiras</td>\n",
       "      <td>0.0000000000</td>\n",
       "    </tr>\n",
       "    <tr>\n",
       "      <th>20</th>\n",
       "      <td>265,000.0000000000</td>\n",
       "      <td>Casas</td>\n",
       "      <td>Venda - casa em rua pública</td>\n",
       "      <td>2</td>\n",
       "      <td>2</td>\n",
       "      <td>1</td>\n",
       "      <td>Jucutuquara</td>\n",
       "      <td>0.0000000000</td>\n",
       "    </tr>\n",
       "    <tr>\n",
       "      <th>39</th>\n",
       "      <td>250,000.0000000000</td>\n",
       "      <td>Casas</td>\n",
       "      <td>Venda - casa em rua pública</td>\n",
       "      <td>3</td>\n",
       "      <td>2</td>\n",
       "      <td>2</td>\n",
       "      <td>Gurigica</td>\n",
       "      <td>0.0000000000</td>\n",
       "    </tr>\n",
       "    <tr>\n",
       "      <th>52</th>\n",
       "      <td>190,000.0000000000</td>\n",
       "      <td>Casas</td>\n",
       "      <td>Venda - casa em rua pública</td>\n",
       "      <td>3</td>\n",
       "      <td>4</td>\n",
       "      <td>2</td>\n",
       "      <td>Jucutuquara</td>\n",
       "      <td>0.0000000000</td>\n",
       "    </tr>\n",
       "    <tr>\n",
       "      <th>76</th>\n",
       "      <td>270,000.0000000000</td>\n",
       "      <td>Casas</td>\n",
       "      <td>Venda - casa em rua pública</td>\n",
       "      <td>3</td>\n",
       "      <td>2</td>\n",
       "      <td>1</td>\n",
       "      <td>Goiabeiras</td>\n",
       "      <td>0.0000000000</td>\n",
       "    </tr>\n",
       "    <tr>\n",
       "      <th>...</th>\n",
       "      <td>...</td>\n",
       "      <td>...</td>\n",
       "      <td>...</td>\n",
       "      <td>...</td>\n",
       "      <td>...</td>\n",
       "      <td>...</td>\n",
       "      <td>...</td>\n",
       "      <td>...</td>\n",
       "    </tr>\n",
       "    <tr>\n",
       "      <th>7296</th>\n",
       "      <td>782,000.0000000000</td>\n",
       "      <td>Apartamentos</td>\n",
       "      <td>Venda - apartamento padrão</td>\n",
       "      <td>3</td>\n",
       "      <td>3</td>\n",
       "      <td>2</td>\n",
       "      <td>Santa Luíza</td>\n",
       "      <td>0.0000000000</td>\n",
       "    </tr>\n",
       "    <tr>\n",
       "      <th>7342</th>\n",
       "      <td>779,004.0000000000</td>\n",
       "      <td>Apartamentos</td>\n",
       "      <td>Venda - apartamento padrão</td>\n",
       "      <td>3</td>\n",
       "      <td>2</td>\n",
       "      <td>2</td>\n",
       "      <td>Barro Vermelho</td>\n",
       "      <td>0.0000000000</td>\n",
       "    </tr>\n",
       "    <tr>\n",
       "      <th>7344</th>\n",
       "      <td>780,010.0000000000</td>\n",
       "      <td>Apartamentos</td>\n",
       "      <td>Venda - apartamento padrão</td>\n",
       "      <td>3</td>\n",
       "      <td>3</td>\n",
       "      <td>2</td>\n",
       "      <td>Santa Luíza</td>\n",
       "      <td>0.0000000000</td>\n",
       "    </tr>\n",
       "    <tr>\n",
       "      <th>7375</th>\n",
       "      <td>780,000.0000000000</td>\n",
       "      <td>Apartamentos</td>\n",
       "      <td>Venda - apartamento padrão</td>\n",
       "      <td>3</td>\n",
       "      <td>3</td>\n",
       "      <td>2</td>\n",
       "      <td>Santa Luíza</td>\n",
       "      <td>0.0000000000</td>\n",
       "    </tr>\n",
       "    <tr>\n",
       "      <th>7380</th>\n",
       "      <td>469,982.0000000000</td>\n",
       "      <td>Apartamentos</td>\n",
       "      <td>Venda - apartamento padrão</td>\n",
       "      <td>3</td>\n",
       "      <td>2</td>\n",
       "      <td>1</td>\n",
       "      <td>Jardim Camburi</td>\n",
       "      <td>0.0000000000</td>\n",
       "    </tr>\n",
       "  </tbody>\n",
       "</table>\n",
       "<p>202 rows × 8 columns</p>\n",
       "</div>"
      ],
      "text/plain": [
       "                  Valor     Categoria                         Tipo  Quartos  \\\n",
       "1    400,000.0000000000         Casas  Venda - casa em rua pública        3   \n",
       "20   265,000.0000000000         Casas  Venda - casa em rua pública        2   \n",
       "39   250,000.0000000000         Casas  Venda - casa em rua pública        3   \n",
       "52   190,000.0000000000         Casas  Venda - casa em rua pública        3   \n",
       "76   270,000.0000000000         Casas  Venda - casa em rua pública        3   \n",
       "...                 ...           ...                          ...      ...   \n",
       "7296 782,000.0000000000  Apartamentos   Venda - apartamento padrão        3   \n",
       "7342 779,004.0000000000  Apartamentos   Venda - apartamento padrão        3   \n",
       "7344 780,010.0000000000  Apartamentos   Venda - apartamento padrão        3   \n",
       "7375 780,000.0000000000  Apartamentos   Venda - apartamento padrão        3   \n",
       "7380 469,982.0000000000  Apartamentos   Venda - apartamento padrão        3   \n",
       "\n",
       "      Banheiros  Vagas na garagem          Bairro         Area  \n",
       "1             2                 2      Goiabeiras 0.0000000000  \n",
       "20            2                 1     Jucutuquara 0.0000000000  \n",
       "39            2                 2        Gurigica 0.0000000000  \n",
       "52            4                 2     Jucutuquara 0.0000000000  \n",
       "76            2                 1      Goiabeiras 0.0000000000  \n",
       "...         ...               ...             ...          ...  \n",
       "7296          3                 2     Santa Luíza 0.0000000000  \n",
       "7342          2                 2  Barro Vermelho 0.0000000000  \n",
       "7344          3                 2     Santa Luíza 0.0000000000  \n",
       "7375          3                 2     Santa Luíza 0.0000000000  \n",
       "7380          2                 1  Jardim Camburi 0.0000000000  \n",
       "\n",
       "[202 rows x 8 columns]"
      ]
     },
     "execution_count": 993,
     "metadata": {},
     "output_type": "execute_result"
    }
   ],
   "source": [
    "# Temos 341 itens com area 0 e podemos considerar erros de preenchimento\n",
    "df[df['Area']<30]"
   ]
  },
  {
   "cell_type": "code",
   "execution_count": 994,
   "metadata": {},
   "outputs": [],
   "source": [
    "# Removendo valores com erro de preenchimento\n",
    "df= df[df['Area']>30]"
   ]
  },
  {
   "cell_type": "code",
   "execution_count": 995,
   "metadata": {},
   "outputs": [],
   "source": [
    "max , min = fncCalculaLimites(df['Area'])\n",
    "df = df[(df['Area'] > min) & (df['Area'] < max)]"
   ]
  },
  {
   "cell_type": "code",
   "execution_count": 996,
   "metadata": {},
   "outputs": [
    {
     "data": {
      "image/png": "[encoded data removed]",
      "text/plain": [
       "<Figure size 2880x720 with 2 Axes>"
      ]
     },
     "metadata": {
      "needs_background": "light"
     },
     "output_type": "display_data"
    }
   ],
   "source": [
    "plt.figure(figsize=(40,10))\n",
    "plt.subplot(1,2,1)\n",
    "plt.ticklabel_format(style = 'plain')\n",
    "df['Area'].hist(bins= 30)\n",
    "\n",
    "plt.subplot(1,2,2)\n",
    "df['Area'].plot(kind = 'box')\n",
    "plt.show()"
   ]
  },
  {
   "cell_type": "markdown",
   "metadata": {},
   "source": [
    "### Campos descritivos"
   ]
  },
  {
   "cell_type": "markdown",
   "metadata": {},
   "source": [
    "##### Bairros"
   ]
  },
  {
   "cell_type": "code",
   "execution_count": 997,
   "metadata": {},
   "outputs": [
    {
     "data": {
      "text/plain": [
       "Jardim Camburi       1780\n",
       "Jardim da Penha       630\n",
       "Praia do Canto        539\n",
       "Mata da Praia         412\n",
       "Bento Ferreira        356\n",
       "                     ... \n",
       "Estrelinha              1\n",
       "Fonte Grande            1\n",
       "Jesus de Nazareth       1\n",
       "Andorinhas              1\n",
       "Nazareth                1\n",
       "Name: Bairro, Length: 72, dtype: int64"
      ]
     },
     "execution_count": 997,
     "metadata": {},
     "output_type": "execute_result"
    }
   ],
   "source": [
    "df['Bairro'].value_counts()"
   ]
  },
  {
   "cell_type": "code",
   "execution_count": 998,
   "metadata": {},
   "outputs": [],
   "source": [
    "regioes ={\n",
    " 'Itararé':  'Maruípe' ,\n",
    " 'Santa Lúcia':  'Zona Leste' ,\n",
    " 'Jardim Camburi': 'Jardim Camburi'  ,\n",
    " 'Goiabeiras':  'Zona Norte' ,\n",
    " 'Santa Helena':  'Zona Leste' ,\n",
    " 'Ilha do Boi':   'Zona Leste',\n",
    " 'Jucutuquara':  'Jucutuquara' ,\n",
    " 'Praia do Canto': 'Zona Leste'  ,\n",
    " 'Centro':  'Zona Sul' ,\n",
    " 'Fradinhos':  'Jucutuquara' ,\n",
    " 'Mata da Praia': 'Jardim da Penha'  ,\n",
    " \"Joana D'arc\":  'Maruípe' ,\n",
    " 'Bento Ferreira':  'Jucutuquara' ,\n",
    " 'de Lourdes':  'Jucutuquara' ,\n",
    " 'República':  'Jardim da Penha' ,\n",
    " 'Santa Cecília': 'Maruípe'  ,\n",
    " 'Morada de Camburi': 'Jardim da Penha'  ,\n",
    " 'Maruípe': 'Maruípe'  ,\n",
    " 'Tabuazeiro': 'Maruípe'  ,\n",
    " 'Maria Ortiz':  'Zona Norte' ,\n",
    " 'Santo Antônio':  'Santo Antônio' ,\n",
    " 'Santa Martha':  'Maruípe' ,\n",
    " 'São Cristóvão':   'Maruípe',\n",
    " 'Santos Reis': 'Zona Oeste'  ,\n",
    " 'Enseada do Suá': 'Zona Leste'  ,\n",
    " 'Santos Dumont':  'Maruípe' ,\n",
    " 'Jardim da Penha':  'Jardim da Penha' ,\n",
    " 'Universitário':  'Santo Antônio' ,\n",
    " 'Solon Borges': 'Zona Norte'  ,\n",
    " 'Santa Tereza':  'Santo Antônio' ,\n",
    " 'Ilha do Frade':  'Zona Leste' ,\n",
    " 'da Penha':  'Maruípe' ,\n",
    " 'Horto': 'Jucutuquara'  ,\n",
    " 'Santa Clara':   'Zona Sul',\n",
    " 'São Pedro':  'Zona Oeste' ,\n",
    " 'Parque Moscoso':  'Zona Sul'  ,\n",
    " 'Consolação':  'Jucutuquara' ,\n",
    " 'São Benedito':  'Maruípe' ,\n",
    " 'Caratoíra': 'Santo Antônio'  ,\n",
    " 'Grande Vitória':  'Santo Antônio' ,\n",
    " 'Jesus de Nazareth': 'Jucutuquara'  ,\n",
    " 'Romão': 'Jucutuquara'  ,\n",
    " 'Bonfim':  'Maruípe' ,\n",
    " 'Praia do Suá': 'Zona Leste'  ,\n",
    " 'Mário Cypreste': 'Santo Antônio'  ,\n",
    " 'Jabour': 'Zona Norte'  ,\n",
    " 'Santa Luíza':  'Zona Leste' ,\n",
    " 'São José': 'Zona Oeste'  ,\n",
    " 'Pontal de Camburi': 'Jardim da Penha'  ,\n",
    " 'Andorinhas':  'Maruípe' ,\n",
    " 'Nova Palestina':  'Zona Oeste' ,\n",
    " 'Boa Vista': 'Jardim da Penha'  ,\n",
    " 'Redenção': 'Zona Oeste'  ,\n",
    " 'Antônio Honório':  'Zona Norte' ,\n",
    " 'Monte Belo':  'Jucutuquara' ,\n",
    " 'Barro Vermelho':  'Zona Leste' ,\n",
    " 'Resistência': 'Zona Oeste'  ,\n",
    " 'Bela Vista':  \t'Santo Antônio'  ,\n",
    " 'Santo André':  'Zona Oeste' ,\n",
    " 'Ilha do Príncipe':  'Zona Sul'  ,\n",
    " 'Ilha de Santa Maria': 'Jucutuquara'  ,\n",
    " 'Fonte Grande':  'Zona Sul' ,\n",
    " 'Estrelinha':  'Santo Antônio' ,\n",
    " 'Inhanguetá':  'Santo Antônio' ,\n",
    " 'Vila Rubim':  'Zona Sul' ,\n",
    " 'Cruzamento':  'Jucutuquara' ,\n",
    " 'Ilha das Caieiras': 'Zona Oeste'  ,\n",
    " 'do Moscoso': 'Zona Sul'  ,\n",
    " 'Forte São João':  'Jucutuquara' ,\n",
    " 'Segurança do Lar':  'Zona Norte' ,\n",
    " 'Piedade' : 'Zona Sul',\n",
    " 'Parque Industrial': 'Jardim Camburi'  ,\n",
    " 'Nazareth' :'Jucutuquara'\n",
    "}"
   ]
  },
  {
   "cell_type": "code",
   "execution_count": 999,
   "metadata": {},
   "outputs": [],
   "source": [
    "df['Regiao'] = df['Bairro'].map(regioes)"
   ]
  },
  {
   "cell_type": "code",
   "execution_count": 1000,
   "metadata": {},
   "outputs": [
    {
     "data": {
      "text/plain": [
       "Jardim Camburi     1781\n",
       "Zona Leste         1471\n",
       "Jardim da Penha    1140\n",
       "Jucutuquara         509\n",
       "Zona Sul            298\n",
       "Maruípe             246\n",
       "Zona Norte           97\n",
       "Santo Antônio        55\n",
       "Zona Oeste           47\n",
       "Name: Regiao, dtype: int64"
      ]
     },
     "execution_count": 1000,
     "metadata": {},
     "output_type": "execute_result"
    }
   ],
   "source": [
    "df['Regiao'].value_counts()"
   ]
  },
  {
   "cell_type": "code",
   "execution_count": 1001,
   "metadata": {},
   "outputs": [],
   "source": [
    "df['ValorPorM2'] = df['Valor'] / df['Area']"
   ]
  },
  {
   "cell_type": "code",
   "execution_count": 1002,
   "metadata": {},
   "outputs": [],
   "source": [
    "bairros = df.groupby(['Regiao','Bairro'], as_index=False)['ValorPorM2'].mean()"
   ]
  },
  {
   "cell_type": "code",
   "execution_count": 1003,
   "metadata": {},
   "outputs": [
    {
     "data": {
      "text/html": [
       "<div>\n",
       "<style scoped>\n",
       "    .dataframe tbody tr th:only-of-type {\n",
       "        vertical-align: middle;\n",
       "    }\n",
       "\n",
       "    .dataframe tbody tr th {\n",
       "        vertical-align: top;\n",
       "    }\n",
       "\n",
       "    .dataframe thead th {\n",
       "        text-align: right;\n",
       "    }\n",
       "</style>\n",
       "<table border=\"1\" class=\"dataframe\">\n",
       "  <thead>\n",
       "    <tr style=\"text-align: right;\">\n",
       "      <th></th>\n",
       "      <th>Regiao</th>\n",
       "      <th>Bairro</th>\n",
       "      <th>ValorPorM2</th>\n",
       "    </tr>\n",
       "  </thead>\n",
       "  <tbody>\n",
       "    <tr>\n",
       "      <th>0</th>\n",
       "      <td>Jardim Camburi</td>\n",
       "      <td>Jardim Camburi</td>\n",
       "      <td>7,087.6661397099</td>\n",
       "    </tr>\n",
       "    <tr>\n",
       "      <th>1</th>\n",
       "      <td>Jardim Camburi</td>\n",
       "      <td>Parque Industrial</td>\n",
       "      <td>5,909.0909090909</td>\n",
       "    </tr>\n",
       "    <tr>\n",
       "      <th>2</th>\n",
       "      <td>Jardim da Penha</td>\n",
       "      <td>Boa Vista</td>\n",
       "      <td>2,534.5238095238</td>\n",
       "    </tr>\n",
       "    <tr>\n",
       "      <th>3</th>\n",
       "      <td>Jardim da Penha</td>\n",
       "      <td>Jardim da Penha</td>\n",
       "      <td>6,657.1469529702</td>\n",
       "    </tr>\n",
       "    <tr>\n",
       "      <th>4</th>\n",
       "      <td>Jardim da Penha</td>\n",
       "      <td>Mata da Praia</td>\n",
       "      <td>9,358.9985986972</td>\n",
       "    </tr>\n",
       "    <tr>\n",
       "      <th>...</th>\n",
       "      <td>...</td>\n",
       "      <td>...</td>\n",
       "      <td>...</td>\n",
       "    </tr>\n",
       "    <tr>\n",
       "      <th>67</th>\n",
       "      <td>Zona Sul</td>\n",
       "      <td>Ilha do Príncipe</td>\n",
       "      <td>3,218.3441558442</td>\n",
       "    </tr>\n",
       "    <tr>\n",
       "      <th>68</th>\n",
       "      <td>Zona Sul</td>\n",
       "      <td>Parque Moscoso</td>\n",
       "      <td>2,093.4705711837</td>\n",
       "    </tr>\n",
       "    <tr>\n",
       "      <th>69</th>\n",
       "      <td>Zona Sul</td>\n",
       "      <td>Santa Clara</td>\n",
       "      <td>1,557.7931658830</td>\n",
       "    </tr>\n",
       "    <tr>\n",
       "      <th>70</th>\n",
       "      <td>Zona Sul</td>\n",
       "      <td>Vila Rubim</td>\n",
       "      <td>3,534.0107484440</td>\n",
       "    </tr>\n",
       "    <tr>\n",
       "      <th>71</th>\n",
       "      <td>Zona Sul</td>\n",
       "      <td>do Moscoso</td>\n",
       "      <td>1,833.3833333333</td>\n",
       "    </tr>\n",
       "  </tbody>\n",
       "</table>\n",
       "<p>72 rows × 3 columns</p>\n",
       "</div>"
      ],
      "text/plain": [
       "             Regiao             Bairro       ValorPorM2\n",
       "0    Jardim Camburi     Jardim Camburi 7,087.6661397099\n",
       "1    Jardim Camburi  Parque Industrial 5,909.0909090909\n",
       "2   Jardim da Penha          Boa Vista 2,534.5238095238\n",
       "3   Jardim da Penha    Jardim da Penha 6,657.1469529702\n",
       "4   Jardim da Penha      Mata da Praia 9,358.9985986972\n",
       "..              ...                ...              ...\n",
       "67         Zona Sul   Ilha do Príncipe 3,218.3441558442\n",
       "68         Zona Sul     Parque Moscoso 2,093.4705711837\n",
       "69         Zona Sul        Santa Clara 1,557.7931658830\n",
       "70         Zona Sul         Vila Rubim 3,534.0107484440\n",
       "71         Zona Sul         do Moscoso 1,833.3833333333\n",
       "\n",
       "[72 rows x 3 columns]"
      ]
     },
     "execution_count": 1003,
     "metadata": {},
     "output_type": "execute_result"
    }
   ],
   "source": [
    "bairros"
   ]
  },
  {
   "cell_type": "code",
   "execution_count": 1004,
   "metadata": {},
   "outputs": [
    {
     "data": {
      "text/html": [
       "<div>\n",
       "<style scoped>\n",
       "    .dataframe tbody tr th:only-of-type {\n",
       "        vertical-align: middle;\n",
       "    }\n",
       "\n",
       "    .dataframe tbody tr th {\n",
       "        vertical-align: top;\n",
       "    }\n",
       "\n",
       "    .dataframe thead th {\n",
       "        text-align: right;\n",
       "    }\n",
       "</style>\n",
       "<table border=\"1\" class=\"dataframe\">\n",
       "  <thead>\n",
       "    <tr style=\"text-align: right;\">\n",
       "      <th></th>\n",
       "      <th>Valor</th>\n",
       "      <th>Categoria</th>\n",
       "      <th>Tipo</th>\n",
       "      <th>Quartos</th>\n",
       "      <th>Banheiros</th>\n",
       "      <th>Vagas na garagem</th>\n",
       "      <th>Bairro</th>\n",
       "      <th>Area</th>\n",
       "      <th>Regiao</th>\n",
       "      <th>ValorPorM2</th>\n",
       "    </tr>\n",
       "  </thead>\n",
       "  <tbody>\n",
       "    <tr>\n",
       "      <th>74</th>\n",
       "      <td>6,500,000.0000000000</td>\n",
       "      <td>Casas</td>\n",
       "      <td>Venda - casa em rua pública</td>\n",
       "      <td>5</td>\n",
       "      <td>4</td>\n",
       "      <td>5</td>\n",
       "      <td>Ilha do Boi</td>\n",
       "      <td>559.0000000000</td>\n",
       "      <td>Zona Leste</td>\n",
       "      <td>11,627.9069767442</td>\n",
       "    </tr>\n",
       "    <tr>\n",
       "      <th>161</th>\n",
       "      <td>3,500,000.0000000000</td>\n",
       "      <td>Casas</td>\n",
       "      <td>Venda - casa em rua pública</td>\n",
       "      <td>4</td>\n",
       "      <td>5</td>\n",
       "      <td>4</td>\n",
       "      <td>Ilha do Boi</td>\n",
       "      <td>480.0000000000</td>\n",
       "      <td>Zona Leste</td>\n",
       "      <td>7,291.6666666667</td>\n",
       "    </tr>\n",
       "    <tr>\n",
       "      <th>190</th>\n",
       "      <td>4,000,000.0000000000</td>\n",
       "      <td>Casas</td>\n",
       "      <td>Venda - casa em rua pública</td>\n",
       "      <td>5</td>\n",
       "      <td>5</td>\n",
       "      <td>5</td>\n",
       "      <td>Ilha do Boi</td>\n",
       "      <td>1,000.0000000000</td>\n",
       "      <td>Zona Leste</td>\n",
       "      <td>4,000.0000000000</td>\n",
       "    </tr>\n",
       "    <tr>\n",
       "      <th>197</th>\n",
       "      <td>6,500,000.0000000000</td>\n",
       "      <td>Casas</td>\n",
       "      <td>Venda - casa em rua pública</td>\n",
       "      <td>4</td>\n",
       "      <td>5</td>\n",
       "      <td>4</td>\n",
       "      <td>Ilha do Boi</td>\n",
       "      <td>600.0000000000</td>\n",
       "      <td>Zona Leste</td>\n",
       "      <td>10,833.3333333333</td>\n",
       "    </tr>\n",
       "    <tr>\n",
       "      <th>213</th>\n",
       "      <td>6,500,000.0000000000</td>\n",
       "      <td>Casas</td>\n",
       "      <td>Venda - casa em rua pública</td>\n",
       "      <td>5</td>\n",
       "      <td>5</td>\n",
       "      <td>5</td>\n",
       "      <td>Ilha do Boi</td>\n",
       "      <td>560.0000000000</td>\n",
       "      <td>Zona Leste</td>\n",
       "      <td>11,607.1428571429</td>\n",
       "    </tr>\n",
       "    <tr>\n",
       "      <th>...</th>\n",
       "      <td>...</td>\n",
       "      <td>...</td>\n",
       "      <td>...</td>\n",
       "      <td>...</td>\n",
       "      <td>...</td>\n",
       "      <td>...</td>\n",
       "      <td>...</td>\n",
       "      <td>...</td>\n",
       "      <td>...</td>\n",
       "      <td>...</td>\n",
       "    </tr>\n",
       "    <tr>\n",
       "      <th>4332</th>\n",
       "      <td>670,000.0000000000</td>\n",
       "      <td>Apartamentos</td>\n",
       "      <td>Venda - apartamento padrão</td>\n",
       "      <td>3</td>\n",
       "      <td>3</td>\n",
       "      <td>1</td>\n",
       "      <td>Ilha do Boi</td>\n",
       "      <td>160.0000000000</td>\n",
       "      <td>Zona Leste</td>\n",
       "      <td>4,187.5000000000</td>\n",
       "    </tr>\n",
       "    <tr>\n",
       "      <th>4888</th>\n",
       "      <td>720,000.0000000000</td>\n",
       "      <td>Apartamentos</td>\n",
       "      <td>Venda - apartamento padrão</td>\n",
       "      <td>3</td>\n",
       "      <td>1</td>\n",
       "      <td>1</td>\n",
       "      <td>Ilha do Boi</td>\n",
       "      <td>163.0000000000</td>\n",
       "      <td>Zona Leste</td>\n",
       "      <td>4,417.1779141104</td>\n",
       "    </tr>\n",
       "    <tr>\n",
       "      <th>5534</th>\n",
       "      <td>659,000.0000000000</td>\n",
       "      <td>Apartamentos</td>\n",
       "      <td>Venda - apartamento padrão</td>\n",
       "      <td>3</td>\n",
       "      <td>3</td>\n",
       "      <td>1</td>\n",
       "      <td>Ilha do Boi</td>\n",
       "      <td>160.0000000000</td>\n",
       "      <td>Zona Leste</td>\n",
       "      <td>4,118.7500000000</td>\n",
       "    </tr>\n",
       "    <tr>\n",
       "      <th>5965</th>\n",
       "      <td>560,000.0000000000</td>\n",
       "      <td>Apartamentos</td>\n",
       "      <td>Venda - apartamento padrão</td>\n",
       "      <td>3</td>\n",
       "      <td>3</td>\n",
       "      <td>2</td>\n",
       "      <td>Ilha do Boi</td>\n",
       "      <td>148.0000000000</td>\n",
       "      <td>Zona Leste</td>\n",
       "      <td>3,783.7837837838</td>\n",
       "    </tr>\n",
       "    <tr>\n",
       "      <th>7079</th>\n",
       "      <td>720,000.0000000000</td>\n",
       "      <td>Apartamentos</td>\n",
       "      <td>Venda - apartamento padrão</td>\n",
       "      <td>3</td>\n",
       "      <td>3</td>\n",
       "      <td>2</td>\n",
       "      <td>Ilha do Boi</td>\n",
       "      <td>163.0000000000</td>\n",
       "      <td>Zona Leste</td>\n",
       "      <td>4,417.1779141104</td>\n",
       "    </tr>\n",
       "  </tbody>\n",
       "</table>\n",
       "<p>63 rows × 10 columns</p>\n",
       "</div>"
      ],
      "text/plain": [
       "                    Valor     Categoria                         Tipo  Quartos  \\\n",
       "74   6,500,000.0000000000         Casas  Venda - casa em rua pública        5   \n",
       "161  3,500,000.0000000000         Casas  Venda - casa em rua pública        4   \n",
       "190  4,000,000.0000000000         Casas  Venda - casa em rua pública        5   \n",
       "197  6,500,000.0000000000         Casas  Venda - casa em rua pública        4   \n",
       "213  6,500,000.0000000000         Casas  Venda - casa em rua pública        5   \n",
       "...                   ...           ...                          ...      ...   \n",
       "4332   670,000.0000000000  Apartamentos   Venda - apartamento padrão        3   \n",
       "4888   720,000.0000000000  Apartamentos   Venda - apartamento padrão        3   \n",
       "5534   659,000.0000000000  Apartamentos   Venda - apartamento padrão        3   \n",
       "5965   560,000.0000000000  Apartamentos   Venda - apartamento padrão        3   \n",
       "7079   720,000.0000000000  Apartamentos   Venda - apartamento padrão        3   \n",
       "\n",
       "      Banheiros  Vagas na garagem       Bairro             Area      Regiao  \\\n",
       "74            4                 5  Ilha do Boi   559.0000000000  Zona Leste   \n",
       "161           5                 4  Ilha do Boi   480.0000000000  Zona Leste   \n",
       "190           5                 5  Ilha do Boi 1,000.0000000000  Zona Leste   \n",
       "197           5                 4  Ilha do Boi   600.0000000000  Zona Leste   \n",
       "213           5                 5  Ilha do Boi   560.0000000000  Zona Leste   \n",
       "...         ...               ...          ...              ...         ...   \n",
       "4332          3                 1  Ilha do Boi   160.0000000000  Zona Leste   \n",
       "4888          1                 1  Ilha do Boi   163.0000000000  Zona Leste   \n",
       "5534          3                 1  Ilha do Boi   160.0000000000  Zona Leste   \n",
       "5965          3                 2  Ilha do Boi   148.0000000000  Zona Leste   \n",
       "7079          3                 2  Ilha do Boi   163.0000000000  Zona Leste   \n",
       "\n",
       "            ValorPorM2  \n",
       "74   11,627.9069767442  \n",
       "161   7,291.6666666667  \n",
       "190   4,000.0000000000  \n",
       "197  10,833.3333333333  \n",
       "213  11,607.1428571429  \n",
       "...                ...  \n",
       "4332  4,187.5000000000  \n",
       "4888  4,417.1779141104  \n",
       "5534  4,118.7500000000  \n",
       "5965  3,783.7837837838  \n",
       "7079  4,417.1779141104  \n",
       "\n",
       "[63 rows x 10 columns]"
      ]
     },
     "execution_count": 1004,
     "metadata": {},
     "output_type": "execute_result"
    }
   ],
   "source": [
    "df[df['Bairro'] == 'Ilha do Boi']"
   ]
  },
  {
   "cell_type": "code",
   "execution_count": 1005,
   "metadata": {},
   "outputs": [
    {
     "data": {
      "text/plain": [
       "Bairro\n",
       "Forte São João      9,743.2736710007\n",
       "Praia do Canto      4,397.0096387056\n",
       "Enseada do Suá      4,305.2198458746\n",
       "Santa Lúcia         3,807.4487441509\n",
       "Mata da Praia       3,630.4714056626\n",
       "                          ...       \n",
       "Jesus de Nazareth                NaN\n",
       "Mário Cypreste                   NaN\n",
       "Nazareth                         NaN\n",
       "Parque Industrial                NaN\n",
       "Segurança do Lar                 NaN\n",
       "Name: ValorPorM2, Length: 72, dtype: float64"
      ]
     },
     "execution_count": 1005,
     "metadata": {},
     "output_type": "execute_result"
    }
   ],
   "source": [
    "df.groupby(['Bairro'])['ValorPorM2'].std().sort_values(ascending  = False)"
   ]
  },
  {
   "cell_type": "code",
   "execution_count": 1006,
   "metadata": {},
   "outputs": [
    {
     "data": {
      "text/html": [
       "<div>\n",
       "<style scoped>\n",
       "    .dataframe tbody tr th:only-of-type {\n",
       "        vertical-align: middle;\n",
       "    }\n",
       "\n",
       "    .dataframe tbody tr th {\n",
       "        vertical-align: top;\n",
       "    }\n",
       "\n",
       "    .dataframe thead th {\n",
       "        text-align: right;\n",
       "    }\n",
       "</style>\n",
       "<table border=\"1\" class=\"dataframe\">\n",
       "  <thead>\n",
       "    <tr style=\"text-align: right;\">\n",
       "      <th></th>\n",
       "      <th>mean</th>\n",
       "      <th>std</th>\n",
       "    </tr>\n",
       "    <tr>\n",
       "      <th>Regiao</th>\n",
       "      <th></th>\n",
       "      <th></th>\n",
       "    </tr>\n",
       "  </thead>\n",
       "  <tbody>\n",
       "    <tr>\n",
       "      <th>Jardim Camburi</th>\n",
       "      <td>7,087.0043905630</td>\n",
       "      <td>2,343.4244029607</td>\n",
       "    </tr>\n",
       "    <tr>\n",
       "      <th>Jardim da Penha</th>\n",
       "      <td>7,412.8328017170</td>\n",
       "      <td>3,303.4975210466</td>\n",
       "    </tr>\n",
       "    <tr>\n",
       "      <th>Jucutuquara</th>\n",
       "      <td>5,558.9734332310</td>\n",
       "      <td>2,774.9919437616</td>\n",
       "    </tr>\n",
       "    <tr>\n",
       "      <th>Maruípe</th>\n",
       "      <td>2,787.6830038048</td>\n",
       "      <td>2,099.9499245015</td>\n",
       "    </tr>\n",
       "    <tr>\n",
       "      <th>Santo Antônio</th>\n",
       "      <td>2,597.1966654677</td>\n",
       "      <td>1,683.8166515163</td>\n",
       "    </tr>\n",
       "    <tr>\n",
       "      <th>Zona Leste</th>\n",
       "      <td>9,408.5936028027</td>\n",
       "      <td>4,034.6589378321</td>\n",
       "    </tr>\n",
       "    <tr>\n",
       "      <th>Zona Norte</th>\n",
       "      <td>2,921.0947889879</td>\n",
       "      <td>1,781.9803712425</td>\n",
       "    </tr>\n",
       "    <tr>\n",
       "      <th>Zona Oeste</th>\n",
       "      <td>1,362.4563750447</td>\n",
       "      <td>1,315.1848725786</td>\n",
       "    </tr>\n",
       "    <tr>\n",
       "      <th>Zona Sul</th>\n",
       "      <td>2,470.1038308851</td>\n",
       "      <td>1,096.7706011708</td>\n",
       "    </tr>\n",
       "  </tbody>\n",
       "</table>\n",
       "</div>"
      ],
      "text/plain": [
       "                            mean              std\n",
       "Regiao                                           \n",
       "Jardim Camburi  7,087.0043905630 2,343.4244029607\n",
       "Jardim da Penha 7,412.8328017170 3,303.4975210466\n",
       "Jucutuquara     5,558.9734332310 2,774.9919437616\n",
       "Maruípe         2,787.6830038048 2,099.9499245015\n",
       "Santo Antônio   2,597.1966654677 1,683.8166515163\n",
       "Zona Leste      9,408.5936028027 4,034.6589378321\n",
       "Zona Norte      2,921.0947889879 1,781.9803712425\n",
       "Zona Oeste      1,362.4563750447 1,315.1848725786\n",
       "Zona Sul        2,470.1038308851 1,096.7706011708"
      ]
     },
     "execution_count": 1006,
     "metadata": {},
     "output_type": "execute_result"
    }
   ],
   "source": [
    "df.groupby(['Regiao'])['ValorPorM2'].agg(['mean','std'])"
   ]
  },
  {
   "cell_type": "code",
   "execution_count": 1007,
   "metadata": {},
   "outputs": [
    {
     "data": {
      "text/plain": [
       "Regiao\n",
       "Jardim Camburi    1.6720943290\n",
       "Jardim da Penha   1.8491228070\n",
       "Jucutuquara       1.6895874263\n",
       "Maruípe           1.3617886179\n",
       "Santo Antônio     1.8363636364\n",
       "Zona Leste        1.9877634262\n",
       "Zona Norte        1.5154639175\n",
       "Zona Oeste        1.6382978723\n",
       "Zona Sul          0.7818791946\n",
       "Name: Vagas na garagem, dtype: float64"
      ]
     },
     "execution_count": 1007,
     "metadata": {},
     "output_type": "execute_result"
    }
   ],
   "source": [
    "df.groupby('Regiao')['Vagas na garagem'].mean()"
   ]
  },
  {
   "cell_type": "markdown",
   "metadata": {},
   "source": [
    "##### Tipo Classificação"
   ]
  },
  {
   "cell_type": "code",
   "execution_count": 1008,
   "metadata": {},
   "outputs": [],
   "source": [
    "TipoClassificação ={\n",
    "'Venda - apartamento cobertura' : 'Classe A',\n",
    "'Venda - apartamento duplex/triplex' : 'Classe A',\n",
    "'Venda - apartamento kitchenette' : 'Classe B', \n",
    "'Venda - apartamento padrão' : 'Classe B',\n",
    "'Venda - casa em condominio fechado' : 'Classe A',\n",
    "'Venda - casa em rua pública' : 'Classe B',\n",
    "'Venda - casa em vila' : 'Classe B',\n",
    "'Venda - loft/studio' : 'Classe A'\n",
    "}"
   ]
  },
  {
   "cell_type": "code",
   "execution_count": 1009,
   "metadata": {},
   "outputs": [],
   "source": [
    "df['TipoClasse']= df['Tipo'].map(TipoClassificação)"
   ]
  },
  {
   "cell_type": "code",
   "execution_count": 1010,
   "metadata": {},
   "outputs": [
    {
     "data": {
      "text/html": [
       "<div>\n",
       "<style scoped>\n",
       "    .dataframe tbody tr th:only-of-type {\n",
       "        vertical-align: middle;\n",
       "    }\n",
       "\n",
       "    .dataframe tbody tr th {\n",
       "        vertical-align: top;\n",
       "    }\n",
       "\n",
       "    .dataframe thead th {\n",
       "        text-align: right;\n",
       "    }\n",
       "</style>\n",
       "<table border=\"1\" class=\"dataframe\">\n",
       "  <thead>\n",
       "    <tr style=\"text-align: right;\">\n",
       "      <th></th>\n",
       "      <th>mean</th>\n",
       "      <th>std</th>\n",
       "      <th>count</th>\n",
       "    </tr>\n",
       "    <tr>\n",
       "      <th>TipoClasse</th>\n",
       "      <th></th>\n",
       "      <th></th>\n",
       "      <th></th>\n",
       "    </tr>\n",
       "  </thead>\n",
       "  <tbody>\n",
       "    <tr>\n",
       "      <th>Classe A</th>\n",
       "      <td>8,502.6816462686</td>\n",
       "      <td>3,345.8812613049</td>\n",
       "      <td>293</td>\n",
       "    </tr>\n",
       "    <tr>\n",
       "      <th>Classe B</th>\n",
       "      <td>6,945.0468285797</td>\n",
       "      <td>3,681.9076618131</td>\n",
       "      <td>5351</td>\n",
       "    </tr>\n",
       "  </tbody>\n",
       "</table>\n",
       "</div>"
      ],
      "text/plain": [
       "                       mean              std  count\n",
       "TipoClasse                                         \n",
       "Classe A   8,502.6816462686 3,345.8812613049    293\n",
       "Classe B   6,945.0468285797 3,681.9076618131   5351"
      ]
     },
     "execution_count": 1010,
     "metadata": {},
     "output_type": "execute_result"
    }
   ],
   "source": [
    "df.groupby('TipoClasse')['ValorPorM2'].agg(['mean','std', 'count'])"
   ]
  },
  {
   "cell_type": "code",
   "execution_count": 1011,
   "metadata": {},
   "outputs": [],
   "source": [
    "df['Quartos2'] = df['Quartos']**(2)\n",
    "df['Banheiros2'] = df['Banheiros']**(2)\n",
    "df['Area2'] = df['Area']**(1/2)"
   ]
  },
  {
   "cell_type": "code",
   "execution_count": 1012,
   "metadata": {},
   "outputs": [
    {
     "data": {
      "text/plain": [
       "<AxesSubplot:xlabel='Valor', ylabel='Area2'>"
      ]
     },
     "execution_count": 1012,
     "metadata": {},
     "output_type": "execute_result"
    },
    {
     "data": {
      "image/png": "[encoded data removed]",
      "text/plain": [
       "<Figure size 432x288 with 1 Axes>"
      ]
     },
     "metadata": {
      "needs_background": "light"
     },
     "output_type": "display_data"
    }
   ],
   "source": [
    "df.plot(kind = 'scatter' , x='Valor' , y='Area2')"
   ]
  },
  {
   "cell_type": "code",
   "execution_count": 1013,
   "metadata": {},
   "outputs": [
    {
     "data": {
      "text/plain": [
       "<AxesSubplot:xlabel='Valor', ylabel='Area'>"
      ]
     },
     "execution_count": 1013,
     "metadata": {},
     "output_type": "execute_result"
    },
    {
     "data": {
      "image/png": "[encoded data removed]",
      "text/plain": [
       "<Figure size 432x288 with 1 Axes>"
      ]
     },
     "metadata": {
      "needs_background": "light"
     },
     "output_type": "display_data"
    }
   ],
   "source": [
    "df.plot(kind = 'scatter' , x='Valor' , y='Area')"
   ]
  },
  {
   "cell_type": "code",
   "execution_count": 1014,
   "metadata": {},
   "outputs": [
    {
     "data": {
      "text/html": [
       "<div>\n",
       "<style scoped>\n",
       "    .dataframe tbody tr th:only-of-type {\n",
       "        vertical-align: middle;\n",
       "    }\n",
       "\n",
       "    .dataframe tbody tr th {\n",
       "        vertical-align: top;\n",
       "    }\n",
       "\n",
       "    .dataframe thead th {\n",
       "        text-align: right;\n",
       "    }\n",
       "</style>\n",
       "<table border=\"1\" class=\"dataframe\">\n",
       "  <thead>\n",
       "    <tr style=\"text-align: right;\">\n",
       "      <th></th>\n",
       "      <th>Valor</th>\n",
       "      <th>Quartos</th>\n",
       "      <th>Banheiros</th>\n",
       "      <th>Vagas na garagem</th>\n",
       "      <th>Area</th>\n",
       "      <th>ValorPorM2</th>\n",
       "      <th>Quartos2</th>\n",
       "      <th>Banheiros2</th>\n",
       "      <th>Area2</th>\n",
       "    </tr>\n",
       "  </thead>\n",
       "  <tbody>\n",
       "    <tr>\n",
       "      <th>Valor</th>\n",
       "      <td>1.0000000000</td>\n",
       "      <td>0.6072659697</td>\n",
       "      <td>0.6755244057</td>\n",
       "      <td>0.6687552370</td>\n",
       "      <td>0.5843891843</td>\n",
       "      <td>0.5458681045</td>\n",
       "      <td>0.6324275774</td>\n",
       "      <td>0.7143348055</td>\n",
       "      <td>0.6772885755</td>\n",
       "    </tr>\n",
       "    <tr>\n",
       "      <th>Quartos</th>\n",
       "      <td>0.6072659697</td>\n",
       "      <td>1.0000000000</td>\n",
       "      <td>0.6683129703</td>\n",
       "      <td>0.5459910730</td>\n",
       "      <td>0.5343282981</td>\n",
       "      <td>0.1067691754</td>\n",
       "      <td>0.9822257325</td>\n",
       "      <td>0.6588916580</td>\n",
       "      <td>0.6873467056</td>\n",
       "    </tr>\n",
       "    <tr>\n",
       "      <th>Banheiros</th>\n",
       "      <td>0.6755244057</td>\n",
       "      <td>0.6683129703</td>\n",
       "      <td>1.0000000000</td>\n",
       "      <td>0.5513603953</td>\n",
       "      <td>0.5012295576</td>\n",
       "      <td>0.2445464166</td>\n",
       "      <td>0.6747392317</td>\n",
       "      <td>0.9754362256</td>\n",
       "      <td>0.6303129858</td>\n",
       "    </tr>\n",
       "    <tr>\n",
       "      <th>Vagas na garagem</th>\n",
       "      <td>0.6687552370</td>\n",
       "      <td>0.5459910730</td>\n",
       "      <td>0.5513603953</td>\n",
       "      <td>1.0000000000</td>\n",
       "      <td>0.4821481162</td>\n",
       "      <td>0.3325897962</td>\n",
       "      <td>0.5506556700</td>\n",
       "      <td>0.5643953045</td>\n",
       "      <td>0.5689178060</td>\n",
       "    </tr>\n",
       "    <tr>\n",
       "      <th>Area</th>\n",
       "      <td>0.5843891843</td>\n",
       "      <td>0.5343282981</td>\n",
       "      <td>0.5012295576</td>\n",
       "      <td>0.4821481162</td>\n",
       "      <td>1.0000000000</td>\n",
       "      <td>-0.0960002981</td>\n",
       "      <td>0.5686399775</td>\n",
       "      <td>0.5319174181</td>\n",
       "      <td>0.9415555932</td>\n",
       "    </tr>\n",
       "    <tr>\n",
       "      <th>ValorPorM2</th>\n",
       "      <td>0.5458681045</td>\n",
       "      <td>0.1067691754</td>\n",
       "      <td>0.2445464166</td>\n",
       "      <td>0.3325897962</td>\n",
       "      <td>-0.0960002981</td>\n",
       "      <td>1.0000000000</td>\n",
       "      <td>0.1077569993</td>\n",
       "      <td>0.2427966407</td>\n",
       "      <td>-0.0800187018</td>\n",
       "    </tr>\n",
       "    <tr>\n",
       "      <th>Quartos2</th>\n",
       "      <td>0.6324275774</td>\n",
       "      <td>0.9822257325</td>\n",
       "      <td>0.6747392317</td>\n",
       "      <td>0.5506556700</td>\n",
       "      <td>0.5686399775</td>\n",
       "      <td>0.1077569993</td>\n",
       "      <td>1.0000000000</td>\n",
       "      <td>0.6808788910</td>\n",
       "      <td>0.7098800833</td>\n",
       "    </tr>\n",
       "    <tr>\n",
       "      <th>Banheiros2</th>\n",
       "      <td>0.7143348055</td>\n",
       "      <td>0.6588916580</td>\n",
       "      <td>0.9754362256</td>\n",
       "      <td>0.5643953045</td>\n",
       "      <td>0.5319174181</td>\n",
       "      <td>0.2427966407</td>\n",
       "      <td>0.6808788910</td>\n",
       "      <td>1.0000000000</td>\n",
       "      <td>0.6550856116</td>\n",
       "    </tr>\n",
       "    <tr>\n",
       "      <th>Area2</th>\n",
       "      <td>0.6772885755</td>\n",
       "      <td>0.6873467056</td>\n",
       "      <td>0.6303129858</td>\n",
       "      <td>0.5689178060</td>\n",
       "      <td>0.9415555932</td>\n",
       "      <td>-0.0800187018</td>\n",
       "      <td>0.7098800833</td>\n",
       "      <td>0.6550856116</td>\n",
       "      <td>1.0000000000</td>\n",
       "    </tr>\n",
       "  </tbody>\n",
       "</table>\n",
       "</div>"
      ],
      "text/plain": [
       "                        Valor      Quartos    Banheiros  Vagas na garagem  \\\n",
       "Valor            1.0000000000 0.6072659697 0.6755244057      0.6687552370   \n",
       "Quartos          0.6072659697 1.0000000000 0.6683129703      0.5459910730   \n",
       "Banheiros        0.6755244057 0.6683129703 1.0000000000      0.5513603953   \n",
       "Vagas na garagem 0.6687552370 0.5459910730 0.5513603953      1.0000000000   \n",
       "Area             0.5843891843 0.5343282981 0.5012295576      0.4821481162   \n",
       "ValorPorM2       0.5458681045 0.1067691754 0.2445464166      0.3325897962   \n",
       "Quartos2         0.6324275774 0.9822257325 0.6747392317      0.5506556700   \n",
       "Banheiros2       0.7143348055 0.6588916580 0.9754362256      0.5643953045   \n",
       "Area2            0.6772885755 0.6873467056 0.6303129858      0.5689178060   \n",
       "\n",
       "                          Area    ValorPorM2     Quartos2   Banheiros2  \\\n",
       "Valor             0.5843891843  0.5458681045 0.6324275774 0.7143348055   \n",
       "Quartos           0.5343282981  0.1067691754 0.9822257325 0.6588916580   \n",
       "Banheiros         0.5012295576  0.2445464166 0.6747392317 0.9754362256   \n",
       "Vagas na garagem  0.4821481162  0.3325897962 0.5506556700 0.5643953045   \n",
       "Area              1.0000000000 -0.0960002981 0.5686399775 0.5319174181   \n",
       "ValorPorM2       -0.0960002981  1.0000000000 0.1077569993 0.2427966407   \n",
       "Quartos2          0.5686399775  0.1077569993 1.0000000000 0.6808788910   \n",
       "Banheiros2        0.5319174181  0.2427966407 0.6808788910 1.0000000000   \n",
       "Area2             0.9415555932 -0.0800187018 0.7098800833 0.6550856116   \n",
       "\n",
       "                         Area2  \n",
       "Valor             0.6772885755  \n",
       "Quartos           0.6873467056  \n",
       "Banheiros         0.6303129858  \n",
       "Vagas na garagem  0.5689178060  \n",
       "Area              0.9415555932  \n",
       "ValorPorM2       -0.0800187018  \n",
       "Quartos2          0.7098800833  \n",
       "Banheiros2        0.6550856116  \n",
       "Area2             1.0000000000  "
      ]
     },
     "execution_count": 1014,
     "metadata": {},
     "output_type": "execute_result"
    }
   ],
   "source": [
    "df.corr()"
   ]
  },
  {
   "cell_type": "code",
   "execution_count": 1015,
   "metadata": {},
   "outputs": [],
   "source": [
    "df.drop('ValorPorM2', axis = 1 , inplace =True)"
   ]
  },
  {
   "cell_type": "markdown",
   "metadata": {},
   "source": [
    "# Modelagem"
   ]
  },
  {
   "cell_type": "markdown",
   "metadata": {},
   "source": [
    "### Pre Processamento"
   ]
  },
  {
   "cell_type": "code",
   "execution_count": 1016,
   "metadata": {},
   "outputs": [],
   "source": [
    "from sklearn.preprocessing import OneHotEncoder\n",
    "from sklearn.model_selection import train_test_split"
   ]
  },
  {
   "cell_type": "code",
   "execution_count": 1017,
   "metadata": {},
   "outputs": [],
   "source": [
    "df['Banheiro Por Quartos'] = df['Banheiros'] / df['Quartos']\n",
    "#df['Area Por Quartos'] = df['Area'] / df['Quartos']"
   ]
  },
  {
   "cell_type": "code",
   "execution_count": 1018,
   "metadata": {},
   "outputs": [],
   "source": [
    "x_train, x_test, y_train ,y_test = train_test_split(df.drop('Valor', axis=1), df['Valor'], test_size= 0.2)"
   ]
  },
  {
   "cell_type": "markdown",
   "metadata": {},
   "source": [
    "#### Dummy categories"
   ]
  },
  {
   "cell_type": "code",
   "execution_count": 1019,
   "metadata": {},
   "outputs": [],
   "source": [
    "encoderCategoria = OneHotEncoder()"
   ]
  },
  {
   "cell_type": "code",
   "execution_count": 1020,
   "metadata": {},
   "outputs": [],
   "source": [
    "categories = encoderCategoria.fit_transform(x_train[['Categoria']])"
   ]
  },
  {
   "cell_type": "code",
   "execution_count": 1021,
   "metadata": {},
   "outputs": [],
   "source": [
    "categories = pd.DataFrame(categories.toarray(), columns = encoderCategoria.get_feature_names_out(), index = x_train.index)"
   ]
  },
  {
   "cell_type": "code",
   "execution_count": 1022,
   "metadata": {},
   "outputs": [],
   "source": [
    "x_train = x_train.join(categories).drop('Categoria', axis= 1)"
   ]
  },
  {
   "cell_type": "code",
   "execution_count": 1023,
   "metadata": {},
   "outputs": [],
   "source": [
    "encoderRegiao = OneHotEncoder()"
   ]
  },
  {
   "cell_type": "code",
   "execution_count": 1024,
   "metadata": {},
   "outputs": [],
   "source": [
    "regiao = encoderRegiao.fit_transform(x_train[['Regiao']])"
   ]
  },
  {
   "cell_type": "code",
   "execution_count": 1025,
   "metadata": {},
   "outputs": [],
   "source": [
    "regiao = pd.DataFrame(regiao.toarray(), columns= encoderRegiao.get_feature_names_out(), index= x_train.index)"
   ]
  },
  {
   "cell_type": "code",
   "execution_count": 1026,
   "metadata": {},
   "outputs": [],
   "source": [
    "x_train = x_train.join(regiao).drop('Regiao', axis = 1)"
   ]
  },
  {
   "cell_type": "code",
   "execution_count": 1027,
   "metadata": {},
   "outputs": [],
   "source": [
    "encoderTipo = OneHotEncoder()"
   ]
  },
  {
   "cell_type": "code",
   "execution_count": 1028,
   "metadata": {},
   "outputs": [],
   "source": [
    "tipo = encoderTipo.fit_transform(x_train[['TipoClasse']])"
   ]
  },
  {
   "cell_type": "code",
   "execution_count": 1029,
   "metadata": {},
   "outputs": [],
   "source": [
    "tipo = pd.DataFrame(tipo.toarray() , columns= encoderTipo.get_feature_names_out(), index = x_train.index)"
   ]
  },
  {
   "cell_type": "code",
   "execution_count": 1030,
   "metadata": {},
   "outputs": [],
   "source": [
    "x_train = x_train.join(tipo).drop('TipoClasse', axis = 1)"
   ]
  },
  {
   "cell_type": "markdown",
   "metadata": {},
   "source": [
    "#### Normalizacao"
   ]
  },
  {
   "cell_type": "code",
   "execution_count": 1031,
   "metadata": {},
   "outputs": [],
   "source": [
    "from sklearn.preprocessing import StandardScaler"
   ]
  },
  {
   "cell_type": "code",
   "execution_count": 1032,
   "metadata": {},
   "outputs": [],
   "source": [
    "norm = StandardScaler()"
   ]
  },
  {
   "cell_type": "code",
   "execution_count": 1033,
   "metadata": {},
   "outputs": [],
   "source": [
    "x_train['Area'] = norm.fit_transform(x_train[['Area']])"
   ]
  },
  {
   "cell_type": "markdown",
   "metadata": {},
   "source": [
    "### Modelo"
   ]
  },
  {
   "cell_type": "code",
   "execution_count": 1034,
   "metadata": {},
   "outputs": [
    {
     "data": {
      "text/plain": [
       "<AxesSubplot:>"
      ]
     },
     "execution_count": 1034,
     "metadata": {},
     "output_type": "execute_result"
    },
    {
     "data": {
      "image/png": "[encoded data removed]",
      "text/plain": [
       "<Figure size 432x288 with 1 Axes>"
      ]
     },
     "metadata": {
      "needs_background": "light"
     },
     "output_type": "display_data"
    }
   ],
   "source": [
    "y_train.hist()"
   ]
  },
  {
   "cell_type": "code",
   "execution_count": 1035,
   "metadata": {},
   "outputs": [],
   "source": [
    "y_train = np.log2(y_train)"
   ]
  },
  {
   "cell_type": "code",
   "execution_count": 1036,
   "metadata": {},
   "outputs": [
    {
     "data": {
      "text/plain": [
       "<AxesSubplot:>"
      ]
     },
     "execution_count": 1036,
     "metadata": {},
     "output_type": "execute_result"
    },
    {
     "data": {
      "image/png": "[encoded data removed]",
      "text/plain": [
       "<Figure size 432x288 with 1 Axes>"
      ]
     },
     "metadata": {
      "needs_background": "light"
     },
     "output_type": "display_data"
    }
   ],
   "source": [
    "y_train.hist()"
   ]
  },
  {
   "cell_type": "code",
   "execution_count": 1037,
   "metadata": {},
   "outputs": [],
   "source": [
    "x_train = x_train.select_dtypes(include = np.number)"
   ]
  },
  {
   "cell_type": "code",
   "execution_count": 1038,
   "metadata": {},
   "outputs": [],
   "source": [
    "from sklearn.linear_model import LinearRegression"
   ]
  },
  {
   "cell_type": "code",
   "execution_count": 1039,
   "metadata": {},
   "outputs": [],
   "source": [
    "regressao = LinearRegression()"
   ]
  },
  {
   "cell_type": "code",
   "execution_count": 1040,
   "metadata": {},
   "outputs": [
    {
     "data": {
      "text/plain": [
       "LinearRegression()"
      ]
     },
     "execution_count": 1040,
     "metadata": {},
     "output_type": "execute_result"
    }
   ],
   "source": [
    "regressao.fit(x_train, y_train)"
   ]
  },
  {
   "cell_type": "code",
   "execution_count": 1041,
   "metadata": {},
   "outputs": [
    {
     "data": {
      "text/plain": [
       "0.7682215719489371"
      ]
     },
     "execution_count": 1041,
     "metadata": {},
     "output_type": "execute_result"
    }
   ],
   "source": [
    "regressao.score(x_train, y_train)"
   ]
  },
  {
   "cell_type": "code",
   "execution_count": 1042,
   "metadata": {},
   "outputs": [
    {
     "data": {
      "text/html": [
       "<div>\n",
       "<style scoped>\n",
       "    .dataframe tbody tr th:only-of-type {\n",
       "        vertical-align: middle;\n",
       "    }\n",
       "\n",
       "    .dataframe tbody tr th {\n",
       "        vertical-align: top;\n",
       "    }\n",
       "\n",
       "    .dataframe thead th {\n",
       "        text-align: right;\n",
       "    }\n",
       "</style>\n",
       "<table border=\"1\" class=\"dataframe\">\n",
       "  <thead>\n",
       "    <tr style=\"text-align: right;\">\n",
       "      <th></th>\n",
       "      <th>Quartos</th>\n",
       "      <th>Banheiros</th>\n",
       "      <th>Vagas na garagem</th>\n",
       "      <th>Area</th>\n",
       "      <th>Quartos2</th>\n",
       "      <th>Banheiros2</th>\n",
       "      <th>Area2</th>\n",
       "      <th>Banheiro Por Quartos</th>\n",
       "      <th>Categoria_Apartamentos</th>\n",
       "      <th>Categoria_Casas</th>\n",
       "      <th>...</th>\n",
       "      <th>Regiao_Jardim da Penha</th>\n",
       "      <th>Regiao_Jucutuquara</th>\n",
       "      <th>Regiao_Maruípe</th>\n",
       "      <th>Regiao_Santo Antônio</th>\n",
       "      <th>Regiao_Zona Leste</th>\n",
       "      <th>Regiao_Zona Norte</th>\n",
       "      <th>Regiao_Zona Oeste</th>\n",
       "      <th>Regiao_Zona Sul</th>\n",
       "      <th>TipoClasse_Classe A</th>\n",
       "      <th>TipoClasse_Classe B</th>\n",
       "    </tr>\n",
       "  </thead>\n",
       "  <tbody>\n",
       "    <tr>\n",
       "      <th>4763</th>\n",
       "      <td>2</td>\n",
       "      <td>1</td>\n",
       "      <td>1</td>\n",
       "      <td>-0.5728224888</td>\n",
       "      <td>4</td>\n",
       "      <td>1</td>\n",
       "      <td>7.8102496759</td>\n",
       "      <td>0.5000000000</td>\n",
       "      <td>1.0000000000</td>\n",
       "      <td>0.0000000000</td>\n",
       "      <td>...</td>\n",
       "      <td>0.0000000000</td>\n",
       "      <td>0.0000000000</td>\n",
       "      <td>0.0000000000</td>\n",
       "      <td>0.0000000000</td>\n",
       "      <td>1.0000000000</td>\n",
       "      <td>0.0000000000</td>\n",
       "      <td>0.0000000000</td>\n",
       "      <td>0.0000000000</td>\n",
       "      <td>0.0000000000</td>\n",
       "      <td>1.0000000000</td>\n",
       "    </tr>\n",
       "    <tr>\n",
       "      <th>422</th>\n",
       "      <td>5</td>\n",
       "      <td>3</td>\n",
       "      <td>1</td>\n",
       "      <td>1.3780770506</td>\n",
       "      <td>25</td>\n",
       "      <td>9</td>\n",
       "      <td>18.8148877222</td>\n",
       "      <td>0.6000000000</td>\n",
       "      <td>0.0000000000</td>\n",
       "      <td>1.0000000000</td>\n",
       "      <td>...</td>\n",
       "      <td>0.0000000000</td>\n",
       "      <td>0.0000000000</td>\n",
       "      <td>0.0000000000</td>\n",
       "      <td>0.0000000000</td>\n",
       "      <td>0.0000000000</td>\n",
       "      <td>1.0000000000</td>\n",
       "      <td>0.0000000000</td>\n",
       "      <td>0.0000000000</td>\n",
       "      <td>0.0000000000</td>\n",
       "      <td>1.0000000000</td>\n",
       "    </tr>\n",
       "    <tr>\n",
       "      <th>5369</th>\n",
       "      <td>4</td>\n",
       "      <td>2</td>\n",
       "      <td>1</td>\n",
       "      <td>-0.0002035113</td>\n",
       "      <td>16</td>\n",
       "      <td>4</td>\n",
       "      <td>12.1243556530</td>\n",
       "      <td>0.5000000000</td>\n",
       "      <td>1.0000000000</td>\n",
       "      <td>0.0000000000</td>\n",
       "      <td>...</td>\n",
       "      <td>0.0000000000</td>\n",
       "      <td>0.0000000000</td>\n",
       "      <td>0.0000000000</td>\n",
       "      <td>0.0000000000</td>\n",
       "      <td>1.0000000000</td>\n",
       "      <td>0.0000000000</td>\n",
       "      <td>0.0000000000</td>\n",
       "      <td>0.0000000000</td>\n",
       "      <td>0.0000000000</td>\n",
       "      <td>1.0000000000</td>\n",
       "    </tr>\n",
       "    <tr>\n",
       "      <th>2908</th>\n",
       "      <td>3</td>\n",
       "      <td>1</td>\n",
       "      <td>2</td>\n",
       "      <td>-0.2598795593</td>\n",
       "      <td>9</td>\n",
       "      <td>1</td>\n",
       "      <td>10.3923048454</td>\n",
       "      <td>0.3333333333</td>\n",
       "      <td>1.0000000000</td>\n",
       "      <td>0.0000000000</td>\n",
       "      <td>...</td>\n",
       "      <td>0.0000000000</td>\n",
       "      <td>0.0000000000</td>\n",
       "      <td>0.0000000000</td>\n",
       "      <td>0.0000000000</td>\n",
       "      <td>1.0000000000</td>\n",
       "      <td>0.0000000000</td>\n",
       "      <td>0.0000000000</td>\n",
       "      <td>0.0000000000</td>\n",
       "      <td>0.0000000000</td>\n",
       "      <td>1.0000000000</td>\n",
       "    </tr>\n",
       "    <tr>\n",
       "      <th>3063</th>\n",
       "      <td>2</td>\n",
       "      <td>1</td>\n",
       "      <td>1</td>\n",
       "      <td>-0.5661641286</td>\n",
       "      <td>4</td>\n",
       "      <td>1</td>\n",
       "      <td>7.8740078740</td>\n",
       "      <td>0.5000000000</td>\n",
       "      <td>1.0000000000</td>\n",
       "      <td>0.0000000000</td>\n",
       "      <td>...</td>\n",
       "      <td>1.0000000000</td>\n",
       "      <td>0.0000000000</td>\n",
       "      <td>0.0000000000</td>\n",
       "      <td>0.0000000000</td>\n",
       "      <td>0.0000000000</td>\n",
       "      <td>0.0000000000</td>\n",
       "      <td>0.0000000000</td>\n",
       "      <td>0.0000000000</td>\n",
       "      <td>0.0000000000</td>\n",
       "      <td>1.0000000000</td>\n",
       "    </tr>\n",
       "    <tr>\n",
       "      <th>...</th>\n",
       "      <td>...</td>\n",
       "      <td>...</td>\n",
       "      <td>...</td>\n",
       "      <td>...</td>\n",
       "      <td>...</td>\n",
       "      <td>...</td>\n",
       "      <td>...</td>\n",
       "      <td>...</td>\n",
       "      <td>...</td>\n",
       "      <td>...</td>\n",
       "      <td>...</td>\n",
       "      <td>...</td>\n",
       "      <td>...</td>\n",
       "      <td>...</td>\n",
       "      <td>...</td>\n",
       "      <td>...</td>\n",
       "      <td>...</td>\n",
       "      <td>...</td>\n",
       "      <td>...</td>\n",
       "      <td>...</td>\n",
       "      <td>...</td>\n",
       "    </tr>\n",
       "    <tr>\n",
       "      <th>2573</th>\n",
       "      <td>1</td>\n",
       "      <td>1</td>\n",
       "      <td>2</td>\n",
       "      <td>-0.6460644510</td>\n",
       "      <td>1</td>\n",
       "      <td>1</td>\n",
       "      <td>7.0710678119</td>\n",
       "      <td>1.0000000000</td>\n",
       "      <td>1.0000000000</td>\n",
       "      <td>0.0000000000</td>\n",
       "      <td>...</td>\n",
       "      <td>0.0000000000</td>\n",
       "      <td>0.0000000000</td>\n",
       "      <td>0.0000000000</td>\n",
       "      <td>0.0000000000</td>\n",
       "      <td>0.0000000000</td>\n",
       "      <td>0.0000000000</td>\n",
       "      <td>0.0000000000</td>\n",
       "      <td>0.0000000000</td>\n",
       "      <td>0.0000000000</td>\n",
       "      <td>1.0000000000</td>\n",
       "    </tr>\n",
       "    <tr>\n",
       "      <th>7134</th>\n",
       "      <td>4</td>\n",
       "      <td>4</td>\n",
       "      <td>2</td>\n",
       "      <td>0.1595971335</td>\n",
       "      <td>16</td>\n",
       "      <td>16</td>\n",
       "      <td>13.0766968306</td>\n",
       "      <td>1.0000000000</td>\n",
       "      <td>1.0000000000</td>\n",
       "      <td>0.0000000000</td>\n",
       "      <td>...</td>\n",
       "      <td>0.0000000000</td>\n",
       "      <td>0.0000000000</td>\n",
       "      <td>0.0000000000</td>\n",
       "      <td>0.0000000000</td>\n",
       "      <td>1.0000000000</td>\n",
       "      <td>0.0000000000</td>\n",
       "      <td>0.0000000000</td>\n",
       "      <td>0.0000000000</td>\n",
       "      <td>0.0000000000</td>\n",
       "      <td>1.0000000000</td>\n",
       "    </tr>\n",
       "    <tr>\n",
       "      <th>3206</th>\n",
       "      <td>2</td>\n",
       "      <td>1</td>\n",
       "      <td>2</td>\n",
       "      <td>-0.2465628388</td>\n",
       "      <td>4</td>\n",
       "      <td>1</td>\n",
       "      <td>10.4880884817</td>\n",
       "      <td>0.5000000000</td>\n",
       "      <td>1.0000000000</td>\n",
       "      <td>0.0000000000</td>\n",
       "      <td>...</td>\n",
       "      <td>0.0000000000</td>\n",
       "      <td>0.0000000000</td>\n",
       "      <td>1.0000000000</td>\n",
       "      <td>0.0000000000</td>\n",
       "      <td>0.0000000000</td>\n",
       "      <td>0.0000000000</td>\n",
       "      <td>0.0000000000</td>\n",
       "      <td>0.0000000000</td>\n",
       "      <td>1.0000000000</td>\n",
       "      <td>0.0000000000</td>\n",
       "    </tr>\n",
       "    <tr>\n",
       "      <th>3885</th>\n",
       "      <td>2</td>\n",
       "      <td>2</td>\n",
       "      <td>2</td>\n",
       "      <td>-0.5794808490</td>\n",
       "      <td>4</td>\n",
       "      <td>4</td>\n",
       "      <td>7.7459666924</td>\n",
       "      <td>1.0000000000</td>\n",
       "      <td>1.0000000000</td>\n",
       "      <td>0.0000000000</td>\n",
       "      <td>...</td>\n",
       "      <td>0.0000000000</td>\n",
       "      <td>0.0000000000</td>\n",
       "      <td>0.0000000000</td>\n",
       "      <td>0.0000000000</td>\n",
       "      <td>0.0000000000</td>\n",
       "      <td>0.0000000000</td>\n",
       "      <td>0.0000000000</td>\n",
       "      <td>0.0000000000</td>\n",
       "      <td>0.0000000000</td>\n",
       "      <td>1.0000000000</td>\n",
       "    </tr>\n",
       "    <tr>\n",
       "      <th>5565</th>\n",
       "      <td>3</td>\n",
       "      <td>3</td>\n",
       "      <td>2</td>\n",
       "      <td>-0.3331215215</td>\n",
       "      <td>9</td>\n",
       "      <td>9</td>\n",
       "      <td>9.8488578018</td>\n",
       "      <td>1.0000000000</td>\n",
       "      <td>1.0000000000</td>\n",
       "      <td>0.0000000000</td>\n",
       "      <td>...</td>\n",
       "      <td>0.0000000000</td>\n",
       "      <td>0.0000000000</td>\n",
       "      <td>0.0000000000</td>\n",
       "      <td>0.0000000000</td>\n",
       "      <td>1.0000000000</td>\n",
       "      <td>0.0000000000</td>\n",
       "      <td>0.0000000000</td>\n",
       "      <td>0.0000000000</td>\n",
       "      <td>0.0000000000</td>\n",
       "      <td>1.0000000000</td>\n",
       "    </tr>\n",
       "  </tbody>\n",
       "</table>\n",
       "<p>4515 rows × 21 columns</p>\n",
       "</div>"
      ],
      "text/plain": [
       "      Quartos  Banheiros  Vagas na garagem          Area  Quartos2  \\\n",
       "4763        2          1                 1 -0.5728224888         4   \n",
       "422         5          3                 1  1.3780770506        25   \n",
       "5369        4          2                 1 -0.0002035113        16   \n",
       "2908        3          1                 2 -0.2598795593         9   \n",
       "3063        2          1                 1 -0.5661641286         4   \n",
       "...       ...        ...               ...           ...       ...   \n",
       "2573        1          1                 2 -0.6460644510         1   \n",
       "7134        4          4                 2  0.1595971335        16   \n",
       "3206        2          1                 2 -0.2465628388         4   \n",
       "3885        2          2                 2 -0.5794808490         4   \n",
       "5565        3          3                 2 -0.3331215215         9   \n",
       "\n",
       "      Banheiros2         Area2  Banheiro Por Quartos  Categoria_Apartamentos  \\\n",
       "4763           1  7.8102496759          0.5000000000            1.0000000000   \n",
       "422            9 18.8148877222          0.6000000000            0.0000000000   \n",
       "5369           4 12.1243556530          0.5000000000            1.0000000000   \n",
       "2908           1 10.3923048454          0.3333333333            1.0000000000   \n",
       "3063           1  7.8740078740          0.5000000000            1.0000000000   \n",
       "...          ...           ...                   ...                     ...   \n",
       "2573           1  7.0710678119          1.0000000000            1.0000000000   \n",
       "7134          16 13.0766968306          1.0000000000            1.0000000000   \n",
       "3206           1 10.4880884817          0.5000000000            1.0000000000   \n",
       "3885           4  7.7459666924          1.0000000000            1.0000000000   \n",
       "5565           9  9.8488578018          1.0000000000            1.0000000000   \n",
       "\n",
       "      Categoria_Casas  ...  Regiao_Jardim da Penha  Regiao_Jucutuquara  \\\n",
       "4763     0.0000000000  ...            0.0000000000        0.0000000000   \n",
       "422      1.0000000000  ...            0.0000000000        0.0000000000   \n",
       "5369     0.0000000000  ...            0.0000000000        0.0000000000   \n",
       "2908     0.0000000000  ...            0.0000000000        0.0000000000   \n",
       "3063     0.0000000000  ...            1.0000000000        0.0000000000   \n",
       "...               ...  ...                     ...                 ...   \n",
       "2573     0.0000000000  ...            0.0000000000        0.0000000000   \n",
       "7134     0.0000000000  ...            0.0000000000        0.0000000000   \n",
       "3206     0.0000000000  ...            0.0000000000        0.0000000000   \n",
       "3885     0.0000000000  ...            0.0000000000        0.0000000000   \n",
       "5565     0.0000000000  ...            0.0000000000        0.0000000000   \n",
       "\n",
       "      Regiao_Maruípe  Regiao_Santo Antônio  Regiao_Zona Leste  \\\n",
       "4763    0.0000000000          0.0000000000       1.0000000000   \n",
       "422     0.0000000000          0.0000000000       0.0000000000   \n",
       "5369    0.0000000000          0.0000000000       1.0000000000   \n",
       "2908    0.0000000000          0.0000000000       1.0000000000   \n",
       "3063    0.0000000000          0.0000000000       0.0000000000   \n",
       "...              ...                   ...                ...   \n",
       "2573    0.0000000000          0.0000000000       0.0000000000   \n",
       "7134    0.0000000000          0.0000000000       1.0000000000   \n",
       "3206    1.0000000000          0.0000000000       0.0000000000   \n",
       "3885    0.0000000000          0.0000000000       0.0000000000   \n",
       "5565    0.0000000000          0.0000000000       1.0000000000   \n",
       "\n",
       "      Regiao_Zona Norte  Regiao_Zona Oeste  Regiao_Zona Sul  \\\n",
       "4763       0.0000000000       0.0000000000     0.0000000000   \n",
       "422        1.0000000000       0.0000000000     0.0000000000   \n",
       "5369       0.0000000000       0.0000000000     0.0000000000   \n",
       "2908       0.0000000000       0.0000000000     0.0000000000   \n",
       "3063       0.0000000000       0.0000000000     0.0000000000   \n",
       "...                 ...                ...              ...   \n",
       "2573       0.0000000000       0.0000000000     0.0000000000   \n",
       "7134       0.0000000000       0.0000000000     0.0000000000   \n",
       "3206       0.0000000000       0.0000000000     0.0000000000   \n",
       "3885       0.0000000000       0.0000000000     0.0000000000   \n",
       "5565       0.0000000000       0.0000000000     0.0000000000   \n",
       "\n",
       "      TipoClasse_Classe A  TipoClasse_Classe B  \n",
       "4763         0.0000000000         1.0000000000  \n",
       "422          0.0000000000         1.0000000000  \n",
       "5369         0.0000000000         1.0000000000  \n",
       "2908         0.0000000000         1.0000000000  \n",
       "3063         0.0000000000         1.0000000000  \n",
       "...                   ...                  ...  \n",
       "2573         0.0000000000         1.0000000000  \n",
       "7134         0.0000000000         1.0000000000  \n",
       "3206         1.0000000000         0.0000000000  \n",
       "3885         0.0000000000         1.0000000000  \n",
       "5565         0.0000000000         1.0000000000  \n",
       "\n",
       "[4515 rows x 21 columns]"
      ]
     },
     "execution_count": 1042,
     "metadata": {},
     "output_type": "execute_result"
    }
   ],
   "source": [
    "x_train"
   ]
  },
  {
   "cell_type": "code",
   "execution_count": 1043,
   "metadata": {},
   "outputs": [
    {
     "data": {
      "text/plain": [
       "<AxesSubplot:xlabel='Valor', ylabel='Quartos'>"
      ]
     },
     "execution_count": 1043,
     "metadata": {},
     "output_type": "execute_result"
    },
    {
     "data": {
      "image/png": "[encoded data removed]",
      "text/plain": [
       "<Figure size 432x288 with 1 Axes>"
      ]
     },
     "metadata": {
      "needs_background": "light"
     },
     "output_type": "display_data"
    }
   ],
   "source": [
    "df.plot(kind = 'scatter' , x='Valor' , y='Quartos')"
   ]
  },
  {
   "cell_type": "code",
   "execution_count": 1044,
   "metadata": {},
   "outputs": [
    {
     "data": {
      "text/html": [
       "<div>\n",
       "<style scoped>\n",
       "    .dataframe tbody tr th:only-of-type {\n",
       "        vertical-align: middle;\n",
       "    }\n",
       "\n",
       "    .dataframe tbody tr th {\n",
       "        vertical-align: top;\n",
       "    }\n",
       "\n",
       "    .dataframe thead th {\n",
       "        text-align: right;\n",
       "    }\n",
       "</style>\n",
       "<table border=\"1\" class=\"dataframe\">\n",
       "  <thead>\n",
       "    <tr style=\"text-align: right;\">\n",
       "      <th></th>\n",
       "      <th>Valor</th>\n",
       "      <th>Banheiros</th>\n",
       "      <th>Vagas na garagem</th>\n",
       "      <th>Area</th>\n",
       "      <th>Quartos2</th>\n",
       "      <th>Banheiros2</th>\n",
       "      <th>Area2</th>\n",
       "      <th>Banheiro Por Quartos</th>\n",
       "    </tr>\n",
       "    <tr>\n",
       "      <th>Quartos</th>\n",
       "      <th></th>\n",
       "      <th></th>\n",
       "      <th></th>\n",
       "      <th></th>\n",
       "      <th></th>\n",
       "      <th></th>\n",
       "      <th></th>\n",
       "      <th></th>\n",
       "    </tr>\n",
       "  </thead>\n",
       "  <tbody>\n",
       "    <tr>\n",
       "      <th>1</th>\n",
       "      <td>344,279.0122699387</td>\n",
       "      <td>1.0552147239</td>\n",
       "      <td>0.9325153374</td>\n",
       "      <td>70.8773006135</td>\n",
       "      <td>1.0000000000</td>\n",
       "      <td>1.1656441718</td>\n",
       "      <td>7.1668153186</td>\n",
       "      <td>1.0552147239</td>\n",
       "    </tr>\n",
       "    <tr>\n",
       "      <th>2</th>\n",
       "      <td>484,519.3548972189</td>\n",
       "      <td>1.6390568319</td>\n",
       "      <td>1.1559854897</td>\n",
       "      <td>80.2351874244</td>\n",
       "      <td>4.0000000000</td>\n",
       "      <td>3.0211608222</td>\n",
       "      <td>8.7616330488</td>\n",
       "      <td>0.8195284160</td>\n",
       "    </tr>\n",
       "    <tr>\n",
       "      <th>3</th>\n",
       "      <td>775,296.7878302642</td>\n",
       "      <td>2.2634107286</td>\n",
       "      <td>1.6461168935</td>\n",
       "      <td>125.7790232186</td>\n",
       "      <td>9.0000000000</td>\n",
       "      <td>5.8190552442</td>\n",
       "      <td>10.8962189326</td>\n",
       "      <td>0.7544702429</td>\n",
       "    </tr>\n",
       "    <tr>\n",
       "      <th>4</th>\n",
       "      <td>1,950,776.8995305165</td>\n",
       "      <td>3.6018779343</td>\n",
       "      <td>2.6328638498</td>\n",
       "      <td>239.3887323944</td>\n",
       "      <td>16.0000000000</td>\n",
       "      <td>14.4525821596</td>\n",
       "      <td>14.9954794400</td>\n",
       "      <td>0.9004694836</td>\n",
       "    </tr>\n",
       "    <tr>\n",
       "      <th>5</th>\n",
       "      <td>2,485,620.6931818184</td>\n",
       "      <td>4.2575757576</td>\n",
       "      <td>2.9659090909</td>\n",
       "      <td>433.3409090909</td>\n",
       "      <td>25.0000000000</td>\n",
       "      <td>19.3863636364</td>\n",
       "      <td>20.2631055027</td>\n",
       "      <td>0.8515151515</td>\n",
       "    </tr>\n",
       "  </tbody>\n",
       "</table>\n",
       "</div>"
      ],
      "text/plain": [
       "                       Valor    Banheiros  Vagas na garagem           Area  \\\n",
       "Quartos                                                                      \n",
       "1         344,279.0122699387 1.0552147239      0.9325153374  70.8773006135   \n",
       "2         484,519.3548972189 1.6390568319      1.1559854897  80.2351874244   \n",
       "3         775,296.7878302642 2.2634107286      1.6461168935 125.7790232186   \n",
       "4       1,950,776.8995305165 3.6018779343      2.6328638498 239.3887323944   \n",
       "5       2,485,620.6931818184 4.2575757576      2.9659090909 433.3409090909   \n",
       "\n",
       "             Quartos2    Banheiros2         Area2  Banheiro Por Quartos  \n",
       "Quartos                                                                  \n",
       "1        1.0000000000  1.1656441718  7.1668153186          1.0552147239  \n",
       "2        4.0000000000  3.0211608222  8.7616330488          0.8195284160  \n",
       "3        9.0000000000  5.8190552442 10.8962189326          0.7544702429  \n",
       "4       16.0000000000 14.4525821596 14.9954794400          0.9004694836  \n",
       "5       25.0000000000 19.3863636364 20.2631055027          0.8515151515  "
      ]
     },
     "execution_count": 1044,
     "metadata": {},
     "output_type": "execute_result"
    }
   ],
   "source": [
    "df.groupby('Quartos').mean()"
   ]
  },
  {
   "cell_type": "markdown",
   "metadata": {},
   "source": [
    "#### Validação"
   ]
  },
  {
   "cell_type": "code",
   "execution_count": 1045,
   "metadata": {},
   "outputs": [],
   "source": [
    "categories = encoderCategoria.transform(x_test[['Categoria']])"
   ]
  },
  {
   "cell_type": "code",
   "execution_count": 1046,
   "metadata": {},
   "outputs": [],
   "source": [
    "categories = pd.DataFrame(categories.toarray(), columns= encoderCategoria.get_feature_names_out(), index = x_test.index)"
   ]
  },
  {
   "cell_type": "code",
   "execution_count": 1047,
   "metadata": {},
   "outputs": [],
   "source": [
    "x_test = x_test.join(categories).drop('Categoria', axis = 1)"
   ]
  },
  {
   "cell_type": "code",
   "execution_count": 1048,
   "metadata": {},
   "outputs": [],
   "source": [
    "regioes = pd.DataFrame(encoderRegiao.transform(x_test[['Regiao']]).toarray() , columns = encoderRegiao.get_feature_names_out(), index =x_test.index)"
   ]
  },
  {
   "cell_type": "code",
   "execution_count": 1049,
   "metadata": {},
   "outputs": [],
   "source": [
    "x_test = x_test.join(regioes).drop('Regiao', axis =1)"
   ]
  },
  {
   "cell_type": "code",
   "execution_count": 1050,
   "metadata": {},
   "outputs": [],
   "source": [
    "tipo = pd.DataFrame(encoderTipo.transform(x_test[['TipoClasse']]).toarray() , columns = encoderTipo.get_feature_names_out(), index =x_test.index)"
   ]
  },
  {
   "cell_type": "code",
   "execution_count": 1051,
   "metadata": {},
   "outputs": [],
   "source": [
    "x_test = x_test.join(tipo).drop(['Tipo','TipoClasse'], axis =1)"
   ]
  },
  {
   "cell_type": "code",
   "execution_count": 1052,
   "metadata": {},
   "outputs": [],
   "source": [
    "x_test['Area'] = norm.transform(x_test[['Area']])"
   ]
  },
  {
   "cell_type": "code",
   "execution_count": 1053,
   "metadata": {},
   "outputs": [],
   "source": [
    "x_test = x_test.select_dtypes(include = np.number)\n",
    "y_test = np.log2(y_test)"
   ]
  },
  {
   "cell_type": "code",
   "execution_count": 1054,
   "metadata": {},
   "outputs": [
    {
     "data": {
      "text/plain": [
       "0.7739379558139795"
      ]
     },
     "execution_count": 1054,
     "metadata": {},
     "output_type": "execute_result"
    }
   ],
   "source": [
    "regressao.score(x_test, y_test)"
   ]
  },
  {
   "cell_type": "code",
   "execution_count": 1055,
   "metadata": {},
   "outputs": [],
   "source": [
    "from sklearn.model_selection import cross_val_score"
   ]
  },
  {
   "cell_type": "code",
   "execution_count": 1056,
   "metadata": {},
   "outputs": [],
   "source": [
    "testes = cross_val_score(regressao , x_train, y_train, cv = 100)"
   ]
  },
  {
   "cell_type": "code",
   "execution_count": 1057,
   "metadata": {},
   "outputs": [
    {
     "data": {
      "text/plain": [
       "[75.22545218810305, 9.329115487314363]"
      ]
     },
     "execution_count": 1057,
     "metadata": {},
     "output_type": "execute_result"
    }
   ],
   "source": [
    "[testes.mean()*100, testes.std()*100]"
   ]
  },
  {
   "cell_type": "code",
   "execution_count": 1058,
   "metadata": {},
   "outputs": [
    {
     "data": {
      "text/plain": [
       "Regiao_Zona Leste         0.9301640175\n",
       "Banheiro Por Quartos      0.9021598330\n",
       "Regiao_Jardim da Penha    0.7200497185\n",
       "Quartos                   0.6433201796\n",
       "Regiao_Jardim Camburi     0.5382719919\n",
       "Regiao_Jucutuquara        0.3064135527\n",
       "Vagas na garagem          0.2959411211\n",
       "Categoria_Apartamentos    0.2235221593\n",
       "TipoClasse_Classe A       0.1799370224\n",
       "Area2                     0.1248133751\n",
       "Banheiros2                0.0698540668\n",
       "Quartos2                 -0.0273480151\n",
       "Regiao_Zona Norte        -0.0429549315\n",
       "TipoClasse_Classe B      -0.1799370224\n",
       "Categoria_Casas          -0.2235221593\n",
       "Area                     -0.2630209080\n",
       "Regiao_Santo Antônio     -0.3199680691\n",
       "Regiao_Maruípe           -0.3773818088\n",
       "Regiao_Zona Sul          -0.3999424681\n",
       "Banheiros                -0.4967098833\n",
       "Regiao_Zona Oeste        -1.3546520031\n",
       "dtype: float64"
      ]
     },
     "execution_count": 1058,
     "metadata": {},
     "output_type": "execute_result"
    }
   ],
   "source": [
    "pd.Series(regressao.coef_  , index = x_train.columns).sort_values(ascending= False)"
   ]
  },
  {
   "cell_type": "code",
   "execution_count": 1059,
   "metadata": {},
   "outputs": [],
   "source": [
    "y_predict = regressao.predict(x_test)"
   ]
  },
  {
   "cell_type": "code",
   "execution_count": 1060,
   "metadata": {},
   "outputs": [],
   "source": [
    "from sklearn.metrics import median_absolute_error, mean_squared_error, r2_score"
   ]
  },
  {
   "cell_type": "code",
   "execution_count": 1061,
   "metadata": {},
   "outputs": [
    {
     "data": {
      "text/plain": [
       "0.7739379558139795"
      ]
     },
     "execution_count": 1061,
     "metadata": {},
     "output_type": "execute_result"
    }
   ],
   "source": [
    "r2_score(y_test, y_predict)"
   ]
  },
  {
   "cell_type": "code",
   "execution_count": 1062,
   "metadata": {},
   "outputs": [
    {
     "data": {
      "text/plain": [
       "5171   18.1945981662\n",
       "4137   19.7795654759\n",
       "3966   18.9516262217\n",
       "6316   21.4626380621\n",
       "5708   19.7795654759\n",
       "            ...     \n",
       "4866   19.1456933747\n",
       "5305   19.4775369384\n",
       "2520   18.8726748803\n",
       "2197   17.9315685693\n",
       "6195   21.5165310700\n",
       "Name: Valor, Length: 1129, dtype: float64"
      ]
     },
     "execution_count": 1062,
     "metadata": {},
     "output_type": "execute_result"
    }
   ],
   "source": [
    "y_test"
   ]
  },
  {
   "cell_type": "code",
   "execution_count": 1063,
   "metadata": {},
   "outputs": [],
   "source": [
    "y_predict2 = 2**y_predict"
   ]
  },
  {
   "cell_type": "code",
   "execution_count": 1064,
   "metadata": {},
   "outputs": [],
   "source": [
    "y_test2 = 2**y_test"
   ]
  },
  {
   "cell_type": "code",
   "execution_count": 1065,
   "metadata": {},
   "outputs": [
    {
     "data": {
      "text/plain": [
       "0.7210193747922533"
      ]
     },
     "execution_count": 1065,
     "metadata": {},
     "output_type": "execute_result"
    }
   ],
   "source": [
    "r2_score(y_test2, y_predict2)"
   ]
  },
  {
   "cell_type": "code",
   "execution_count": 1066,
   "metadata": {},
   "outputs": [
    {
     "data": {
      "text/html": [
       "<div>\n",
       "<style scoped>\n",
       "    .dataframe tbody tr th:only-of-type {\n",
       "        vertical-align: middle;\n",
       "    }\n",
       "\n",
       "    .dataframe tbody tr th {\n",
       "        vertical-align: top;\n",
       "    }\n",
       "\n",
       "    .dataframe thead th {\n",
       "        text-align: right;\n",
       "    }\n",
       "</style>\n",
       "<table border=\"1\" class=\"dataframe\">\n",
       "  <thead>\n",
       "    <tr style=\"text-align: right;\">\n",
       "      <th></th>\n",
       "      <th>Quartos</th>\n",
       "      <th>Banheiros</th>\n",
       "      <th>Vagas na garagem</th>\n",
       "      <th>Area</th>\n",
       "      <th>Quartos2</th>\n",
       "      <th>Banheiros2</th>\n",
       "      <th>Area2</th>\n",
       "      <th>Banheiro Por Quartos</th>\n",
       "      <th>Categoria_Apartamentos</th>\n",
       "      <th>Categoria_Casas</th>\n",
       "      <th>...</th>\n",
       "      <th>Regiao_Jardim da Penha</th>\n",
       "      <th>Regiao_Jucutuquara</th>\n",
       "      <th>Regiao_Maruípe</th>\n",
       "      <th>Regiao_Santo Antônio</th>\n",
       "      <th>Regiao_Zona Leste</th>\n",
       "      <th>Regiao_Zona Norte</th>\n",
       "      <th>Regiao_Zona Oeste</th>\n",
       "      <th>Regiao_Zona Sul</th>\n",
       "      <th>TipoClasse_Classe A</th>\n",
       "      <th>TipoClasse_Classe B</th>\n",
       "    </tr>\n",
       "  </thead>\n",
       "  <tbody>\n",
       "    <tr>\n",
       "      <th>5171</th>\n",
       "      <td>3</td>\n",
       "      <td>1</td>\n",
       "      <td>1</td>\n",
       "      <td>-0.4796054459</td>\n",
       "      <td>9</td>\n",
       "      <td>1</td>\n",
       "      <td>8.6602540378</td>\n",
       "      <td>0.3333333333</td>\n",
       "      <td>1.0000000000</td>\n",
       "      <td>0.0000000000</td>\n",
       "      <td>...</td>\n",
       "      <td>0.0000000000</td>\n",
       "      <td>0.0000000000</td>\n",
       "      <td>0.0000000000</td>\n",
       "      <td>0.0000000000</td>\n",
       "      <td>0.0000000000</td>\n",
       "      <td>0.0000000000</td>\n",
       "      <td>0.0000000000</td>\n",
       "      <td>0.0000000000</td>\n",
       "      <td>0.0000000000</td>\n",
       "      <td>1.0000000000</td>\n",
       "    </tr>\n",
       "    <tr>\n",
       "      <th>4137</th>\n",
       "      <td>3</td>\n",
       "      <td>2</td>\n",
       "      <td>2</td>\n",
       "      <td>-0.3997051235</td>\n",
       "      <td>9</td>\n",
       "      <td>4</td>\n",
       "      <td>9.3273790531</td>\n",
       "      <td>0.6666666667</td>\n",
       "      <td>1.0000000000</td>\n",
       "      <td>0.0000000000</td>\n",
       "      <td>...</td>\n",
       "      <td>0.0000000000</td>\n",
       "      <td>0.0000000000</td>\n",
       "      <td>0.0000000000</td>\n",
       "      <td>0.0000000000</td>\n",
       "      <td>1.0000000000</td>\n",
       "      <td>0.0000000000</td>\n",
       "      <td>0.0000000000</td>\n",
       "      <td>0.0000000000</td>\n",
       "      <td>0.0000000000</td>\n",
       "      <td>1.0000000000</td>\n",
       "    </tr>\n",
       "    <tr>\n",
       "      <th>3966</th>\n",
       "      <td>2</td>\n",
       "      <td>1</td>\n",
       "      <td>2</td>\n",
       "      <td>-0.5595057684</td>\n",
       "      <td>4</td>\n",
       "      <td>1</td>\n",
       "      <td>7.9372539332</td>\n",
       "      <td>0.5000000000</td>\n",
       "      <td>1.0000000000</td>\n",
       "      <td>0.0000000000</td>\n",
       "      <td>...</td>\n",
       "      <td>0.0000000000</td>\n",
       "      <td>1.0000000000</td>\n",
       "      <td>0.0000000000</td>\n",
       "      <td>0.0000000000</td>\n",
       "      <td>0.0000000000</td>\n",
       "      <td>0.0000000000</td>\n",
       "      <td>0.0000000000</td>\n",
       "      <td>0.0000000000</td>\n",
       "      <td>0.0000000000</td>\n",
       "      <td>1.0000000000</td>\n",
       "    </tr>\n",
       "    <tr>\n",
       "      <th>6316</th>\n",
       "      <td>4</td>\n",
       "      <td>5</td>\n",
       "      <td>3</td>\n",
       "      <td>0.3060810580</td>\n",
       "      <td>16</td>\n",
       "      <td>25</td>\n",
       "      <td>13.8924439894</td>\n",
       "      <td>1.2500000000</td>\n",
       "      <td>1.0000000000</td>\n",
       "      <td>0.0000000000</td>\n",
       "      <td>...</td>\n",
       "      <td>0.0000000000</td>\n",
       "      <td>0.0000000000</td>\n",
       "      <td>0.0000000000</td>\n",
       "      <td>0.0000000000</td>\n",
       "      <td>1.0000000000</td>\n",
       "      <td>0.0000000000</td>\n",
       "      <td>0.0000000000</td>\n",
       "      <td>0.0000000000</td>\n",
       "      <td>0.0000000000</td>\n",
       "      <td>1.0000000000</td>\n",
       "    </tr>\n",
       "    <tr>\n",
       "      <th>5708</th>\n",
       "      <td>4</td>\n",
       "      <td>3</td>\n",
       "      <td>2</td>\n",
       "      <td>-0.0468120328</td>\n",
       "      <td>16</td>\n",
       "      <td>9</td>\n",
       "      <td>11.8321595662</td>\n",
       "      <td>0.7500000000</td>\n",
       "      <td>1.0000000000</td>\n",
       "      <td>0.0000000000</td>\n",
       "      <td>...</td>\n",
       "      <td>0.0000000000</td>\n",
       "      <td>0.0000000000</td>\n",
       "      <td>0.0000000000</td>\n",
       "      <td>0.0000000000</td>\n",
       "      <td>0.0000000000</td>\n",
       "      <td>0.0000000000</td>\n",
       "      <td>0.0000000000</td>\n",
       "      <td>0.0000000000</td>\n",
       "      <td>0.0000000000</td>\n",
       "      <td>1.0000000000</td>\n",
       "    </tr>\n",
       "    <tr>\n",
       "      <th>...</th>\n",
       "      <td>...</td>\n",
       "      <td>...</td>\n",
       "      <td>...</td>\n",
       "      <td>...</td>\n",
       "      <td>...</td>\n",
       "      <td>...</td>\n",
       "      <td>...</td>\n",
       "      <td>...</td>\n",
       "      <td>...</td>\n",
       "      <td>...</td>\n",
       "      <td>...</td>\n",
       "      <td>...</td>\n",
       "      <td>...</td>\n",
       "      <td>...</td>\n",
       "      <td>...</td>\n",
       "      <td>...</td>\n",
       "      <td>...</td>\n",
       "      <td>...</td>\n",
       "      <td>...</td>\n",
       "      <td>...</td>\n",
       "      <td>...</td>\n",
       "    </tr>\n",
       "    <tr>\n",
       "      <th>4866</th>\n",
       "      <td>3</td>\n",
       "      <td>1</td>\n",
       "      <td>1</td>\n",
       "      <td>-0.1799792368</td>\n",
       "      <td>9</td>\n",
       "      <td>1</td>\n",
       "      <td>10.9544511501</td>\n",
       "      <td>0.3333333333</td>\n",
       "      <td>1.0000000000</td>\n",
       "      <td>0.0000000000</td>\n",
       "      <td>...</td>\n",
       "      <td>0.0000000000</td>\n",
       "      <td>0.0000000000</td>\n",
       "      <td>0.0000000000</td>\n",
       "      <td>0.0000000000</td>\n",
       "      <td>1.0000000000</td>\n",
       "      <td>0.0000000000</td>\n",
       "      <td>0.0000000000</td>\n",
       "      <td>0.0000000000</td>\n",
       "      <td>0.0000000000</td>\n",
       "      <td>1.0000000000</td>\n",
       "    </tr>\n",
       "    <tr>\n",
       "      <th>5305</th>\n",
       "      <td>3</td>\n",
       "      <td>2</td>\n",
       "      <td>2</td>\n",
       "      <td>-0.3997051235</td>\n",
       "      <td>9</td>\n",
       "      <td>4</td>\n",
       "      <td>9.3273790531</td>\n",
       "      <td>0.6666666667</td>\n",
       "      <td>1.0000000000</td>\n",
       "      <td>0.0000000000</td>\n",
       "      <td>...</td>\n",
       "      <td>0.0000000000</td>\n",
       "      <td>0.0000000000</td>\n",
       "      <td>0.0000000000</td>\n",
       "      <td>0.0000000000</td>\n",
       "      <td>1.0000000000</td>\n",
       "      <td>0.0000000000</td>\n",
       "      <td>0.0000000000</td>\n",
       "      <td>0.0000000000</td>\n",
       "      <td>0.0000000000</td>\n",
       "      <td>1.0000000000</td>\n",
       "    </tr>\n",
       "    <tr>\n",
       "      <th>2520</th>\n",
       "      <td>2</td>\n",
       "      <td>2</td>\n",
       "      <td>2</td>\n",
       "      <td>-0.5661641286</td>\n",
       "      <td>4</td>\n",
       "      <td>4</td>\n",
       "      <td>7.8740078740</td>\n",
       "      <td>1.0000000000</td>\n",
       "      <td>1.0000000000</td>\n",
       "      <td>0.0000000000</td>\n",
       "      <td>...</td>\n",
       "      <td>0.0000000000</td>\n",
       "      <td>0.0000000000</td>\n",
       "      <td>0.0000000000</td>\n",
       "      <td>0.0000000000</td>\n",
       "      <td>0.0000000000</td>\n",
       "      <td>0.0000000000</td>\n",
       "      <td>0.0000000000</td>\n",
       "      <td>0.0000000000</td>\n",
       "      <td>0.0000000000</td>\n",
       "      <td>1.0000000000</td>\n",
       "    </tr>\n",
       "    <tr>\n",
       "      <th>2197</th>\n",
       "      <td>3</td>\n",
       "      <td>3</td>\n",
       "      <td>2</td>\n",
       "      <td>1.0185255997</td>\n",
       "      <td>9</td>\n",
       "      <td>9</td>\n",
       "      <td>17.3205080757</td>\n",
       "      <td>1.0000000000</td>\n",
       "      <td>0.0000000000</td>\n",
       "      <td>1.0000000000</td>\n",
       "      <td>...</td>\n",
       "      <td>0.0000000000</td>\n",
       "      <td>0.0000000000</td>\n",
       "      <td>1.0000000000</td>\n",
       "      <td>0.0000000000</td>\n",
       "      <td>0.0000000000</td>\n",
       "      <td>0.0000000000</td>\n",
       "      <td>0.0000000000</td>\n",
       "      <td>0.0000000000</td>\n",
       "      <td>0.0000000000</td>\n",
       "      <td>1.0000000000</td>\n",
       "    </tr>\n",
       "    <tr>\n",
       "      <th>6195</th>\n",
       "      <td>5</td>\n",
       "      <td>4</td>\n",
       "      <td>2</td>\n",
       "      <td>1.0185255997</td>\n",
       "      <td>25</td>\n",
       "      <td>16</td>\n",
       "      <td>17.3205080757</td>\n",
       "      <td>0.8000000000</td>\n",
       "      <td>1.0000000000</td>\n",
       "      <td>0.0000000000</td>\n",
       "      <td>...</td>\n",
       "      <td>0.0000000000</td>\n",
       "      <td>0.0000000000</td>\n",
       "      <td>0.0000000000</td>\n",
       "      <td>0.0000000000</td>\n",
       "      <td>1.0000000000</td>\n",
       "      <td>0.0000000000</td>\n",
       "      <td>0.0000000000</td>\n",
       "      <td>0.0000000000</td>\n",
       "      <td>0.0000000000</td>\n",
       "      <td>1.0000000000</td>\n",
       "    </tr>\n",
       "  </tbody>\n",
       "</table>\n",
       "<p>1129 rows × 21 columns</p>\n",
       "</div>"
      ],
      "text/plain": [
       "      Quartos  Banheiros  Vagas na garagem          Area  Quartos2  \\\n",
       "5171        3          1                 1 -0.4796054459         9   \n",
       "4137        3          2                 2 -0.3997051235         9   \n",
       "3966        2          1                 2 -0.5595057684         4   \n",
       "6316        4          5                 3  0.3060810580        16   \n",
       "5708        4          3                 2 -0.0468120328        16   \n",
       "...       ...        ...               ...           ...       ...   \n",
       "4866        3          1                 1 -0.1799792368         9   \n",
       "5305        3          2                 2 -0.3997051235         9   \n",
       "2520        2          2                 2 -0.5661641286         4   \n",
       "2197        3          3                 2  1.0185255997         9   \n",
       "6195        5          4                 2  1.0185255997        25   \n",
       "\n",
       "      Banheiros2         Area2  Banheiro Por Quartos  Categoria_Apartamentos  \\\n",
       "5171           1  8.6602540378          0.3333333333            1.0000000000   \n",
       "4137           4  9.3273790531          0.6666666667            1.0000000000   \n",
       "3966           1  7.9372539332          0.5000000000            1.0000000000   \n",
       "6316          25 13.8924439894          1.2500000000            1.0000000000   \n",
       "5708           9 11.8321595662          0.7500000000            1.0000000000   \n",
       "...          ...           ...                   ...                     ...   \n",
       "4866           1 10.9544511501          0.3333333333            1.0000000000   \n",
       "5305           4  9.3273790531          0.6666666667            1.0000000000   \n",
       "2520           4  7.8740078740          1.0000000000            1.0000000000   \n",
       "2197           9 17.3205080757          1.0000000000            0.0000000000   \n",
       "6195          16 17.3205080757          0.8000000000            1.0000000000   \n",
       "\n",
       "      Categoria_Casas  ...  Regiao_Jardim da Penha  Regiao_Jucutuquara  \\\n",
       "5171     0.0000000000  ...            0.0000000000        0.0000000000   \n",
       "4137     0.0000000000  ...            0.0000000000        0.0000000000   \n",
       "3966     0.0000000000  ...            0.0000000000        1.0000000000   \n",
       "6316     0.0000000000  ...            0.0000000000        0.0000000000   \n",
       "5708     0.0000000000  ...            0.0000000000        0.0000000000   \n",
       "...               ...  ...                     ...                 ...   \n",
       "4866     0.0000000000  ...            0.0000000000        0.0000000000   \n",
       "5305     0.0000000000  ...            0.0000000000        0.0000000000   \n",
       "2520     0.0000000000  ...            0.0000000000        0.0000000000   \n",
       "2197     1.0000000000  ...            0.0000000000        0.0000000000   \n",
       "6195     0.0000000000  ...            0.0000000000        0.0000000000   \n",
       "\n",
       "      Regiao_Maruípe  Regiao_Santo Antônio  Regiao_Zona Leste  \\\n",
       "5171    0.0000000000          0.0000000000       0.0000000000   \n",
       "4137    0.0000000000          0.0000000000       1.0000000000   \n",
       "3966    0.0000000000          0.0000000000       0.0000000000   \n",
       "6316    0.0000000000          0.0000000000       1.0000000000   \n",
       "5708    0.0000000000          0.0000000000       0.0000000000   \n",
       "...              ...                   ...                ...   \n",
       "4866    0.0000000000          0.0000000000       1.0000000000   \n",
       "5305    0.0000000000          0.0000000000       1.0000000000   \n",
       "2520    0.0000000000          0.0000000000       0.0000000000   \n",
       "2197    1.0000000000          0.0000000000       0.0000000000   \n",
       "6195    0.0000000000          0.0000000000       1.0000000000   \n",
       "\n",
       "      Regiao_Zona Norte  Regiao_Zona Oeste  Regiao_Zona Sul  \\\n",
       "5171       0.0000000000       0.0000000000     0.0000000000   \n",
       "4137       0.0000000000       0.0000000000     0.0000000000   \n",
       "3966       0.0000000000       0.0000000000     0.0000000000   \n",
       "6316       0.0000000000       0.0000000000     0.0000000000   \n",
       "5708       0.0000000000       0.0000000000     0.0000000000   \n",
       "...                 ...                ...              ...   \n",
       "4866       0.0000000000       0.0000000000     0.0000000000   \n",
       "5305       0.0000000000       0.0000000000     0.0000000000   \n",
       "2520       0.0000000000       0.0000000000     0.0000000000   \n",
       "2197       0.0000000000       0.0000000000     0.0000000000   \n",
       "6195       0.0000000000       0.0000000000     0.0000000000   \n",
       "\n",
       "      TipoClasse_Classe A  TipoClasse_Classe B  \n",
       "5171         0.0000000000         1.0000000000  \n",
       "4137         0.0000000000         1.0000000000  \n",
       "3966         0.0000000000         1.0000000000  \n",
       "6316         0.0000000000         1.0000000000  \n",
       "5708         0.0000000000         1.0000000000  \n",
       "...                   ...                  ...  \n",
       "4866         0.0000000000         1.0000000000  \n",
       "5305         0.0000000000         1.0000000000  \n",
       "2520         0.0000000000         1.0000000000  \n",
       "2197         0.0000000000         1.0000000000  \n",
       "6195         0.0000000000         1.0000000000  \n",
       "\n",
       "[1129 rows x 21 columns]"
      ]
     },
     "execution_count": 1066,
     "metadata": {},
     "output_type": "execute_result"
    }
   ],
   "source": [
    "x_test"
   ]
  },
  {
   "cell_type": "code",
   "execution_count": 1067,
   "metadata": {},
   "outputs": [
    {
     "data": {
      "text/plain": [
       "0.14942070708926702"
      ]
     },
     "execution_count": 1067,
     "metadata": {},
     "output_type": "execute_result"
    }
   ],
   "source": [
    "median_absolute_error(y_test2, y_predict2) / y_test2.mean()"
   ]
  },
  {
   "cell_type": "code",
   "execution_count": 1068,
   "metadata": {},
   "outputs": [
    {
     "data": {
      "text/plain": [
       "942257.7784663914"
      ]
     },
     "execution_count": 1068,
     "metadata": {},
     "output_type": "execute_result"
    }
   ],
   "source": [
    "y_predict2.mean()"
   ]
  },
  {
   "cell_type": "code",
   "execution_count": null,
   "metadata": {},
   "outputs": [],
   "source": []
  }
 ],
 "metadata": {
  "interpreter": {
   "hash": "18e03f19e2eea32137bb6b7634899948883c996f0eeacfc3548045b6b15590e6"
  },
  "kernelspec": {
   "display_name": "Python 3.7.4 64-bit ('base': conda)",
   "language": "python",
   "name": "python3"
  },
  "language_info": {
   "codemirror_mode": {
    "name": "ipython",
    "version": 3
   },
   "file_extension": ".py",
   "mimetype": "text/x-python",
   "name": "python",
   "nbconvert_exporter": "python",
   "pygments_lexer": "ipython3",
   "version": "3.7.4"
  },
  "orig_nbformat": 4
 },
 "nbformat": 4,
 "nbformat_minor": 2
}
