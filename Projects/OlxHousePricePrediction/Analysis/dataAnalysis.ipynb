{
 "cells": [
  {
   "cell_type": "code",
   "execution_count": 1073,
   "metadata": {},
   "outputs": [],
   "source": [
    "import pandas as pd \n",
    "import matplotlib.pyplot as plt \n",
    "pd.options.display.float_format = '{:,.4f}'.format\n",
    "import warnings\n",
    "warnings.simplefilter(action='ignore', category=FutureWarning)\n",
    "import numpy as np "
   ]
  },
  {
   "cell_type": "markdown",
   "metadata": {},
   "source": [
    "# Carga"
   ]
  },
  {
   "cell_type": "code",
   "execution_count": 1074,
   "metadata": {},
   "outputs": [],
   "source": [
    "vixCasa = pd.read_csv(r'C:\\Users\\arthu\\OneDrive\\Projetos\\0-GitHub\\mlStuff\\Projects\\OlxHousePricePrediction\\Extraction\\data\\vixCasas.csv' , encoding='utf-16', sep='|')"
   ]
  },
  {
   "cell_type": "code",
   "execution_count": 1075,
   "metadata": {},
   "outputs": [],
   "source": [
    "vixApp = pd.read_csv(r'C:\\Users\\arthu\\OneDrive\\Projetos\\0-GitHub\\mlStuff\\Projects\\OlxHousePricePrediction\\Extraction\\data\\vixApartamentos.csv' , encoding='utf-16', sep='|')"
   ]
  },
  {
   "cell_type": "code",
   "execution_count": 1076,
   "metadata": {},
   "outputs": [],
   "source": [
    "df = pd.concat([vixCasa, vixApp], ignore_index=True)"
   ]
  },
  {
   "cell_type": "code",
   "execution_count": 1077,
   "metadata": {},
   "outputs": [],
   "source": [
    "df = df.drop_duplicates(subset=(['Codigo']))"
   ]
  },
  {
   "cell_type": "markdown",
   "metadata": {},
   "source": [
    "# Tratamento de dados"
   ]
  },
  {
   "cell_type": "markdown",
   "metadata": {},
   "source": [
    "### Alterando tipo de dados"
   ]
  },
  {
   "cell_type": "code",
   "execution_count": 1078,
   "metadata": {},
   "outputs": [],
   "source": [
    "df['Valor']= df['Valor'].map(lambda x : str(x).replace('R$ ','').replace('.','')).astype(float)"
   ]
  },
  {
   "cell_type": "code",
   "execution_count": 1079,
   "metadata": {},
   "outputs": [],
   "source": [
    "df['Área útil'] =  df['Área útil'].map(lambda x : str(x).replace('m²' ,'')).astype(float)\n",
    "df['Área construída'] = df['Área construída'].map(lambda x : str(x).replace('m²' ,'')).astype(float)\n",
    "df['Area'] = df['Área útil'].fillna(df['Área construída'])"
   ]
  },
  {
   "cell_type": "code",
   "execution_count": 1080,
   "metadata": {},
   "outputs": [],
   "source": [
    "df['Quartos'] = df['Quartos'].map(lambda x : 5 if x=='5 ou mais' else int(x))\n",
    "df['Banheiros'] = df['Banheiros'].fillna(0).map(lambda x : 5 if x=='5 ou mais' else int(x))\n",
    "df['Vagas na garagem'] = df['Vagas na garagem'].fillna(0).map(lambda x : 5 if x=='5 ou mais' else int(x))"
   ]
  },
  {
   "cell_type": "code",
   "execution_count": 1081,
   "metadata": {},
   "outputs": [],
   "source": [
    "df.drop(['Link','Descricao','Área útil' , 'Área construída', 'Page' ,'Detalhes do imóvel', 'Condomínio', 'IPTU',\n",
    "       'Detalhes do condominio', 'Logradouro','CEP', 'Município', 'Codigo','Tipo'] , axis=1, inplace=True)"
   ]
  },
  {
   "cell_type": "code",
   "execution_count": 1082,
   "metadata": {},
   "outputs": [],
   "source": [
    "df = df[df['Banheiros'] >0]\n",
    "df = df[df['Quartos'] >0]"
   ]
  },
  {
   "cell_type": "markdown",
   "metadata": {},
   "source": [
    "### Análise e remoção de outliers"
   ]
  },
  {
   "cell_type": "code",
   "execution_count": 1083,
   "metadata": {},
   "outputs": [],
   "source": [
    "def fncCalculaLimites(x):\n",
    "    return x.quantile(0.75) + x.std()*1.5 , x.quantile(0.25) - x.std()*1.5 "
   ]
  },
  {
   "cell_type": "markdown",
   "metadata": {},
   "source": [
    "##### Valor"
   ]
  },
  {
   "cell_type": "code",
   "execution_count": 1084,
   "metadata": {},
   "outputs": [
    {
     "data": {
      "image/png": "[encoded data removed]",
      "text/plain": [
       "<Figure size 2880x720 with 2 Axes>"
      ]
     },
     "metadata": {
      "needs_background": "light"
     },
     "output_type": "display_data"
    }
   ],
   "source": [
    "plt.figure(figsize=(40,10))\n",
    "plt.subplot(1,2,1)\n",
    "plt.ticklabel_format(style = 'plain')\n",
    "df['Valor'].hist(bins= 30)\n",
    "\n",
    "plt.subplot(1,2,2)\n",
    "df['Valor'].plot(kind = 'box')\n",
    "plt.show()"
   ]
  },
  {
   "cell_type": "code",
   "execution_count": 1085,
   "metadata": {},
   "outputs": [
    {
     "data": {
      "text/plain": [
       "(22.73632578144708, 15.375346193339947)"
      ]
     },
     "execution_count": 1085,
     "metadata": {},
     "output_type": "execute_result"
    }
   ],
   "source": [
    "fncCalculaLimites(np.log2(df[df['Valor']>0]['Valor']))"
   ]
  },
  {
   "cell_type": "code",
   "execution_count": 1086,
   "metadata": {},
   "outputs": [
    {
     "data": {
      "text/plain": [
       "<AxesSubplot:>"
      ]
     },
     "execution_count": 1086,
     "metadata": {},
     "output_type": "execute_result"
    },
    {
     "data": {
      "image/png": "[encoded data removed]",
      "text/plain": [
       "<Figure size 432x288 with 1 Axes>"
      ]
     },
     "metadata": {
      "needs_background": "light"
     },
     "output_type": "display_data"
    }
   ],
   "source": [
    "np.log2(df[df['Valor']>0]['Valor']).hist()"
   ]
  },
  {
   "cell_type": "code",
   "execution_count": 1087,
   "metadata": {},
   "outputs": [
    {
     "data": {
      "text/html": [
       "<div>\n",
       "<style scoped>\n",
       "    .dataframe tbody tr th:only-of-type {\n",
       "        vertical-align: middle;\n",
       "    }\n",
       "\n",
       "    .dataframe tbody tr th {\n",
       "        vertical-align: top;\n",
       "    }\n",
       "\n",
       "    .dataframe thead th {\n",
       "        text-align: right;\n",
       "    }\n",
       "</style>\n",
       "<table border=\"1\" class=\"dataframe\">\n",
       "  <thead>\n",
       "    <tr style=\"text-align: right;\">\n",
       "      <th></th>\n",
       "      <th>Valor</th>\n",
       "      <th>Categoria</th>\n",
       "      <th>Quartos</th>\n",
       "      <th>Banheiros</th>\n",
       "      <th>Vagas na garagem</th>\n",
       "      <th>Bairro</th>\n",
       "      <th>Area</th>\n",
       "    </tr>\n",
       "  </thead>\n",
       "  <tbody>\n",
       "    <tr>\n",
       "      <th>33</th>\n",
       "      <td>20,000.0000</td>\n",
       "      <td>Casas</td>\n",
       "      <td>2</td>\n",
       "      <td>2</td>\n",
       "      <td>1</td>\n",
       "      <td>Goiabeiras</td>\n",
       "      <td>200.0000</td>\n",
       "    </tr>\n",
       "    <tr>\n",
       "      <th>92</th>\n",
       "      <td>9,000.0000</td>\n",
       "      <td>Casas</td>\n",
       "      <td>5</td>\n",
       "      <td>5</td>\n",
       "      <td>1</td>\n",
       "      <td>Praia do Canto</td>\n",
       "      <td>194.0000</td>\n",
       "    </tr>\n",
       "    <tr>\n",
       "      <th>124</th>\n",
       "      <td>25,000.0000</td>\n",
       "      <td>Casas</td>\n",
       "      <td>3</td>\n",
       "      <td>2</td>\n",
       "      <td>0</td>\n",
       "      <td>Santa Cecília</td>\n",
       "      <td>NaN</td>\n",
       "    </tr>\n",
       "    <tr>\n",
       "      <th>130</th>\n",
       "      <td>0.0000</td>\n",
       "      <td>Casas</td>\n",
       "      <td>2</td>\n",
       "      <td>2</td>\n",
       "      <td>2</td>\n",
       "      <td>Centro</td>\n",
       "      <td>NaN</td>\n",
       "    </tr>\n",
       "    <tr>\n",
       "      <th>218</th>\n",
       "      <td>5,000.0000</td>\n",
       "      <td>Casas</td>\n",
       "      <td>2</td>\n",
       "      <td>2</td>\n",
       "      <td>0</td>\n",
       "      <td>São Pedro</td>\n",
       "      <td>NaN</td>\n",
       "    </tr>\n",
       "    <tr>\n",
       "      <th>...</th>\n",
       "      <td>...</td>\n",
       "      <td>...</td>\n",
       "      <td>...</td>\n",
       "      <td>...</td>\n",
       "      <td>...</td>\n",
       "      <td>...</td>\n",
       "      <td>...</td>\n",
       "    </tr>\n",
       "    <tr>\n",
       "      <th>6823</th>\n",
       "      <td>1,250.0000</td>\n",
       "      <td>Apartamentos</td>\n",
       "      <td>1</td>\n",
       "      <td>1</td>\n",
       "      <td>0</td>\n",
       "      <td>Centro</td>\n",
       "      <td>80.0000</td>\n",
       "    </tr>\n",
       "    <tr>\n",
       "      <th>6950</th>\n",
       "      <td>800.0000</td>\n",
       "      <td>Apartamentos</td>\n",
       "      <td>4</td>\n",
       "      <td>3</td>\n",
       "      <td>2</td>\n",
       "      <td>Jardim Camburi</td>\n",
       "      <td>NaN</td>\n",
       "    </tr>\n",
       "    <tr>\n",
       "      <th>7080</th>\n",
       "      <td>0.0000</td>\n",
       "      <td>Apartamentos</td>\n",
       "      <td>3</td>\n",
       "      <td>2</td>\n",
       "      <td>2</td>\n",
       "      <td>Santa Lúcia</td>\n",
       "      <td>0.0000</td>\n",
       "    </tr>\n",
       "    <tr>\n",
       "      <th>7101</th>\n",
       "      <td>0.0000</td>\n",
       "      <td>Apartamentos</td>\n",
       "      <td>2</td>\n",
       "      <td>1</td>\n",
       "      <td>1</td>\n",
       "      <td>Centro</td>\n",
       "      <td>0.0000</td>\n",
       "    </tr>\n",
       "    <tr>\n",
       "      <th>7354</th>\n",
       "      <td>26,000.0000</td>\n",
       "      <td>Apartamentos</td>\n",
       "      <td>2</td>\n",
       "      <td>2</td>\n",
       "      <td>1</td>\n",
       "      <td>Cruzamento</td>\n",
       "      <td>58.0000</td>\n",
       "    </tr>\n",
       "  </tbody>\n",
       "</table>\n",
       "<p>249 rows × 7 columns</p>\n",
       "</div>"
      ],
      "text/plain": [
       "           Valor     Categoria  Quartos  Banheiros  Vagas na garagem  \\\n",
       "33   20,000.0000         Casas        2          2                 1   \n",
       "92    9,000.0000         Casas        5          5                 1   \n",
       "124  25,000.0000         Casas        3          2                 0   \n",
       "130       0.0000         Casas        2          2                 2   \n",
       "218   5,000.0000         Casas        2          2                 0   \n",
       "...          ...           ...      ...        ...               ...   \n",
       "6823  1,250.0000  Apartamentos        1          1                 0   \n",
       "6950    800.0000  Apartamentos        4          3                 2   \n",
       "7080      0.0000  Apartamentos        3          2                 2   \n",
       "7101      0.0000  Apartamentos        2          1                 1   \n",
       "7354 26,000.0000  Apartamentos        2          2                 1   \n",
       "\n",
       "              Bairro     Area  \n",
       "33        Goiabeiras 200.0000  \n",
       "92    Praia do Canto 194.0000  \n",
       "124    Santa Cecília      NaN  \n",
       "130           Centro      NaN  \n",
       "218        São Pedro      NaN  \n",
       "...              ...      ...  \n",
       "6823          Centro  80.0000  \n",
       "6950  Jardim Camburi      NaN  \n",
       "7080     Santa Lúcia   0.0000  \n",
       "7101          Centro   0.0000  \n",
       "7354      Cruzamento  58.0000  \n",
       "\n",
       "[249 rows x 7 columns]"
      ]
     },
     "execution_count": 1087,
     "metadata": {},
     "output_type": "execute_result"
    }
   ],
   "source": [
    "df[df['Valor']<=42000]"
   ]
  },
  {
   "cell_type": "code",
   "execution_count": 1088,
   "metadata": {},
   "outputs": [],
   "source": [
    "df = df[(df['Valor']>42000) & (df['Valor']<=7000000)]"
   ]
  },
  {
   "cell_type": "code",
   "execution_count": 1089,
   "metadata": {},
   "outputs": [
    {
     "data": {
      "image/png": "[encoded data removed]",
      "text/plain": [
       "<Figure size 2880x720 with 2 Axes>"
      ]
     },
     "metadata": {
      "needs_background": "light"
     },
     "output_type": "display_data"
    }
   ],
   "source": [
    "plt.figure(figsize=(40,10))\n",
    "plt.subplot(1,2,1)\n",
    "plt.ticklabel_format(style = 'plain')\n",
    "df['Valor'].hist(bins= 30)\n",
    "\n",
    "plt.subplot(1,2,2)\n",
    "df['Valor'].plot(kind = 'box')\n",
    "plt.show()"
   ]
  },
  {
   "cell_type": "markdown",
   "metadata": {},
   "source": [
    "##### Area"
   ]
  },
  {
   "cell_type": "code",
   "execution_count": 1090,
   "metadata": {},
   "outputs": [
    {
     "data": {
      "image/png": "[encoded data removed]",
      "text/plain": [
       "<Figure size 2880x720 with 2 Axes>"
      ]
     },
     "metadata": {
      "needs_background": "light"
     },
     "output_type": "display_data"
    }
   ],
   "source": [
    "plt.figure(figsize=(40,10))\n",
    "plt.subplot(1,2,1)\n",
    "plt.ticklabel_format(style = 'plain')\n",
    "df['Area'].hist(bins= 30)\n",
    "\n",
    "plt.subplot(1,2,2)\n",
    "df['Area'].plot(kind = 'box')\n",
    "plt.show()"
   ]
  },
  {
   "cell_type": "code",
   "execution_count": 1091,
   "metadata": {},
   "outputs": [
    {
     "data": {
      "text/html": [
       "<div>\n",
       "<style scoped>\n",
       "    .dataframe tbody tr th:only-of-type {\n",
       "        vertical-align: middle;\n",
       "    }\n",
       "\n",
       "    .dataframe tbody tr th {\n",
       "        vertical-align: top;\n",
       "    }\n",
       "\n",
       "    .dataframe thead th {\n",
       "        text-align: right;\n",
       "    }\n",
       "</style>\n",
       "<table border=\"1\" class=\"dataframe\">\n",
       "  <thead>\n",
       "    <tr style=\"text-align: right;\">\n",
       "      <th></th>\n",
       "      <th>Valor</th>\n",
       "      <th>Categoria</th>\n",
       "      <th>Quartos</th>\n",
       "      <th>Banheiros</th>\n",
       "      <th>Vagas na garagem</th>\n",
       "      <th>Bairro</th>\n",
       "      <th>Area</th>\n",
       "    </tr>\n",
       "  </thead>\n",
       "  <tbody>\n",
       "    <tr>\n",
       "      <th>1</th>\n",
       "      <td>400,000.0000</td>\n",
       "      <td>Casas</td>\n",
       "      <td>3</td>\n",
       "      <td>2</td>\n",
       "      <td>2</td>\n",
       "      <td>Goiabeiras</td>\n",
       "      <td>0.0000</td>\n",
       "    </tr>\n",
       "    <tr>\n",
       "      <th>20</th>\n",
       "      <td>265,000.0000</td>\n",
       "      <td>Casas</td>\n",
       "      <td>2</td>\n",
       "      <td>2</td>\n",
       "      <td>1</td>\n",
       "      <td>Jucutuquara</td>\n",
       "      <td>0.0000</td>\n",
       "    </tr>\n",
       "    <tr>\n",
       "      <th>39</th>\n",
       "      <td>250,000.0000</td>\n",
       "      <td>Casas</td>\n",
       "      <td>3</td>\n",
       "      <td>2</td>\n",
       "      <td>2</td>\n",
       "      <td>Gurigica</td>\n",
       "      <td>0.0000</td>\n",
       "    </tr>\n",
       "    <tr>\n",
       "      <th>52</th>\n",
       "      <td>190,000.0000</td>\n",
       "      <td>Casas</td>\n",
       "      <td>3</td>\n",
       "      <td>4</td>\n",
       "      <td>2</td>\n",
       "      <td>Jucutuquara</td>\n",
       "      <td>0.0000</td>\n",
       "    </tr>\n",
       "    <tr>\n",
       "      <th>76</th>\n",
       "      <td>270,000.0000</td>\n",
       "      <td>Casas</td>\n",
       "      <td>3</td>\n",
       "      <td>2</td>\n",
       "      <td>1</td>\n",
       "      <td>Goiabeiras</td>\n",
       "      <td>0.0000</td>\n",
       "    </tr>\n",
       "    <tr>\n",
       "      <th>...</th>\n",
       "      <td>...</td>\n",
       "      <td>...</td>\n",
       "      <td>...</td>\n",
       "      <td>...</td>\n",
       "      <td>...</td>\n",
       "      <td>...</td>\n",
       "      <td>...</td>\n",
       "    </tr>\n",
       "    <tr>\n",
       "      <th>7296</th>\n",
       "      <td>782,000.0000</td>\n",
       "      <td>Apartamentos</td>\n",
       "      <td>3</td>\n",
       "      <td>3</td>\n",
       "      <td>2</td>\n",
       "      <td>Santa Luíza</td>\n",
       "      <td>0.0000</td>\n",
       "    </tr>\n",
       "    <tr>\n",
       "      <th>7342</th>\n",
       "      <td>779,004.0000</td>\n",
       "      <td>Apartamentos</td>\n",
       "      <td>3</td>\n",
       "      <td>2</td>\n",
       "      <td>2</td>\n",
       "      <td>Barro Vermelho</td>\n",
       "      <td>0.0000</td>\n",
       "    </tr>\n",
       "    <tr>\n",
       "      <th>7344</th>\n",
       "      <td>780,010.0000</td>\n",
       "      <td>Apartamentos</td>\n",
       "      <td>3</td>\n",
       "      <td>3</td>\n",
       "      <td>2</td>\n",
       "      <td>Santa Luíza</td>\n",
       "      <td>0.0000</td>\n",
       "    </tr>\n",
       "    <tr>\n",
       "      <th>7375</th>\n",
       "      <td>780,000.0000</td>\n",
       "      <td>Apartamentos</td>\n",
       "      <td>3</td>\n",
       "      <td>3</td>\n",
       "      <td>2</td>\n",
       "      <td>Santa Luíza</td>\n",
       "      <td>0.0000</td>\n",
       "    </tr>\n",
       "    <tr>\n",
       "      <th>7380</th>\n",
       "      <td>469,982.0000</td>\n",
       "      <td>Apartamentos</td>\n",
       "      <td>3</td>\n",
       "      <td>2</td>\n",
       "      <td>1</td>\n",
       "      <td>Jardim Camburi</td>\n",
       "      <td>0.0000</td>\n",
       "    </tr>\n",
       "  </tbody>\n",
       "</table>\n",
       "<p>181 rows × 7 columns</p>\n",
       "</div>"
      ],
      "text/plain": [
       "            Valor     Categoria  Quartos  Banheiros  Vagas na garagem  \\\n",
       "1    400,000.0000         Casas        3          2                 2   \n",
       "20   265,000.0000         Casas        2          2                 1   \n",
       "39   250,000.0000         Casas        3          2                 2   \n",
       "52   190,000.0000         Casas        3          4                 2   \n",
       "76   270,000.0000         Casas        3          2                 1   \n",
       "...           ...           ...      ...        ...               ...   \n",
       "7296 782,000.0000  Apartamentos        3          3                 2   \n",
       "7342 779,004.0000  Apartamentos        3          2                 2   \n",
       "7344 780,010.0000  Apartamentos        3          3                 2   \n",
       "7375 780,000.0000  Apartamentos        3          3                 2   \n",
       "7380 469,982.0000  Apartamentos        3          2                 1   \n",
       "\n",
       "              Bairro   Area  \n",
       "1         Goiabeiras 0.0000  \n",
       "20       Jucutuquara 0.0000  \n",
       "39          Gurigica 0.0000  \n",
       "52       Jucutuquara 0.0000  \n",
       "76        Goiabeiras 0.0000  \n",
       "...              ...    ...  \n",
       "7296     Santa Luíza 0.0000  \n",
       "7342  Barro Vermelho 0.0000  \n",
       "7344     Santa Luíza 0.0000  \n",
       "7375     Santa Luíza 0.0000  \n",
       "7380  Jardim Camburi 0.0000  \n",
       "\n",
       "[181 rows x 7 columns]"
      ]
     },
     "execution_count": 1091,
     "metadata": {},
     "output_type": "execute_result"
    }
   ],
   "source": [
    "# Temos 341 itens com area 0 e podemos considerar erros de preenchimento\n",
    "df[df['Area']==0]"
   ]
  },
  {
   "cell_type": "code",
   "execution_count": 1092,
   "metadata": {},
   "outputs": [],
   "source": [
    "# Removendo valores com erro de preenchimento\n",
    "df= df[df['Area']>0]"
   ]
  },
  {
   "cell_type": "code",
   "execution_count": 1093,
   "metadata": {},
   "outputs": [],
   "source": [
    "max , min = fncCalculaLimites(df['Area'])\n",
    "df = df[(df['Area'] > min) & (df['Area'] < max)]"
   ]
  },
  {
   "cell_type": "code",
   "execution_count": 1094,
   "metadata": {},
   "outputs": [
    {
     "data": {
      "image/png": "[encoded data removed]",
      "text/plain": [
       "<Figure size 2880x720 with 2 Axes>"
      ]
     },
     "metadata": {
      "needs_background": "light"
     },
     "output_type": "display_data"
    }
   ],
   "source": [
    "plt.figure(figsize=(40,10))\n",
    "plt.subplot(1,2,1)\n",
    "plt.ticklabel_format(style = 'plain')\n",
    "df['Area'].hist(bins= 30)\n",
    "\n",
    "plt.subplot(1,2,2)\n",
    "df['Area'].plot(kind = 'box')\n",
    "plt.show()"
   ]
  },
  {
   "cell_type": "markdown",
   "metadata": {},
   "source": [
    "### Campos descritivos"
   ]
  },
  {
   "cell_type": "markdown",
   "metadata": {},
   "source": [
    "##### Bairros"
   ]
  },
  {
   "cell_type": "code",
   "execution_count": 1095,
   "metadata": {},
   "outputs": [
    {
     "data": {
      "text/plain": [
       "Jardim Camburi       1780\n",
       "Jardim da Penha       636\n",
       "Praia do Canto        541\n",
       "Mata da Praia         413\n",
       "Bento Ferreira        356\n",
       "                     ... \n",
       "Jesus de Nazareth       1\n",
       "Andorinhas              1\n",
       "Segurança do Lar        1\n",
       "Parque Industrial       1\n",
       "Nazareth                1\n",
       "Name: Bairro, Length: 72, dtype: int64"
      ]
     },
     "execution_count": 1095,
     "metadata": {},
     "output_type": "execute_result"
    }
   ],
   "source": [
    "df['Bairro'].value_counts()"
   ]
  },
  {
   "cell_type": "code",
   "execution_count": 1096,
   "metadata": {},
   "outputs": [],
   "source": [
    "regioes ={\n",
    " 'Itararé':  'Maruípe' ,\n",
    " 'Santa Lúcia':  'Zona Leste' ,\n",
    " 'Jardim Camburi': 'Jardim Camburi'  ,\n",
    " 'Goiabeiras':  'Zona Norte' ,\n",
    " 'Santa Helena':  'Zona Leste' ,\n",
    " 'Ilha do Boi':   'Zona Leste',\n",
    " 'Jucutuquara':  'Jucutuquara' ,\n",
    " 'Praia do Canto': 'Zona Leste'  ,\n",
    " 'Centro':  'Zona Sul' ,\n",
    " 'Fradinhos':  'Jucutuquara' ,\n",
    " 'Mata da Praia': 'Jardim da Penha'  ,\n",
    " \"Joana D'arc\":  'Maruípe' ,\n",
    " 'Bento Ferreira':  'Jucutuquara' ,\n",
    " 'de Lourdes':  'Jucutuquara' ,\n",
    " 'República':  'Jardim da Penha' ,\n",
    " 'Santa Cecília': 'Maruípe'  ,\n",
    " 'Morada de Camburi': 'Jardim da Penha'  ,\n",
    " 'Maruípe': 'Maruípe'  ,\n",
    " 'Tabuazeiro': 'Maruípe'  ,\n",
    " 'Maria Ortiz':  'Zona Norte' ,\n",
    " 'Santo Antônio':  'Santo Antônio' ,\n",
    " 'Santa Martha':  'Maruípe' ,\n",
    " 'São Cristóvão':   'Maruípe',\n",
    " 'Santos Reis': 'Zona Oeste'  ,\n",
    " 'Enseada do Suá': 'Zona Leste'  ,\n",
    " 'Santos Dumont':  'Maruípe' ,\n",
    " 'Jardim da Penha':  'Jardim da Penha' ,\n",
    " 'Universitário':  'Santo Antônio' ,\n",
    " 'Solon Borges': 'Zona Norte'  ,\n",
    " 'Santa Tereza':  'Santo Antônio' ,\n",
    " 'Ilha do Frade':  'Zona Leste' ,\n",
    " 'da Penha':  'Maruípe' ,\n",
    " 'Horto': 'Jucutuquara'  ,\n",
    " 'Santa Clara':   'Zona Sul',\n",
    " 'São Pedro':  'Zona Oeste' ,\n",
    " 'Parque Moscoso':  'Zona Sul'  ,\n",
    " 'Consolação':  'Jucutuquara' ,\n",
    " 'São Benedito':  'Maruípe' ,\n",
    " 'Caratoíra': 'Santo Antônio'  ,\n",
    " 'Grande Vitória':  'Santo Antônio' ,\n",
    " 'Jesus de Nazareth': 'Jucutuquara'  ,\n",
    " 'Romão': 'Jucutuquara'  ,\n",
    " 'Bonfim':  'Maruípe' ,\n",
    " 'Praia do Suá': 'Zona Leste'  ,\n",
    " 'Mário Cypreste': 'Santo Antônio'  ,\n",
    " 'Jabour': 'Zona Norte'  ,\n",
    " 'Santa Luíza':  'Zona Leste' ,\n",
    " 'São José': 'Zona Oeste'  ,\n",
    " 'Pontal de Camburi': 'Jardim da Penha'  ,\n",
    " 'Andorinhas':  'Maruípe' ,\n",
    " 'Nova Palestina':  'Zona Oeste' ,\n",
    " 'Boa Vista': 'Jardim da Penha'  ,\n",
    " 'Redenção': 'Zona Oeste'  ,\n",
    " 'Antônio Honório':  'Zona Norte' ,\n",
    " 'Monte Belo':  'Jucutuquara' ,\n",
    " 'Barro Vermelho':  'Zona Leste' ,\n",
    " 'Resistência': 'Zona Oeste'  ,\n",
    " 'Bela Vista':  \t'Santo Antônio'  ,\n",
    " 'Santo André':  'Zona Oeste' ,\n",
    " 'Ilha do Príncipe':  'Zona Sul'  ,\n",
    " 'Ilha de Santa Maria': 'Jucutuquara'  ,\n",
    " 'Fonte Grande':  'Zona Sul' ,\n",
    " 'Estrelinha':  'Santo Antônio' ,\n",
    " 'Inhanguetá':  'Santo Antônio' ,\n",
    " 'Vila Rubim':  'Zona Sul' ,\n",
    " 'Cruzamento':  'Jucutuquara' ,\n",
    " 'Ilha das Caieiras': 'Zona Oeste'  ,\n",
    " 'do Moscoso': 'Zona Sul'  ,\n",
    " 'Forte São João':  'Jucutuquara' ,\n",
    " 'Segurança do Lar':  'Zona Norte' ,\n",
    " 'Piedade' : 'Zona Sul',\n",
    " 'Parque Industrial': 'Jardim Camburi'  ,\n",
    " 'Nazareth' :'Jucutuquara'\n",
    "}"
   ]
  },
  {
   "cell_type": "code",
   "execution_count": 1097,
   "metadata": {},
   "outputs": [],
   "source": [
    "df['Regiao'] = df['Bairro'].map(regioes)"
   ]
  },
  {
   "cell_type": "code",
   "execution_count": 1098,
   "metadata": {},
   "outputs": [
    {
     "data": {
      "text/plain": [
       "Jardim Camburi     1781\n",
       "Zona Leste         1482\n",
       "Jardim da Penha    1147\n",
       "Jucutuquara         509\n",
       "Zona Sul            298\n",
       "Maruípe             248\n",
       "Zona Norte           99\n",
       "Santo Antônio        56\n",
       "Zona Oeste           47\n",
       "Name: Regiao, dtype: int64"
      ]
     },
     "execution_count": 1098,
     "metadata": {},
     "output_type": "execute_result"
    }
   ],
   "source": [
    "df['Regiao'].value_counts()"
   ]
  },
  {
   "cell_type": "code",
   "execution_count": 1099,
   "metadata": {},
   "outputs": [
    {
     "data": {
      "text/html": [
       "<div>\n",
       "<style scoped>\n",
       "    .dataframe tbody tr th:only-of-type {\n",
       "        vertical-align: middle;\n",
       "    }\n",
       "\n",
       "    .dataframe tbody tr th {\n",
       "        vertical-align: top;\n",
       "    }\n",
       "\n",
       "    .dataframe thead th {\n",
       "        text-align: right;\n",
       "    }\n",
       "</style>\n",
       "<table border=\"1\" class=\"dataframe\">\n",
       "  <thead>\n",
       "    <tr style=\"text-align: right;\">\n",
       "      <th></th>\n",
       "      <th>Valor</th>\n",
       "      <th>Categoria</th>\n",
       "      <th>Quartos</th>\n",
       "      <th>Banheiros</th>\n",
       "      <th>Vagas na garagem</th>\n",
       "      <th>Bairro</th>\n",
       "      <th>Area</th>\n",
       "      <th>Regiao</th>\n",
       "    </tr>\n",
       "  </thead>\n",
       "  <tbody>\n",
       "    <tr>\n",
       "      <th>0</th>\n",
       "      <td>150,000.0000</td>\n",
       "      <td>Casas</td>\n",
       "      <td>3</td>\n",
       "      <td>2</td>\n",
       "      <td>1</td>\n",
       "      <td>Itararé</td>\n",
       "      <td>110.0000</td>\n",
       "      <td>Maruípe</td>\n",
       "    </tr>\n",
       "    <tr>\n",
       "      <th>2</th>\n",
       "      <td>150,000.0000</td>\n",
       "      <td>Casas</td>\n",
       "      <td>2</td>\n",
       "      <td>2</td>\n",
       "      <td>2</td>\n",
       "      <td>Itararé</td>\n",
       "      <td>125.0000</td>\n",
       "      <td>Maruípe</td>\n",
       "    </tr>\n",
       "    <tr>\n",
       "      <th>3</th>\n",
       "      <td>550,000.0000</td>\n",
       "      <td>Casas</td>\n",
       "      <td>2</td>\n",
       "      <td>1</td>\n",
       "      <td>1</td>\n",
       "      <td>Santa Lúcia</td>\n",
       "      <td>100.0000</td>\n",
       "      <td>Zona Leste</td>\n",
       "    </tr>\n",
       "    <tr>\n",
       "      <th>4</th>\n",
       "      <td>1,400,000.0000</td>\n",
       "      <td>Casas</td>\n",
       "      <td>4</td>\n",
       "      <td>2</td>\n",
       "      <td>2</td>\n",
       "      <td>Jardim Camburi</td>\n",
       "      <td>180.0000</td>\n",
       "      <td>Jardim Camburi</td>\n",
       "    </tr>\n",
       "    <tr>\n",
       "      <th>5</th>\n",
       "      <td>400,000.0000</td>\n",
       "      <td>Casas</td>\n",
       "      <td>2</td>\n",
       "      <td>1</td>\n",
       "      <td>0</td>\n",
       "      <td>Goiabeiras</td>\n",
       "      <td>140.0000</td>\n",
       "      <td>Zona Norte</td>\n",
       "    </tr>\n",
       "    <tr>\n",
       "      <th>...</th>\n",
       "      <td>...</td>\n",
       "      <td>...</td>\n",
       "      <td>...</td>\n",
       "      <td>...</td>\n",
       "      <td>...</td>\n",
       "      <td>...</td>\n",
       "      <td>...</td>\n",
       "      <td>...</td>\n",
       "    </tr>\n",
       "    <tr>\n",
       "      <th>7395</th>\n",
       "      <td>770,000.0000</td>\n",
       "      <td>Apartamentos</td>\n",
       "      <td>3</td>\n",
       "      <td>1</td>\n",
       "      <td>2</td>\n",
       "      <td>Jardim Camburi</td>\n",
       "      <td>90.0000</td>\n",
       "      <td>Jardim Camburi</td>\n",
       "    </tr>\n",
       "    <tr>\n",
       "      <th>7396</th>\n",
       "      <td>779,000.0000</td>\n",
       "      <td>Apartamentos</td>\n",
       "      <td>3</td>\n",
       "      <td>3</td>\n",
       "      <td>2</td>\n",
       "      <td>Santa Luíza</td>\n",
       "      <td>87.0000</td>\n",
       "      <td>Zona Leste</td>\n",
       "    </tr>\n",
       "    <tr>\n",
       "      <th>7397</th>\n",
       "      <td>480,000.0000</td>\n",
       "      <td>Apartamentos</td>\n",
       "      <td>2</td>\n",
       "      <td>2</td>\n",
       "      <td>2</td>\n",
       "      <td>Jardim Camburi</td>\n",
       "      <td>68.0000</td>\n",
       "      <td>Jardim Camburi</td>\n",
       "    </tr>\n",
       "    <tr>\n",
       "      <th>7398</th>\n",
       "      <td>459,500.0000</td>\n",
       "      <td>Apartamentos</td>\n",
       "      <td>2</td>\n",
       "      <td>2</td>\n",
       "      <td>1</td>\n",
       "      <td>Jardim Camburi</td>\n",
       "      <td>65.0000</td>\n",
       "      <td>Jardim Camburi</td>\n",
       "    </tr>\n",
       "    <tr>\n",
       "      <th>7399</th>\n",
       "      <td>569,000.0000</td>\n",
       "      <td>Apartamentos</td>\n",
       "      <td>3</td>\n",
       "      <td>2</td>\n",
       "      <td>2</td>\n",
       "      <td>Jardim Camburi</td>\n",
       "      <td>69.0000</td>\n",
       "      <td>Jardim Camburi</td>\n",
       "    </tr>\n",
       "  </tbody>\n",
       "</table>\n",
       "<p>5667 rows × 8 columns</p>\n",
       "</div>"
      ],
      "text/plain": [
       "              Valor     Categoria  Quartos  Banheiros  Vagas na garagem  \\\n",
       "0      150,000.0000         Casas        3          2                 1   \n",
       "2      150,000.0000         Casas        2          2                 2   \n",
       "3      550,000.0000         Casas        2          1                 1   \n",
       "4    1,400,000.0000         Casas        4          2                 2   \n",
       "5      400,000.0000         Casas        2          1                 0   \n",
       "...             ...           ...      ...        ...               ...   \n",
       "7395   770,000.0000  Apartamentos        3          1                 2   \n",
       "7396   779,000.0000  Apartamentos        3          3                 2   \n",
       "7397   480,000.0000  Apartamentos        2          2                 2   \n",
       "7398   459,500.0000  Apartamentos        2          2                 1   \n",
       "7399   569,000.0000  Apartamentos        3          2                 2   \n",
       "\n",
       "              Bairro     Area          Regiao  \n",
       "0            Itararé 110.0000         Maruípe  \n",
       "2            Itararé 125.0000         Maruípe  \n",
       "3        Santa Lúcia 100.0000      Zona Leste  \n",
       "4     Jardim Camburi 180.0000  Jardim Camburi  \n",
       "5         Goiabeiras 140.0000      Zona Norte  \n",
       "...              ...      ...             ...  \n",
       "7395  Jardim Camburi  90.0000  Jardim Camburi  \n",
       "7396     Santa Luíza  87.0000      Zona Leste  \n",
       "7397  Jardim Camburi  68.0000  Jardim Camburi  \n",
       "7398  Jardim Camburi  65.0000  Jardim Camburi  \n",
       "7399  Jardim Camburi  69.0000  Jardim Camburi  \n",
       "\n",
       "[5667 rows x 8 columns]"
      ]
     },
     "execution_count": 1099,
     "metadata": {},
     "output_type": "execute_result"
    }
   ],
   "source": [
    "df "
   ]
  },
  {
   "cell_type": "code",
   "execution_count": 1100,
   "metadata": {},
   "outputs": [
    {
     "data": {
      "text/html": [
       "<div>\n",
       "<style scoped>\n",
       "    .dataframe tbody tr th:only-of-type {\n",
       "        vertical-align: middle;\n",
       "    }\n",
       "\n",
       "    .dataframe tbody tr th {\n",
       "        vertical-align: top;\n",
       "    }\n",
       "\n",
       "    .dataframe thead th {\n",
       "        text-align: right;\n",
       "    }\n",
       "</style>\n",
       "<table border=\"1\" class=\"dataframe\">\n",
       "  <thead>\n",
       "    <tr style=\"text-align: right;\">\n",
       "      <th></th>\n",
       "      <th>Valor</th>\n",
       "      <th>Quartos</th>\n",
       "      <th>Banheiros</th>\n",
       "      <th>Vagas na garagem</th>\n",
       "      <th>Area</th>\n",
       "    </tr>\n",
       "  </thead>\n",
       "  <tbody>\n",
       "    <tr>\n",
       "      <th>Valor</th>\n",
       "      <td>1.0000</td>\n",
       "      <td>0.6084</td>\n",
       "      <td>0.6754</td>\n",
       "      <td>0.6702</td>\n",
       "      <td>0.5805</td>\n",
       "    </tr>\n",
       "    <tr>\n",
       "      <th>Quartos</th>\n",
       "      <td>0.6084</td>\n",
       "      <td>1.0000</td>\n",
       "      <td>0.6690</td>\n",
       "      <td>0.5475</td>\n",
       "      <td>0.5334</td>\n",
       "    </tr>\n",
       "    <tr>\n",
       "      <th>Banheiros</th>\n",
       "      <td>0.6754</td>\n",
       "      <td>0.6690</td>\n",
       "      <td>1.0000</td>\n",
       "      <td>0.5533</td>\n",
       "      <td>0.5009</td>\n",
       "    </tr>\n",
       "    <tr>\n",
       "      <th>Vagas na garagem</th>\n",
       "      <td>0.6702</td>\n",
       "      <td>0.5475</td>\n",
       "      <td>0.5533</td>\n",
       "      <td>1.0000</td>\n",
       "      <td>0.4812</td>\n",
       "    </tr>\n",
       "    <tr>\n",
       "      <th>Area</th>\n",
       "      <td>0.5805</td>\n",
       "      <td>0.5334</td>\n",
       "      <td>0.5009</td>\n",
       "      <td>0.4812</td>\n",
       "      <td>1.0000</td>\n",
       "    </tr>\n",
       "  </tbody>\n",
       "</table>\n",
       "</div>"
      ],
      "text/plain": [
       "                  Valor  Quartos  Banheiros  Vagas na garagem   Area\n",
       "Valor            1.0000   0.6084     0.6754            0.6702 0.5805\n",
       "Quartos          0.6084   1.0000     0.6690            0.5475 0.5334\n",
       "Banheiros        0.6754   0.6690     1.0000            0.5533 0.5009\n",
       "Vagas na garagem 0.6702   0.5475     0.5533            1.0000 0.4812\n",
       "Area             0.5805   0.5334     0.5009            0.4812 1.0000"
      ]
     },
     "execution_count": 1100,
     "metadata": {},
     "output_type": "execute_result"
    }
   ],
   "source": [
    "df.corr()"
   ]
  },
  {
   "cell_type": "markdown",
   "metadata": {},
   "source": [
    "# Modelagem"
   ]
  },
  {
   "cell_type": "markdown",
   "metadata": {},
   "source": [
    "### Pre Processamento"
   ]
  },
  {
   "cell_type": "code",
   "execution_count": 1101,
   "metadata": {},
   "outputs": [],
   "source": [
    "from sklearn.preprocessing import OneHotEncoder\n",
    "from sklearn.model_selection import train_test_split"
   ]
  },
  {
   "cell_type": "code",
   "execution_count": 1102,
   "metadata": {},
   "outputs": [],
   "source": [
    "x_train, x_test, y_train ,y_test = train_test_split(df.drop('Valor', axis=1), df['Valor'], test_size= 0.2)"
   ]
  },
  {
   "cell_type": "markdown",
   "metadata": {},
   "source": [
    "#### Dummy categories"
   ]
  },
  {
   "cell_type": "code",
   "execution_count": 1103,
   "metadata": {},
   "outputs": [],
   "source": [
    "encoderCategoria = OneHotEncoder()"
   ]
  },
  {
   "cell_type": "code",
   "execution_count": 1104,
   "metadata": {},
   "outputs": [],
   "source": [
    "categories = encoderCategoria.fit_transform(x_train[['Categoria']])"
   ]
  },
  {
   "cell_type": "code",
   "execution_count": 1105,
   "metadata": {},
   "outputs": [],
   "source": [
    "categories = pd.DataFrame(categories.toarray(), columns = encoderCategoria.get_feature_names_out(), index = x_train.index)"
   ]
  },
  {
   "cell_type": "code",
   "execution_count": 1106,
   "metadata": {},
   "outputs": [],
   "source": [
    "x_train = x_train.join(categories).drop('Categoria', axis= 1)"
   ]
  },
  {
   "cell_type": "code",
   "execution_count": 1107,
   "metadata": {},
   "outputs": [],
   "source": [
    "encoderRegiao = OneHotEncoder()"
   ]
  },
  {
   "cell_type": "code",
   "execution_count": 1108,
   "metadata": {},
   "outputs": [],
   "source": [
    "regiao = encoderRegiao.fit_transform(x_train[['Regiao']])"
   ]
  },
  {
   "cell_type": "code",
   "execution_count": 1109,
   "metadata": {},
   "outputs": [],
   "source": [
    "regiao = pd.DataFrame(regiao.toarray(), columns= encoderRegiao.get_feature_names_out(), index= x_train.index)"
   ]
  },
  {
   "cell_type": "code",
   "execution_count": 1110,
   "metadata": {},
   "outputs": [],
   "source": [
    "x_train = x_train.join(regiao).drop('Regiao', axis = 1)"
   ]
  },
  {
   "cell_type": "markdown",
   "metadata": {},
   "source": [
    "#### Normalizacao"
   ]
  },
  {
   "cell_type": "code",
   "execution_count": 1111,
   "metadata": {},
   "outputs": [],
   "source": [
    "from sklearn.preprocessing import StandardScaler"
   ]
  },
  {
   "cell_type": "code",
   "execution_count": 1112,
   "metadata": {},
   "outputs": [],
   "source": [
    "norm = StandardScaler()"
   ]
  },
  {
   "cell_type": "code",
   "execution_count": 1113,
   "metadata": {},
   "outputs": [],
   "source": [
    "x_train['Area'] = norm.fit_transform(x_train[['Area']])"
   ]
  },
  {
   "cell_type": "markdown",
   "metadata": {},
   "source": [
    "### Modelo"
   ]
  },
  {
   "cell_type": "code",
   "execution_count": 1114,
   "metadata": {},
   "outputs": [
    {
     "data": {
      "text/plain": [
       "<AxesSubplot:>"
      ]
     },
     "execution_count": 1114,
     "metadata": {},
     "output_type": "execute_result"
    },
    {
     "data": {
      "image/png": "[encoded data removed]",
      "text/plain": [
       "<Figure size 432x288 with 1 Axes>"
      ]
     },
     "metadata": {
      "needs_background": "light"
     },
     "output_type": "display_data"
    }
   ],
   "source": [
    "y_train.hist()"
   ]
  },
  {
   "cell_type": "code",
   "execution_count": 1115,
   "metadata": {},
   "outputs": [],
   "source": [
    "y_train = np.log2(y_train)"
   ]
  },
  {
   "cell_type": "code",
   "execution_count": 1116,
   "metadata": {},
   "outputs": [
    {
     "data": {
      "text/plain": [
       "<AxesSubplot:>"
      ]
     },
     "execution_count": 1116,
     "metadata": {},
     "output_type": "execute_result"
    },
    {
     "data": {
      "image/png": "[encoded data removed]",
      "text/plain": [
       "<Figure size 432x288 with 1 Axes>"
      ]
     },
     "metadata": {
      "needs_background": "light"
     },
     "output_type": "display_data"
    }
   ],
   "source": [
    "y_train.hist()"
   ]
  },
  {
   "cell_type": "code",
   "execution_count": 1117,
   "metadata": {},
   "outputs": [],
   "source": [
    "x_train = x_train.select_dtypes(include = np.number)"
   ]
  },
  {
   "cell_type": "code",
   "execution_count": 1118,
   "metadata": {},
   "outputs": [],
   "source": [
    "from sklearn.linear_model import LinearRegression"
   ]
  },
  {
   "cell_type": "code",
   "execution_count": 1119,
   "metadata": {},
   "outputs": [],
   "source": [
    "regressao = LinearRegression()"
   ]
  },
  {
   "cell_type": "code",
   "execution_count": 1120,
   "metadata": {},
   "outputs": [
    {
     "data": {
      "text/plain": [
       "LinearRegression()"
      ]
     },
     "execution_count": 1120,
     "metadata": {},
     "output_type": "execute_result"
    }
   ],
   "source": [
    "regressao.fit(x_train, y_train)"
   ]
  },
  {
   "cell_type": "code",
   "execution_count": 1121,
   "metadata": {},
   "outputs": [
    {
     "data": {
      "text/plain": [
       "0.7490369060839368"
      ]
     },
     "execution_count": 1121,
     "metadata": {},
     "output_type": "execute_result"
    }
   ],
   "source": [
    "regressao.score(x_train, y_train)"
   ]
  },
  {
   "cell_type": "code",
   "execution_count": 1122,
   "metadata": {},
   "outputs": [
    {
     "data": {
      "text/html": [
       "<div>\n",
       "<style scoped>\n",
       "    .dataframe tbody tr th:only-of-type {\n",
       "        vertical-align: middle;\n",
       "    }\n",
       "\n",
       "    .dataframe tbody tr th {\n",
       "        vertical-align: top;\n",
       "    }\n",
       "\n",
       "    .dataframe thead th {\n",
       "        text-align: right;\n",
       "    }\n",
       "</style>\n",
       "<table border=\"1\" class=\"dataframe\">\n",
       "  <thead>\n",
       "    <tr style=\"text-align: right;\">\n",
       "      <th></th>\n",
       "      <th>Quartos</th>\n",
       "      <th>Banheiros</th>\n",
       "      <th>Vagas na garagem</th>\n",
       "      <th>Area</th>\n",
       "      <th>Categoria_Apartamentos</th>\n",
       "      <th>Categoria_Casas</th>\n",
       "      <th>Regiao_Jardim Camburi</th>\n",
       "      <th>Regiao_Jardim da Penha</th>\n",
       "      <th>Regiao_Jucutuquara</th>\n",
       "      <th>Regiao_Maruípe</th>\n",
       "      <th>Regiao_Santo Antônio</th>\n",
       "      <th>Regiao_Zona Leste</th>\n",
       "      <th>Regiao_Zona Norte</th>\n",
       "      <th>Regiao_Zona Oeste</th>\n",
       "      <th>Regiao_Zona Sul</th>\n",
       "    </tr>\n",
       "  </thead>\n",
       "  <tbody>\n",
       "    <tr>\n",
       "      <th>4933</th>\n",
       "      <td>4</td>\n",
       "      <td>4</td>\n",
       "      <td>3</td>\n",
       "      <td>0.4785</td>\n",
       "      <td>1.0000</td>\n",
       "      <td>0.0000</td>\n",
       "      <td>0.0000</td>\n",
       "      <td>0.0000</td>\n",
       "      <td>0.0000</td>\n",
       "      <td>0.0000</td>\n",
       "      <td>0.0000</td>\n",
       "      <td>1.0000</td>\n",
       "      <td>0.0000</td>\n",
       "      <td>0.0000</td>\n",
       "      <td>0.0000</td>\n",
       "    </tr>\n",
       "    <tr>\n",
       "      <th>3580</th>\n",
       "      <td>3</td>\n",
       "      <td>2</td>\n",
       "      <td>2</td>\n",
       "      <td>-0.3289</td>\n",
       "      <td>1.0000</td>\n",
       "      <td>0.0000</td>\n",
       "      <td>1.0000</td>\n",
       "      <td>0.0000</td>\n",
       "      <td>0.0000</td>\n",
       "      <td>0.0000</td>\n",
       "      <td>0.0000</td>\n",
       "      <td>0.0000</td>\n",
       "      <td>0.0000</td>\n",
       "      <td>0.0000</td>\n",
       "      <td>0.0000</td>\n",
       "    </tr>\n",
       "    <tr>\n",
       "      <th>4217</th>\n",
       "      <td>2</td>\n",
       "      <td>1</td>\n",
       "      <td>1</td>\n",
       "      <td>-0.5358</td>\n",
       "      <td>1.0000</td>\n",
       "      <td>0.0000</td>\n",
       "      <td>0.0000</td>\n",
       "      <td>0.0000</td>\n",
       "      <td>1.0000</td>\n",
       "      <td>0.0000</td>\n",
       "      <td>0.0000</td>\n",
       "      <td>0.0000</td>\n",
       "      <td>0.0000</td>\n",
       "      <td>0.0000</td>\n",
       "      <td>0.0000</td>\n",
       "    </tr>\n",
       "    <tr>\n",
       "      <th>5638</th>\n",
       "      <td>3</td>\n",
       "      <td>1</td>\n",
       "      <td>2</td>\n",
       "      <td>-0.3956</td>\n",
       "      <td>1.0000</td>\n",
       "      <td>0.0000</td>\n",
       "      <td>1.0000</td>\n",
       "      <td>0.0000</td>\n",
       "      <td>0.0000</td>\n",
       "      <td>0.0000</td>\n",
       "      <td>0.0000</td>\n",
       "      <td>0.0000</td>\n",
       "      <td>0.0000</td>\n",
       "      <td>0.0000</td>\n",
       "      <td>0.0000</td>\n",
       "    </tr>\n",
       "    <tr>\n",
       "      <th>5658</th>\n",
       "      <td>3</td>\n",
       "      <td>2</td>\n",
       "      <td>2</td>\n",
       "      <td>-0.3289</td>\n",
       "      <td>1.0000</td>\n",
       "      <td>0.0000</td>\n",
       "      <td>0.0000</td>\n",
       "      <td>0.0000</td>\n",
       "      <td>0.0000</td>\n",
       "      <td>0.0000</td>\n",
       "      <td>0.0000</td>\n",
       "      <td>1.0000</td>\n",
       "      <td>0.0000</td>\n",
       "      <td>0.0000</td>\n",
       "      <td>0.0000</td>\n",
       "    </tr>\n",
       "    <tr>\n",
       "      <th>...</th>\n",
       "      <td>...</td>\n",
       "      <td>...</td>\n",
       "      <td>...</td>\n",
       "      <td>...</td>\n",
       "      <td>...</td>\n",
       "      <td>...</td>\n",
       "      <td>...</td>\n",
       "      <td>...</td>\n",
       "      <td>...</td>\n",
       "      <td>...</td>\n",
       "      <td>...</td>\n",
       "      <td>...</td>\n",
       "      <td>...</td>\n",
       "      <td>...</td>\n",
       "      <td>...</td>\n",
       "    </tr>\n",
       "    <tr>\n",
       "      <th>5222</th>\n",
       "      <td>4</td>\n",
       "      <td>4</td>\n",
       "      <td>3</td>\n",
       "      <td>0.9323</td>\n",
       "      <td>1.0000</td>\n",
       "      <td>0.0000</td>\n",
       "      <td>1.0000</td>\n",
       "      <td>0.0000</td>\n",
       "      <td>0.0000</td>\n",
       "      <td>0.0000</td>\n",
       "      <td>0.0000</td>\n",
       "      <td>0.0000</td>\n",
       "      <td>0.0000</td>\n",
       "      <td>0.0000</td>\n",
       "      <td>0.0000</td>\n",
       "    </tr>\n",
       "    <tr>\n",
       "      <th>4316</th>\n",
       "      <td>2</td>\n",
       "      <td>2</td>\n",
       "      <td>2</td>\n",
       "      <td>-0.5558</td>\n",
       "      <td>1.0000</td>\n",
       "      <td>0.0000</td>\n",
       "      <td>0.0000</td>\n",
       "      <td>0.0000</td>\n",
       "      <td>0.0000</td>\n",
       "      <td>0.0000</td>\n",
       "      <td>0.0000</td>\n",
       "      <td>1.0000</td>\n",
       "      <td>0.0000</td>\n",
       "      <td>0.0000</td>\n",
       "      <td>0.0000</td>\n",
       "    </tr>\n",
       "    <tr>\n",
       "      <th>2997</th>\n",
       "      <td>3</td>\n",
       "      <td>3</td>\n",
       "      <td>1</td>\n",
       "      <td>-0.1154</td>\n",
       "      <td>1.0000</td>\n",
       "      <td>0.0000</td>\n",
       "      <td>0.0000</td>\n",
       "      <td>0.0000</td>\n",
       "      <td>0.0000</td>\n",
       "      <td>0.0000</td>\n",
       "      <td>0.0000</td>\n",
       "      <td>1.0000</td>\n",
       "      <td>0.0000</td>\n",
       "      <td>0.0000</td>\n",
       "      <td>0.0000</td>\n",
       "    </tr>\n",
       "    <tr>\n",
       "      <th>6669</th>\n",
       "      <td>4</td>\n",
       "      <td>2</td>\n",
       "      <td>1</td>\n",
       "      <td>-0.1154</td>\n",
       "      <td>1.0000</td>\n",
       "      <td>0.0000</td>\n",
       "      <td>0.0000</td>\n",
       "      <td>0.0000</td>\n",
       "      <td>0.0000</td>\n",
       "      <td>0.0000</td>\n",
       "      <td>0.0000</td>\n",
       "      <td>1.0000</td>\n",
       "      <td>0.0000</td>\n",
       "      <td>0.0000</td>\n",
       "      <td>0.0000</td>\n",
       "    </tr>\n",
       "    <tr>\n",
       "      <th>3006</th>\n",
       "      <td>2</td>\n",
       "      <td>2</td>\n",
       "      <td>1</td>\n",
       "      <td>-0.5825</td>\n",
       "      <td>1.0000</td>\n",
       "      <td>0.0000</td>\n",
       "      <td>1.0000</td>\n",
       "      <td>0.0000</td>\n",
       "      <td>0.0000</td>\n",
       "      <td>0.0000</td>\n",
       "      <td>0.0000</td>\n",
       "      <td>0.0000</td>\n",
       "      <td>0.0000</td>\n",
       "      <td>0.0000</td>\n",
       "      <td>0.0000</td>\n",
       "    </tr>\n",
       "  </tbody>\n",
       "</table>\n",
       "<p>4533 rows × 15 columns</p>\n",
       "</div>"
      ],
      "text/plain": [
       "      Quartos  Banheiros  Vagas na garagem    Area  Categoria_Apartamentos  \\\n",
       "4933        4          4                 3  0.4785                  1.0000   \n",
       "3580        3          2                 2 -0.3289                  1.0000   \n",
       "4217        2          1                 1 -0.5358                  1.0000   \n",
       "5638        3          1                 2 -0.3956                  1.0000   \n",
       "5658        3          2                 2 -0.3289                  1.0000   \n",
       "...       ...        ...               ...     ...                     ...   \n",
       "5222        4          4                 3  0.9323                  1.0000   \n",
       "4316        2          2                 2 -0.5558                  1.0000   \n",
       "2997        3          3                 1 -0.1154                  1.0000   \n",
       "6669        4          2                 1 -0.1154                  1.0000   \n",
       "3006        2          2                 1 -0.5825                  1.0000   \n",
       "\n",
       "      Categoria_Casas  Regiao_Jardim Camburi  Regiao_Jardim da Penha  \\\n",
       "4933           0.0000                 0.0000                  0.0000   \n",
       "3580           0.0000                 1.0000                  0.0000   \n",
       "4217           0.0000                 0.0000                  0.0000   \n",
       "5638           0.0000                 1.0000                  0.0000   \n",
       "5658           0.0000                 0.0000                  0.0000   \n",
       "...               ...                    ...                     ...   \n",
       "5222           0.0000                 1.0000                  0.0000   \n",
       "4316           0.0000                 0.0000                  0.0000   \n",
       "2997           0.0000                 0.0000                  0.0000   \n",
       "6669           0.0000                 0.0000                  0.0000   \n",
       "3006           0.0000                 1.0000                  0.0000   \n",
       "\n",
       "      Regiao_Jucutuquara  Regiao_Maruípe  Regiao_Santo Antônio  \\\n",
       "4933              0.0000          0.0000                0.0000   \n",
       "3580              0.0000          0.0000                0.0000   \n",
       "4217              1.0000          0.0000                0.0000   \n",
       "5638              0.0000          0.0000                0.0000   \n",
       "5658              0.0000          0.0000                0.0000   \n",
       "...                  ...             ...                   ...   \n",
       "5222              0.0000          0.0000                0.0000   \n",
       "4316              0.0000          0.0000                0.0000   \n",
       "2997              0.0000          0.0000                0.0000   \n",
       "6669              0.0000          0.0000                0.0000   \n",
       "3006              0.0000          0.0000                0.0000   \n",
       "\n",
       "      Regiao_Zona Leste  Regiao_Zona Norte  Regiao_Zona Oeste  Regiao_Zona Sul  \n",
       "4933             1.0000             0.0000             0.0000           0.0000  \n",
       "3580             0.0000             0.0000             0.0000           0.0000  \n",
       "4217             0.0000             0.0000             0.0000           0.0000  \n",
       "5638             0.0000             0.0000             0.0000           0.0000  \n",
       "5658             1.0000             0.0000             0.0000           0.0000  \n",
       "...                 ...                ...                ...              ...  \n",
       "5222             0.0000             0.0000             0.0000           0.0000  \n",
       "4316             1.0000             0.0000             0.0000           0.0000  \n",
       "2997             1.0000             0.0000             0.0000           0.0000  \n",
       "6669             1.0000             0.0000             0.0000           0.0000  \n",
       "3006             0.0000             0.0000             0.0000           0.0000  \n",
       "\n",
       "[4533 rows x 15 columns]"
      ]
     },
     "execution_count": 1122,
     "metadata": {},
     "output_type": "execute_result"
    }
   ],
   "source": [
    "x_train"
   ]
  },
  {
   "cell_type": "code",
   "execution_count": 1123,
   "metadata": {},
   "outputs": [
    {
     "data": {
      "text/plain": [
       "<AxesSubplot:xlabel='Valor', ylabel='Quartos'>"
      ]
     },
     "execution_count": 1123,
     "metadata": {},
     "output_type": "execute_result"
    },
    {
     "data": {
      "image/png": "[encoded data removed]",
      "text/plain": [
       "<Figure size 432x288 with 1 Axes>"
      ]
     },
     "metadata": {
      "needs_background": "light"
     },
     "output_type": "display_data"
    }
   ],
   "source": [
    "df.plot(kind = 'scatter' , x='Valor' , y='Quartos')"
   ]
  },
  {
   "cell_type": "code",
   "execution_count": 1124,
   "metadata": {},
   "outputs": [
    {
     "data": {
      "text/html": [
       "<div>\n",
       "<style scoped>\n",
       "    .dataframe tbody tr th:only-of-type {\n",
       "        vertical-align: middle;\n",
       "    }\n",
       "\n",
       "    .dataframe tbody tr th {\n",
       "        vertical-align: top;\n",
       "    }\n",
       "\n",
       "    .dataframe thead th {\n",
       "        text-align: right;\n",
       "    }\n",
       "</style>\n",
       "<table border=\"1\" class=\"dataframe\">\n",
       "  <thead>\n",
       "    <tr style=\"text-align: right;\">\n",
       "      <th></th>\n",
       "      <th>Valor</th>\n",
       "      <th>Banheiros</th>\n",
       "      <th>Vagas na garagem</th>\n",
       "      <th>Area</th>\n",
       "    </tr>\n",
       "    <tr>\n",
       "      <th>Quartos</th>\n",
       "      <th></th>\n",
       "      <th></th>\n",
       "      <th></th>\n",
       "      <th></th>\n",
       "    </tr>\n",
       "  </thead>\n",
       "  <tbody>\n",
       "    <tr>\n",
       "      <th>1</th>\n",
       "      <td>336,226.2557</td>\n",
       "      <td>1.0625</td>\n",
       "      <td>0.9261</td>\n",
       "      <td>67.1477</td>\n",
       "    </tr>\n",
       "    <tr>\n",
       "      <th>2</th>\n",
       "      <td>484,059.0796</td>\n",
       "      <td>1.6377</td>\n",
       "      <td>1.1555</td>\n",
       "      <td>80.0145</td>\n",
       "    </tr>\n",
       "    <tr>\n",
       "      <th>3</th>\n",
       "      <td>775,296.7878</td>\n",
       "      <td>2.2634</td>\n",
       "      <td>1.6461</td>\n",
       "      <td>125.7790</td>\n",
       "    </tr>\n",
       "    <tr>\n",
       "      <th>4</th>\n",
       "      <td>1,952,630.5225</td>\n",
       "      <td>3.5983</td>\n",
       "      <td>2.6320</td>\n",
       "      <td>238.7528</td>\n",
       "    </tr>\n",
       "    <tr>\n",
       "      <th>5</th>\n",
       "      <td>2,500,766.4023</td>\n",
       "      <td>4.2632</td>\n",
       "      <td>2.9737</td>\n",
       "      <td>430.1579</td>\n",
       "    </tr>\n",
       "  </tbody>\n",
       "</table>\n",
       "</div>"
      ],
      "text/plain": [
       "                 Valor  Banheiros  Vagas na garagem     Area\n",
       "Quartos                                                     \n",
       "1         336,226.2557     1.0625            0.9261  67.1477\n",
       "2         484,059.0796     1.6377            1.1555  80.0145\n",
       "3         775,296.7878     2.2634            1.6461 125.7790\n",
       "4       1,952,630.5225     3.5983            2.6320 238.7528\n",
       "5       2,500,766.4023     4.2632            2.9737 430.1579"
      ]
     },
     "execution_count": 1124,
     "metadata": {},
     "output_type": "execute_result"
    }
   ],
   "source": [
    "df.groupby('Quartos').mean()"
   ]
  },
  {
   "cell_type": "markdown",
   "metadata": {},
   "source": [
    "#### Validação"
   ]
  },
  {
   "cell_type": "code",
   "execution_count": 1125,
   "metadata": {},
   "outputs": [],
   "source": [
    "categories = encoderCategoria.transform(x_test[['Categoria']])"
   ]
  },
  {
   "cell_type": "code",
   "execution_count": 1126,
   "metadata": {},
   "outputs": [],
   "source": [
    "categories = pd.DataFrame(categories.toarray(), columns= encoderCategoria.get_feature_names_out(), index = x_test.index)"
   ]
  },
  {
   "cell_type": "code",
   "execution_count": 1127,
   "metadata": {},
   "outputs": [],
   "source": [
    "x_test = x_test.join(categories).drop('Categoria', axis = 1)"
   ]
  },
  {
   "cell_type": "code",
   "execution_count": 1128,
   "metadata": {},
   "outputs": [],
   "source": [
    "regioes = pd.DataFrame(encoderRegiao.transform(x_test[['Regiao']]).toarray() , columns = encoderRegiao.get_feature_names_out(), index =x_test.index)"
   ]
  },
  {
   "cell_type": "code",
   "execution_count": 1129,
   "metadata": {},
   "outputs": [],
   "source": [
    "x_test = x_test.join(regioes).drop('Regiao', axis =1)"
   ]
  },
  {
   "cell_type": "code",
   "execution_count": 1130,
   "metadata": {},
   "outputs": [],
   "source": [
    "x_test['Area'] = norm.transform(x_test[['Area']])"
   ]
  },
  {
   "cell_type": "code",
   "execution_count": 1131,
   "metadata": {},
   "outputs": [],
   "source": [
    "x_test = x_test.select_dtypes(include = np.number)\n",
    "y_test = np.log2(y_test)"
   ]
  },
  {
   "cell_type": "code",
   "execution_count": 1132,
   "metadata": {},
   "outputs": [
    {
     "data": {
      "text/plain": [
       "0.7395506877855595"
      ]
     },
     "execution_count": 1132,
     "metadata": {},
     "output_type": "execute_result"
    }
   ],
   "source": [
    "regressao.score(x_test, y_test)"
   ]
  },
  {
   "cell_type": "code",
   "execution_count": 1133,
   "metadata": {},
   "outputs": [],
   "source": [
    "from sklearn.model_selection import cross_val_score"
   ]
  },
  {
   "cell_type": "code",
   "execution_count": 1134,
   "metadata": {},
   "outputs": [],
   "source": [
    "testes = cross_val_score(regressao , x_train, y_train, cv = 100)"
   ]
  },
  {
   "cell_type": "code",
   "execution_count": 1135,
   "metadata": {},
   "outputs": [
    {
     "data": {
      "text/plain": [
       "0.7356428725645112"
      ]
     },
     "execution_count": 1135,
     "metadata": {},
     "output_type": "execute_result"
    }
   ],
   "source": [
    "testes.mean()"
   ]
  },
  {
   "cell_type": "code",
   "execution_count": 1136,
   "metadata": {},
   "outputs": [
    {
     "data": {
      "text/plain": [
       "Regiao_Zona Leste         0.9895\n",
       "Regiao_Jardim da Penha    0.7700\n",
       "Regiao_Jardim Camburi     0.5669\n",
       "Vagas na garagem          0.3367\n",
       "Quartos                   0.3324\n",
       "Regiao_Jucutuquara        0.3237\n",
       "Banheiros                 0.2311\n",
       "Area                      0.1309\n",
       "Categoria_Apartamentos    0.0922\n",
       "Categoria_Casas          -0.0922\n",
       "Regiao_Zona Norte        -0.2170\n",
       "Regiao_Zona Sul          -0.3051\n",
       "Regiao_Maruípe           -0.3512\n",
       "Regiao_Santo Antônio     -0.3833\n",
       "Regiao_Zona Oeste        -1.3935\n",
       "dtype: float64"
      ]
     },
     "execution_count": 1136,
     "metadata": {},
     "output_type": "execute_result"
    }
   ],
   "source": [
    "pd.Series(regressao.coef_  , index = x_train.columns).sort_values(ascending= False)"
   ]
  },
  {
   "cell_type": "code",
   "execution_count": 1137,
   "metadata": {},
   "outputs": [],
   "source": [
    "y_predict = regressao.predict(x_test)"
   ]
  },
  {
   "cell_type": "code",
   "execution_count": 1138,
   "metadata": {},
   "outputs": [],
   "source": [
    "from sklearn.metrics import median_absolute_error, mean_squared_error, r2_score"
   ]
  },
  {
   "cell_type": "code",
   "execution_count": 1139,
   "metadata": {},
   "outputs": [
    {
     "data": {
      "text/plain": [
       "0.7395506877855595"
      ]
     },
     "execution_count": 1139,
     "metadata": {},
     "output_type": "execute_result"
    }
   ],
   "source": [
    "r2_score(y_test, y_predict)"
   ]
  },
  {
   "cell_type": "code",
   "execution_count": 1140,
   "metadata": {},
   "outputs": [
    {
     "data": {
      "text/plain": [
       "6753   18.6096\n",
       "5333   18.6844\n",
       "2347   22.0000\n",
       "307    16.0951\n",
       "22     18.9316\n",
       "         ...  \n",
       "6446   18.2718\n",
       "641    18.6096\n",
       "3029   19.6937\n",
       "18     19.6971\n",
       "4764   20.6540\n",
       "Name: Valor, Length: 1134, dtype: float64"
      ]
     },
     "execution_count": 1140,
     "metadata": {},
     "output_type": "execute_result"
    }
   ],
   "source": [
    "y_test"
   ]
  },
  {
   "cell_type": "code",
   "execution_count": 1141,
   "metadata": {},
   "outputs": [],
   "source": [
    "y_predict2 = 2**y_predict"
   ]
  },
  {
   "cell_type": "code",
   "execution_count": 1142,
   "metadata": {},
   "outputs": [],
   "source": [
    "y_test2 = 2**y_test"
   ]
  },
  {
   "cell_type": "code",
   "execution_count": 1143,
   "metadata": {},
   "outputs": [
    {
     "data": {
      "text/plain": [
       "0.6851936806997775"
      ]
     },
     "execution_count": 1143,
     "metadata": {},
     "output_type": "execute_result"
    }
   ],
   "source": [
    "r2_score(y_test2, y_predict2)"
   ]
  },
  {
   "cell_type": "code",
   "execution_count": 1144,
   "metadata": {},
   "outputs": [
    {
     "data": {
      "text/html": [
       "<div>\n",
       "<style scoped>\n",
       "    .dataframe tbody tr th:only-of-type {\n",
       "        vertical-align: middle;\n",
       "    }\n",
       "\n",
       "    .dataframe tbody tr th {\n",
       "        vertical-align: top;\n",
       "    }\n",
       "\n",
       "    .dataframe thead th {\n",
       "        text-align: right;\n",
       "    }\n",
       "</style>\n",
       "<table border=\"1\" class=\"dataframe\">\n",
       "  <thead>\n",
       "    <tr style=\"text-align: right;\">\n",
       "      <th></th>\n",
       "      <th>Quartos</th>\n",
       "      <th>Banheiros</th>\n",
       "      <th>Vagas na garagem</th>\n",
       "      <th>Area</th>\n",
       "      <th>Categoria_Apartamentos</th>\n",
       "      <th>Categoria_Casas</th>\n",
       "      <th>Regiao_Jardim Camburi</th>\n",
       "      <th>Regiao_Jardim da Penha</th>\n",
       "      <th>Regiao_Jucutuquara</th>\n",
       "      <th>Regiao_Maruípe</th>\n",
       "      <th>Regiao_Santo Antônio</th>\n",
       "      <th>Regiao_Zona Leste</th>\n",
       "      <th>Regiao_Zona Norte</th>\n",
       "      <th>Regiao_Zona Oeste</th>\n",
       "      <th>Regiao_Zona Sul</th>\n",
       "    </tr>\n",
       "  </thead>\n",
       "  <tbody>\n",
       "    <tr>\n",
       "      <th>6753</th>\n",
       "      <td>2</td>\n",
       "      <td>1</td>\n",
       "      <td>1</td>\n",
       "      <td>-0.5825</td>\n",
       "      <td>1.0000</td>\n",
       "      <td>0.0000</td>\n",
       "      <td>1.0000</td>\n",
       "      <td>0.0000</td>\n",
       "      <td>0.0000</td>\n",
       "      <td>0.0000</td>\n",
       "      <td>0.0000</td>\n",
       "      <td>0.0000</td>\n",
       "      <td>0.0000</td>\n",
       "      <td>0.0000</td>\n",
       "      <td>0.0000</td>\n",
       "    </tr>\n",
       "    <tr>\n",
       "      <th>5333</th>\n",
       "      <td>2</td>\n",
       "      <td>2</td>\n",
       "      <td>1</td>\n",
       "      <td>-0.6092</td>\n",
       "      <td>1.0000</td>\n",
       "      <td>0.0000</td>\n",
       "      <td>1.0000</td>\n",
       "      <td>0.0000</td>\n",
       "      <td>0.0000</td>\n",
       "      <td>0.0000</td>\n",
       "      <td>0.0000</td>\n",
       "      <td>0.0000</td>\n",
       "      <td>0.0000</td>\n",
       "      <td>0.0000</td>\n",
       "      <td>0.0000</td>\n",
       "    </tr>\n",
       "    <tr>\n",
       "      <th>2347</th>\n",
       "      <td>4</td>\n",
       "      <td>4</td>\n",
       "      <td>3</td>\n",
       "      <td>1.3526</td>\n",
       "      <td>0.0000</td>\n",
       "      <td>1.0000</td>\n",
       "      <td>0.0000</td>\n",
       "      <td>1.0000</td>\n",
       "      <td>0.0000</td>\n",
       "      <td>0.0000</td>\n",
       "      <td>0.0000</td>\n",
       "      <td>0.0000</td>\n",
       "      <td>0.0000</td>\n",
       "      <td>0.0000</td>\n",
       "      <td>0.0000</td>\n",
       "    </tr>\n",
       "    <tr>\n",
       "      <th>307</th>\n",
       "      <td>4</td>\n",
       "      <td>1</td>\n",
       "      <td>0</td>\n",
       "      <td>-0.9762</td>\n",
       "      <td>0.0000</td>\n",
       "      <td>1.0000</td>\n",
       "      <td>0.0000</td>\n",
       "      <td>0.0000</td>\n",
       "      <td>0.0000</td>\n",
       "      <td>1.0000</td>\n",
       "      <td>0.0000</td>\n",
       "      <td>0.0000</td>\n",
       "      <td>0.0000</td>\n",
       "      <td>0.0000</td>\n",
       "      <td>0.0000</td>\n",
       "    </tr>\n",
       "    <tr>\n",
       "      <th>22</th>\n",
       "      <td>3</td>\n",
       "      <td>1</td>\n",
       "      <td>2</td>\n",
       "      <td>0.0848</td>\n",
       "      <td>0.0000</td>\n",
       "      <td>1.0000</td>\n",
       "      <td>0.0000</td>\n",
       "      <td>0.0000</td>\n",
       "      <td>1.0000</td>\n",
       "      <td>0.0000</td>\n",
       "      <td>0.0000</td>\n",
       "      <td>0.0000</td>\n",
       "      <td>0.0000</td>\n",
       "      <td>0.0000</td>\n",
       "      <td>0.0000</td>\n",
       "    </tr>\n",
       "    <tr>\n",
       "      <th>...</th>\n",
       "      <td>...</td>\n",
       "      <td>...</td>\n",
       "      <td>...</td>\n",
       "      <td>...</td>\n",
       "      <td>...</td>\n",
       "      <td>...</td>\n",
       "      <td>...</td>\n",
       "      <td>...</td>\n",
       "      <td>...</td>\n",
       "      <td>...</td>\n",
       "      <td>...</td>\n",
       "      <td>...</td>\n",
       "      <td>...</td>\n",
       "      <td>...</td>\n",
       "      <td>...</td>\n",
       "    </tr>\n",
       "    <tr>\n",
       "      <th>6446</th>\n",
       "      <td>2</td>\n",
       "      <td>1</td>\n",
       "      <td>1</td>\n",
       "      <td>-0.5891</td>\n",
       "      <td>1.0000</td>\n",
       "      <td>0.0000</td>\n",
       "      <td>1.0000</td>\n",
       "      <td>0.0000</td>\n",
       "      <td>0.0000</td>\n",
       "      <td>0.0000</td>\n",
       "      <td>0.0000</td>\n",
       "      <td>0.0000</td>\n",
       "      <td>0.0000</td>\n",
       "      <td>0.0000</td>\n",
       "      <td>0.0000</td>\n",
       "    </tr>\n",
       "    <tr>\n",
       "      <th>641</th>\n",
       "      <td>4</td>\n",
       "      <td>1</td>\n",
       "      <td>1</td>\n",
       "      <td>0.1315</td>\n",
       "      <td>0.0000</td>\n",
       "      <td>1.0000</td>\n",
       "      <td>0.0000</td>\n",
       "      <td>0.0000</td>\n",
       "      <td>0.0000</td>\n",
       "      <td>1.0000</td>\n",
       "      <td>0.0000</td>\n",
       "      <td>0.0000</td>\n",
       "      <td>0.0000</td>\n",
       "      <td>0.0000</td>\n",
       "      <td>0.0000</td>\n",
       "    </tr>\n",
       "    <tr>\n",
       "      <th>3029</th>\n",
       "      <td>3</td>\n",
       "      <td>2</td>\n",
       "      <td>2</td>\n",
       "      <td>-0.3756</td>\n",
       "      <td>1.0000</td>\n",
       "      <td>0.0000</td>\n",
       "      <td>1.0000</td>\n",
       "      <td>0.0000</td>\n",
       "      <td>0.0000</td>\n",
       "      <td>0.0000</td>\n",
       "      <td>0.0000</td>\n",
       "      <td>0.0000</td>\n",
       "      <td>0.0000</td>\n",
       "      <td>0.0000</td>\n",
       "      <td>0.0000</td>\n",
       "    </tr>\n",
       "    <tr>\n",
       "      <th>18</th>\n",
       "      <td>4</td>\n",
       "      <td>2</td>\n",
       "      <td>3</td>\n",
       "      <td>0.8522</td>\n",
       "      <td>0.0000</td>\n",
       "      <td>1.0000</td>\n",
       "      <td>0.0000</td>\n",
       "      <td>0.0000</td>\n",
       "      <td>0.0000</td>\n",
       "      <td>1.0000</td>\n",
       "      <td>0.0000</td>\n",
       "      <td>0.0000</td>\n",
       "      <td>0.0000</td>\n",
       "      <td>0.0000</td>\n",
       "      <td>0.0000</td>\n",
       "    </tr>\n",
       "    <tr>\n",
       "      <th>4764</th>\n",
       "      <td>3</td>\n",
       "      <td>1</td>\n",
       "      <td>2</td>\n",
       "      <td>-0.2622</td>\n",
       "      <td>1.0000</td>\n",
       "      <td>0.0000</td>\n",
       "      <td>0.0000</td>\n",
       "      <td>0.0000</td>\n",
       "      <td>0.0000</td>\n",
       "      <td>0.0000</td>\n",
       "      <td>0.0000</td>\n",
       "      <td>1.0000</td>\n",
       "      <td>0.0000</td>\n",
       "      <td>0.0000</td>\n",
       "      <td>0.0000</td>\n",
       "    </tr>\n",
       "  </tbody>\n",
       "</table>\n",
       "<p>1134 rows × 15 columns</p>\n",
       "</div>"
      ],
      "text/plain": [
       "      Quartos  Banheiros  Vagas na garagem    Area  Categoria_Apartamentos  \\\n",
       "6753        2          1                 1 -0.5825                  1.0000   \n",
       "5333        2          2                 1 -0.6092                  1.0000   \n",
       "2347        4          4                 3  1.3526                  0.0000   \n",
       "307         4          1                 0 -0.9762                  0.0000   \n",
       "22          3          1                 2  0.0848                  0.0000   \n",
       "...       ...        ...               ...     ...                     ...   \n",
       "6446        2          1                 1 -0.5891                  1.0000   \n",
       "641         4          1                 1  0.1315                  0.0000   \n",
       "3029        3          2                 2 -0.3756                  1.0000   \n",
       "18          4          2                 3  0.8522                  0.0000   \n",
       "4764        3          1                 2 -0.2622                  1.0000   \n",
       "\n",
       "      Categoria_Casas  Regiao_Jardim Camburi  Regiao_Jardim da Penha  \\\n",
       "6753           0.0000                 1.0000                  0.0000   \n",
       "5333           0.0000                 1.0000                  0.0000   \n",
       "2347           1.0000                 0.0000                  1.0000   \n",
       "307            1.0000                 0.0000                  0.0000   \n",
       "22             1.0000                 0.0000                  0.0000   \n",
       "...               ...                    ...                     ...   \n",
       "6446           0.0000                 1.0000                  0.0000   \n",
       "641            1.0000                 0.0000                  0.0000   \n",
       "3029           0.0000                 1.0000                  0.0000   \n",
       "18             1.0000                 0.0000                  0.0000   \n",
       "4764           0.0000                 0.0000                  0.0000   \n",
       "\n",
       "      Regiao_Jucutuquara  Regiao_Maruípe  Regiao_Santo Antônio  \\\n",
       "6753              0.0000          0.0000                0.0000   \n",
       "5333              0.0000          0.0000                0.0000   \n",
       "2347              0.0000          0.0000                0.0000   \n",
       "307               0.0000          1.0000                0.0000   \n",
       "22                1.0000          0.0000                0.0000   \n",
       "...                  ...             ...                   ...   \n",
       "6446              0.0000          0.0000                0.0000   \n",
       "641               0.0000          1.0000                0.0000   \n",
       "3029              0.0000          0.0000                0.0000   \n",
       "18                0.0000          1.0000                0.0000   \n",
       "4764              0.0000          0.0000                0.0000   \n",
       "\n",
       "      Regiao_Zona Leste  Regiao_Zona Norte  Regiao_Zona Oeste  Regiao_Zona Sul  \n",
       "6753             0.0000             0.0000             0.0000           0.0000  \n",
       "5333             0.0000             0.0000             0.0000           0.0000  \n",
       "2347             0.0000             0.0000             0.0000           0.0000  \n",
       "307              0.0000             0.0000             0.0000           0.0000  \n",
       "22               0.0000             0.0000             0.0000           0.0000  \n",
       "...                 ...                ...                ...              ...  \n",
       "6446             0.0000             0.0000             0.0000           0.0000  \n",
       "641              0.0000             0.0000             0.0000           0.0000  \n",
       "3029             0.0000             0.0000             0.0000           0.0000  \n",
       "18               0.0000             0.0000             0.0000           0.0000  \n",
       "4764             1.0000             0.0000             0.0000           0.0000  \n",
       "\n",
       "[1134 rows x 15 columns]"
      ]
     },
     "execution_count": 1144,
     "metadata": {},
     "output_type": "execute_result"
    }
   ],
   "source": [
    "x_test"
   ]
  },
  {
   "cell_type": "code",
   "execution_count": 1145,
   "metadata": {},
   "outputs": [
    {
     "data": {
      "text/plain": [
       "992457.7848324515"
      ]
     },
     "execution_count": 1145,
     "metadata": {},
     "output_type": "execute_result"
    }
   ],
   "source": [
    "y_test2.mean()"
   ]
  },
  {
   "cell_type": "code",
   "execution_count": 1146,
   "metadata": {},
   "outputs": [
    {
     "data": {
      "text/plain": [
       "916124.2562297885"
      ]
     },
     "execution_count": 1146,
     "metadata": {},
     "output_type": "execute_result"
    }
   ],
   "source": [
    "y_predict2.mean()"
   ]
  },
  {
   "cell_type": "code",
   "execution_count": 1147,
   "metadata": {},
   "outputs": [
    {
     "data": {
      "text/plain": [
       "(array([  3.,  11.,  87., 383., 518., 113.,  14.,   3.,   1.,   1.]),\n",
       " array([-2.81843397, -2.14000016, -1.46156636, -0.78313255, -0.10469875,\n",
       "         0.57373505,  1.25216886,  1.93060266,  2.60903647,  3.28747027,\n",
       "         3.96590407]),\n",
       " <BarContainer object of 10 artists>)"
      ]
     },
     "execution_count": 1147,
     "metadata": {},
     "output_type": "execute_result"
    },
    {
     "data": {
      "image/png": "[encoded data removed]",
      "text/plain": [
       "<Figure size 2880x720 with 1 Axes>"
      ]
     },
     "metadata": {
      "needs_background": "light"
     },
     "output_type": "display_data"
    }
   ],
   "source": [
    "plt.figure(figsize=(40,10))\n",
    "plt.subplot(1,2,1)\n",
    "plt.ticklabel_format(style = 'plain')\n",
    "plt.hist([y_predict - y_test])"
   ]
  },
  {
   "cell_type": "code",
   "execution_count": 1148,
   "metadata": {},
   "outputs": [
    {
     "data": {
      "text/plain": [
       "141028.68280064172"
      ]
     },
     "execution_count": 1148,
     "metadata": {},
     "output_type": "execute_result"
    }
   ],
   "source": [
    "median_absolute_error(y_test2, y_predict2)"
   ]
  },
  {
   "cell_type": "code",
   "execution_count": 1149,
   "metadata": {},
   "outputs": [
    {
     "data": {
      "text/plain": [
       "0.3335412594094631"
      ]
     },
     "execution_count": 1149,
     "metadata": {},
     "output_type": "execute_result"
    }
   ],
   "source": [
    "median_absolute_error(y_test, y_predict)"
   ]
  },
  {
   "cell_type": "code",
   "execution_count": 1150,
   "metadata": {},
   "outputs": [
    {
     "data": {
      "text/plain": [
       "(array([ 12.,  55.,  93., 306., 282., 165., 119.,  64.,  31.,   7.]),\n",
       " array([16.59617314, 17.21642515, 17.83667716, 18.45692916, 19.07718117,\n",
       "        19.69743318, 20.31768519, 20.93793719, 21.5581892 , 22.17844121,\n",
       "        22.79869321]),\n",
       " <BarContainer object of 10 artists>)"
      ]
     },
     "execution_count": 1150,
     "metadata": {},
     "output_type": "execute_result"
    },
    {
     "data": {
      "image/png": "[encoded data removed]",
      "text/plain": [
       "<Figure size 2880x720 with 1 Axes>"
      ]
     },
     "metadata": {
      "needs_background": "light"
     },
     "output_type": "display_data"
    }
   ],
   "source": [
    "plt.figure(figsize=(40,10))\n",
    "plt.subplot(1,2,1)\n",
    "plt.ticklabel_format(style = 'plain')\n",
    "plt.hist(y_predict)"
   ]
  },
  {
   "cell_type": "code",
   "execution_count": 1151,
   "metadata": {},
   "outputs": [
    {
     "data": {
      "text/plain": [
       "(array([  7.,  26.,  48., 163., 276., 287., 145.,  84.,  77.,  21.]),\n",
       " array([15.87267488, 16.55081085, 17.22894682, 17.90708279, 18.58521877,\n",
       "        19.26335474, 19.94149071, 20.61962668, 21.29776265, 21.97589862,\n",
       "        22.65403459]),\n",
       " <BarContainer object of 10 artists>)"
      ]
     },
     "execution_count": 1151,
     "metadata": {},
     "output_type": "execute_result"
    },
    {
     "data": {
      "image/png": "[encoded data removed]",
      "text/plain": [
       "<Figure size 2880x720 with 1 Axes>"
      ]
     },
     "metadata": {
      "needs_background": "light"
     },
     "output_type": "display_data"
    }
   ],
   "source": [
    "plt.figure(figsize=(40,10))\n",
    "plt.subplot(1,2,1)\n",
    "plt.ticklabel_format(style = 'plain')\n",
    "plt.hist(y_test)"
   ]
  },
  {
   "cell_type": "code",
   "execution_count": null,
   "metadata": {},
   "outputs": [],
   "source": []
  }
 ],
 "metadata": {
  "interpreter": {
   "hash": "18e03f19e2eea32137bb6b7634899948883c996f0eeacfc3548045b6b15590e6"
  },
  "kernelspec": {
   "display_name": "Python 3.7.4 64-bit ('base': conda)",
   "language": "python",
   "name": "python3"
  },
  "language_info": {
   "codemirror_mode": {
    "name": "ipython",
    "version": 3
   },
   "file_extension": ".py",
   "mimetype": "text/x-python",
   "name": "python",
   "nbconvert_exporter": "python",
   "pygments_lexer": "ipython3",
   "version": "3.7.4"
  },
  "orig_nbformat": 4
 },
 "nbformat": 4,
 "nbformat_minor": 2
}
