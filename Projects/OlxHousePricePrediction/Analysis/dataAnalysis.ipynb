{
 "cells": [
  {
   "cell_type": "code",
   "execution_count": 249,
   "metadata": {},
   "outputs": [],
   "source": [
    "import pandas as pd \n",
    "import matplotlib.pyplot as plt \n",
    "pd.options.display.float_format = '{:,.2f}'.format\n",
    "import warnings\n",
    "warnings.simplefilter(action='ignore', category=FutureWarning)\n",
    "import numpy as np "
   ]
  },
  {
   "cell_type": "markdown",
   "metadata": {},
   "source": [
    "# Carga"
   ]
  },
  {
   "cell_type": "code",
   "execution_count": 250,
   "metadata": {},
   "outputs": [],
   "source": [
    "## Importando os datasets com suas respectivas configurações"
   ]
  },
  {
   "cell_type": "code",
   "execution_count": 251,
   "metadata": {},
   "outputs": [],
   "source": [
    "vixCasa = pd.read_csv(r'C:\\Users\\arthu\\OneDrive\\Projetos\\0-GitHub\\mlStuff\\Projects\\OlxHousePricePrediction\\Extraction\\data\\vixCasas.csv' , encoding='utf-16', sep='|')"
   ]
  },
  {
   "cell_type": "code",
   "execution_count": 252,
   "metadata": {},
   "outputs": [],
   "source": [
    "vixApp = pd.read_csv(r'C:\\Users\\arthu\\OneDrive\\Projetos\\0-GitHub\\mlStuff\\Projects\\OlxHousePricePrediction\\Extraction\\data\\vixApartamentos.csv' , encoding='utf-16', sep='|')"
   ]
  },
  {
   "cell_type": "code",
   "execution_count": 253,
   "metadata": {},
   "outputs": [],
   "source": [
    "## Unindo os dados de Apartamentos e Casas\n",
    "df = pd.concat([vixCasa, vixApp], ignore_index=True)"
   ]
  },
  {
   "cell_type": "code",
   "execution_count": 254,
   "metadata": {},
   "outputs": [],
   "source": [
    "# Removemos a coluna codigo da olx pois não será importante para a análise. Além disso, fizemos alguns tratamentos nos nomes de alguns bairros\n",
    "df = df.drop_duplicates(subset=(['Codigo']))\n",
    "df['Bairro'] = df['Bairro'].map(lambda x : str.strip(x))\n",
    "df['Bairro'] = df['Bairro'].replace(['São Pedro V'], ['São Pedro'])\n",
    "df['Bairro'] = df['Bairro'].replace(['Comdusa'], ['Condusa'])"
   ]
  },
  {
   "cell_type": "code",
   "execution_count": 255,
   "metadata": {},
   "outputs": [],
   "source": [
    "# Nesse bloco, carregamos o dataset com indices de alfabetização e salario meio por bairro na cidade de vitória.\n",
    "# Além disso, foi feito algumas tratativas nos nomes dos bairros.\n",
    "df_social_columns = ['bairro' , 'p+10' , 'p+10_alfabetizadas' ,'taxa_alfabetizacao'  , 'salarioMedio' ,'taxa-1salario' , 'taxa+1salario' , 'taxasemsalario' ]\n",
    "df_social = pd.read_csv(r\"C:\\Users\\arthu\\OneDrive\\Projetos\\0-GitHub\\projetoDataScienceFaesa\\Extracoes\\ijsn-censo\\alfabetizacaoRendimento2010.csv\" )\n",
    "df_social.columns = df_social_columns\n",
    "df_social = df_social[df_social['bairro'] != 'Vitória']\n",
    "df_social['bairro'] = df_social['bairro'].map(lambda x : str.strip(x))\n",
    "df_social['bairro'] = df_social['bairro'].replace(['Jardim Camburí'],['Jardim Camburi'])\n",
    "df_social['bairro'] = df_social['bairro'].replace(['Morada de Camburí'],['Morada de Camburi'])\n",
    "df_social['bairro'] = df_social['bairro'].replace(['Pontal de Camburí'],['Pontal de Camburi'])\n",
    "df_social['bairro'] = df_social['bairro'].replace(['Republica'], ['República'])\n",
    "df_social['bairro'] = df_social['bairro'].replace(['Santa Lucia'], ['Santa Lúcia'])\n",
    "df_social['bairro'] = df_social['bairro'].replace(['Da Penha'], ['da Penha'])\n",
    "df_social['bairro'] = df_social['bairro'].replace(['De Lourdes'], ['de Lourdes'])\n",
    "df_social['bairro'] = df_social['bairro'].replace(['Do Moscoso'], ['do Moscoso'])\n",
    "df_social['bairro'] = df_social['bairro'].replace(['São Cristovão'], ['São Cristóvão'])\n",
    "df_social['bairro'] = df_social['bairro'].replace(['Antonio Honório'], ['Antônio Honório'])\n",
    "df_social['Populacao'] = df_social['p+10' ] / 288311\n"
   ]
  },
  {
   "cell_type": "code",
   "execution_count": 256,
   "metadata": {},
   "outputs": [],
   "source": [
    "# Foi realizado um merge com os datasets da OLX e dos indices.\n",
    "temp = df_social[['bairro' ,'taxa_alfabetizacao', 'salarioMedio' , 'taxa+1salario' ,'taxa-1salario']].rename(columns={'bairro' : 'Bairro'})\n",
    "df = df.merge(temp , on='Bairro' )"
   ]
  },
  {
   "cell_type": "markdown",
   "metadata": {},
   "source": [
    "# Tratamento de dados"
   ]
  },
  {
   "cell_type": "code",
   "execution_count": 257,
   "metadata": {},
   "outputs": [
    {
     "data": {
      "text/plain": [
       "Codigo                      int64\n",
       "Descricao                  object\n",
       "Link                       object\n",
       "Page                        int64\n",
       "Valor                      object\n",
       "Categoria                  object\n",
       "Tipo                       object\n",
       "Área construída            object\n",
       "Quartos                    object\n",
       "Banheiros                  object\n",
       "Vagas na garagem           object\n",
       "CEP                         int64\n",
       "Município                  object\n",
       "Bairro                     object\n",
       "Logradouro                 object\n",
       "Detalhes do imóvel         object\n",
       "Condomínio                 object\n",
       "IPTU                       object\n",
       "Detalhes do condominio     object\n",
       "Área útil                  object\n",
       "taxa_alfabetizacao        float64\n",
       "salarioMedio              float64\n",
       "taxa+1salario             float64\n",
       "taxa-1salario             float64\n",
       "dtype: object"
      ]
     },
     "execution_count": 257,
     "metadata": {},
     "output_type": "execute_result"
    }
   ],
   "source": [
    "df.dtypes"
   ]
  },
  {
   "cell_type": "markdown",
   "metadata": {},
   "source": [
    "### Alterando tipo de dados"
   ]
  },
  {
   "cell_type": "code",
   "execution_count": 258,
   "metadata": {},
   "outputs": [],
   "source": [
    "# Necessario fazer algumas transformações nos dados para tranforma em float\n",
    "df['Valor']= df['Valor'].map(lambda x : str(x).replace('R$ ','').replace('.','')).astype(float)"
   ]
  },
  {
   "cell_type": "code",
   "execution_count": 259,
   "metadata": {},
   "outputs": [],
   "source": [
    "# também em relação a área, observamos que os dados eram preenchidos ou na coluna Area Util ou Area Construida. Dessa forma utilizamos o isnull para utilizar a area construida caso não tenhamos area Util.\n",
    "df['Área útil'] =  df['Área útil'].map(lambda x : str(x).replace('m²' ,'')).astype(float)\n",
    "df['Área construída'] = df['Área construída'].map(lambda x : str(x).replace('m²' ,'')).astype(float)\n",
    "df['Area'] = df['Área útil'].fillna(df['Área construída'])"
   ]
  },
  {
   "cell_type": "code",
   "execution_count": 260,
   "metadata": {},
   "outputs": [],
   "source": [
    "## Alguns tratamentos para transformar dados categoricos em dados numericos. Os imoveis com 5 ou mais Quartos, banheiros e vagas foram alterados para ter no máximo 5.\n",
    "df['Quartos'] = df['Quartos'].map(lambda x : 5 if x=='5 ou mais' else int(x))\n",
    "df['Banheiros'] = df['Banheiros'].fillna(0).map(lambda x : 5 if x=='5 ou mais' else int(x))\n",
    "df['Vagas na garagem'] = df['Vagas na garagem'].fillna(0).map(lambda x : 5 if x=='5 ou mais' else int(x))"
   ]
  },
  {
   "cell_type": "code",
   "execution_count": 261,
   "metadata": {},
   "outputs": [
    {
     "data": {
      "text/plain": [
       "Codigo                       0\n",
       "Descricao                    0\n",
       "Link                         0\n",
       "Page                         0\n",
       "Valor                       79\n",
       "Categoria                    0\n",
       "Tipo                         0\n",
       "Área construída           5865\n",
       "Quartos                      0\n",
       "Banheiros                    0\n",
       "Vagas na garagem             0\n",
       "CEP                          0\n",
       "Município                    0\n",
       "Bairro                       0\n",
       "Logradouro                4721\n",
       "Detalhes do imóvel        2550\n",
       "Condomínio                3780\n",
       "IPTU                      4691\n",
       "Detalhes do condominio    3936\n",
       "Área útil                 2472\n",
       "taxa_alfabetizacao           0\n",
       "salarioMedio                 0\n",
       "taxa+1salario                0\n",
       "taxa-1salario                0\n",
       "Area                       939\n",
       "dtype: int64"
      ]
     },
     "execution_count": 261,
     "metadata": {},
     "output_type": "execute_result"
    }
   ],
   "source": [
    "df.isna().sum()"
   ]
  },
  {
   "cell_type": "code",
   "execution_count": 262,
   "metadata": {},
   "outputs": [],
   "source": [
    "# Mais um processo de remoção de colunas que não iremos utilizar\n",
    "df.drop(['Link','Descricao','Área útil' , 'Área construída', 'Page' ,'Detalhes do imóvel', 'Condomínio', 'IPTU',\n",
    "       'Detalhes do condominio', 'Logradouro','CEP', 'Município', 'Codigo'] , axis=1, inplace=True)"
   ]
  },
  {
   "cell_type": "code",
   "execution_count": 263,
   "metadata": {},
   "outputs": [],
   "source": [
    "# Também julgamos importante remover imoveis sem banheiros ou quartos. Entendemos que sejam erros de preenchimento.\n",
    "df = df[df['Banheiros'] >0]\n",
    "df = df[df['Quartos'] >0]"
   ]
  },
  {
   "cell_type": "code",
   "execution_count": 264,
   "metadata": {},
   "outputs": [
    {
     "data": {
      "text/html": [
       "<div>\n",
       "<style scoped>\n",
       "    .dataframe tbody tr th:only-of-type {\n",
       "        vertical-align: middle;\n",
       "    }\n",
       "\n",
       "    .dataframe tbody tr th {\n",
       "        vertical-align: top;\n",
       "    }\n",
       "\n",
       "    .dataframe thead th {\n",
       "        text-align: right;\n",
       "    }\n",
       "</style>\n",
       "<table border=\"1\" class=\"dataframe\">\n",
       "  <thead>\n",
       "    <tr style=\"text-align: right;\">\n",
       "      <th></th>\n",
       "      <th>Valor</th>\n",
       "      <th>Categoria</th>\n",
       "      <th>Tipo</th>\n",
       "      <th>Quartos</th>\n",
       "      <th>Banheiros</th>\n",
       "      <th>Vagas na garagem</th>\n",
       "      <th>Bairro</th>\n",
       "      <th>taxa_alfabetizacao</th>\n",
       "      <th>salarioMedio</th>\n",
       "      <th>taxa+1salario</th>\n",
       "      <th>taxa-1salario</th>\n",
       "      <th>Area</th>\n",
       "    </tr>\n",
       "  </thead>\n",
       "  <tbody>\n",
       "    <tr>\n",
       "      <th>0</th>\n",
       "      <td>150,000.00</td>\n",
       "      <td>Casas</td>\n",
       "      <td>Venda - casa em rua pública</td>\n",
       "      <td>3</td>\n",
       "      <td>2</td>\n",
       "      <td>1</td>\n",
       "      <td>Itararé</td>\n",
       "      <td>95.25</td>\n",
       "      <td>1,015.74</td>\n",
       "      <td>44.54</td>\n",
       "      <td>21.76</td>\n",
       "      <td>110.00</td>\n",
       "    </tr>\n",
       "    <tr>\n",
       "      <th>1</th>\n",
       "      <td>150,000.00</td>\n",
       "      <td>Casas</td>\n",
       "      <td>Venda - casa em rua pública</td>\n",
       "      <td>2</td>\n",
       "      <td>2</td>\n",
       "      <td>2</td>\n",
       "      <td>Itararé</td>\n",
       "      <td>95.25</td>\n",
       "      <td>1,015.74</td>\n",
       "      <td>44.54</td>\n",
       "      <td>21.76</td>\n",
       "      <td>125.00</td>\n",
       "    </tr>\n",
       "    <tr>\n",
       "      <th>2</th>\n",
       "      <td>150,000.00</td>\n",
       "      <td>Casas</td>\n",
       "      <td>Venda - casa em rua pública</td>\n",
       "      <td>2</td>\n",
       "      <td>2</td>\n",
       "      <td>1</td>\n",
       "      <td>Itararé</td>\n",
       "      <td>95.25</td>\n",
       "      <td>1,015.74</td>\n",
       "      <td>44.54</td>\n",
       "      <td>21.76</td>\n",
       "      <td>115.00</td>\n",
       "    </tr>\n",
       "    <tr>\n",
       "      <th>3</th>\n",
       "      <td>150,000.00</td>\n",
       "      <td>Casas</td>\n",
       "      <td>Venda - casa em rua pública</td>\n",
       "      <td>3</td>\n",
       "      <td>1</td>\n",
       "      <td>1</td>\n",
       "      <td>Itararé</td>\n",
       "      <td>95.25</td>\n",
       "      <td>1,015.74</td>\n",
       "      <td>44.54</td>\n",
       "      <td>21.76</td>\n",
       "      <td>100.00</td>\n",
       "    </tr>\n",
       "    <tr>\n",
       "      <th>4</th>\n",
       "      <td>190,000.00</td>\n",
       "      <td>Casas</td>\n",
       "      <td>Venda - casa em rua pública</td>\n",
       "      <td>2</td>\n",
       "      <td>1</td>\n",
       "      <td>1</td>\n",
       "      <td>Itararé</td>\n",
       "      <td>95.25</td>\n",
       "      <td>1,015.74</td>\n",
       "      <td>44.54</td>\n",
       "      <td>21.76</td>\n",
       "      <td>100.00</td>\n",
       "    </tr>\n",
       "    <tr>\n",
       "      <th>...</th>\n",
       "      <td>...</td>\n",
       "      <td>...</td>\n",
       "      <td>...</td>\n",
       "      <td>...</td>\n",
       "      <td>...</td>\n",
       "      <td>...</td>\n",
       "      <td>...</td>\n",
       "      <td>...</td>\n",
       "      <td>...</td>\n",
       "      <td>...</td>\n",
       "      <td>...</td>\n",
       "      <td>...</td>\n",
       "    </tr>\n",
       "    <tr>\n",
       "      <th>7393</th>\n",
       "      <td>60,000.00</td>\n",
       "      <td>Casas</td>\n",
       "      <td>Venda - casa em rua pública</td>\n",
       "      <td>3</td>\n",
       "      <td>1</td>\n",
       "      <td>0</td>\n",
       "      <td>Cruzamento</td>\n",
       "      <td>93.77</td>\n",
       "      <td>910.76</td>\n",
       "      <td>34.11</td>\n",
       "      <td>27.61</td>\n",
       "      <td>100.00</td>\n",
       "    </tr>\n",
       "    <tr>\n",
       "      <th>7394</th>\n",
       "      <td>32,000.00</td>\n",
       "      <td>Casas</td>\n",
       "      <td>Venda - casa em rua pública</td>\n",
       "      <td>2</td>\n",
       "      <td>1</td>\n",
       "      <td>0</td>\n",
       "      <td>Cruzamento</td>\n",
       "      <td>93.77</td>\n",
       "      <td>910.76</td>\n",
       "      <td>34.11</td>\n",
       "      <td>27.61</td>\n",
       "      <td>NaN</td>\n",
       "    </tr>\n",
       "    <tr>\n",
       "      <th>7395</th>\n",
       "      <td>26,000.00</td>\n",
       "      <td>Apartamentos</td>\n",
       "      <td>Venda - apartamento padrão</td>\n",
       "      <td>2</td>\n",
       "      <td>2</td>\n",
       "      <td>1</td>\n",
       "      <td>Cruzamento</td>\n",
       "      <td>93.77</td>\n",
       "      <td>910.76</td>\n",
       "      <td>34.11</td>\n",
       "      <td>27.61</td>\n",
       "      <td>58.00</td>\n",
       "    </tr>\n",
       "    <tr>\n",
       "      <th>7396</th>\n",
       "      <td>110,000.00</td>\n",
       "      <td>Apartamentos</td>\n",
       "      <td>Venda - apartamento padrão</td>\n",
       "      <td>1</td>\n",
       "      <td>1</td>\n",
       "      <td>0</td>\n",
       "      <td>Segurança do Lar</td>\n",
       "      <td>98.22</td>\n",
       "      <td>1,681.78</td>\n",
       "      <td>58.61</td>\n",
       "      <td>15.05</td>\n",
       "      <td>38.00</td>\n",
       "    </tr>\n",
       "    <tr>\n",
       "      <th>7397</th>\n",
       "      <td>650,000.00</td>\n",
       "      <td>Apartamentos</td>\n",
       "      <td>Venda - apartamento padrão</td>\n",
       "      <td>3</td>\n",
       "      <td>2</td>\n",
       "      <td>2</td>\n",
       "      <td>Parque Industrial</td>\n",
       "      <td>80.00</td>\n",
       "      <td>638.33</td>\n",
       "      <td>20.00</td>\n",
       "      <td>40.00</td>\n",
       "      <td>110.00</td>\n",
       "    </tr>\n",
       "  </tbody>\n",
       "</table>\n",
       "<p>6958 rows × 12 columns</p>\n",
       "</div>"
      ],
      "text/plain": [
       "          Valor     Categoria                         Tipo  Quartos  \\\n",
       "0    150,000.00         Casas  Venda - casa em rua pública        3   \n",
       "1    150,000.00         Casas  Venda - casa em rua pública        2   \n",
       "2    150,000.00         Casas  Venda - casa em rua pública        2   \n",
       "3    150,000.00         Casas  Venda - casa em rua pública        3   \n",
       "4    190,000.00         Casas  Venda - casa em rua pública        2   \n",
       "...         ...           ...                          ...      ...   \n",
       "7393  60,000.00         Casas  Venda - casa em rua pública        3   \n",
       "7394  32,000.00         Casas  Venda - casa em rua pública        2   \n",
       "7395  26,000.00  Apartamentos   Venda - apartamento padrão        2   \n",
       "7396 110,000.00  Apartamentos   Venda - apartamento padrão        1   \n",
       "7397 650,000.00  Apartamentos   Venda - apartamento padrão        3   \n",
       "\n",
       "      Banheiros  Vagas na garagem             Bairro  taxa_alfabetizacao  \\\n",
       "0             2                 1            Itararé               95.25   \n",
       "1             2                 2            Itararé               95.25   \n",
       "2             2                 1            Itararé               95.25   \n",
       "3             1                 1            Itararé               95.25   \n",
       "4             1                 1            Itararé               95.25   \n",
       "...         ...               ...                ...                 ...   \n",
       "7393          1                 0         Cruzamento               93.77   \n",
       "7394          1                 0         Cruzamento               93.77   \n",
       "7395          2                 1         Cruzamento               93.77   \n",
       "7396          1                 0   Segurança do Lar               98.22   \n",
       "7397          2                 2  Parque Industrial               80.00   \n",
       "\n",
       "      salarioMedio  taxa+1salario  taxa-1salario   Area  \n",
       "0         1,015.74          44.54          21.76 110.00  \n",
       "1         1,015.74          44.54          21.76 125.00  \n",
       "2         1,015.74          44.54          21.76 115.00  \n",
       "3         1,015.74          44.54          21.76 100.00  \n",
       "4         1,015.74          44.54          21.76 100.00  \n",
       "...            ...            ...            ...    ...  \n",
       "7393        910.76          34.11          27.61 100.00  \n",
       "7394        910.76          34.11          27.61    NaN  \n",
       "7395        910.76          34.11          27.61  58.00  \n",
       "7396      1,681.78          58.61          15.05  38.00  \n",
       "7397        638.33          20.00          40.00 110.00  \n",
       "\n",
       "[6958 rows x 12 columns]"
      ]
     },
     "execution_count": 264,
     "metadata": {},
     "output_type": "execute_result"
    }
   ],
   "source": [
    "# Agora sim, nosso dataset está pronto para as demais etapas.\n",
    "df "
   ]
  },
  {
   "cell_type": "markdown",
   "metadata": {},
   "source": [
    "### Análise e remoção de outliers"
   ]
  },
  {
   "cell_type": "code",
   "execution_count": 265,
   "metadata": {},
   "outputs": [],
   "source": [
    "# Criamos uma função para calcular os limites inferiores e superiores das distribuições\n",
    "def fncCalculaLimites(x):\n",
    "    return x.quantile(0.75) + x.std()*1.5 , x.quantile(0.25) - x.std()*1.5 "
   ]
  },
  {
   "cell_type": "markdown",
   "metadata": {},
   "source": [
    "##### Valor"
   ]
  },
  {
   "cell_type": "code",
   "execution_count": 266,
   "metadata": {},
   "outputs": [
    {
     "data": {
      "image/png": "[encoded data removed]",
      "text/plain": [
       "<Figure size 2880x720 with 2 Axes>"
      ]
     },
     "metadata": {
      "needs_background": "light"
     },
     "output_type": "display_data"
    }
   ],
   "source": [
    "# Podemos observar que o valor dos apartamentos tem uma distribuição lognormal. Optamos por remover os outliers utilizando uma transformação de log2 na nossa variavel de valor, que é a variavel dependente. \n",
    "# É importante fazermos isso por a regressao linear espera que a variavel dependente tenha uma distribuição parecida a gausiana.\n",
    "plt.figure(figsize=(40,10))\n",
    "plt.subplot(1,2,1)\n",
    "plt.ticklabel_format(style = 'plain')\n",
    "df['Valor'].hist(bins= 30)\n",
    "\n",
    "plt.subplot(1,2,2)\n",
    "df['Valor'].plot(kind = 'box')\n",
    "plt.show()"
   ]
  },
  {
   "cell_type": "code",
   "execution_count": 267,
   "metadata": {},
   "outputs": [
    {
     "data": {
      "text/plain": [
       "<AxesSubplot:>"
      ]
     },
     "execution_count": 267,
     "metadata": {},
     "output_type": "execute_result"
    },
    {
     "data": {
      "image/png": "[encoded data removed]",
      "text/plain": [
       "<Figure size 432x288 with 1 Axes>"
      ]
     },
     "metadata": {
      "needs_background": "light"
     },
     "output_type": "display_data"
    }
   ],
   "source": [
    "np.log2(df[df['Valor']>0]['Valor']).hist()"
   ]
  },
  {
   "cell_type": "code",
   "execution_count": 268,
   "metadata": {},
   "outputs": [
    {
     "data": {
      "text/plain": [
       "(22.736311478169775, 15.375360496617251)"
      ]
     },
     "execution_count": 268,
     "metadata": {},
     "output_type": "execute_result"
    }
   ],
   "source": [
    "# Calculo de limites inferiores e superiores\n",
    "fncCalculaLimites(np.log2(df[df['Valor']>0]['Valor']))"
   ]
  },
  {
   "cell_type": "code",
   "execution_count": 269,
   "metadata": {},
   "outputs": [
    {
     "data": {
      "text/html": [
       "<div>\n",
       "<style scoped>\n",
       "    .dataframe tbody tr th:only-of-type {\n",
       "        vertical-align: middle;\n",
       "    }\n",
       "\n",
       "    .dataframe tbody tr th {\n",
       "        vertical-align: top;\n",
       "    }\n",
       "\n",
       "    .dataframe thead th {\n",
       "        text-align: right;\n",
       "    }\n",
       "</style>\n",
       "<table border=\"1\" class=\"dataframe\">\n",
       "  <thead>\n",
       "    <tr style=\"text-align: right;\">\n",
       "      <th></th>\n",
       "      <th>Valor</th>\n",
       "      <th>Categoria</th>\n",
       "      <th>Tipo</th>\n",
       "      <th>Quartos</th>\n",
       "      <th>Banheiros</th>\n",
       "      <th>Vagas na garagem</th>\n",
       "      <th>Bairro</th>\n",
       "      <th>taxa_alfabetizacao</th>\n",
       "      <th>salarioMedio</th>\n",
       "      <th>taxa+1salario</th>\n",
       "      <th>taxa-1salario</th>\n",
       "      <th>Area</th>\n",
       "    </tr>\n",
       "  </thead>\n",
       "  <tbody>\n",
       "    <tr>\n",
       "      <th>38</th>\n",
       "      <td>5,000.00</td>\n",
       "      <td>Casas</td>\n",
       "      <td>Venda - casa em rua pública</td>\n",
       "      <td>2</td>\n",
       "      <td>1</td>\n",
       "      <td>1</td>\n",
       "      <td>Itararé</td>\n",
       "      <td>95.25</td>\n",
       "      <td>1,015.74</td>\n",
       "      <td>44.54</td>\n",
       "      <td>21.76</td>\n",
       "      <td>NaN</td>\n",
       "    </tr>\n",
       "    <tr>\n",
       "      <th>44</th>\n",
       "      <td>700.00</td>\n",
       "      <td>Casas</td>\n",
       "      <td>Venda - casa em rua pública</td>\n",
       "      <td>3</td>\n",
       "      <td>2</td>\n",
       "      <td>2</td>\n",
       "      <td>Itararé</td>\n",
       "      <td>95.25</td>\n",
       "      <td>1,015.74</td>\n",
       "      <td>44.54</td>\n",
       "      <td>21.76</td>\n",
       "      <td>390.00</td>\n",
       "    </tr>\n",
       "    <tr>\n",
       "      <th>52</th>\n",
       "      <td>500.00</td>\n",
       "      <td>Casas</td>\n",
       "      <td>Venda - casa em rua pública</td>\n",
       "      <td>2</td>\n",
       "      <td>1</td>\n",
       "      <td>2</td>\n",
       "      <td>Itararé</td>\n",
       "      <td>95.25</td>\n",
       "      <td>1,015.74</td>\n",
       "      <td>44.54</td>\n",
       "      <td>21.76</td>\n",
       "      <td>0.00</td>\n",
       "    </tr>\n",
       "    <tr>\n",
       "      <th>53</th>\n",
       "      <td>700.00</td>\n",
       "      <td>Casas</td>\n",
       "      <td>Venda - casa em rua pública</td>\n",
       "      <td>2</td>\n",
       "      <td>1</td>\n",
       "      <td>2</td>\n",
       "      <td>Itararé</td>\n",
       "      <td>95.25</td>\n",
       "      <td>1,015.74</td>\n",
       "      <td>44.54</td>\n",
       "      <td>21.76</td>\n",
       "      <td>0.00</td>\n",
       "    </tr>\n",
       "    <tr>\n",
       "      <th>55</th>\n",
       "      <td>700.00</td>\n",
       "      <td>Casas</td>\n",
       "      <td>Venda - casa em rua pública</td>\n",
       "      <td>3</td>\n",
       "      <td>2</td>\n",
       "      <td>2</td>\n",
       "      <td>Itararé</td>\n",
       "      <td>95.25</td>\n",
       "      <td>1,015.74</td>\n",
       "      <td>44.54</td>\n",
       "      <td>21.76</td>\n",
       "      <td>350.00</td>\n",
       "    </tr>\n",
       "    <tr>\n",
       "      <th>...</th>\n",
       "      <td>...</td>\n",
       "      <td>...</td>\n",
       "      <td>...</td>\n",
       "      <td>...</td>\n",
       "      <td>...</td>\n",
       "      <td>...</td>\n",
       "      <td>...</td>\n",
       "      <td>...</td>\n",
       "      <td>...</td>\n",
       "      <td>...</td>\n",
       "      <td>...</td>\n",
       "      <td>...</td>\n",
       "    </tr>\n",
       "    <tr>\n",
       "      <th>7342</th>\n",
       "      <td>10,000.00</td>\n",
       "      <td>Casas</td>\n",
       "      <td>Venda - casa em rua pública</td>\n",
       "      <td>3</td>\n",
       "      <td>2</td>\n",
       "      <td>2</td>\n",
       "      <td>Redenção</td>\n",
       "      <td>93.18</td>\n",
       "      <td>795.59</td>\n",
       "      <td>36.92</td>\n",
       "      <td>27.86</td>\n",
       "      <td>NaN</td>\n",
       "    </tr>\n",
       "    <tr>\n",
       "      <th>7376</th>\n",
       "      <td>650.00</td>\n",
       "      <td>Casas</td>\n",
       "      <td>Venda - casa em rua pública</td>\n",
       "      <td>1</td>\n",
       "      <td>1</td>\n",
       "      <td>0</td>\n",
       "      <td>Vila Rubim</td>\n",
       "      <td>97.25</td>\n",
       "      <td>1,297.75</td>\n",
       "      <td>48.07</td>\n",
       "      <td>21.09</td>\n",
       "      <td>80.00</td>\n",
       "    </tr>\n",
       "    <tr>\n",
       "      <th>7391</th>\n",
       "      <td>11,000.00</td>\n",
       "      <td>Casas</td>\n",
       "      <td>Venda - casa em rua pública</td>\n",
       "      <td>2</td>\n",
       "      <td>2</td>\n",
       "      <td>1</td>\n",
       "      <td>Nazareth</td>\n",
       "      <td>98.88</td>\n",
       "      <td>2,121.99</td>\n",
       "      <td>60.75</td>\n",
       "      <td>11.21</td>\n",
       "      <td>0.00</td>\n",
       "    </tr>\n",
       "    <tr>\n",
       "      <th>7394</th>\n",
       "      <td>32,000.00</td>\n",
       "      <td>Casas</td>\n",
       "      <td>Venda - casa em rua pública</td>\n",
       "      <td>2</td>\n",
       "      <td>1</td>\n",
       "      <td>0</td>\n",
       "      <td>Cruzamento</td>\n",
       "      <td>93.77</td>\n",
       "      <td>910.76</td>\n",
       "      <td>34.11</td>\n",
       "      <td>27.61</td>\n",
       "      <td>NaN</td>\n",
       "    </tr>\n",
       "    <tr>\n",
       "      <th>7395</th>\n",
       "      <td>26,000.00</td>\n",
       "      <td>Apartamentos</td>\n",
       "      <td>Venda - apartamento padrão</td>\n",
       "      <td>2</td>\n",
       "      <td>2</td>\n",
       "      <td>1</td>\n",
       "      <td>Cruzamento</td>\n",
       "      <td>93.77</td>\n",
       "      <td>910.76</td>\n",
       "      <td>34.11</td>\n",
       "      <td>27.61</td>\n",
       "      <td>58.00</td>\n",
       "    </tr>\n",
       "  </tbody>\n",
       "</table>\n",
       "<p>249 rows × 12 columns</p>\n",
       "</div>"
      ],
      "text/plain": [
       "         Valor     Categoria                         Tipo  Quartos  Banheiros  \\\n",
       "38    5,000.00         Casas  Venda - casa em rua pública        2          1   \n",
       "44      700.00         Casas  Venda - casa em rua pública        3          2   \n",
       "52      500.00         Casas  Venda - casa em rua pública        2          1   \n",
       "53      700.00         Casas  Venda - casa em rua pública        2          1   \n",
       "55      700.00         Casas  Venda - casa em rua pública        3          2   \n",
       "...        ...           ...                          ...      ...        ...   \n",
       "7342 10,000.00         Casas  Venda - casa em rua pública        3          2   \n",
       "7376    650.00         Casas  Venda - casa em rua pública        1          1   \n",
       "7391 11,000.00         Casas  Venda - casa em rua pública        2          2   \n",
       "7394 32,000.00         Casas  Venda - casa em rua pública        2          1   \n",
       "7395 26,000.00  Apartamentos   Venda - apartamento padrão        2          2   \n",
       "\n",
       "      Vagas na garagem      Bairro  taxa_alfabetizacao  salarioMedio  \\\n",
       "38                   1     Itararé               95.25      1,015.74   \n",
       "44                   2     Itararé               95.25      1,015.74   \n",
       "52                   2     Itararé               95.25      1,015.74   \n",
       "53                   2     Itararé               95.25      1,015.74   \n",
       "55                   2     Itararé               95.25      1,015.74   \n",
       "...                ...         ...                 ...           ...   \n",
       "7342                 2    Redenção               93.18        795.59   \n",
       "7376                 0  Vila Rubim               97.25      1,297.75   \n",
       "7391                 1    Nazareth               98.88      2,121.99   \n",
       "7394                 0  Cruzamento               93.77        910.76   \n",
       "7395                 1  Cruzamento               93.77        910.76   \n",
       "\n",
       "      taxa+1salario  taxa-1salario   Area  \n",
       "38            44.54          21.76    NaN  \n",
       "44            44.54          21.76 390.00  \n",
       "52            44.54          21.76   0.00  \n",
       "53            44.54          21.76   0.00  \n",
       "55            44.54          21.76 350.00  \n",
       "...             ...            ...    ...  \n",
       "7342          36.92          27.86    NaN  \n",
       "7376          48.07          21.09  80.00  \n",
       "7391          60.75          11.21   0.00  \n",
       "7394          34.11          27.61    NaN  \n",
       "7395          34.11          27.61  58.00  \n",
       "\n",
       "[249 rows x 12 columns]"
      ]
     },
     "execution_count": 269,
     "metadata": {},
     "output_type": "execute_result"
    }
   ],
   "source": [
    "# Log 15.37 na base 2 é aproximadamente 42mil\n",
    "df[df['Valor']<=42000]"
   ]
  },
  {
   "cell_type": "code",
   "execution_count": 270,
   "metadata": {},
   "outputs": [],
   "source": [
    "# Removendo outliers\n",
    "df = df[(df['Valor']>42000) & (df['Valor']<=7000000)]"
   ]
  },
  {
   "cell_type": "code",
   "execution_count": 271,
   "metadata": {},
   "outputs": [
    {
     "data": {
      "image/png": "[encoded data removed]",
      "text/plain": [
       "<Figure size 2880x720 with 2 Axes>"
      ]
     },
     "metadata": {
      "needs_background": "light"
     },
     "output_type": "display_data"
    }
   ],
   "source": [
    "# Essa é a distribuição dos dados após a remoção dos outliers\n",
    "plt.figure(figsize=(40,10))\n",
    "plt.subplot(1,2,1)\n",
    "plt.ticklabel_format(style = 'plain')\n",
    "df['Valor'].hist(bins= 30)\n",
    "\n",
    "plt.subplot(1,2,2)\n",
    "df['Valor'].plot(kind = 'box')\n",
    "plt.show()"
   ]
  },
  {
   "cell_type": "markdown",
   "metadata": {},
   "source": [
    "##### Area"
   ]
  },
  {
   "cell_type": "code",
   "execution_count": 272,
   "metadata": {},
   "outputs": [
    {
     "data": {
      "image/png": "[encoded data removed]",
      "text/plain": [
       "<Figure size 2880x720 with 2 Axes>"
      ]
     },
     "metadata": {
      "needs_background": "light"
     },
     "output_type": "display_data"
    }
   ],
   "source": [
    "# Também identificamos dados muito discrepantes na area\n",
    "plt.figure(figsize=(40,10))\n",
    "plt.subplot(1,2,1)\n",
    "plt.ticklabel_format(style = 'plain')\n",
    "df['Area'].hist(bins= 30)\n",
    "\n",
    "plt.subplot(1,2,2)\n",
    "df['Area'].plot(kind = 'box')\n",
    "plt.show()"
   ]
  },
  {
   "cell_type": "code",
   "execution_count": 273,
   "metadata": {},
   "outputs": [
    {
     "data": {
      "text/html": [
       "<div>\n",
       "<style scoped>\n",
       "    .dataframe tbody tr th:only-of-type {\n",
       "        vertical-align: middle;\n",
       "    }\n",
       "\n",
       "    .dataframe tbody tr th {\n",
       "        vertical-align: top;\n",
       "    }\n",
       "\n",
       "    .dataframe thead th {\n",
       "        text-align: right;\n",
       "    }\n",
       "</style>\n",
       "<table border=\"1\" class=\"dataframe\">\n",
       "  <thead>\n",
       "    <tr style=\"text-align: right;\">\n",
       "      <th></th>\n",
       "      <th>Valor</th>\n",
       "      <th>Categoria</th>\n",
       "      <th>Tipo</th>\n",
       "      <th>Quartos</th>\n",
       "      <th>Banheiros</th>\n",
       "      <th>Vagas na garagem</th>\n",
       "      <th>Bairro</th>\n",
       "      <th>taxa_alfabetizacao</th>\n",
       "      <th>salarioMedio</th>\n",
       "      <th>taxa+1salario</th>\n",
       "      <th>taxa-1salario</th>\n",
       "      <th>Area</th>\n",
       "    </tr>\n",
       "  </thead>\n",
       "  <tbody>\n",
       "    <tr>\n",
       "      <th>23</th>\n",
       "      <td>80,000.00</td>\n",
       "      <td>Casas</td>\n",
       "      <td>Venda - casa em rua pública</td>\n",
       "      <td>2</td>\n",
       "      <td>2</td>\n",
       "      <td>0</td>\n",
       "      <td>Itararé</td>\n",
       "      <td>95.25</td>\n",
       "      <td>1,015.74</td>\n",
       "      <td>44.54</td>\n",
       "      <td>21.76</td>\n",
       "      <td>0.00</td>\n",
       "    </tr>\n",
       "    <tr>\n",
       "      <th>26</th>\n",
       "      <td>250,000.00</td>\n",
       "      <td>Casas</td>\n",
       "      <td>Venda - casa em rua pública</td>\n",
       "      <td>3</td>\n",
       "      <td>2</td>\n",
       "      <td>1</td>\n",
       "      <td>Itararé</td>\n",
       "      <td>95.25</td>\n",
       "      <td>1,015.74</td>\n",
       "      <td>44.54</td>\n",
       "      <td>21.76</td>\n",
       "      <td>0.00</td>\n",
       "    </tr>\n",
       "    <tr>\n",
       "      <th>27</th>\n",
       "      <td>250,000.00</td>\n",
       "      <td>Casas</td>\n",
       "      <td>Venda - casa em rua pública</td>\n",
       "      <td>3</td>\n",
       "      <td>2</td>\n",
       "      <td>1</td>\n",
       "      <td>Itararé</td>\n",
       "      <td>95.25</td>\n",
       "      <td>1,015.74</td>\n",
       "      <td>44.54</td>\n",
       "      <td>21.76</td>\n",
       "      <td>0.00</td>\n",
       "    </tr>\n",
       "    <tr>\n",
       "      <th>43</th>\n",
       "      <td>120,000.00</td>\n",
       "      <td>Casas</td>\n",
       "      <td>Venda - casa em rua pública</td>\n",
       "      <td>2</td>\n",
       "      <td>1</td>\n",
       "      <td>0</td>\n",
       "      <td>Itararé</td>\n",
       "      <td>95.25</td>\n",
       "      <td>1,015.74</td>\n",
       "      <td>44.54</td>\n",
       "      <td>21.76</td>\n",
       "      <td>0.00</td>\n",
       "    </tr>\n",
       "    <tr>\n",
       "      <th>45</th>\n",
       "      <td>150,000.00</td>\n",
       "      <td>Casas</td>\n",
       "      <td>Venda - casa em rua pública</td>\n",
       "      <td>2</td>\n",
       "      <td>2</td>\n",
       "      <td>0</td>\n",
       "      <td>Itararé</td>\n",
       "      <td>95.25</td>\n",
       "      <td>1,015.74</td>\n",
       "      <td>44.54</td>\n",
       "      <td>21.76</td>\n",
       "      <td>0.00</td>\n",
       "    </tr>\n",
       "    <tr>\n",
       "      <th>...</th>\n",
       "      <td>...</td>\n",
       "      <td>...</td>\n",
       "      <td>...</td>\n",
       "      <td>...</td>\n",
       "      <td>...</td>\n",
       "      <td>...</td>\n",
       "      <td>...</td>\n",
       "      <td>...</td>\n",
       "      <td>...</td>\n",
       "      <td>...</td>\n",
       "      <td>...</td>\n",
       "      <td>...</td>\n",
       "    </tr>\n",
       "    <tr>\n",
       "      <th>7273</th>\n",
       "      <td>790,000.00</td>\n",
       "      <td>Apartamentos</td>\n",
       "      <td>Venda - apartamento padrão</td>\n",
       "      <td>3</td>\n",
       "      <td>3</td>\n",
       "      <td>2</td>\n",
       "      <td>Barro Vermelho</td>\n",
       "      <td>99.67</td>\n",
       "      <td>5,419.79</td>\n",
       "      <td>68.36</td>\n",
       "      <td>3.80</td>\n",
       "      <td>0.00</td>\n",
       "    </tr>\n",
       "    <tr>\n",
       "      <th>7287</th>\n",
       "      <td>884,000.00</td>\n",
       "      <td>Apartamentos</td>\n",
       "      <td>Venda - apartamento padrão</td>\n",
       "      <td>3</td>\n",
       "      <td>3</td>\n",
       "      <td>2</td>\n",
       "      <td>Barro Vermelho</td>\n",
       "      <td>99.67</td>\n",
       "      <td>5,419.79</td>\n",
       "      <td>68.36</td>\n",
       "      <td>3.80</td>\n",
       "      <td>0.00</td>\n",
       "    </tr>\n",
       "    <tr>\n",
       "      <th>7327</th>\n",
       "      <td>779,004.00</td>\n",
       "      <td>Apartamentos</td>\n",
       "      <td>Venda - apartamento padrão</td>\n",
       "      <td>3</td>\n",
       "      <td>2</td>\n",
       "      <td>2</td>\n",
       "      <td>Barro Vermelho</td>\n",
       "      <td>99.67</td>\n",
       "      <td>5,419.79</td>\n",
       "      <td>68.36</td>\n",
       "      <td>3.80</td>\n",
       "      <td>0.00</td>\n",
       "    </tr>\n",
       "    <tr>\n",
       "      <th>7365</th>\n",
       "      <td>100,000.00</td>\n",
       "      <td>Casas</td>\n",
       "      <td>Venda - casa em rua pública</td>\n",
       "      <td>3</td>\n",
       "      <td>2</td>\n",
       "      <td>0</td>\n",
       "      <td>Forte São João</td>\n",
       "      <td>94.97</td>\n",
       "      <td>1,134.32</td>\n",
       "      <td>42.61</td>\n",
       "      <td>25.13</td>\n",
       "      <td>0.00</td>\n",
       "    </tr>\n",
       "    <tr>\n",
       "      <th>7379</th>\n",
       "      <td>640,000.00</td>\n",
       "      <td>Casas</td>\n",
       "      <td>Venda - casa em rua pública</td>\n",
       "      <td>3</td>\n",
       "      <td>3</td>\n",
       "      <td>3</td>\n",
       "      <td>Vila Rubim</td>\n",
       "      <td>97.25</td>\n",
       "      <td>1,297.75</td>\n",
       "      <td>48.07</td>\n",
       "      <td>21.09</td>\n",
       "      <td>0.00</td>\n",
       "    </tr>\n",
       "  </tbody>\n",
       "</table>\n",
       "<p>204 rows × 12 columns</p>\n",
       "</div>"
      ],
      "text/plain": [
       "          Valor     Categoria                         Tipo  Quartos  \\\n",
       "23    80,000.00         Casas  Venda - casa em rua pública        2   \n",
       "26   250,000.00         Casas  Venda - casa em rua pública        3   \n",
       "27   250,000.00         Casas  Venda - casa em rua pública        3   \n",
       "43   120,000.00         Casas  Venda - casa em rua pública        2   \n",
       "45   150,000.00         Casas  Venda - casa em rua pública        2   \n",
       "...         ...           ...                          ...      ...   \n",
       "7273 790,000.00  Apartamentos   Venda - apartamento padrão        3   \n",
       "7287 884,000.00  Apartamentos   Venda - apartamento padrão        3   \n",
       "7327 779,004.00  Apartamentos   Venda - apartamento padrão        3   \n",
       "7365 100,000.00         Casas  Venda - casa em rua pública        3   \n",
       "7379 640,000.00         Casas  Venda - casa em rua pública        3   \n",
       "\n",
       "      Banheiros  Vagas na garagem          Bairro  taxa_alfabetizacao  \\\n",
       "23            2                 0         Itararé               95.25   \n",
       "26            2                 1         Itararé               95.25   \n",
       "27            2                 1         Itararé               95.25   \n",
       "43            1                 0         Itararé               95.25   \n",
       "45            2                 0         Itararé               95.25   \n",
       "...         ...               ...             ...                 ...   \n",
       "7273          3                 2  Barro Vermelho               99.67   \n",
       "7287          3                 2  Barro Vermelho               99.67   \n",
       "7327          2                 2  Barro Vermelho               99.67   \n",
       "7365          2                 0  Forte São João               94.97   \n",
       "7379          3                 3      Vila Rubim               97.25   \n",
       "\n",
       "      salarioMedio  taxa+1salario  taxa-1salario  Area  \n",
       "23        1,015.74          44.54          21.76  0.00  \n",
       "26        1,015.74          44.54          21.76  0.00  \n",
       "27        1,015.74          44.54          21.76  0.00  \n",
       "43        1,015.74          44.54          21.76  0.00  \n",
       "45        1,015.74          44.54          21.76  0.00  \n",
       "...            ...            ...            ...   ...  \n",
       "7273      5,419.79          68.36           3.80  0.00  \n",
       "7287      5,419.79          68.36           3.80  0.00  \n",
       "7327      5,419.79          68.36           3.80  0.00  \n",
       "7365      1,134.32          42.61          25.13  0.00  \n",
       "7379      1,297.75          48.07          21.09  0.00  \n",
       "\n",
       "[204 rows x 12 columns]"
      ]
     },
     "execution_count": 273,
     "metadata": {},
     "output_type": "execute_result"
    }
   ],
   "source": [
    "# Temos 204 itens com area menores que 30m2  e podemos considerar erros de preenchimento\n",
    "df[df['Area']<=30]"
   ]
  },
  {
   "cell_type": "code",
   "execution_count": 274,
   "metadata": {},
   "outputs": [],
   "source": [
    "# Removendo valores com erro de preenchimento\n",
    "df= df[df['Area']>30]"
   ]
  },
  {
   "cell_type": "code",
   "execution_count": 275,
   "metadata": {},
   "outputs": [
    {
     "data": {
      "text/plain": [
       "[3989.322230295763, -3754.322230295763]"
      ]
     },
     "execution_count": 275,
     "metadata": {},
     "output_type": "execute_result"
    }
   ],
   "source": [
    "# Calculando limites superiores e inferiores\n",
    "max , min = fncCalculaLimites(df['Area'])\n",
    "[max, min]"
   ]
  },
  {
   "cell_type": "code",
   "execution_count": 276,
   "metadata": {},
   "outputs": [],
   "source": [
    "# Removendo outliers\n",
    "max , min = fncCalculaLimites(df['Area'])\n",
    "df = df[(df['Area'] > min) & (df['Area'] < max)]"
   ]
  },
  {
   "cell_type": "code",
   "execution_count": 277,
   "metadata": {},
   "outputs": [
    {
     "data": {
      "text/html": [
       "<div>\n",
       "<style scoped>\n",
       "    .dataframe tbody tr th:only-of-type {\n",
       "        vertical-align: middle;\n",
       "    }\n",
       "\n",
       "    .dataframe tbody tr th {\n",
       "        vertical-align: top;\n",
       "    }\n",
       "\n",
       "    .dataframe thead th {\n",
       "        text-align: right;\n",
       "    }\n",
       "</style>\n",
       "<table border=\"1\" class=\"dataframe\">\n",
       "  <thead>\n",
       "    <tr style=\"text-align: right;\">\n",
       "      <th></th>\n",
       "      <th>Valor</th>\n",
       "      <th>Categoria</th>\n",
       "      <th>Tipo</th>\n",
       "      <th>Quartos</th>\n",
       "      <th>Banheiros</th>\n",
       "      <th>Vagas na garagem</th>\n",
       "      <th>Bairro</th>\n",
       "      <th>taxa_alfabetizacao</th>\n",
       "      <th>salarioMedio</th>\n",
       "      <th>taxa+1salario</th>\n",
       "      <th>taxa-1salario</th>\n",
       "      <th>Area</th>\n",
       "    </tr>\n",
       "  </thead>\n",
       "  <tbody>\n",
       "    <tr>\n",
       "      <th>189</th>\n",
       "      <td>6,800,000.00</td>\n",
       "      <td>Casas</td>\n",
       "      <td>Venda - casa em rua pública</td>\n",
       "      <td>4</td>\n",
       "      <td>5</td>\n",
       "      <td>5</td>\n",
       "      <td>Santa Lúcia</td>\n",
       "      <td>99.16</td>\n",
       "      <td>3,850.42</td>\n",
       "      <td>65.77</td>\n",
       "      <td>6.79</td>\n",
       "      <td>1,500.00</td>\n",
       "    </tr>\n",
       "    <tr>\n",
       "      <th>2451</th>\n",
       "      <td>4,000,000.00</td>\n",
       "      <td>Casas</td>\n",
       "      <td>Venda - casa em rua pública</td>\n",
       "      <td>5</td>\n",
       "      <td>5</td>\n",
       "      <td>5</td>\n",
       "      <td>Ilha do Boi</td>\n",
       "      <td>98.24</td>\n",
       "      <td>7,164.39</td>\n",
       "      <td>61.38</td>\n",
       "      <td>7.06</td>\n",
       "      <td>1,000.00</td>\n",
       "    </tr>\n",
       "    <tr>\n",
       "      <th>2496</th>\n",
       "      <td>5,000,000.00</td>\n",
       "      <td>Casas</td>\n",
       "      <td>Venda - casa em rua pública</td>\n",
       "      <td>5</td>\n",
       "      <td>5</td>\n",
       "      <td>5</td>\n",
       "      <td>Ilha do Boi</td>\n",
       "      <td>98.24</td>\n",
       "      <td>7,164.39</td>\n",
       "      <td>61.38</td>\n",
       "      <td>7.06</td>\n",
       "      <td>890.00</td>\n",
       "    </tr>\n",
       "    <tr>\n",
       "      <th>2498</th>\n",
       "      <td>4,000,000.00</td>\n",
       "      <td>Casas</td>\n",
       "      <td>Venda - casa em rua pública</td>\n",
       "      <td>5</td>\n",
       "      <td>5</td>\n",
       "      <td>5</td>\n",
       "      <td>Ilha do Boi</td>\n",
       "      <td>98.24</td>\n",
       "      <td>7,164.39</td>\n",
       "      <td>61.38</td>\n",
       "      <td>7.06</td>\n",
       "      <td>1,000.00</td>\n",
       "    </tr>\n",
       "    <tr>\n",
       "      <th>3207</th>\n",
       "      <td>220,000.00</td>\n",
       "      <td>Casas</td>\n",
       "      <td>Venda - casa em rua pública</td>\n",
       "      <td>3</td>\n",
       "      <td>2</td>\n",
       "      <td>0</td>\n",
       "      <td>Centro</td>\n",
       "      <td>98.88</td>\n",
       "      <td>2,393.05</td>\n",
       "      <td>64.23</td>\n",
       "      <td>10.60</td>\n",
       "      <td>818.00</td>\n",
       "    </tr>\n",
       "    <tr>\n",
       "      <th>3240</th>\n",
       "      <td>400,000.00</td>\n",
       "      <td>Casas</td>\n",
       "      <td>Venda - casa em rua pública</td>\n",
       "      <td>3</td>\n",
       "      <td>2</td>\n",
       "      <td>2</td>\n",
       "      <td>Centro</td>\n",
       "      <td>98.88</td>\n",
       "      <td>2,393.05</td>\n",
       "      <td>64.23</td>\n",
       "      <td>10.60</td>\n",
       "      <td>950.00</td>\n",
       "    </tr>\n",
       "    <tr>\n",
       "      <th>3469</th>\n",
       "      <td>2,980,000.00</td>\n",
       "      <td>Casas</td>\n",
       "      <td>Venda - casa em rua pública</td>\n",
       "      <td>3</td>\n",
       "      <td>4</td>\n",
       "      <td>5</td>\n",
       "      <td>Fradinhos</td>\n",
       "      <td>98.27</td>\n",
       "      <td>3,009.93</td>\n",
       "      <td>60.16</td>\n",
       "      <td>11.09</td>\n",
       "      <td>847.00</td>\n",
       "    </tr>\n",
       "    <tr>\n",
       "      <th>3495</th>\n",
       "      <td>1,600,000.00</td>\n",
       "      <td>Casas</td>\n",
       "      <td>Venda - casa em rua pública</td>\n",
       "      <td>5</td>\n",
       "      <td>5</td>\n",
       "      <td>4</td>\n",
       "      <td>Fradinhos</td>\n",
       "      <td>98.27</td>\n",
       "      <td>3,009.93</td>\n",
       "      <td>60.16</td>\n",
       "      <td>11.09</td>\n",
       "      <td>1,102.00</td>\n",
       "    </tr>\n",
       "    <tr>\n",
       "      <th>3496</th>\n",
       "      <td>7,000,000.00</td>\n",
       "      <td>Casas</td>\n",
       "      <td>Venda - casa em rua pública</td>\n",
       "      <td>4</td>\n",
       "      <td>3</td>\n",
       "      <td>5</td>\n",
       "      <td>Fradinhos</td>\n",
       "      <td>98.27</td>\n",
       "      <td>3,009.93</td>\n",
       "      <td>60.16</td>\n",
       "      <td>11.09</td>\n",
       "      <td>2,300.00</td>\n",
       "    </tr>\n",
       "    <tr>\n",
       "      <th>3656</th>\n",
       "      <td>3,900,000.00</td>\n",
       "      <td>Casas</td>\n",
       "      <td>Venda - casa em rua pública</td>\n",
       "      <td>5</td>\n",
       "      <td>4</td>\n",
       "      <td>4</td>\n",
       "      <td>Mata da Praia</td>\n",
       "      <td>99.63</td>\n",
       "      <td>5,986.95</td>\n",
       "      <td>65.09</td>\n",
       "      <td>3.72</td>\n",
       "      <td>840.00</td>\n",
       "    </tr>\n",
       "    <tr>\n",
       "      <th>3722</th>\n",
       "      <td>2,880,000.00</td>\n",
       "      <td>Casas</td>\n",
       "      <td>Venda - casa em rua pública</td>\n",
       "      <td>4</td>\n",
       "      <td>2</td>\n",
       "      <td>4</td>\n",
       "      <td>Mata da Praia</td>\n",
       "      <td>99.63</td>\n",
       "      <td>5,986.95</td>\n",
       "      <td>65.09</td>\n",
       "      <td>3.72</td>\n",
       "      <td>3,012.00</td>\n",
       "    </tr>\n",
       "    <tr>\n",
       "      <th>4574</th>\n",
       "      <td>3,980,000.00</td>\n",
       "      <td>Casas</td>\n",
       "      <td>Venda - casa em rua pública</td>\n",
       "      <td>4</td>\n",
       "      <td>5</td>\n",
       "      <td>5</td>\n",
       "      <td>Santa Cecília</td>\n",
       "      <td>98.79</td>\n",
       "      <td>2,518.83</td>\n",
       "      <td>62.17</td>\n",
       "      <td>9.87</td>\n",
       "      <td>1,000.00</td>\n",
       "    </tr>\n",
       "    <tr>\n",
       "      <th>4786</th>\n",
       "      <td>3,800,000.00</td>\n",
       "      <td>Casas</td>\n",
       "      <td>Venda - casa em rua pública</td>\n",
       "      <td>5</td>\n",
       "      <td>5</td>\n",
       "      <td>5</td>\n",
       "      <td>Maruípe</td>\n",
       "      <td>98.60</td>\n",
       "      <td>2,016.36</td>\n",
       "      <td>60.56</td>\n",
       "      <td>12.09</td>\n",
       "      <td>2,000.00</td>\n",
       "    </tr>\n",
       "    <tr>\n",
       "      <th>5688</th>\n",
       "      <td>2,700,000.00</td>\n",
       "      <td>Casas</td>\n",
       "      <td>Venda - casa em rua pública</td>\n",
       "      <td>5</td>\n",
       "      <td>1</td>\n",
       "      <td>0</td>\n",
       "      <td>Jardim da Penha</td>\n",
       "      <td>99.34</td>\n",
       "      <td>3,429.34</td>\n",
       "      <td>66.20</td>\n",
       "      <td>6.95</td>\n",
       "      <td>1,100.00</td>\n",
       "    </tr>\n",
       "    <tr>\n",
       "      <th>5732</th>\n",
       "      <td>2,700,000.00</td>\n",
       "      <td>Casas</td>\n",
       "      <td>Venda - casa em rua pública</td>\n",
       "      <td>5</td>\n",
       "      <td>5</td>\n",
       "      <td>4</td>\n",
       "      <td>Jardim da Penha</td>\n",
       "      <td>99.34</td>\n",
       "      <td>3,429.34</td>\n",
       "      <td>66.20</td>\n",
       "      <td>6.95</td>\n",
       "      <td>1,100.00</td>\n",
       "    </tr>\n",
       "    <tr>\n",
       "      <th>6468</th>\n",
       "      <td>70,000.00</td>\n",
       "      <td>Casas</td>\n",
       "      <td>Venda - casa em rua pública</td>\n",
       "      <td>2</td>\n",
       "      <td>1</td>\n",
       "      <td>1</td>\n",
       "      <td>São Pedro</td>\n",
       "      <td>93.66</td>\n",
       "      <td>872.64</td>\n",
       "      <td>38.62</td>\n",
       "      <td>26.80</td>\n",
       "      <td>900.00</td>\n",
       "    </tr>\n",
       "    <tr>\n",
       "      <th>6481</th>\n",
       "      <td>110,000.00</td>\n",
       "      <td>Casas</td>\n",
       "      <td>Venda - casa em rua pública</td>\n",
       "      <td>3</td>\n",
       "      <td>2</td>\n",
       "      <td>1</td>\n",
       "      <td>São Pedro</td>\n",
       "      <td>93.66</td>\n",
       "      <td>872.64</td>\n",
       "      <td>38.62</td>\n",
       "      <td>26.80</td>\n",
       "      <td>1,000.00</td>\n",
       "    </tr>\n",
       "    <tr>\n",
       "      <th>6555</th>\n",
       "      <td>2,700,000.00</td>\n",
       "      <td>Casas</td>\n",
       "      <td>Venda - casa em rua pública</td>\n",
       "      <td>5</td>\n",
       "      <td>5</td>\n",
       "      <td>5</td>\n",
       "      <td>Pontal de Camburi</td>\n",
       "      <td>98.75</td>\n",
       "      <td>2,279.23</td>\n",
       "      <td>55.58</td>\n",
       "      <td>10.16</td>\n",
       "      <td>849.00</td>\n",
       "    </tr>\n",
       "    <tr>\n",
       "      <th>6581</th>\n",
       "      <td>4,900,000.00</td>\n",
       "      <td>Casas</td>\n",
       "      <td>Venda - casa em rua pública</td>\n",
       "      <td>5</td>\n",
       "      <td>5</td>\n",
       "      <td>5</td>\n",
       "      <td>Ilha do Frade</td>\n",
       "      <td>99.21</td>\n",
       "      <td>14,836.74</td>\n",
       "      <td>70.71</td>\n",
       "      <td>2.37</td>\n",
       "      <td>836.00</td>\n",
       "    </tr>\n",
       "    <tr>\n",
       "      <th>6856</th>\n",
       "      <td>199,600.00</td>\n",
       "      <td>Casas</td>\n",
       "      <td>Venda - casa em rua pública</td>\n",
       "      <td>3</td>\n",
       "      <td>1</td>\n",
       "      <td>0</td>\n",
       "      <td>Bonfim</td>\n",
       "      <td>94.69</td>\n",
       "      <td>1,034.49</td>\n",
       "      <td>42.41</td>\n",
       "      <td>24.35</td>\n",
       "      <td>850.00</td>\n",
       "    </tr>\n",
       "  </tbody>\n",
       "</table>\n",
       "</div>"
      ],
      "text/plain": [
       "            Valor Categoria                         Tipo  Quartos  Banheiros  \\\n",
       "189  6,800,000.00     Casas  Venda - casa em rua pública        4          5   \n",
       "2451 4,000,000.00     Casas  Venda - casa em rua pública        5          5   \n",
       "2496 5,000,000.00     Casas  Venda - casa em rua pública        5          5   \n",
       "2498 4,000,000.00     Casas  Venda - casa em rua pública        5          5   \n",
       "3207   220,000.00     Casas  Venda - casa em rua pública        3          2   \n",
       "3240   400,000.00     Casas  Venda - casa em rua pública        3          2   \n",
       "3469 2,980,000.00     Casas  Venda - casa em rua pública        3          4   \n",
       "3495 1,600,000.00     Casas  Venda - casa em rua pública        5          5   \n",
       "3496 7,000,000.00     Casas  Venda - casa em rua pública        4          3   \n",
       "3656 3,900,000.00     Casas  Venda - casa em rua pública        5          4   \n",
       "3722 2,880,000.00     Casas  Venda - casa em rua pública        4          2   \n",
       "4574 3,980,000.00     Casas  Venda - casa em rua pública        4          5   \n",
       "4786 3,800,000.00     Casas  Venda - casa em rua pública        5          5   \n",
       "5688 2,700,000.00     Casas  Venda - casa em rua pública        5          1   \n",
       "5732 2,700,000.00     Casas  Venda - casa em rua pública        5          5   \n",
       "6468    70,000.00     Casas  Venda - casa em rua pública        2          1   \n",
       "6481   110,000.00     Casas  Venda - casa em rua pública        3          2   \n",
       "6555 2,700,000.00     Casas  Venda - casa em rua pública        5          5   \n",
       "6581 4,900,000.00     Casas  Venda - casa em rua pública        5          5   \n",
       "6856   199,600.00     Casas  Venda - casa em rua pública        3          1   \n",
       "\n",
       "      Vagas na garagem             Bairro  taxa_alfabetizacao  salarioMedio  \\\n",
       "189                  5        Santa Lúcia               99.16      3,850.42   \n",
       "2451                 5        Ilha do Boi               98.24      7,164.39   \n",
       "2496                 5        Ilha do Boi               98.24      7,164.39   \n",
       "2498                 5        Ilha do Boi               98.24      7,164.39   \n",
       "3207                 0             Centro               98.88      2,393.05   \n",
       "3240                 2             Centro               98.88      2,393.05   \n",
       "3469                 5          Fradinhos               98.27      3,009.93   \n",
       "3495                 4          Fradinhos               98.27      3,009.93   \n",
       "3496                 5          Fradinhos               98.27      3,009.93   \n",
       "3656                 4      Mata da Praia               99.63      5,986.95   \n",
       "3722                 4      Mata da Praia               99.63      5,986.95   \n",
       "4574                 5      Santa Cecília               98.79      2,518.83   \n",
       "4786                 5            Maruípe               98.60      2,016.36   \n",
       "5688                 0    Jardim da Penha               99.34      3,429.34   \n",
       "5732                 4    Jardim da Penha               99.34      3,429.34   \n",
       "6468                 1          São Pedro               93.66        872.64   \n",
       "6481                 1          São Pedro               93.66        872.64   \n",
       "6555                 5  Pontal de Camburi               98.75      2,279.23   \n",
       "6581                 5      Ilha do Frade               99.21     14,836.74   \n",
       "6856                 0             Bonfim               94.69      1,034.49   \n",
       "\n",
       "      taxa+1salario  taxa-1salario     Area  \n",
       "189           65.77           6.79 1,500.00  \n",
       "2451          61.38           7.06 1,000.00  \n",
       "2496          61.38           7.06   890.00  \n",
       "2498          61.38           7.06 1,000.00  \n",
       "3207          64.23          10.60   818.00  \n",
       "3240          64.23          10.60   950.00  \n",
       "3469          60.16          11.09   847.00  \n",
       "3495          60.16          11.09 1,102.00  \n",
       "3496          60.16          11.09 2,300.00  \n",
       "3656          65.09           3.72   840.00  \n",
       "3722          65.09           3.72 3,012.00  \n",
       "4574          62.17           9.87 1,000.00  \n",
       "4786          60.56          12.09 2,000.00  \n",
       "5688          66.20           6.95 1,100.00  \n",
       "5732          66.20           6.95 1,100.00  \n",
       "6468          38.62          26.80   900.00  \n",
       "6481          38.62          26.80 1,000.00  \n",
       "6555          55.58          10.16   849.00  \n",
       "6581          70.71           2.37   836.00  \n",
       "6856          42.41          24.35   850.00  "
      ]
     },
     "execution_count": 277,
     "metadata": {},
     "output_type": "execute_result"
    }
   ],
   "source": [
    "df[((df['Area']>800) & (df['Categoria']=='Casas'))]"
   ]
  },
  {
   "cell_type": "code",
   "execution_count": 278,
   "metadata": {},
   "outputs": [
    {
     "data": {
      "text/html": [
       "<div>\n",
       "<style scoped>\n",
       "    .dataframe tbody tr th:only-of-type {\n",
       "        vertical-align: middle;\n",
       "    }\n",
       "\n",
       "    .dataframe tbody tr th {\n",
       "        vertical-align: top;\n",
       "    }\n",
       "\n",
       "    .dataframe thead th {\n",
       "        text-align: right;\n",
       "    }\n",
       "</style>\n",
       "<table border=\"1\" class=\"dataframe\">\n",
       "  <thead>\n",
       "    <tr style=\"text-align: right;\">\n",
       "      <th></th>\n",
       "      <th>Valor</th>\n",
       "      <th>Categoria</th>\n",
       "      <th>Tipo</th>\n",
       "      <th>Quartos</th>\n",
       "      <th>Banheiros</th>\n",
       "      <th>Vagas na garagem</th>\n",
       "      <th>Bairro</th>\n",
       "      <th>taxa_alfabetizacao</th>\n",
       "      <th>salarioMedio</th>\n",
       "      <th>taxa+1salario</th>\n",
       "      <th>taxa-1salario</th>\n",
       "      <th>Area</th>\n",
       "    </tr>\n",
       "  </thead>\n",
       "  <tbody>\n",
       "    <tr>\n",
       "      <th>1377</th>\n",
       "      <td>2,895,000.00</td>\n",
       "      <td>Apartamentos</td>\n",
       "      <td>Venda - apartamento cobertura</td>\n",
       "      <td>4</td>\n",
       "      <td>3</td>\n",
       "      <td>3</td>\n",
       "      <td>Jardim Camburi</td>\n",
       "      <td>99.40</td>\n",
       "      <td>3,066.59</td>\n",
       "      <td>67.44</td>\n",
       "      <td>6.25</td>\n",
       "      <td>2,413.00</td>\n",
       "    </tr>\n",
       "    <tr>\n",
       "      <th>7033</th>\n",
       "      <td>366,000.00</td>\n",
       "      <td>Apartamentos</td>\n",
       "      <td>Venda - apartamento padrão</td>\n",
       "      <td>1</td>\n",
       "      <td>1</td>\n",
       "      <td>1</td>\n",
       "      <td>Santa Luíza</td>\n",
       "      <td>99.29</td>\n",
       "      <td>3,492.87</td>\n",
       "      <td>61.13</td>\n",
       "      <td>8.81</td>\n",
       "      <td>3,827.00</td>\n",
       "    </tr>\n",
       "    <tr>\n",
       "      <th>7392</th>\n",
       "      <td>1,200,000.00</td>\n",
       "      <td>Apartamentos</td>\n",
       "      <td>Venda - apartamento padrão</td>\n",
       "      <td>5</td>\n",
       "      <td>5</td>\n",
       "      <td>0</td>\n",
       "      <td>Nazareth</td>\n",
       "      <td>98.88</td>\n",
       "      <td>2,121.99</td>\n",
       "      <td>60.75</td>\n",
       "      <td>11.21</td>\n",
       "      <td>900.00</td>\n",
       "    </tr>\n",
       "  </tbody>\n",
       "</table>\n",
       "</div>"
      ],
      "text/plain": [
       "            Valor     Categoria                           Tipo  Quartos  \\\n",
       "1377 2,895,000.00  Apartamentos  Venda - apartamento cobertura        4   \n",
       "7033   366,000.00  Apartamentos     Venda - apartamento padrão        1   \n",
       "7392 1,200,000.00  Apartamentos     Venda - apartamento padrão        5   \n",
       "\n",
       "      Banheiros  Vagas na garagem          Bairro  taxa_alfabetizacao  \\\n",
       "1377          3                 3  Jardim Camburi               99.40   \n",
       "7033          1                 1     Santa Luíza               99.29   \n",
       "7392          5                 0        Nazareth               98.88   \n",
       "\n",
       "      salarioMedio  taxa+1salario  taxa-1salario     Area  \n",
       "1377      3,066.59          67.44           6.25 2,413.00  \n",
       "7033      3,492.87          61.13           8.81 3,827.00  \n",
       "7392      2,121.99          60.75          11.21   900.00  "
      ]
     },
     "execution_count": 278,
     "metadata": {},
     "output_type": "execute_result"
    }
   ],
   "source": [
    "# Removendo apartamentos com mais de 1000m2. \n",
    "# Consideramos como erro de preenchimento\n",
    "df[((df['Area']>800) & (df['Categoria']=='Apartamentos'))]"
   ]
  },
  {
   "cell_type": "code",
   "execution_count": 279,
   "metadata": {},
   "outputs": [],
   "source": [
    "df = df[~((df['Area']>800) & (df['Categoria']=='Apartamentos'))]"
   ]
  },
  {
   "cell_type": "code",
   "execution_count": 280,
   "metadata": {},
   "outputs": [
    {
     "data": {
      "image/png": "[encoded data removed]",
      "text/plain": [
       "<Figure size 2880x720 with 2 Axes>"
      ]
     },
     "metadata": {
      "needs_background": "light"
     },
     "output_type": "display_data"
    }
   ],
   "source": [
    "# Distribuição após remoção de outliers\n",
    "plt.figure(figsize=(40,10))\n",
    "plt.subplot(1,2,1)\n",
    "plt.ticklabel_format(style = 'plain')\n",
    "df['Area'].hist(bins= 30)\n",
    "\n",
    "plt.subplot(1,2,2)\n",
    "df['Area'].plot(kind = 'box')\n",
    "plt.show()"
   ]
  },
  {
   "cell_type": "markdown",
   "metadata": {},
   "source": [
    "### Campos descritivos"
   ]
  },
  {
   "cell_type": "markdown",
   "metadata": {},
   "source": [
    "##### Bairros"
   ]
  },
  {
   "cell_type": "code",
   "execution_count": 281,
   "metadata": {},
   "outputs": [
    {
     "data": {
      "text/plain": [
       "Jardim Camburi       1779\n",
       "Jardim da Penha       630\n",
       "Praia do Canto        539\n",
       "Mata da Praia         412\n",
       "Bento Ferreira        356\n",
       "                     ... \n",
       "Estrelinha              1\n",
       "Mário Cypreste          1\n",
       "Cruzamento              1\n",
       "Segurança do Lar        1\n",
       "Parque Industrial       1\n",
       "Name: Bairro, Length: 71, dtype: int64"
      ]
     },
     "execution_count": 281,
     "metadata": {},
     "output_type": "execute_result"
    }
   ],
   "source": [
    "# Agora vamos observar os dados de bairros\n",
    "df['Bairro'].value_counts()"
   ]
  },
  {
   "cell_type": "code",
   "execution_count": 282,
   "metadata": {},
   "outputs": [],
   "source": [
    "# De-para com as regiões dos bairros.\n",
    "regioes ={\n",
    " 'Itararé':  'Maruípe' ,\n",
    " 'Santa Lúcia':  'Zona Leste' ,\n",
    " 'Jardim Camburi': 'Jardim Camburi'  ,\n",
    " 'Goiabeiras':  'Zona Norte' ,\n",
    " 'Santa Helena':  'Zona Leste' ,\n",
    " 'Ilha do Boi':   'Zona Leste',\n",
    " 'Jucutuquara':  'Jucutuquara' ,\n",
    " 'Praia do Canto': 'Zona Leste'  ,\n",
    " 'Centro':  'Zona Sul' ,\n",
    " 'Fradinhos':  'Jucutuquara' ,\n",
    " 'Mata da Praia': 'Jardim da Penha'  ,\n",
    " \"Joana D'arc\":  'Maruípe' ,\n",
    " 'Bento Ferreira':  'Jucutuquara' ,\n",
    " 'de Lourdes':  'Jucutuquara' ,\n",
    " 'República':  'Jardim da Penha' ,\n",
    " 'Santa Cecília': 'Maruípe'  ,\n",
    " 'Morada de Camburi': 'Jardim da Penha'  ,\n",
    " 'Maruípe': 'Maruípe'  ,\n",
    " 'Tabuazeiro': 'Maruípe'  ,\n",
    " 'Maria Ortiz':  'Zona Norte' ,\n",
    " 'Santo Antônio':  'Santo Antônio' ,\n",
    " 'Santa Martha':  'Maruípe' ,\n",
    " 'São Cristóvão':   'Maruípe',\n",
    " 'Santos Reis': 'Zona Oeste'  ,\n",
    " 'Enseada do Suá': 'Zona Leste'  ,\n",
    " 'Santos Dumont':  'Maruípe' ,\n",
    " 'Jardim da Penha':  'Jardim da Penha' ,\n",
    " 'Universitário':  'Santo Antônio' ,\n",
    " 'Solon Borges': 'Zona Norte'  ,\n",
    " 'Santa Tereza':  'Santo Antônio' ,\n",
    " 'Ilha do Frade':  'Zona Leste' ,\n",
    " 'da Penha':  'Maruípe' ,\n",
    " 'Horto': 'Jucutuquara'  ,\n",
    " 'Santa Clara':   'Zona Sul',\n",
    " 'São Pedro':  'Zona Oeste' ,\n",
    " 'Parque Moscoso':  'Zona Sul'  ,\n",
    " 'Consolação':  'Jucutuquara' ,\n",
    " 'São Benedito':  'Maruípe' ,\n",
    " 'Caratoíra': 'Santo Antônio'  ,\n",
    " 'Grande Vitória':  'Santo Antônio' ,\n",
    " 'Jesus de Nazareth': 'Jucutuquara'  ,\n",
    " 'Romão': 'Jucutuquara'  ,\n",
    " 'Bonfim':  'Maruípe' ,\n",
    " 'Praia do Suá': 'Zona Leste'  ,\n",
    " 'Mário Cypreste': 'Santo Antônio'  ,\n",
    " 'Jabour': 'Zona Norte'  ,\n",
    " 'Santa Luíza':  'Zona Leste' ,\n",
    " 'São José': 'Zona Oeste'  ,\n",
    " 'Pontal de Camburi': 'Jardim da Penha'  ,\n",
    " 'Andorinhas':  'Maruípe' ,\n",
    " 'Nova Palestina':  'Zona Oeste' ,\n",
    " 'Boa Vista': 'Jardim da Penha'  ,\n",
    " 'Redenção': 'Zona Oeste'  ,\n",
    " 'Antônio Honório':  'Zona Norte' ,\n",
    " 'Monte Belo':  'Jucutuquara' ,\n",
    " 'Barro Vermelho':  'Zona Leste' ,\n",
    " 'Resistência': 'Zona Oeste'  ,\n",
    " 'Bela Vista':  \t'Santo Antônio'  ,\n",
    " 'Santo André':  'Zona Oeste' ,\n",
    " 'Ilha do Príncipe':  'Zona Sul'  ,\n",
    " 'Ilha de Santa Maria': 'Jucutuquara'  ,\n",
    " 'Fonte Grande':  'Zona Sul' ,\n",
    " 'Estrelinha':  'Santo Antônio' ,\n",
    " 'Inhanguetá':  'Santo Antônio' ,\n",
    " 'Vila Rubim':  'Zona Sul' ,\n",
    " 'Cruzamento':  'Jucutuquara' ,\n",
    " 'Ilha das Caieiras': 'Zona Oeste'  ,\n",
    " 'do Moscoso': 'Zona Sul'  ,\n",
    " 'Forte São João':  'Jucutuquara' ,\n",
    " 'Segurança do Lar':  'Zona Norte' ,\n",
    " 'Piedade' : 'Zona Sul',\n",
    " 'Parque Industrial': 'Jardim Camburi'  ,\n",
    " 'Nazareth' :'Jucutuquara'\n",
    "}"
   ]
  },
  {
   "cell_type": "code",
   "execution_count": 283,
   "metadata": {},
   "outputs": [],
   "source": [
    "# Como temos alguns bairros que não tem muita incidencia, teremos que criar grupos regionais para os bairros\n",
    "df['Regiao'] = df['Bairro'].map(regioes)"
   ]
  },
  {
   "cell_type": "code",
   "execution_count": 284,
   "metadata": {},
   "outputs": [
    {
     "data": {
      "text/plain": [
       "Jardim Camburi     1780\n",
       "Zona Leste         1470\n",
       "Jardim da Penha    1140\n",
       "Jucutuquara         508\n",
       "Zona Sul            298\n",
       "Maruípe             246\n",
       "Zona Norte           97\n",
       "Santo Antônio        55\n",
       "Zona Oeste           47\n",
       "Name: Regiao, dtype: int64"
      ]
     },
     "execution_count": 284,
     "metadata": {},
     "output_type": "execute_result"
    }
   ],
   "source": [
    "df['Regiao'].value_counts()"
   ]
  },
  {
   "cell_type": "code",
   "execution_count": 285,
   "metadata": {},
   "outputs": [],
   "source": [
    "# Criamos o campo valor por M2 para fazermos algumas análises de bairro\n",
    "df['ValorPorM2'] = df['Valor'] / df['Area']"
   ]
  },
  {
   "cell_type": "code",
   "execution_count": 286,
   "metadata": {},
   "outputs": [],
   "source": [
    "bairros = df.groupby(['Regiao','Bairro'], as_index=False)['ValorPorM2'].mean()"
   ]
  },
  {
   "cell_type": "code",
   "execution_count": 287,
   "metadata": {},
   "outputs": [
    {
     "data": {
      "text/html": [
       "<div>\n",
       "<style scoped>\n",
       "    .dataframe tbody tr th:only-of-type {\n",
       "        vertical-align: middle;\n",
       "    }\n",
       "\n",
       "    .dataframe tbody tr th {\n",
       "        vertical-align: top;\n",
       "    }\n",
       "\n",
       "    .dataframe thead th {\n",
       "        text-align: right;\n",
       "    }\n",
       "</style>\n",
       "<table border=\"1\" class=\"dataframe\">\n",
       "  <thead>\n",
       "    <tr style=\"text-align: right;\">\n",
       "      <th></th>\n",
       "      <th>Regiao</th>\n",
       "      <th>Bairro</th>\n",
       "      <th>ValorPorM2</th>\n",
       "    </tr>\n",
       "  </thead>\n",
       "  <tbody>\n",
       "    <tr>\n",
       "      <th>0</th>\n",
       "      <td>Jardim Camburi</td>\n",
       "      <td>Jardim Camburi</td>\n",
       "      <td>7,090.98</td>\n",
       "    </tr>\n",
       "    <tr>\n",
       "      <th>1</th>\n",
       "      <td>Jardim Camburi</td>\n",
       "      <td>Parque Industrial</td>\n",
       "      <td>5,909.09</td>\n",
       "    </tr>\n",
       "    <tr>\n",
       "      <th>2</th>\n",
       "      <td>Jardim da Penha</td>\n",
       "      <td>Boa Vista</td>\n",
       "      <td>2,534.52</td>\n",
       "    </tr>\n",
       "    <tr>\n",
       "      <th>3</th>\n",
       "      <td>Jardim da Penha</td>\n",
       "      <td>Jardim da Penha</td>\n",
       "      <td>6,657.15</td>\n",
       "    </tr>\n",
       "    <tr>\n",
       "      <th>4</th>\n",
       "      <td>Jardim da Penha</td>\n",
       "      <td>Mata da Praia</td>\n",
       "      <td>9,359.00</td>\n",
       "    </tr>\n",
       "    <tr>\n",
       "      <th>...</th>\n",
       "      <td>...</td>\n",
       "      <td>...</td>\n",
       "      <td>...</td>\n",
       "    </tr>\n",
       "    <tr>\n",
       "      <th>66</th>\n",
       "      <td>Zona Sul</td>\n",
       "      <td>Ilha do Príncipe</td>\n",
       "      <td>3,218.34</td>\n",
       "    </tr>\n",
       "    <tr>\n",
       "      <th>67</th>\n",
       "      <td>Zona Sul</td>\n",
       "      <td>Parque Moscoso</td>\n",
       "      <td>2,093.47</td>\n",
       "    </tr>\n",
       "    <tr>\n",
       "      <th>68</th>\n",
       "      <td>Zona Sul</td>\n",
       "      <td>Santa Clara</td>\n",
       "      <td>1,557.79</td>\n",
       "    </tr>\n",
       "    <tr>\n",
       "      <th>69</th>\n",
       "      <td>Zona Sul</td>\n",
       "      <td>Vila Rubim</td>\n",
       "      <td>3,534.01</td>\n",
       "    </tr>\n",
       "    <tr>\n",
       "      <th>70</th>\n",
       "      <td>Zona Sul</td>\n",
       "      <td>do Moscoso</td>\n",
       "      <td>1,833.38</td>\n",
       "    </tr>\n",
       "  </tbody>\n",
       "</table>\n",
       "<p>71 rows × 3 columns</p>\n",
       "</div>"
      ],
      "text/plain": [
       "             Regiao             Bairro  ValorPorM2\n",
       "0    Jardim Camburi     Jardim Camburi    7,090.98\n",
       "1    Jardim Camburi  Parque Industrial    5,909.09\n",
       "2   Jardim da Penha          Boa Vista    2,534.52\n",
       "3   Jardim da Penha    Jardim da Penha    6,657.15\n",
       "4   Jardim da Penha      Mata da Praia    9,359.00\n",
       "..              ...                ...         ...\n",
       "66         Zona Sul   Ilha do Príncipe    3,218.34\n",
       "67         Zona Sul     Parque Moscoso    2,093.47\n",
       "68         Zona Sul        Santa Clara    1,557.79\n",
       "69         Zona Sul         Vila Rubim    3,534.01\n",
       "70         Zona Sul         do Moscoso    1,833.38\n",
       "\n",
       "[71 rows x 3 columns]"
      ]
     },
     "execution_count": 287,
     "metadata": {},
     "output_type": "execute_result"
    }
   ],
   "source": [
    "bairros"
   ]
  },
  {
   "cell_type": "code",
   "execution_count": 288,
   "metadata": {},
   "outputs": [
    {
     "data": {
      "text/html": [
       "<div>\n",
       "<style scoped>\n",
       "    .dataframe tbody tr th:only-of-type {\n",
       "        vertical-align: middle;\n",
       "    }\n",
       "\n",
       "    .dataframe tbody tr th {\n",
       "        vertical-align: top;\n",
       "    }\n",
       "\n",
       "    .dataframe thead th {\n",
       "        text-align: right;\n",
       "    }\n",
       "</style>\n",
       "<table border=\"1\" class=\"dataframe\">\n",
       "  <thead>\n",
       "    <tr style=\"text-align: right;\">\n",
       "      <th></th>\n",
       "      <th>mean</th>\n",
       "      <th>std</th>\n",
       "    </tr>\n",
       "    <tr>\n",
       "      <th>Regiao</th>\n",
       "      <th></th>\n",
       "      <th></th>\n",
       "    </tr>\n",
       "  </thead>\n",
       "  <tbody>\n",
       "    <tr>\n",
       "      <th>Zona Leste</th>\n",
       "      <td>9,414.93</td>\n",
       "      <td>4,028.71</td>\n",
       "    </tr>\n",
       "    <tr>\n",
       "      <th>Jardim da Penha</th>\n",
       "      <td>7,412.83</td>\n",
       "      <td>3,303.50</td>\n",
       "    </tr>\n",
       "    <tr>\n",
       "      <th>Jardim Camburi</th>\n",
       "      <td>7,090.31</td>\n",
       "      <td>2,339.92</td>\n",
       "    </tr>\n",
       "    <tr>\n",
       "      <th>Jucutuquara</th>\n",
       "      <td>5,567.29</td>\n",
       "      <td>2,771.37</td>\n",
       "    </tr>\n",
       "    <tr>\n",
       "      <th>Zona Norte</th>\n",
       "      <td>2,921.09</td>\n",
       "      <td>1,781.98</td>\n",
       "    </tr>\n",
       "    <tr>\n",
       "      <th>Maruípe</th>\n",
       "      <td>2,787.68</td>\n",
       "      <td>2,099.95</td>\n",
       "    </tr>\n",
       "    <tr>\n",
       "      <th>Santo Antônio</th>\n",
       "      <td>2,597.20</td>\n",
       "      <td>1,683.82</td>\n",
       "    </tr>\n",
       "    <tr>\n",
       "      <th>Zona Sul</th>\n",
       "      <td>2,470.10</td>\n",
       "      <td>1,096.77</td>\n",
       "    </tr>\n",
       "    <tr>\n",
       "      <th>Zona Oeste</th>\n",
       "      <td>1,362.46</td>\n",
       "      <td>1,315.18</td>\n",
       "    </tr>\n",
       "  </tbody>\n",
       "</table>\n",
       "</div>"
      ],
      "text/plain": [
       "                    mean      std\n",
       "Regiao                           \n",
       "Zona Leste      9,414.93 4,028.71\n",
       "Jardim da Penha 7,412.83 3,303.50\n",
       "Jardim Camburi  7,090.31 2,339.92\n",
       "Jucutuquara     5,567.29 2,771.37\n",
       "Zona Norte      2,921.09 1,781.98\n",
       "Maruípe         2,787.68 2,099.95\n",
       "Santo Antônio   2,597.20 1,683.82\n",
       "Zona Sul        2,470.10 1,096.77\n",
       "Zona Oeste      1,362.46 1,315.18"
      ]
     },
     "execution_count": 288,
     "metadata": {},
     "output_type": "execute_result"
    }
   ],
   "source": [
    "# Também observamos o valor por m2 por região\n",
    "df.groupby(['Regiao'])['ValorPorM2'].agg(['mean','std']).sort_values(by ='mean', ascending = False)"
   ]
  },
  {
   "cell_type": "code",
   "execution_count": 289,
   "metadata": {},
   "outputs": [
    {
     "data": {
      "text/plain": [
       "Regiao\n",
       "Jardim Camburi    1.67\n",
       "Jardim da Penha   1.85\n",
       "Jucutuquara       1.69\n",
       "Maruípe           1.36\n",
       "Santo Antônio     1.84\n",
       "Zona Leste        1.99\n",
       "Zona Norte        1.52\n",
       "Zona Oeste        1.64\n",
       "Zona Sul          0.78\n",
       "Name: Vagas na garagem, dtype: float64"
      ]
     },
     "execution_count": 289,
     "metadata": {},
     "output_type": "execute_result"
    }
   ],
   "source": [
    "df.groupby('Regiao')['Vagas na garagem'].mean()"
   ]
  },
  {
   "cell_type": "markdown",
   "metadata": {},
   "source": [
    "##### Tipo Classificação"
   ]
  },
  {
   "cell_type": "code",
   "execution_count": 290,
   "metadata": {},
   "outputs": [],
   "source": [
    "# observamos que o tipo do imovel poderia ser agrupado em dois grupos, Classe A e Classe B. Classe A são os imoveis que geralmente são mais caros, e o classe B os demais\n",
    "TipoClassificação ={\n",
    "'Venda - apartamento cobertura' : 'Classe A',\n",
    "'Venda - apartamento duplex/triplex' : 'Classe A',\n",
    "'Venda - apartamento kitchenette' : 'Classe B', \n",
    "'Venda - apartamento padrão' : 'Classe B',\n",
    "'Venda - casa em condominio fechado' : 'Classe A',\n",
    "'Venda - casa em rua pública' : 'Classe B',\n",
    "'Venda - casa em vila' : 'Classe B',\n",
    "'Venda - loft/studio' : 'Classe A'\n",
    "}"
   ]
  },
  {
   "cell_type": "code",
   "execution_count": 291,
   "metadata": {},
   "outputs": [],
   "source": [
    "df['TipoClasse']= df['Tipo'].map(TipoClassificação)"
   ]
  },
  {
   "cell_type": "code",
   "execution_count": 292,
   "metadata": {},
   "outputs": [
    {
     "data": {
      "text/html": [
       "<div>\n",
       "<style scoped>\n",
       "    .dataframe tbody tr th:only-of-type {\n",
       "        vertical-align: middle;\n",
       "    }\n",
       "\n",
       "    .dataframe tbody tr th {\n",
       "        vertical-align: top;\n",
       "    }\n",
       "\n",
       "    .dataframe thead th {\n",
       "        text-align: right;\n",
       "    }\n",
       "</style>\n",
       "<table border=\"1\" class=\"dataframe\">\n",
       "  <thead>\n",
       "    <tr style=\"text-align: right;\">\n",
       "      <th></th>\n",
       "      <th>mean</th>\n",
       "      <th>std</th>\n",
       "      <th>count</th>\n",
       "    </tr>\n",
       "    <tr>\n",
       "      <th>TipoClasse</th>\n",
       "      <th></th>\n",
       "      <th></th>\n",
       "      <th></th>\n",
       "    </tr>\n",
       "  </thead>\n",
       "  <tbody>\n",
       "    <tr>\n",
       "      <th>Classe A</th>\n",
       "      <td>8,527.69</td>\n",
       "      <td>3,324.08</td>\n",
       "      <td>292</td>\n",
       "    </tr>\n",
       "    <tr>\n",
       "      <th>Classe B</th>\n",
       "      <td>6,947.38</td>\n",
       "      <td>3,680.60</td>\n",
       "      <td>5349</td>\n",
       "    </tr>\n",
       "  </tbody>\n",
       "</table>\n",
       "</div>"
      ],
      "text/plain": [
       "               mean      std  count\n",
       "TipoClasse                         \n",
       "Classe A   8,527.69 3,324.08    292\n",
       "Classe B   6,947.38 3,680.60   5349"
      ]
     },
     "execution_count": 292,
     "metadata": {},
     "output_type": "execute_result"
    }
   ],
   "source": [
    "# Observamos que realmente há uma diferença nas médias desses imoveis.\n",
    "df.groupby('TipoClasse')['ValorPorM2'].agg(['mean','std', 'count'])"
   ]
  },
  {
   "cell_type": "markdown",
   "metadata": {},
   "source": [
    "##### Area root"
   ]
  },
  {
   "cell_type": "code",
   "execution_count": 293,
   "metadata": {},
   "outputs": [
    {
     "data": {
      "text/plain": [
       "<AxesSubplot:xlabel='Valor', ylabel='Area'>"
      ]
     },
     "execution_count": 293,
     "metadata": {},
     "output_type": "execute_result"
    },
    {
     "data": {
      "image/png": "[encoded data removed]",
      "text/plain": [
       "<Figure size 432x288 with 1 Axes>"
      ]
     },
     "metadata": {
      "needs_background": "light"
     },
     "output_type": "display_data"
    }
   ],
   "source": [
    "# Observamos que há uma dispersão com os dados de Area\n",
    "df.plot(kind = 'scatter' , x='Valor' , y='Area')"
   ]
  },
  {
   "cell_type": "code",
   "execution_count": 294,
   "metadata": {},
   "outputs": [],
   "source": [
    "# Optamos por criar outra variavel utilizando a raiz quadrada da Area para reduzir a dispersão\n",
    "df['Area2'] = df['Area']**(1/2)"
   ]
  },
  {
   "cell_type": "code",
   "execution_count": 295,
   "metadata": {},
   "outputs": [
    {
     "data": {
      "text/plain": [
       "<AxesSubplot:xlabel='Valor', ylabel='Area2'>"
      ]
     },
     "execution_count": 295,
     "metadata": {},
     "output_type": "execute_result"
    },
    {
     "data": {
      "image/png": "[encoded data removed]",
      "text/plain": [
       "<Figure size 432x288 with 1 Axes>"
      ]
     },
     "metadata": {
      "needs_background": "light"
     },
     "output_type": "display_data"
    }
   ],
   "source": [
    "df.plot(kind = 'scatter' , x='Valor' , y='Area2')"
   ]
  },
  {
   "cell_type": "code",
   "execution_count": 296,
   "metadata": {},
   "outputs": [
    {
     "data": {
      "text/html": [
       "<div>\n",
       "<style scoped>\n",
       "    .dataframe tbody tr th:only-of-type {\n",
       "        vertical-align: middle;\n",
       "    }\n",
       "\n",
       "    .dataframe tbody tr th {\n",
       "        vertical-align: top;\n",
       "    }\n",
       "\n",
       "    .dataframe thead th {\n",
       "        text-align: right;\n",
       "    }\n",
       "</style>\n",
       "<table border=\"1\" class=\"dataframe\">\n",
       "  <thead>\n",
       "    <tr style=\"text-align: right;\">\n",
       "      <th></th>\n",
       "      <th>Valor</th>\n",
       "      <th>Quartos</th>\n",
       "      <th>Banheiros</th>\n",
       "      <th>Vagas na garagem</th>\n",
       "      <th>taxa_alfabetizacao</th>\n",
       "      <th>salarioMedio</th>\n",
       "      <th>taxa+1salario</th>\n",
       "      <th>taxa-1salario</th>\n",
       "      <th>Area</th>\n",
       "      <th>ValorPorM2</th>\n",
       "      <th>Area2</th>\n",
       "    </tr>\n",
       "  </thead>\n",
       "  <tbody>\n",
       "    <tr>\n",
       "      <th>Valor</th>\n",
       "      <td>1.00</td>\n",
       "      <td>0.61</td>\n",
       "      <td>0.68</td>\n",
       "      <td>0.67</td>\n",
       "      <td>0.19</td>\n",
       "      <td>0.55</td>\n",
       "      <td>0.18</td>\n",
       "      <td>-0.31</td>\n",
       "      <td>0.64</td>\n",
       "      <td>0.55</td>\n",
       "      <td>0.69</td>\n",
       "    </tr>\n",
       "    <tr>\n",
       "      <th>Quartos</th>\n",
       "      <td>0.61</td>\n",
       "      <td>1.00</td>\n",
       "      <td>0.67</td>\n",
       "      <td>0.55</td>\n",
       "      <td>0.07</td>\n",
       "      <td>0.24</td>\n",
       "      <td>0.07</td>\n",
       "      <td>-0.13</td>\n",
       "      <td>0.59</td>\n",
       "      <td>0.11</td>\n",
       "      <td>0.70</td>\n",
       "    </tr>\n",
       "    <tr>\n",
       "      <th>Banheiros</th>\n",
       "      <td>0.68</td>\n",
       "      <td>0.67</td>\n",
       "      <td>1.00</td>\n",
       "      <td>0.55</td>\n",
       "      <td>0.11</td>\n",
       "      <td>0.36</td>\n",
       "      <td>0.12</td>\n",
       "      <td>-0.20</td>\n",
       "      <td>0.55</td>\n",
       "      <td>0.25</td>\n",
       "      <td>0.65</td>\n",
       "    </tr>\n",
       "    <tr>\n",
       "      <th>Vagas na garagem</th>\n",
       "      <td>0.67</td>\n",
       "      <td>0.55</td>\n",
       "      <td>0.55</td>\n",
       "      <td>1.00</td>\n",
       "      <td>0.09</td>\n",
       "      <td>0.33</td>\n",
       "      <td>0.09</td>\n",
       "      <td>-0.18</td>\n",
       "      <td>0.53</td>\n",
       "      <td>0.33</td>\n",
       "      <td>0.58</td>\n",
       "    </tr>\n",
       "    <tr>\n",
       "      <th>taxa_alfabetizacao</th>\n",
       "      <td>0.19</td>\n",
       "      <td>0.07</td>\n",
       "      <td>0.11</td>\n",
       "      <td>0.09</td>\n",
       "      <td>1.00</td>\n",
       "      <td>0.49</td>\n",
       "      <td>0.92</td>\n",
       "      <td>-0.92</td>\n",
       "      <td>-0.06</td>\n",
       "      <td>0.36</td>\n",
       "      <td>-0.06</td>\n",
       "    </tr>\n",
       "    <tr>\n",
       "      <th>salarioMedio</th>\n",
       "      <td>0.55</td>\n",
       "      <td>0.24</td>\n",
       "      <td>0.36</td>\n",
       "      <td>0.33</td>\n",
       "      <td>0.49</td>\n",
       "      <td>1.00</td>\n",
       "      <td>0.54</td>\n",
       "      <td>-0.68</td>\n",
       "      <td>0.23</td>\n",
       "      <td>0.52</td>\n",
       "      <td>0.25</td>\n",
       "    </tr>\n",
       "    <tr>\n",
       "      <th>taxa+1salario</th>\n",
       "      <td>0.18</td>\n",
       "      <td>0.07</td>\n",
       "      <td>0.12</td>\n",
       "      <td>0.09</td>\n",
       "      <td>0.92</td>\n",
       "      <td>0.54</td>\n",
       "      <td>1.00</td>\n",
       "      <td>-0.94</td>\n",
       "      <td>-0.08</td>\n",
       "      <td>0.39</td>\n",
       "      <td>-0.08</td>\n",
       "    </tr>\n",
       "    <tr>\n",
       "      <th>taxa-1salario</th>\n",
       "      <td>-0.31</td>\n",
       "      <td>-0.13</td>\n",
       "      <td>-0.20</td>\n",
       "      <td>-0.18</td>\n",
       "      <td>-0.92</td>\n",
       "      <td>-0.68</td>\n",
       "      <td>-0.94</td>\n",
       "      <td>1.00</td>\n",
       "      <td>-0.01</td>\n",
       "      <td>-0.45</td>\n",
       "      <td>-0.01</td>\n",
       "    </tr>\n",
       "    <tr>\n",
       "      <th>Area</th>\n",
       "      <td>0.64</td>\n",
       "      <td>0.59</td>\n",
       "      <td>0.55</td>\n",
       "      <td>0.53</td>\n",
       "      <td>-0.06</td>\n",
       "      <td>0.23</td>\n",
       "      <td>-0.08</td>\n",
       "      <td>-0.01</td>\n",
       "      <td>1.00</td>\n",
       "      <td>-0.09</td>\n",
       "      <td>0.96</td>\n",
       "    </tr>\n",
       "    <tr>\n",
       "      <th>ValorPorM2</th>\n",
       "      <td>0.55</td>\n",
       "      <td>0.11</td>\n",
       "      <td>0.25</td>\n",
       "      <td>0.33</td>\n",
       "      <td>0.36</td>\n",
       "      <td>0.52</td>\n",
       "      <td>0.39</td>\n",
       "      <td>-0.45</td>\n",
       "      <td>-0.09</td>\n",
       "      <td>1.00</td>\n",
       "      <td>-0.07</td>\n",
       "    </tr>\n",
       "    <tr>\n",
       "      <th>Area2</th>\n",
       "      <td>0.69</td>\n",
       "      <td>0.70</td>\n",
       "      <td>0.65</td>\n",
       "      <td>0.58</td>\n",
       "      <td>-0.06</td>\n",
       "      <td>0.25</td>\n",
       "      <td>-0.08</td>\n",
       "      <td>-0.01</td>\n",
       "      <td>0.96</td>\n",
       "      <td>-0.07</td>\n",
       "      <td>1.00</td>\n",
       "    </tr>\n",
       "  </tbody>\n",
       "</table>\n",
       "</div>"
      ],
      "text/plain": [
       "                    Valor  Quartos  Banheiros  Vagas na garagem  \\\n",
       "Valor                1.00     0.61       0.68              0.67   \n",
       "Quartos              0.61     1.00       0.67              0.55   \n",
       "Banheiros            0.68     0.67       1.00              0.55   \n",
       "Vagas na garagem     0.67     0.55       0.55              1.00   \n",
       "taxa_alfabetizacao   0.19     0.07       0.11              0.09   \n",
       "salarioMedio         0.55     0.24       0.36              0.33   \n",
       "taxa+1salario        0.18     0.07       0.12              0.09   \n",
       "taxa-1salario       -0.31    -0.13      -0.20             -0.18   \n",
       "Area                 0.64     0.59       0.55              0.53   \n",
       "ValorPorM2           0.55     0.11       0.25              0.33   \n",
       "Area2                0.69     0.70       0.65              0.58   \n",
       "\n",
       "                    taxa_alfabetizacao  salarioMedio  taxa+1salario  \\\n",
       "Valor                             0.19          0.55           0.18   \n",
       "Quartos                           0.07          0.24           0.07   \n",
       "Banheiros                         0.11          0.36           0.12   \n",
       "Vagas na garagem                  0.09          0.33           0.09   \n",
       "taxa_alfabetizacao                1.00          0.49           0.92   \n",
       "salarioMedio                      0.49          1.00           0.54   \n",
       "taxa+1salario                     0.92          0.54           1.00   \n",
       "taxa-1salario                    -0.92         -0.68          -0.94   \n",
       "Area                             -0.06          0.23          -0.08   \n",
       "ValorPorM2                        0.36          0.52           0.39   \n",
       "Area2                            -0.06          0.25          -0.08   \n",
       "\n",
       "                    taxa-1salario  Area  ValorPorM2  Area2  \n",
       "Valor                       -0.31  0.64        0.55   0.69  \n",
       "Quartos                     -0.13  0.59        0.11   0.70  \n",
       "Banheiros                   -0.20  0.55        0.25   0.65  \n",
       "Vagas na garagem            -0.18  0.53        0.33   0.58  \n",
       "taxa_alfabetizacao          -0.92 -0.06        0.36  -0.06  \n",
       "salarioMedio                -0.68  0.23        0.52   0.25  \n",
       "taxa+1salario               -0.94 -0.08        0.39  -0.08  \n",
       "taxa-1salario                1.00 -0.01       -0.45  -0.01  \n",
       "Area                        -0.01  1.00       -0.09   0.96  \n",
       "ValorPorM2                  -0.45 -0.09        1.00  -0.07  \n",
       "Area2                       -0.01  0.96       -0.07   1.00  "
      ]
     },
     "execution_count": 296,
     "metadata": {},
     "output_type": "execute_result"
    }
   ],
   "source": [
    "df.corr()"
   ]
  },
  {
   "cell_type": "code",
   "execution_count": 297,
   "metadata": {},
   "outputs": [],
   "source": [
    "df.drop(['ValorPorM2'], axis = 1 , inplace =True)"
   ]
  },
  {
   "cell_type": "markdown",
   "metadata": {},
   "source": [
    "# Modelagem"
   ]
  },
  {
   "cell_type": "markdown",
   "metadata": {},
   "source": [
    "### Pre Processamento"
   ]
  },
  {
   "cell_type": "code",
   "execution_count": 298,
   "metadata": {},
   "outputs": [],
   "source": [
    "from sklearn.preprocessing import OneHotEncoder\n",
    "from sklearn.model_selection import train_test_split"
   ]
  },
  {
   "cell_type": "code",
   "execution_count": 299,
   "metadata": {},
   "outputs": [],
   "source": [
    "# Realizamos o split dos dados utiliando 80/20 para dados de treino e teste respectivamente\n",
    "x_train, x_test, y_train ,y_test = train_test_split(df.drop('Valor', axis=1), df['Valor'], test_size= 0.2 , random_state=19)"
   ]
  },
  {
   "cell_type": "markdown",
   "metadata": {},
   "source": [
    "#### Dummy categories"
   ]
  },
  {
   "cell_type": "code",
   "execution_count": 300,
   "metadata": {},
   "outputs": [],
   "source": [
    "# Após isso, foi necessário utilizar o oneHotEncoder para transformar os dados categoricos\n",
    "encoderCategoria = OneHotEncoder()"
   ]
  },
  {
   "cell_type": "code",
   "execution_count": 301,
   "metadata": {},
   "outputs": [],
   "source": [
    "categories = encoderCategoria.fit_transform(x_train[['Categoria']])"
   ]
  },
  {
   "cell_type": "code",
   "execution_count": 302,
   "metadata": {},
   "outputs": [],
   "source": [
    "categories = pd.DataFrame(categories.toarray(), columns = encoderCategoria.get_feature_names_out(), index = x_train.index)"
   ]
  },
  {
   "cell_type": "code",
   "execution_count": 303,
   "metadata": {},
   "outputs": [],
   "source": [
    "x_train = x_train.join(categories).drop('Categoria', axis= 1)"
   ]
  },
  {
   "cell_type": "code",
   "execution_count": 304,
   "metadata": {},
   "outputs": [],
   "source": [
    "encoderRegiao = OneHotEncoder()"
   ]
  },
  {
   "cell_type": "code",
   "execution_count": 305,
   "metadata": {},
   "outputs": [],
   "source": [
    "regiao = encoderRegiao.fit_transform(x_train[['Regiao']])"
   ]
  },
  {
   "cell_type": "code",
   "execution_count": 306,
   "metadata": {},
   "outputs": [],
   "source": [
    "regiao = pd.DataFrame(regiao.toarray(), columns= encoderRegiao.get_feature_names_out(), index= x_train.index)"
   ]
  },
  {
   "cell_type": "code",
   "execution_count": 307,
   "metadata": {},
   "outputs": [],
   "source": [
    "x_train = x_train.join(regiao).drop('Regiao', axis = 1)"
   ]
  },
  {
   "cell_type": "code",
   "execution_count": 308,
   "metadata": {},
   "outputs": [],
   "source": [
    "encoderTipo = OneHotEncoder()"
   ]
  },
  {
   "cell_type": "code",
   "execution_count": 309,
   "metadata": {},
   "outputs": [],
   "source": [
    "tipo = encoderTipo.fit_transform(x_train[['TipoClasse']])"
   ]
  },
  {
   "cell_type": "code",
   "execution_count": 310,
   "metadata": {},
   "outputs": [],
   "source": [
    "tipo = pd.DataFrame(tipo.toarray() , columns= encoderTipo.get_feature_names_out(), index = x_train.index)"
   ]
  },
  {
   "cell_type": "code",
   "execution_count": 311,
   "metadata": {},
   "outputs": [],
   "source": [
    "x_train = x_train.join(tipo).drop('TipoClasse', axis = 1)"
   ]
  },
  {
   "cell_type": "markdown",
   "metadata": {},
   "source": [
    "#### Normalizacao"
   ]
  },
  {
   "cell_type": "code",
   "execution_count": 312,
   "metadata": {},
   "outputs": [],
   "source": [
    "from sklearn.preprocessing import StandardScaler"
   ]
  },
  {
   "cell_type": "code",
   "execution_count": 313,
   "metadata": {},
   "outputs": [],
   "source": [
    "# Então, normalizamos os dados de area\n",
    "norm = StandardScaler()"
   ]
  },
  {
   "cell_type": "code",
   "execution_count": 314,
   "metadata": {},
   "outputs": [],
   "source": [
    "x_train['Area'] = norm.fit_transform(x_train[['Area']])"
   ]
  },
  {
   "cell_type": "code",
   "execution_count": 315,
   "metadata": {},
   "outputs": [],
   "source": [
    "norm2 = StandardScaler()"
   ]
  },
  {
   "cell_type": "code",
   "execution_count": 316,
   "metadata": {},
   "outputs": [],
   "source": [
    "x_train['Area2'] = norm2.fit_transform(x_train[['Area2']])"
   ]
  },
  {
   "cell_type": "markdown",
   "metadata": {},
   "source": [
    "### Modelo"
   ]
  },
  {
   "cell_type": "code",
   "execution_count": 317,
   "metadata": {},
   "outputs": [
    {
     "data": {
      "text/plain": [
       "<AxesSubplot:>"
      ]
     },
     "execution_count": 317,
     "metadata": {},
     "output_type": "execute_result"
    },
    {
     "data": {
      "image/png": "[encoded data removed]",
      "text/plain": [
       "<Figure size 432x288 with 1 Axes>"
      ]
     },
     "metadata": {
      "needs_background": "light"
     },
     "output_type": "display_data"
    }
   ],
   "source": [
    "# Conforme havíamos comentando, regressão linear espera que a variavel dependente tenha uma distribuição semelhante a gausiana, o que não acontece em nosso caso.\n",
    "y_train.hist()"
   ]
  },
  {
   "cell_type": "code",
   "execution_count": 318,
   "metadata": {},
   "outputs": [],
   "source": [
    "# Foi necessario aplicar a função de log2 para normalizar nossa distribuição\n",
    "y_train = np.log2(y_train)"
   ]
  },
  {
   "cell_type": "code",
   "execution_count": 319,
   "metadata": {},
   "outputs": [
    {
     "data": {
      "text/plain": [
       "<AxesSubplot:>"
      ]
     },
     "execution_count": 319,
     "metadata": {},
     "output_type": "execute_result"
    },
    {
     "data": {
      "image/png": "[encoded data removed]",
      "text/plain": [
       "<Figure size 432x288 with 1 Axes>"
      ]
     },
     "metadata": {
      "needs_background": "light"
     },
     "output_type": "display_data"
    }
   ],
   "source": [
    "# Resultado da aplicação de log2\n",
    "# Distribuição muito mais próxima de uma distribuição normal\n",
    "y_train.hist()"
   ]
  },
  {
   "cell_type": "code",
   "execution_count": 320,
   "metadata": {},
   "outputs": [],
   "source": [
    "# Selecionamos as variaveis para o nosso modelo\n",
    "x_train = x_train.select_dtypes(include = np.number)"
   ]
  },
  {
   "cell_type": "code",
   "execution_count": 321,
   "metadata": {},
   "outputs": [],
   "source": [
    "from sklearn.linear_model import LinearRegression"
   ]
  },
  {
   "cell_type": "code",
   "execution_count": 322,
   "metadata": {},
   "outputs": [],
   "source": [
    "# Iremos utilizar o LinearRegression da biblioteca sklearn\n",
    "regressao = LinearRegression()"
   ]
  },
  {
   "cell_type": "code",
   "execution_count": 323,
   "metadata": {},
   "outputs": [
    {
     "data": {
      "text/plain": [
       "LinearRegression()"
      ]
     },
     "execution_count": 323,
     "metadata": {},
     "output_type": "execute_result"
    }
   ],
   "source": [
    "# Demos o fit no modelo\n",
    "regressao.fit(x_train, y_train)"
   ]
  },
  {
   "cell_type": "code",
   "execution_count": 324,
   "metadata": {},
   "outputs": [
    {
     "data": {
      "text/plain": [
       "0.7814824290715399"
      ]
     },
     "execution_count": 324,
     "metadata": {},
     "output_type": "execute_result"
    }
   ],
   "source": [
    "# e obtivemos um R2 de 0.78 com os dados de treino\n",
    "regressao.score(x_train, y_train)"
   ]
  },
  {
   "cell_type": "markdown",
   "metadata": {},
   "source": [
    "#### Validação"
   ]
  },
  {
   "cell_type": "markdown",
   "metadata": {},
   "source": [
    "Agora vamos testar com os dados de teste"
   ]
  },
  {
   "cell_type": "code",
   "execution_count": 325,
   "metadata": {},
   "outputs": [],
   "source": [
    "# Aplicando as transformações nas variaveis\n",
    "categories = encoderCategoria.transform(x_test[['Categoria']])"
   ]
  },
  {
   "cell_type": "code",
   "execution_count": 326,
   "metadata": {},
   "outputs": [],
   "source": [
    "categories = pd.DataFrame(categories.toarray(), columns= encoderCategoria.get_feature_names_out(), index = x_test.index)"
   ]
  },
  {
   "cell_type": "code",
   "execution_count": 327,
   "metadata": {},
   "outputs": [],
   "source": [
    "x_test = x_test.join(categories).drop('Categoria', axis = 1)"
   ]
  },
  {
   "cell_type": "code",
   "execution_count": 328,
   "metadata": {},
   "outputs": [],
   "source": [
    "regioes = pd.DataFrame(encoderRegiao.transform(x_test[['Regiao']]).toarray() , columns = encoderRegiao.get_feature_names_out(), index =x_test.index)"
   ]
  },
  {
   "cell_type": "code",
   "execution_count": 329,
   "metadata": {},
   "outputs": [],
   "source": [
    "x_test = x_test.join(regioes).drop('Regiao', axis =1)"
   ]
  },
  {
   "cell_type": "code",
   "execution_count": 330,
   "metadata": {},
   "outputs": [],
   "source": [
    "tipo = pd.DataFrame(encoderTipo.transform(x_test[['TipoClasse']]).toarray() , columns = encoderTipo.get_feature_names_out(), index =x_test.index)"
   ]
  },
  {
   "cell_type": "code",
   "execution_count": 331,
   "metadata": {},
   "outputs": [],
   "source": [
    "x_test = x_test.join(tipo).drop(['Tipo','TipoClasse'], axis =1)"
   ]
  },
  {
   "cell_type": "code",
   "execution_count": 332,
   "metadata": {},
   "outputs": [],
   "source": [
    "x_test['Area'] = norm.transform(x_test[['Area']])"
   ]
  },
  {
   "cell_type": "code",
   "execution_count": 333,
   "metadata": {},
   "outputs": [],
   "source": [
    "x_test['Area2'] = norm2.transform(x_test[['Area2']])"
   ]
  },
  {
   "cell_type": "code",
   "execution_count": 334,
   "metadata": {},
   "outputs": [],
   "source": [
    "# Também aplicamos a transformação de log nos dados de teste\n",
    "x_test = x_test.select_dtypes(include = np.number)\n",
    "y_test = np.log2(y_test)"
   ]
  },
  {
   "cell_type": "code",
   "execution_count": 335,
   "metadata": {},
   "outputs": [
    {
     "data": {
      "text/plain": [
       "0.7816968085777999"
      ]
     },
     "execution_count": 335,
     "metadata": {},
     "output_type": "execute_result"
    }
   ],
   "source": [
    "# Obtivemos um R2 de 78 também com os dados de teste\n",
    "regressao.score(x_test, y_test)"
   ]
  },
  {
   "cell_type": "code",
   "execution_count": 336,
   "metadata": {},
   "outputs": [],
   "source": [
    "# Utilizando a função cross_val_score, podemos testar nosso modelo com n folds diferentes\n",
    "from sklearn.model_selection import cross_val_score"
   ]
  },
  {
   "cell_type": "code",
   "execution_count": 337,
   "metadata": {},
   "outputs": [],
   "source": [
    "# Utilizando 5 folds, nosso modelo obteve um r2 médio de 77.81\n",
    "testes = cross_val_score(regressao , x_train, y_train, cv = 5)"
   ]
  },
  {
   "cell_type": "code",
   "execution_count": 338,
   "metadata": {},
   "outputs": [
    {
     "data": {
      "text/plain": [
       "[0.7781567118872129, 0.01815895244983564]"
      ]
     },
     "execution_count": 338,
     "metadata": {},
     "output_type": "execute_result"
    }
   ],
   "source": [
    "[testes.mean(), testes.std()]"
   ]
  },
  {
   "cell_type": "code",
   "execution_count": 339,
   "metadata": {},
   "outputs": [
    {
     "data": {
      "text/plain": [
       "Area2                     0.58\n",
       "Regiao_Zona Leste         0.54\n",
       "Regiao_Jardim da Penha    0.32\n",
       "Regiao_Jardim Camburi     0.32\n",
       "Vagas na garagem          0.28\n",
       "taxa_alfabetizacao        0.21\n",
       "Quartos                   0.21\n",
       "Categoria_Apartamentos    0.17\n",
       "TipoClasse_Classe A       0.17\n",
       "Regiao_Zona Norte         0.17\n",
       "Banheiros                 0.15\n",
       "Regiao_Jucutuquara        0.12\n",
       "salarioMedio              0.00\n",
       "taxa-1salario            -0.01\n",
       "Regiao_Santo Antônio     -0.02\n",
       "taxa+1salario            -0.02\n",
       "TipoClasse_Classe B      -0.17\n",
       "Categoria_Casas          -0.17\n",
       "Regiao_Maruípe           -0.20\n",
       "Area                     -0.28\n",
       "Regiao_Zona Sul          -0.47\n",
       "Regiao_Zona Oeste        -0.79\n",
       "dtype: float64"
      ]
     },
     "execution_count": 339,
     "metadata": {},
     "output_type": "execute_result"
    }
   ],
   "source": [
    "# Esses sãos os coeficientes do nosso modelo.\n",
    "# Podemos observar como as variaveis de Area e a Regiao do imovel tem grande impacto no valor do mesmo\n",
    "pd.Series(regressao.coef_  , index = x_train.columns).sort_values(ascending= False)"
   ]
  },
  {
   "cell_type": "markdown",
   "metadata": {},
   "source": [
    "Agora iremos calcular o Median Absolute Error (Mediana do erro absoluto)"
   ]
  },
  {
   "cell_type": "code",
   "execution_count": 340,
   "metadata": {},
   "outputs": [],
   "source": [
    "y_predict = regressao.predict(x_test)"
   ]
  },
  {
   "cell_type": "code",
   "execution_count": 341,
   "metadata": {},
   "outputs": [],
   "source": [
    "from sklearn.metrics import median_absolute_error"
   ]
  },
  {
   "cell_type": "code",
   "execution_count": 342,
   "metadata": {},
   "outputs": [],
   "source": [
    "y_predict2 = 2**y_predict"
   ]
  },
  {
   "cell_type": "code",
   "execution_count": 343,
   "metadata": {},
   "outputs": [],
   "source": [
    "y_test2 = 2**y_test"
   ]
  },
  {
   "cell_type": "code",
   "execution_count": 344,
   "metadata": {},
   "outputs": [
    {
     "data": {
      "text/plain": [
       "142183.92906364775"
      ]
     },
     "execution_count": 344,
     "metadata": {},
     "output_type": "execute_result"
    }
   ],
   "source": [
    "# Obtivemos um erro mediano de 142.183,92 reais.\n",
    "median_absolute_error(y_test2, y_predict2)"
   ]
  },
  {
   "cell_type": "code",
   "execution_count": null,
   "metadata": {},
   "outputs": [],
   "source": []
  }
 ],
 "metadata": {
  "interpreter": {
   "hash": "18e03f19e2eea32137bb6b7634899948883c996f0eeacfc3548045b6b15590e6"
  },
  "kernelspec": {
   "display_name": "Python 3.7.4 64-bit ('base': conda)",
   "language": "python",
   "name": "python3"
  },
  "language_info": {
   "codemirror_mode": {
    "name": "ipython",
    "version": 3
   },
   "file_extension": ".py",
   "mimetype": "text/x-python",
   "name": "python",
   "nbconvert_exporter": "python",
   "pygments_lexer": "ipython3",
   "version": "3.7.4"
  },
  "orig_nbformat": 4
 },
 "nbformat": 4,
 "nbformat_minor": 2
}
