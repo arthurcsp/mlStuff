{
 "cells": [
  {
   "cell_type": "code",
   "execution_count": 427,
   "metadata": {},
   "outputs": [],
   "source": [
    "import pandas as pd \n",
    "import matplotlib.pyplot as plt \n",
    "pd.options.display.float_format = '{:,.10f}'.format\n",
    "import warnings\n",
    "warnings.simplefilter(action='ignore', category=FutureWarning)\n",
    "import numpy as np "
   ]
  },
  {
   "cell_type": "markdown",
   "metadata": {},
   "source": [
    "# Carga"
   ]
  },
  {
   "cell_type": "code",
   "execution_count": 428,
   "metadata": {},
   "outputs": [],
   "source": [
    "vixCasa = pd.read_csv(r'C:\\Users\\arthu\\OneDrive\\Projetos\\0-GitHub\\mlStuff\\Projects\\OlxHousePricePrediction\\Extraction\\data\\vixCasas.csv' , encoding='utf-16', sep='|')"
   ]
  },
  {
   "cell_type": "code",
   "execution_count": 429,
   "metadata": {},
   "outputs": [],
   "source": [
    "vixApp = pd.read_csv(r'C:\\Users\\arthu\\OneDrive\\Projetos\\0-GitHub\\mlStuff\\Projects\\OlxHousePricePrediction\\Extraction\\data\\vixApartamentos.csv' , encoding='utf-16', sep='|')"
   ]
  },
  {
   "cell_type": "code",
   "execution_count": 430,
   "metadata": {},
   "outputs": [],
   "source": [
    "df = pd.concat([vixCasa, vixApp], ignore_index=True)"
   ]
  },
  {
   "cell_type": "code",
   "execution_count": 431,
   "metadata": {},
   "outputs": [],
   "source": [
    "df = df.drop_duplicates(subset=(['Codigo']))"
   ]
  },
  {
   "cell_type": "markdown",
   "metadata": {},
   "source": [
    "# Tratamento de dados"
   ]
  },
  {
   "cell_type": "markdown",
   "metadata": {},
   "source": [
    "### Alterando tipo de dados"
   ]
  },
  {
   "cell_type": "code",
   "execution_count": 432,
   "metadata": {},
   "outputs": [],
   "source": [
    "df['Valor']= df['Valor'].map(lambda x : str(x).replace('R$ ','').replace('.','')).astype(float)"
   ]
  },
  {
   "cell_type": "code",
   "execution_count": 433,
   "metadata": {},
   "outputs": [],
   "source": [
    "df['Área útil'] =  df['Área útil'].map(lambda x : str(x).replace('m²' ,'')).astype(float)\n",
    "df['Área construída'] = df['Área construída'].map(lambda x : str(x).replace('m²' ,'')).astype(float)\n",
    "df['Area'] = df['Área útil'].fillna(df['Área construída'])"
   ]
  },
  {
   "cell_type": "code",
   "execution_count": 434,
   "metadata": {},
   "outputs": [],
   "source": [
    "df['Quartos'] = df['Quartos'].map(lambda x : 5 if x=='5 ou mais' else int(x))\n",
    "df['Banheiros'] = df['Banheiros'].fillna(0).map(lambda x : 5 if x=='5 ou mais' else int(x))\n",
    "df['Vagas na garagem'] = df['Vagas na garagem'].fillna(0).map(lambda x : 5 if x=='5 ou mais' else int(x))"
   ]
  },
  {
   "cell_type": "code",
   "execution_count": 435,
   "metadata": {},
   "outputs": [],
   "source": [
    "df.drop(['Link','Descricao','Área útil' , 'Área construída', 'Page' ,'Detalhes do imóvel', 'Condomínio', 'IPTU',\n",
    "       'Detalhes do condominio', 'Logradouro','CEP', 'Município', 'Codigo'] , axis=1, inplace=True)"
   ]
  },
  {
   "cell_type": "code",
   "execution_count": 436,
   "metadata": {},
   "outputs": [],
   "source": [
    "df = df[df['Banheiros'] >0]\n",
    "df = df[df['Quartos'] >0]"
   ]
  },
  {
   "cell_type": "markdown",
   "metadata": {},
   "source": [
    "### Análise e remoção de outliers"
   ]
  },
  {
   "cell_type": "code",
   "execution_count": 437,
   "metadata": {},
   "outputs": [],
   "source": [
    "def fncCalculaLimites(x):\n",
    "    return x.quantile(0.75) + x.std()*1.5 , x.quantile(0.25) - x.std()*1.5 "
   ]
  },
  {
   "cell_type": "markdown",
   "metadata": {},
   "source": [
    "##### Valor"
   ]
  },
  {
   "cell_type": "code",
   "execution_count": 438,
   "metadata": {},
   "outputs": [
    {
     "data": {
      "image/png": "[encoded data removed]",
      "text/plain": [
       "<Figure size 2880x720 with 2 Axes>"
      ]
     },
     "metadata": {
      "needs_background": "light"
     },
     "output_type": "display_data"
    }
   ],
   "source": [
    "plt.figure(figsize=(40,10))\n",
    "plt.subplot(1,2,1)\n",
    "plt.ticklabel_format(style = 'plain')\n",
    "df['Valor'].hist(bins= 30)\n",
    "\n",
    "plt.subplot(1,2,2)\n",
    "df['Valor'].plot(kind = 'box')\n",
    "plt.show()"
   ]
  },
  {
   "cell_type": "code",
   "execution_count": 439,
   "metadata": {},
   "outputs": [
    {
     "data": {
      "text/plain": [
       "(22.73632578144708, 15.375346193339947)"
      ]
     },
     "execution_count": 439,
     "metadata": {},
     "output_type": "execute_result"
    }
   ],
   "source": [
    "fncCalculaLimites(np.log2(df[df['Valor']>0]['Valor']))"
   ]
  },
  {
   "cell_type": "code",
   "execution_count": 440,
   "metadata": {},
   "outputs": [
    {
     "data": {
      "text/plain": [
       "<AxesSubplot:>"
      ]
     },
     "execution_count": 440,
     "metadata": {},
     "output_type": "execute_result"
    },
    {
     "data": {
      "image/png": "[encoded data removed]",
      "text/plain": [
       "<Figure size 432x288 with 1 Axes>"
      ]
     },
     "metadata": {
      "needs_background": "light"
     },
     "output_type": "display_data"
    }
   ],
   "source": [
    "np.log2(df[df['Valor']>0]['Valor']).hist()"
   ]
  },
  {
   "cell_type": "code",
   "execution_count": 441,
   "metadata": {},
   "outputs": [
    {
     "data": {
      "text/html": [
       "<div>\n",
       "<style scoped>\n",
       "    .dataframe tbody tr th:only-of-type {\n",
       "        vertical-align: middle;\n",
       "    }\n",
       "\n",
       "    .dataframe tbody tr th {\n",
       "        vertical-align: top;\n",
       "    }\n",
       "\n",
       "    .dataframe thead th {\n",
       "        text-align: right;\n",
       "    }\n",
       "</style>\n",
       "<table border=\"1\" class=\"dataframe\">\n",
       "  <thead>\n",
       "    <tr style=\"text-align: right;\">\n",
       "      <th></th>\n",
       "      <th>Valor</th>\n",
       "      <th>Categoria</th>\n",
       "      <th>Tipo</th>\n",
       "      <th>Quartos</th>\n",
       "      <th>Banheiros</th>\n",
       "      <th>Vagas na garagem</th>\n",
       "      <th>Bairro</th>\n",
       "      <th>Area</th>\n",
       "    </tr>\n",
       "  </thead>\n",
       "  <tbody>\n",
       "    <tr>\n",
       "      <th>33</th>\n",
       "      <td>20,000.0000000000</td>\n",
       "      <td>Casas</td>\n",
       "      <td>Venda - casa em rua pública</td>\n",
       "      <td>2</td>\n",
       "      <td>2</td>\n",
       "      <td>1</td>\n",
       "      <td>Goiabeiras</td>\n",
       "      <td>200.0000000000</td>\n",
       "    </tr>\n",
       "    <tr>\n",
       "      <th>92</th>\n",
       "      <td>9,000.0000000000</td>\n",
       "      <td>Casas</td>\n",
       "      <td>Venda - casa em rua pública</td>\n",
       "      <td>5</td>\n",
       "      <td>5</td>\n",
       "      <td>1</td>\n",
       "      <td>Praia do Canto</td>\n",
       "      <td>194.0000000000</td>\n",
       "    </tr>\n",
       "    <tr>\n",
       "      <th>124</th>\n",
       "      <td>25,000.0000000000</td>\n",
       "      <td>Casas</td>\n",
       "      <td>Venda - casa em rua pública</td>\n",
       "      <td>3</td>\n",
       "      <td>2</td>\n",
       "      <td>0</td>\n",
       "      <td>Santa Cecília</td>\n",
       "      <td>NaN</td>\n",
       "    </tr>\n",
       "    <tr>\n",
       "      <th>130</th>\n",
       "      <td>0.0000000000</td>\n",
       "      <td>Casas</td>\n",
       "      <td>Venda - casa em rua pública</td>\n",
       "      <td>2</td>\n",
       "      <td>2</td>\n",
       "      <td>2</td>\n",
       "      <td>Centro</td>\n",
       "      <td>NaN</td>\n",
       "    </tr>\n",
       "    <tr>\n",
       "      <th>218</th>\n",
       "      <td>5,000.0000000000</td>\n",
       "      <td>Casas</td>\n",
       "      <td>Venda - casa em rua pública</td>\n",
       "      <td>2</td>\n",
       "      <td>2</td>\n",
       "      <td>0</td>\n",
       "      <td>São Pedro</td>\n",
       "      <td>NaN</td>\n",
       "    </tr>\n",
       "    <tr>\n",
       "      <th>...</th>\n",
       "      <td>...</td>\n",
       "      <td>...</td>\n",
       "      <td>...</td>\n",
       "      <td>...</td>\n",
       "      <td>...</td>\n",
       "      <td>...</td>\n",
       "      <td>...</td>\n",
       "      <td>...</td>\n",
       "    </tr>\n",
       "    <tr>\n",
       "      <th>6823</th>\n",
       "      <td>1,250.0000000000</td>\n",
       "      <td>Apartamentos</td>\n",
       "      <td>Venda - apartamento padrão</td>\n",
       "      <td>1</td>\n",
       "      <td>1</td>\n",
       "      <td>0</td>\n",
       "      <td>Centro</td>\n",
       "      <td>80.0000000000</td>\n",
       "    </tr>\n",
       "    <tr>\n",
       "      <th>6950</th>\n",
       "      <td>800.0000000000</td>\n",
       "      <td>Apartamentos</td>\n",
       "      <td>Venda - apartamento padrão</td>\n",
       "      <td>4</td>\n",
       "      <td>3</td>\n",
       "      <td>2</td>\n",
       "      <td>Jardim Camburi</td>\n",
       "      <td>NaN</td>\n",
       "    </tr>\n",
       "    <tr>\n",
       "      <th>7080</th>\n",
       "      <td>0.0000000000</td>\n",
       "      <td>Apartamentos</td>\n",
       "      <td>Venda - apartamento padrão</td>\n",
       "      <td>3</td>\n",
       "      <td>2</td>\n",
       "      <td>2</td>\n",
       "      <td>Santa Lúcia</td>\n",
       "      <td>0.0000000000</td>\n",
       "    </tr>\n",
       "    <tr>\n",
       "      <th>7101</th>\n",
       "      <td>0.0000000000</td>\n",
       "      <td>Apartamentos</td>\n",
       "      <td>Venda - apartamento padrão</td>\n",
       "      <td>2</td>\n",
       "      <td>1</td>\n",
       "      <td>1</td>\n",
       "      <td>Centro</td>\n",
       "      <td>0.0000000000</td>\n",
       "    </tr>\n",
       "    <tr>\n",
       "      <th>7354</th>\n",
       "      <td>26,000.0000000000</td>\n",
       "      <td>Apartamentos</td>\n",
       "      <td>Venda - apartamento padrão</td>\n",
       "      <td>2</td>\n",
       "      <td>2</td>\n",
       "      <td>1</td>\n",
       "      <td>Cruzamento</td>\n",
       "      <td>58.0000000000</td>\n",
       "    </tr>\n",
       "  </tbody>\n",
       "</table>\n",
       "<p>249 rows × 8 columns</p>\n",
       "</div>"
      ],
      "text/plain": [
       "                 Valor     Categoria                         Tipo  Quartos  \\\n",
       "33   20,000.0000000000         Casas  Venda - casa em rua pública        2   \n",
       "92    9,000.0000000000         Casas  Venda - casa em rua pública        5   \n",
       "124  25,000.0000000000         Casas  Venda - casa em rua pública        3   \n",
       "130       0.0000000000         Casas  Venda - casa em rua pública        2   \n",
       "218   5,000.0000000000         Casas  Venda - casa em rua pública        2   \n",
       "...                ...           ...                          ...      ...   \n",
       "6823  1,250.0000000000  Apartamentos   Venda - apartamento padrão        1   \n",
       "6950    800.0000000000  Apartamentos   Venda - apartamento padrão        4   \n",
       "7080      0.0000000000  Apartamentos   Venda - apartamento padrão        3   \n",
       "7101      0.0000000000  Apartamentos   Venda - apartamento padrão        2   \n",
       "7354 26,000.0000000000  Apartamentos   Venda - apartamento padrão        2   \n",
       "\n",
       "      Banheiros  Vagas na garagem          Bairro           Area  \n",
       "33            2                 1      Goiabeiras 200.0000000000  \n",
       "92            5                 1  Praia do Canto 194.0000000000  \n",
       "124           2                 0   Santa Cecília            NaN  \n",
       "130           2                 2          Centro            NaN  \n",
       "218           2                 0       São Pedro            NaN  \n",
       "...         ...               ...             ...            ...  \n",
       "6823          1                 0          Centro  80.0000000000  \n",
       "6950          3                 2  Jardim Camburi            NaN  \n",
       "7080          2                 2     Santa Lúcia   0.0000000000  \n",
       "7101          1                 1          Centro   0.0000000000  \n",
       "7354          2                 1      Cruzamento  58.0000000000  \n",
       "\n",
       "[249 rows x 8 columns]"
      ]
     },
     "execution_count": 441,
     "metadata": {},
     "output_type": "execute_result"
    }
   ],
   "source": [
    "df[df['Valor']<=42000]"
   ]
  },
  {
   "cell_type": "code",
   "execution_count": 442,
   "metadata": {},
   "outputs": [],
   "source": [
    "df = df[(df['Valor']>42000) & (df['Valor']<=7000000)]"
   ]
  },
  {
   "cell_type": "code",
   "execution_count": 443,
   "metadata": {},
   "outputs": [
    {
     "data": {
      "image/png": "[encoded data removed]",
      "text/plain": [
       "<Figure size 2880x720 with 2 Axes>"
      ]
     },
     "metadata": {
      "needs_background": "light"
     },
     "output_type": "display_data"
    }
   ],
   "source": [
    "plt.figure(figsize=(40,10))\n",
    "plt.subplot(1,2,1)\n",
    "plt.ticklabel_format(style = 'plain')\n",
    "df['Valor'].hist(bins= 30)\n",
    "\n",
    "plt.subplot(1,2,2)\n",
    "df['Valor'].plot(kind = 'box')\n",
    "plt.show()"
   ]
  },
  {
   "cell_type": "markdown",
   "metadata": {},
   "source": [
    "##### Area"
   ]
  },
  {
   "cell_type": "code",
   "execution_count": 444,
   "metadata": {},
   "outputs": [
    {
     "data": {
      "image/png": "[encoded data removed]",
      "text/plain": [
       "<Figure size 2880x720 with 2 Axes>"
      ]
     },
     "metadata": {
      "needs_background": "light"
     },
     "output_type": "display_data"
    }
   ],
   "source": [
    "plt.figure(figsize=(40,10))\n",
    "plt.subplot(1,2,1)\n",
    "plt.ticklabel_format(style = 'plain')\n",
    "df['Area'].hist(bins= 30)\n",
    "\n",
    "plt.subplot(1,2,2)\n",
    "df['Area'].plot(kind = 'box')\n",
    "plt.show()"
   ]
  },
  {
   "cell_type": "code",
   "execution_count": 445,
   "metadata": {},
   "outputs": [
    {
     "data": {
      "text/html": [
       "<div>\n",
       "<style scoped>\n",
       "    .dataframe tbody tr th:only-of-type {\n",
       "        vertical-align: middle;\n",
       "    }\n",
       "\n",
       "    .dataframe tbody tr th {\n",
       "        vertical-align: top;\n",
       "    }\n",
       "\n",
       "    .dataframe thead th {\n",
       "        text-align: right;\n",
       "    }\n",
       "</style>\n",
       "<table border=\"1\" class=\"dataframe\">\n",
       "  <thead>\n",
       "    <tr style=\"text-align: right;\">\n",
       "      <th></th>\n",
       "      <th>Valor</th>\n",
       "      <th>Categoria</th>\n",
       "      <th>Tipo</th>\n",
       "      <th>Quartos</th>\n",
       "      <th>Banheiros</th>\n",
       "      <th>Vagas na garagem</th>\n",
       "      <th>Bairro</th>\n",
       "      <th>Area</th>\n",
       "    </tr>\n",
       "  </thead>\n",
       "  <tbody>\n",
       "    <tr>\n",
       "      <th>1</th>\n",
       "      <td>400,000.0000000000</td>\n",
       "      <td>Casas</td>\n",
       "      <td>Venda - casa em rua pública</td>\n",
       "      <td>3</td>\n",
       "      <td>2</td>\n",
       "      <td>2</td>\n",
       "      <td>Goiabeiras</td>\n",
       "      <td>0.0000000000</td>\n",
       "    </tr>\n",
       "    <tr>\n",
       "      <th>20</th>\n",
       "      <td>265,000.0000000000</td>\n",
       "      <td>Casas</td>\n",
       "      <td>Venda - casa em rua pública</td>\n",
       "      <td>2</td>\n",
       "      <td>2</td>\n",
       "      <td>1</td>\n",
       "      <td>Jucutuquara</td>\n",
       "      <td>0.0000000000</td>\n",
       "    </tr>\n",
       "    <tr>\n",
       "      <th>39</th>\n",
       "      <td>250,000.0000000000</td>\n",
       "      <td>Casas</td>\n",
       "      <td>Venda - casa em rua pública</td>\n",
       "      <td>3</td>\n",
       "      <td>2</td>\n",
       "      <td>2</td>\n",
       "      <td>Gurigica</td>\n",
       "      <td>0.0000000000</td>\n",
       "    </tr>\n",
       "    <tr>\n",
       "      <th>52</th>\n",
       "      <td>190,000.0000000000</td>\n",
       "      <td>Casas</td>\n",
       "      <td>Venda - casa em rua pública</td>\n",
       "      <td>3</td>\n",
       "      <td>4</td>\n",
       "      <td>2</td>\n",
       "      <td>Jucutuquara</td>\n",
       "      <td>0.0000000000</td>\n",
       "    </tr>\n",
       "    <tr>\n",
       "      <th>76</th>\n",
       "      <td>270,000.0000000000</td>\n",
       "      <td>Casas</td>\n",
       "      <td>Venda - casa em rua pública</td>\n",
       "      <td>3</td>\n",
       "      <td>2</td>\n",
       "      <td>1</td>\n",
       "      <td>Goiabeiras</td>\n",
       "      <td>0.0000000000</td>\n",
       "    </tr>\n",
       "    <tr>\n",
       "      <th>...</th>\n",
       "      <td>...</td>\n",
       "      <td>...</td>\n",
       "      <td>...</td>\n",
       "      <td>...</td>\n",
       "      <td>...</td>\n",
       "      <td>...</td>\n",
       "      <td>...</td>\n",
       "      <td>...</td>\n",
       "    </tr>\n",
       "    <tr>\n",
       "      <th>7296</th>\n",
       "      <td>782,000.0000000000</td>\n",
       "      <td>Apartamentos</td>\n",
       "      <td>Venda - apartamento padrão</td>\n",
       "      <td>3</td>\n",
       "      <td>3</td>\n",
       "      <td>2</td>\n",
       "      <td>Santa Luíza</td>\n",
       "      <td>0.0000000000</td>\n",
       "    </tr>\n",
       "    <tr>\n",
       "      <th>7342</th>\n",
       "      <td>779,004.0000000000</td>\n",
       "      <td>Apartamentos</td>\n",
       "      <td>Venda - apartamento padrão</td>\n",
       "      <td>3</td>\n",
       "      <td>2</td>\n",
       "      <td>2</td>\n",
       "      <td>Barro Vermelho</td>\n",
       "      <td>0.0000000000</td>\n",
       "    </tr>\n",
       "    <tr>\n",
       "      <th>7344</th>\n",
       "      <td>780,010.0000000000</td>\n",
       "      <td>Apartamentos</td>\n",
       "      <td>Venda - apartamento padrão</td>\n",
       "      <td>3</td>\n",
       "      <td>3</td>\n",
       "      <td>2</td>\n",
       "      <td>Santa Luíza</td>\n",
       "      <td>0.0000000000</td>\n",
       "    </tr>\n",
       "    <tr>\n",
       "      <th>7375</th>\n",
       "      <td>780,000.0000000000</td>\n",
       "      <td>Apartamentos</td>\n",
       "      <td>Venda - apartamento padrão</td>\n",
       "      <td>3</td>\n",
       "      <td>3</td>\n",
       "      <td>2</td>\n",
       "      <td>Santa Luíza</td>\n",
       "      <td>0.0000000000</td>\n",
       "    </tr>\n",
       "    <tr>\n",
       "      <th>7380</th>\n",
       "      <td>469,982.0000000000</td>\n",
       "      <td>Apartamentos</td>\n",
       "      <td>Venda - apartamento padrão</td>\n",
       "      <td>3</td>\n",
       "      <td>2</td>\n",
       "      <td>1</td>\n",
       "      <td>Jardim Camburi</td>\n",
       "      <td>0.0000000000</td>\n",
       "    </tr>\n",
       "  </tbody>\n",
       "</table>\n",
       "<p>202 rows × 8 columns</p>\n",
       "</div>"
      ],
      "text/plain": [
       "                  Valor     Categoria                         Tipo  Quartos  \\\n",
       "1    400,000.0000000000         Casas  Venda - casa em rua pública        3   \n",
       "20   265,000.0000000000         Casas  Venda - casa em rua pública        2   \n",
       "39   250,000.0000000000         Casas  Venda - casa em rua pública        3   \n",
       "52   190,000.0000000000         Casas  Venda - casa em rua pública        3   \n",
       "76   270,000.0000000000         Casas  Venda - casa em rua pública        3   \n",
       "...                 ...           ...                          ...      ...   \n",
       "7296 782,000.0000000000  Apartamentos   Venda - apartamento padrão        3   \n",
       "7342 779,004.0000000000  Apartamentos   Venda - apartamento padrão        3   \n",
       "7344 780,010.0000000000  Apartamentos   Venda - apartamento padrão        3   \n",
       "7375 780,000.0000000000  Apartamentos   Venda - apartamento padrão        3   \n",
       "7380 469,982.0000000000  Apartamentos   Venda - apartamento padrão        3   \n",
       "\n",
       "      Banheiros  Vagas na garagem          Bairro         Area  \n",
       "1             2                 2      Goiabeiras 0.0000000000  \n",
       "20            2                 1     Jucutuquara 0.0000000000  \n",
       "39            2                 2        Gurigica 0.0000000000  \n",
       "52            4                 2     Jucutuquara 0.0000000000  \n",
       "76            2                 1      Goiabeiras 0.0000000000  \n",
       "...         ...               ...             ...          ...  \n",
       "7296          3                 2     Santa Luíza 0.0000000000  \n",
       "7342          2                 2  Barro Vermelho 0.0000000000  \n",
       "7344          3                 2     Santa Luíza 0.0000000000  \n",
       "7375          3                 2     Santa Luíza 0.0000000000  \n",
       "7380          2                 1  Jardim Camburi 0.0000000000  \n",
       "\n",
       "[202 rows x 8 columns]"
      ]
     },
     "execution_count": 445,
     "metadata": {},
     "output_type": "execute_result"
    }
   ],
   "source": [
    "# Temos 341 itens com area 0 e podemos considerar erros de preenchimento\n",
    "df[df['Area']<30]"
   ]
  },
  {
   "cell_type": "code",
   "execution_count": 446,
   "metadata": {},
   "outputs": [],
   "source": [
    "# Removendo valores com erro de preenchimento\n",
    "df= df[df['Area']>30]"
   ]
  },
  {
   "cell_type": "code",
   "execution_count": 447,
   "metadata": {},
   "outputs": [
    {
     "data": {
      "text/plain": [
       "[3989.322230295752, -3754.322230295752]"
      ]
     },
     "execution_count": 447,
     "metadata": {},
     "output_type": "execute_result"
    }
   ],
   "source": [
    "max , min = fncCalculaLimites(df['Area'])\n",
    "[max, min]"
   ]
  },
  {
   "cell_type": "code",
   "execution_count": 448,
   "metadata": {},
   "outputs": [],
   "source": [
    "max , min = fncCalculaLimites(df['Area'])\n",
    "df = df[(df['Area'] > min) & (df['Area'] < max)]"
   ]
  },
  {
   "cell_type": "code",
   "execution_count": 449,
   "metadata": {},
   "outputs": [
    {
     "data": {
      "image/png": "[encoded data removed]",
      "text/plain": [
       "<Figure size 2880x720 with 2 Axes>"
      ]
     },
     "metadata": {
      "needs_background": "light"
     },
     "output_type": "display_data"
    }
   ],
   "source": [
    "plt.figure(figsize=(40,10))\n",
    "plt.subplot(1,2,1)\n",
    "plt.ticklabel_format(style = 'plain')\n",
    "df['Area'].hist(bins= 30)\n",
    "\n",
    "plt.subplot(1,2,2)\n",
    "df['Area'].plot(kind = 'box')\n",
    "plt.show()"
   ]
  },
  {
   "cell_type": "markdown",
   "metadata": {},
   "source": [
    "### Campos descritivos"
   ]
  },
  {
   "cell_type": "markdown",
   "metadata": {},
   "source": [
    "##### Bairros"
   ]
  },
  {
   "cell_type": "code",
   "execution_count": 450,
   "metadata": {},
   "outputs": [
    {
     "data": {
      "text/plain": [
       "Jardim Camburi       1780\n",
       "Jardim da Penha       630\n",
       "Praia do Canto        539\n",
       "Mata da Praia         412\n",
       "Bento Ferreira        356\n",
       "                     ... \n",
       "Estrelinha              1\n",
       "Fonte Grande            1\n",
       "Jesus de Nazareth       1\n",
       "Andorinhas              1\n",
       "Nazareth                1\n",
       "Name: Bairro, Length: 72, dtype: int64"
      ]
     },
     "execution_count": 450,
     "metadata": {},
     "output_type": "execute_result"
    }
   ],
   "source": [
    "df['Bairro'].value_counts()"
   ]
  },
  {
   "cell_type": "code",
   "execution_count": 451,
   "metadata": {},
   "outputs": [],
   "source": [
    "regioes ={\n",
    " 'Itararé':  'Maruípe' ,\n",
    " 'Santa Lúcia':  'Zona Leste' ,\n",
    " 'Jardim Camburi': 'Jardim Camburi'  ,\n",
    " 'Goiabeiras':  'Zona Norte' ,\n",
    " 'Santa Helena':  'Zona Leste' ,\n",
    " 'Ilha do Boi':   'Zona Leste',\n",
    " 'Jucutuquara':  'Jucutuquara' ,\n",
    " 'Praia do Canto': 'Zona Leste'  ,\n",
    " 'Centro':  'Zona Sul' ,\n",
    " 'Fradinhos':  'Jucutuquara' ,\n",
    " 'Mata da Praia': 'Jardim da Penha'  ,\n",
    " \"Joana D'arc\":  'Maruípe' ,\n",
    " 'Bento Ferreira':  'Jucutuquara' ,\n",
    " 'de Lourdes':  'Jucutuquara' ,\n",
    " 'República':  'Jardim da Penha' ,\n",
    " 'Santa Cecília': 'Maruípe'  ,\n",
    " 'Morada de Camburi': 'Jardim da Penha'  ,\n",
    " 'Maruípe': 'Maruípe'  ,\n",
    " 'Tabuazeiro': 'Maruípe'  ,\n",
    " 'Maria Ortiz':  'Zona Norte' ,\n",
    " 'Santo Antônio':  'Santo Antônio' ,\n",
    " 'Santa Martha':  'Maruípe' ,\n",
    " 'São Cristóvão':   'Maruípe',\n",
    " 'Santos Reis': 'Zona Oeste'  ,\n",
    " 'Enseada do Suá': 'Zona Leste'  ,\n",
    " 'Santos Dumont':  'Maruípe' ,\n",
    " 'Jardim da Penha':  'Jardim da Penha' ,\n",
    " 'Universitário':  'Santo Antônio' ,\n",
    " 'Solon Borges': 'Zona Norte'  ,\n",
    " 'Santa Tereza':  'Santo Antônio' ,\n",
    " 'Ilha do Frade':  'Zona Leste' ,\n",
    " 'da Penha':  'Maruípe' ,\n",
    " 'Horto': 'Jucutuquara'  ,\n",
    " 'Santa Clara':   'Zona Sul',\n",
    " 'São Pedro':  'Zona Oeste' ,\n",
    " 'Parque Moscoso':  'Zona Sul'  ,\n",
    " 'Consolação':  'Jucutuquara' ,\n",
    " 'São Benedito':  'Maruípe' ,\n",
    " 'Caratoíra': 'Santo Antônio'  ,\n",
    " 'Grande Vitória':  'Santo Antônio' ,\n",
    " 'Jesus de Nazareth': 'Jucutuquara'  ,\n",
    " 'Romão': 'Jucutuquara'  ,\n",
    " 'Bonfim':  'Maruípe' ,\n",
    " 'Praia do Suá': 'Zona Leste'  ,\n",
    " 'Mário Cypreste': 'Santo Antônio'  ,\n",
    " 'Jabour': 'Zona Norte'  ,\n",
    " 'Santa Luíza':  'Zona Leste' ,\n",
    " 'São José': 'Zona Oeste'  ,\n",
    " 'Pontal de Camburi': 'Jardim da Penha'  ,\n",
    " 'Andorinhas':  'Maruípe' ,\n",
    " 'Nova Palestina':  'Zona Oeste' ,\n",
    " 'Boa Vista': 'Jardim da Penha'  ,\n",
    " 'Redenção': 'Zona Oeste'  ,\n",
    " 'Antônio Honório':  'Zona Norte' ,\n",
    " 'Monte Belo':  'Jucutuquara' ,\n",
    " 'Barro Vermelho':  'Zona Leste' ,\n",
    " 'Resistência': 'Zona Oeste'  ,\n",
    " 'Bela Vista':  \t'Santo Antônio'  ,\n",
    " 'Santo André':  'Zona Oeste' ,\n",
    " 'Ilha do Príncipe':  'Zona Sul'  ,\n",
    " 'Ilha de Santa Maria': 'Jucutuquara'  ,\n",
    " 'Fonte Grande':  'Zona Sul' ,\n",
    " 'Estrelinha':  'Santo Antônio' ,\n",
    " 'Inhanguetá':  'Santo Antônio' ,\n",
    " 'Vila Rubim':  'Zona Sul' ,\n",
    " 'Cruzamento':  'Jucutuquara' ,\n",
    " 'Ilha das Caieiras': 'Zona Oeste'  ,\n",
    " 'do Moscoso': 'Zona Sul'  ,\n",
    " 'Forte São João':  'Jucutuquara' ,\n",
    " 'Segurança do Lar':  'Zona Norte' ,\n",
    " 'Piedade' : 'Zona Sul',\n",
    " 'Parque Industrial': 'Jardim Camburi'  ,\n",
    " 'Nazareth' :'Jucutuquara'\n",
    "}"
   ]
  },
  {
   "cell_type": "code",
   "execution_count": 452,
   "metadata": {},
   "outputs": [],
   "source": [
    "df['Regiao'] = df['Bairro'].map(regioes)"
   ]
  },
  {
   "cell_type": "code",
   "execution_count": 453,
   "metadata": {},
   "outputs": [
    {
     "data": {
      "text/plain": [
       "Jardim Camburi     1781\n",
       "Zona Leste         1471\n",
       "Jardim da Penha    1140\n",
       "Jucutuquara         509\n",
       "Zona Sul            298\n",
       "Maruípe             246\n",
       "Zona Norte           97\n",
       "Santo Antônio        55\n",
       "Zona Oeste           47\n",
       "Name: Regiao, dtype: int64"
      ]
     },
     "execution_count": 453,
     "metadata": {},
     "output_type": "execute_result"
    }
   ],
   "source": [
    "df['Regiao'].value_counts()"
   ]
  },
  {
   "cell_type": "code",
   "execution_count": 454,
   "metadata": {},
   "outputs": [],
   "source": [
    "df['ValorPorM2'] = df['Valor'] / df['Area']"
   ]
  },
  {
   "cell_type": "code",
   "execution_count": 455,
   "metadata": {},
   "outputs": [],
   "source": [
    "bairros = df.groupby(['Regiao','Bairro'], as_index=False)['ValorPorM2'].mean()"
   ]
  },
  {
   "cell_type": "code",
   "execution_count": 456,
   "metadata": {},
   "outputs": [
    {
     "data": {
      "text/html": [
       "<div>\n",
       "<style scoped>\n",
       "    .dataframe tbody tr th:only-of-type {\n",
       "        vertical-align: middle;\n",
       "    }\n",
       "\n",
       "    .dataframe tbody tr th {\n",
       "        vertical-align: top;\n",
       "    }\n",
       "\n",
       "    .dataframe thead th {\n",
       "        text-align: right;\n",
       "    }\n",
       "</style>\n",
       "<table border=\"1\" class=\"dataframe\">\n",
       "  <thead>\n",
       "    <tr style=\"text-align: right;\">\n",
       "      <th></th>\n",
       "      <th>Regiao</th>\n",
       "      <th>Bairro</th>\n",
       "      <th>ValorPorM2</th>\n",
       "    </tr>\n",
       "  </thead>\n",
       "  <tbody>\n",
       "    <tr>\n",
       "      <th>0</th>\n",
       "      <td>Jardim Camburi</td>\n",
       "      <td>Jardim Camburi</td>\n",
       "      <td>7,087.6661397099</td>\n",
       "    </tr>\n",
       "    <tr>\n",
       "      <th>1</th>\n",
       "      <td>Jardim Camburi</td>\n",
       "      <td>Parque Industrial</td>\n",
       "      <td>5,909.0909090909</td>\n",
       "    </tr>\n",
       "    <tr>\n",
       "      <th>2</th>\n",
       "      <td>Jardim da Penha</td>\n",
       "      <td>Boa Vista</td>\n",
       "      <td>2,534.5238095238</td>\n",
       "    </tr>\n",
       "    <tr>\n",
       "      <th>3</th>\n",
       "      <td>Jardim da Penha</td>\n",
       "      <td>Jardim da Penha</td>\n",
       "      <td>6,657.1469529702</td>\n",
       "    </tr>\n",
       "    <tr>\n",
       "      <th>4</th>\n",
       "      <td>Jardim da Penha</td>\n",
       "      <td>Mata da Praia</td>\n",
       "      <td>9,358.9985986972</td>\n",
       "    </tr>\n",
       "    <tr>\n",
       "      <th>...</th>\n",
       "      <td>...</td>\n",
       "      <td>...</td>\n",
       "      <td>...</td>\n",
       "    </tr>\n",
       "    <tr>\n",
       "      <th>67</th>\n",
       "      <td>Zona Sul</td>\n",
       "      <td>Ilha do Príncipe</td>\n",
       "      <td>3,218.3441558442</td>\n",
       "    </tr>\n",
       "    <tr>\n",
       "      <th>68</th>\n",
       "      <td>Zona Sul</td>\n",
       "      <td>Parque Moscoso</td>\n",
       "      <td>2,093.4705711837</td>\n",
       "    </tr>\n",
       "    <tr>\n",
       "      <th>69</th>\n",
       "      <td>Zona Sul</td>\n",
       "      <td>Santa Clara</td>\n",
       "      <td>1,557.7931658830</td>\n",
       "    </tr>\n",
       "    <tr>\n",
       "      <th>70</th>\n",
       "      <td>Zona Sul</td>\n",
       "      <td>Vila Rubim</td>\n",
       "      <td>3,534.0107484440</td>\n",
       "    </tr>\n",
       "    <tr>\n",
       "      <th>71</th>\n",
       "      <td>Zona Sul</td>\n",
       "      <td>do Moscoso</td>\n",
       "      <td>1,833.3833333333</td>\n",
       "    </tr>\n",
       "  </tbody>\n",
       "</table>\n",
       "<p>72 rows × 3 columns</p>\n",
       "</div>"
      ],
      "text/plain": [
       "             Regiao             Bairro       ValorPorM2\n",
       "0    Jardim Camburi     Jardim Camburi 7,087.6661397099\n",
       "1    Jardim Camburi  Parque Industrial 5,909.0909090909\n",
       "2   Jardim da Penha          Boa Vista 2,534.5238095238\n",
       "3   Jardim da Penha    Jardim da Penha 6,657.1469529702\n",
       "4   Jardim da Penha      Mata da Praia 9,358.9985986972\n",
       "..              ...                ...              ...\n",
       "67         Zona Sul   Ilha do Príncipe 3,218.3441558442\n",
       "68         Zona Sul     Parque Moscoso 2,093.4705711837\n",
       "69         Zona Sul        Santa Clara 1,557.7931658830\n",
       "70         Zona Sul         Vila Rubim 3,534.0107484440\n",
       "71         Zona Sul         do Moscoso 1,833.3833333333\n",
       "\n",
       "[72 rows x 3 columns]"
      ]
     },
     "execution_count": 456,
     "metadata": {},
     "output_type": "execute_result"
    }
   ],
   "source": [
    "bairros"
   ]
  },
  {
   "cell_type": "code",
   "execution_count": 457,
   "metadata": {},
   "outputs": [
    {
     "data": {
      "text/html": [
       "<div>\n",
       "<style scoped>\n",
       "    .dataframe tbody tr th:only-of-type {\n",
       "        vertical-align: middle;\n",
       "    }\n",
       "\n",
       "    .dataframe tbody tr th {\n",
       "        vertical-align: top;\n",
       "    }\n",
       "\n",
       "    .dataframe thead th {\n",
       "        text-align: right;\n",
       "    }\n",
       "</style>\n",
       "<table border=\"1\" class=\"dataframe\">\n",
       "  <thead>\n",
       "    <tr style=\"text-align: right;\">\n",
       "      <th></th>\n",
       "      <th>Valor</th>\n",
       "      <th>Categoria</th>\n",
       "      <th>Tipo</th>\n",
       "      <th>Quartos</th>\n",
       "      <th>Banheiros</th>\n",
       "      <th>Vagas na garagem</th>\n",
       "      <th>Bairro</th>\n",
       "      <th>Area</th>\n",
       "      <th>Regiao</th>\n",
       "      <th>ValorPorM2</th>\n",
       "    </tr>\n",
       "  </thead>\n",
       "  <tbody>\n",
       "    <tr>\n",
       "      <th>74</th>\n",
       "      <td>6,500,000.0000000000</td>\n",
       "      <td>Casas</td>\n",
       "      <td>Venda - casa em rua pública</td>\n",
       "      <td>5</td>\n",
       "      <td>4</td>\n",
       "      <td>5</td>\n",
       "      <td>Ilha do Boi</td>\n",
       "      <td>559.0000000000</td>\n",
       "      <td>Zona Leste</td>\n",
       "      <td>11,627.9069767442</td>\n",
       "    </tr>\n",
       "    <tr>\n",
       "      <th>161</th>\n",
       "      <td>3,500,000.0000000000</td>\n",
       "      <td>Casas</td>\n",
       "      <td>Venda - casa em rua pública</td>\n",
       "      <td>4</td>\n",
       "      <td>5</td>\n",
       "      <td>4</td>\n",
       "      <td>Ilha do Boi</td>\n",
       "      <td>480.0000000000</td>\n",
       "      <td>Zona Leste</td>\n",
       "      <td>7,291.6666666667</td>\n",
       "    </tr>\n",
       "    <tr>\n",
       "      <th>190</th>\n",
       "      <td>4,000,000.0000000000</td>\n",
       "      <td>Casas</td>\n",
       "      <td>Venda - casa em rua pública</td>\n",
       "      <td>5</td>\n",
       "      <td>5</td>\n",
       "      <td>5</td>\n",
       "      <td>Ilha do Boi</td>\n",
       "      <td>1,000.0000000000</td>\n",
       "      <td>Zona Leste</td>\n",
       "      <td>4,000.0000000000</td>\n",
       "    </tr>\n",
       "    <tr>\n",
       "      <th>197</th>\n",
       "      <td>6,500,000.0000000000</td>\n",
       "      <td>Casas</td>\n",
       "      <td>Venda - casa em rua pública</td>\n",
       "      <td>4</td>\n",
       "      <td>5</td>\n",
       "      <td>4</td>\n",
       "      <td>Ilha do Boi</td>\n",
       "      <td>600.0000000000</td>\n",
       "      <td>Zona Leste</td>\n",
       "      <td>10,833.3333333333</td>\n",
       "    </tr>\n",
       "    <tr>\n",
       "      <th>213</th>\n",
       "      <td>6,500,000.0000000000</td>\n",
       "      <td>Casas</td>\n",
       "      <td>Venda - casa em rua pública</td>\n",
       "      <td>5</td>\n",
       "      <td>5</td>\n",
       "      <td>5</td>\n",
       "      <td>Ilha do Boi</td>\n",
       "      <td>560.0000000000</td>\n",
       "      <td>Zona Leste</td>\n",
       "      <td>11,607.1428571429</td>\n",
       "    </tr>\n",
       "    <tr>\n",
       "      <th>...</th>\n",
       "      <td>...</td>\n",
       "      <td>...</td>\n",
       "      <td>...</td>\n",
       "      <td>...</td>\n",
       "      <td>...</td>\n",
       "      <td>...</td>\n",
       "      <td>...</td>\n",
       "      <td>...</td>\n",
       "      <td>...</td>\n",
       "      <td>...</td>\n",
       "    </tr>\n",
       "    <tr>\n",
       "      <th>4332</th>\n",
       "      <td>670,000.0000000000</td>\n",
       "      <td>Apartamentos</td>\n",
       "      <td>Venda - apartamento padrão</td>\n",
       "      <td>3</td>\n",
       "      <td>3</td>\n",
       "      <td>1</td>\n",
       "      <td>Ilha do Boi</td>\n",
       "      <td>160.0000000000</td>\n",
       "      <td>Zona Leste</td>\n",
       "      <td>4,187.5000000000</td>\n",
       "    </tr>\n",
       "    <tr>\n",
       "      <th>4888</th>\n",
       "      <td>720,000.0000000000</td>\n",
       "      <td>Apartamentos</td>\n",
       "      <td>Venda - apartamento padrão</td>\n",
       "      <td>3</td>\n",
       "      <td>1</td>\n",
       "      <td>1</td>\n",
       "      <td>Ilha do Boi</td>\n",
       "      <td>163.0000000000</td>\n",
       "      <td>Zona Leste</td>\n",
       "      <td>4,417.1779141104</td>\n",
       "    </tr>\n",
       "    <tr>\n",
       "      <th>5534</th>\n",
       "      <td>659,000.0000000000</td>\n",
       "      <td>Apartamentos</td>\n",
       "      <td>Venda - apartamento padrão</td>\n",
       "      <td>3</td>\n",
       "      <td>3</td>\n",
       "      <td>1</td>\n",
       "      <td>Ilha do Boi</td>\n",
       "      <td>160.0000000000</td>\n",
       "      <td>Zona Leste</td>\n",
       "      <td>4,118.7500000000</td>\n",
       "    </tr>\n",
       "    <tr>\n",
       "      <th>5965</th>\n",
       "      <td>560,000.0000000000</td>\n",
       "      <td>Apartamentos</td>\n",
       "      <td>Venda - apartamento padrão</td>\n",
       "      <td>3</td>\n",
       "      <td>3</td>\n",
       "      <td>2</td>\n",
       "      <td>Ilha do Boi</td>\n",
       "      <td>148.0000000000</td>\n",
       "      <td>Zona Leste</td>\n",
       "      <td>3,783.7837837838</td>\n",
       "    </tr>\n",
       "    <tr>\n",
       "      <th>7079</th>\n",
       "      <td>720,000.0000000000</td>\n",
       "      <td>Apartamentos</td>\n",
       "      <td>Venda - apartamento padrão</td>\n",
       "      <td>3</td>\n",
       "      <td>3</td>\n",
       "      <td>2</td>\n",
       "      <td>Ilha do Boi</td>\n",
       "      <td>163.0000000000</td>\n",
       "      <td>Zona Leste</td>\n",
       "      <td>4,417.1779141104</td>\n",
       "    </tr>\n",
       "  </tbody>\n",
       "</table>\n",
       "<p>63 rows × 10 columns</p>\n",
       "</div>"
      ],
      "text/plain": [
       "                    Valor     Categoria                         Tipo  Quartos  \\\n",
       "74   6,500,000.0000000000         Casas  Venda - casa em rua pública        5   \n",
       "161  3,500,000.0000000000         Casas  Venda - casa em rua pública        4   \n",
       "190  4,000,000.0000000000         Casas  Venda - casa em rua pública        5   \n",
       "197  6,500,000.0000000000         Casas  Venda - casa em rua pública        4   \n",
       "213  6,500,000.0000000000         Casas  Venda - casa em rua pública        5   \n",
       "...                   ...           ...                          ...      ...   \n",
       "4332   670,000.0000000000  Apartamentos   Venda - apartamento padrão        3   \n",
       "4888   720,000.0000000000  Apartamentos   Venda - apartamento padrão        3   \n",
       "5534   659,000.0000000000  Apartamentos   Venda - apartamento padrão        3   \n",
       "5965   560,000.0000000000  Apartamentos   Venda - apartamento padrão        3   \n",
       "7079   720,000.0000000000  Apartamentos   Venda - apartamento padrão        3   \n",
       "\n",
       "      Banheiros  Vagas na garagem       Bairro             Area      Regiao  \\\n",
       "74            4                 5  Ilha do Boi   559.0000000000  Zona Leste   \n",
       "161           5                 4  Ilha do Boi   480.0000000000  Zona Leste   \n",
       "190           5                 5  Ilha do Boi 1,000.0000000000  Zona Leste   \n",
       "197           5                 4  Ilha do Boi   600.0000000000  Zona Leste   \n",
       "213           5                 5  Ilha do Boi   560.0000000000  Zona Leste   \n",
       "...         ...               ...          ...              ...         ...   \n",
       "4332          3                 1  Ilha do Boi   160.0000000000  Zona Leste   \n",
       "4888          1                 1  Ilha do Boi   163.0000000000  Zona Leste   \n",
       "5534          3                 1  Ilha do Boi   160.0000000000  Zona Leste   \n",
       "5965          3                 2  Ilha do Boi   148.0000000000  Zona Leste   \n",
       "7079          3                 2  Ilha do Boi   163.0000000000  Zona Leste   \n",
       "\n",
       "            ValorPorM2  \n",
       "74   11,627.9069767442  \n",
       "161   7,291.6666666667  \n",
       "190   4,000.0000000000  \n",
       "197  10,833.3333333333  \n",
       "213  11,607.1428571429  \n",
       "...                ...  \n",
       "4332  4,187.5000000000  \n",
       "4888  4,417.1779141104  \n",
       "5534  4,118.7500000000  \n",
       "5965  3,783.7837837838  \n",
       "7079  4,417.1779141104  \n",
       "\n",
       "[63 rows x 10 columns]"
      ]
     },
     "execution_count": 457,
     "metadata": {},
     "output_type": "execute_result"
    }
   ],
   "source": [
    "df[df['Bairro'] == 'Ilha do Boi']"
   ]
  },
  {
   "cell_type": "code",
   "execution_count": 458,
   "metadata": {},
   "outputs": [
    {
     "data": {
      "text/plain": [
       "Bairro\n",
       "Forte São João      9,743.2736710007\n",
       "Praia do Canto      4,397.0096387056\n",
       "Enseada do Suá      4,305.2198458746\n",
       "Santa Lúcia         3,807.4487441509\n",
       "Mata da Praia       3,630.4714056626\n",
       "                          ...       \n",
       "Jesus de Nazareth                NaN\n",
       "Mário Cypreste                   NaN\n",
       "Nazareth                         NaN\n",
       "Parque Industrial                NaN\n",
       "Segurança do Lar                 NaN\n",
       "Name: ValorPorM2, Length: 72, dtype: float64"
      ]
     },
     "execution_count": 458,
     "metadata": {},
     "output_type": "execute_result"
    }
   ],
   "source": [
    "df.groupby(['Bairro'])['ValorPorM2'].std().sort_values(ascending  = False)"
   ]
  },
  {
   "cell_type": "code",
   "execution_count": 459,
   "metadata": {},
   "outputs": [
    {
     "data": {
      "text/html": [
       "<div>\n",
       "<style scoped>\n",
       "    .dataframe tbody tr th:only-of-type {\n",
       "        vertical-align: middle;\n",
       "    }\n",
       "\n",
       "    .dataframe tbody tr th {\n",
       "        vertical-align: top;\n",
       "    }\n",
       "\n",
       "    .dataframe thead th {\n",
       "        text-align: right;\n",
       "    }\n",
       "</style>\n",
       "<table border=\"1\" class=\"dataframe\">\n",
       "  <thead>\n",
       "    <tr style=\"text-align: right;\">\n",
       "      <th></th>\n",
       "      <th>mean</th>\n",
       "      <th>std</th>\n",
       "    </tr>\n",
       "    <tr>\n",
       "      <th>Regiao</th>\n",
       "      <th></th>\n",
       "      <th></th>\n",
       "    </tr>\n",
       "  </thead>\n",
       "  <tbody>\n",
       "    <tr>\n",
       "      <th>Jardim Camburi</th>\n",
       "      <td>7,087.0043905630</td>\n",
       "      <td>2,343.4244029607</td>\n",
       "    </tr>\n",
       "    <tr>\n",
       "      <th>Jardim da Penha</th>\n",
       "      <td>7,412.8328017170</td>\n",
       "      <td>3,303.4975210466</td>\n",
       "    </tr>\n",
       "    <tr>\n",
       "      <th>Jucutuquara</th>\n",
       "      <td>5,558.9734332310</td>\n",
       "      <td>2,774.9919437616</td>\n",
       "    </tr>\n",
       "    <tr>\n",
       "      <th>Maruípe</th>\n",
       "      <td>2,787.6830038048</td>\n",
       "      <td>2,099.9499245015</td>\n",
       "    </tr>\n",
       "    <tr>\n",
       "      <th>Santo Antônio</th>\n",
       "      <td>2,597.1966654677</td>\n",
       "      <td>1,683.8166515163</td>\n",
       "    </tr>\n",
       "    <tr>\n",
       "      <th>Zona Leste</th>\n",
       "      <td>9,408.5936028027</td>\n",
       "      <td>4,034.6589378321</td>\n",
       "    </tr>\n",
       "    <tr>\n",
       "      <th>Zona Norte</th>\n",
       "      <td>2,921.0947889879</td>\n",
       "      <td>1,781.9803712425</td>\n",
       "    </tr>\n",
       "    <tr>\n",
       "      <th>Zona Oeste</th>\n",
       "      <td>1,362.4563750447</td>\n",
       "      <td>1,315.1848725786</td>\n",
       "    </tr>\n",
       "    <tr>\n",
       "      <th>Zona Sul</th>\n",
       "      <td>2,470.1038308851</td>\n",
       "      <td>1,096.7706011708</td>\n",
       "    </tr>\n",
       "  </tbody>\n",
       "</table>\n",
       "</div>"
      ],
      "text/plain": [
       "                            mean              std\n",
       "Regiao                                           \n",
       "Jardim Camburi  7,087.0043905630 2,343.4244029607\n",
       "Jardim da Penha 7,412.8328017170 3,303.4975210466\n",
       "Jucutuquara     5,558.9734332310 2,774.9919437616\n",
       "Maruípe         2,787.6830038048 2,099.9499245015\n",
       "Santo Antônio   2,597.1966654677 1,683.8166515163\n",
       "Zona Leste      9,408.5936028027 4,034.6589378321\n",
       "Zona Norte      2,921.0947889879 1,781.9803712425\n",
       "Zona Oeste      1,362.4563750447 1,315.1848725786\n",
       "Zona Sul        2,470.1038308851 1,096.7706011708"
      ]
     },
     "execution_count": 459,
     "metadata": {},
     "output_type": "execute_result"
    }
   ],
   "source": [
    "df.groupby(['Regiao'])['ValorPorM2'].agg(['mean','std'])"
   ]
  },
  {
   "cell_type": "code",
   "execution_count": 460,
   "metadata": {},
   "outputs": [
    {
     "data": {
      "text/plain": [
       "Regiao\n",
       "Jardim Camburi    1.6720943290\n",
       "Jardim da Penha   1.8491228070\n",
       "Jucutuquara       1.6895874263\n",
       "Maruípe           1.3617886179\n",
       "Santo Antônio     1.8363636364\n",
       "Zona Leste        1.9877634262\n",
       "Zona Norte        1.5154639175\n",
       "Zona Oeste        1.6382978723\n",
       "Zona Sul          0.7818791946\n",
       "Name: Vagas na garagem, dtype: float64"
      ]
     },
     "execution_count": 460,
     "metadata": {},
     "output_type": "execute_result"
    }
   ],
   "source": [
    "df.groupby('Regiao')['Vagas na garagem'].mean()"
   ]
  },
  {
   "cell_type": "markdown",
   "metadata": {},
   "source": [
    "##### Tipo Classificação"
   ]
  },
  {
   "cell_type": "code",
   "execution_count": 461,
   "metadata": {},
   "outputs": [],
   "source": [
    "TipoClassificação ={\n",
    "'Venda - apartamento cobertura' : 'Classe A',\n",
    "'Venda - apartamento duplex/triplex' : 'Classe A',\n",
    "'Venda - apartamento kitchenette' : 'Classe B', \n",
    "'Venda - apartamento padrão' : 'Classe B',\n",
    "'Venda - casa em condominio fechado' : 'Classe A',\n",
    "'Venda - casa em rua pública' : 'Classe B',\n",
    "'Venda - casa em vila' : 'Classe B',\n",
    "'Venda - loft/studio' : 'Classe A'\n",
    "}"
   ]
  },
  {
   "cell_type": "code",
   "execution_count": 462,
   "metadata": {},
   "outputs": [],
   "source": [
    "df['TipoClasse']= df['Tipo'].map(TipoClassificação)"
   ]
  },
  {
   "cell_type": "code",
   "execution_count": 463,
   "metadata": {},
   "outputs": [
    {
     "data": {
      "text/html": [
       "<div>\n",
       "<style scoped>\n",
       "    .dataframe tbody tr th:only-of-type {\n",
       "        vertical-align: middle;\n",
       "    }\n",
       "\n",
       "    .dataframe tbody tr th {\n",
       "        vertical-align: top;\n",
       "    }\n",
       "\n",
       "    .dataframe thead th {\n",
       "        text-align: right;\n",
       "    }\n",
       "</style>\n",
       "<table border=\"1\" class=\"dataframe\">\n",
       "  <thead>\n",
       "    <tr style=\"text-align: right;\">\n",
       "      <th></th>\n",
       "      <th>mean</th>\n",
       "      <th>std</th>\n",
       "      <th>count</th>\n",
       "    </tr>\n",
       "    <tr>\n",
       "      <th>TipoClasse</th>\n",
       "      <th></th>\n",
       "      <th></th>\n",
       "      <th></th>\n",
       "    </tr>\n",
       "  </thead>\n",
       "  <tbody>\n",
       "    <tr>\n",
       "      <th>Classe A</th>\n",
       "      <td>8,502.6816462686</td>\n",
       "      <td>3,345.8812613049</td>\n",
       "      <td>293</td>\n",
       "    </tr>\n",
       "    <tr>\n",
       "      <th>Classe B</th>\n",
       "      <td>6,945.0468285797</td>\n",
       "      <td>3,681.9076618131</td>\n",
       "      <td>5351</td>\n",
       "    </tr>\n",
       "  </tbody>\n",
       "</table>\n",
       "</div>"
      ],
      "text/plain": [
       "                       mean              std  count\n",
       "TipoClasse                                         \n",
       "Classe A   8,502.6816462686 3,345.8812613049    293\n",
       "Classe B   6,945.0468285797 3,681.9076618131   5351"
      ]
     },
     "execution_count": 463,
     "metadata": {},
     "output_type": "execute_result"
    }
   ],
   "source": [
    "df.groupby('TipoClasse')['ValorPorM2'].agg(['mean','std', 'count'])"
   ]
  },
  {
   "cell_type": "code",
   "execution_count": 464,
   "metadata": {},
   "outputs": [],
   "source": [
    "#df['Quartos2'] = df['Quartos']**(2)\n",
    "#df['Banheiros2'] = df['Banheiros']**(2)\n",
    "df['Area2'] = df['Area']**(1/2)"
   ]
  },
  {
   "cell_type": "code",
   "execution_count": 465,
   "metadata": {},
   "outputs": [
    {
     "data": {
      "text/plain": [
       "<AxesSubplot:xlabel='Valor', ylabel='Banheiros'>"
      ]
     },
     "execution_count": 465,
     "metadata": {},
     "output_type": "execute_result"
    },
    {
     "data": {
      "image/png": "[encoded data removed]",
      "text/plain": [
       "<Figure size 432x288 with 1 Axes>"
      ]
     },
     "metadata": {
      "needs_background": "light"
     },
     "output_type": "display_data"
    }
   ],
   "source": [
    "df.plot(kind = 'scatter' , x='Valor' , y='Banheiros')"
   ]
  },
  {
   "cell_type": "code",
   "execution_count": 466,
   "metadata": {},
   "outputs": [
    {
     "data": {
      "text/plain": [
       "<AxesSubplot:xlabel='Valor', ylabel='Area'>"
      ]
     },
     "execution_count": 466,
     "metadata": {},
     "output_type": "execute_result"
    },
    {
     "data": {
      "image/png": "[encoded data removed]",
      "text/plain": [
       "<Figure size 432x288 with 1 Axes>"
      ]
     },
     "metadata": {
      "needs_background": "light"
     },
     "output_type": "display_data"
    }
   ],
   "source": [
    "df.plot(kind = 'scatter' , x='Valor' , y='Area')"
   ]
  },
  {
   "cell_type": "code",
   "execution_count": 467,
   "metadata": {},
   "outputs": [
    {
     "data": {
      "text/html": [
       "<div>\n",
       "<style scoped>\n",
       "    .dataframe tbody tr th:only-of-type {\n",
       "        vertical-align: middle;\n",
       "    }\n",
       "\n",
       "    .dataframe tbody tr th {\n",
       "        vertical-align: top;\n",
       "    }\n",
       "\n",
       "    .dataframe thead th {\n",
       "        text-align: right;\n",
       "    }\n",
       "</style>\n",
       "<table border=\"1\" class=\"dataframe\">\n",
       "  <thead>\n",
       "    <tr style=\"text-align: right;\">\n",
       "      <th></th>\n",
       "      <th>Valor</th>\n",
       "      <th>Quartos</th>\n",
       "      <th>Banheiros</th>\n",
       "      <th>Vagas na garagem</th>\n",
       "      <th>Area</th>\n",
       "      <th>ValorPorM2</th>\n",
       "      <th>Area2</th>\n",
       "    </tr>\n",
       "  </thead>\n",
       "  <tbody>\n",
       "    <tr>\n",
       "      <th>Valor</th>\n",
       "      <td>1.0000000000</td>\n",
       "      <td>0.6072659697</td>\n",
       "      <td>0.6755244057</td>\n",
       "      <td>0.6687552370</td>\n",
       "      <td>0.5843891843</td>\n",
       "      <td>0.5458681045</td>\n",
       "      <td>0.6772885755</td>\n",
       "    </tr>\n",
       "    <tr>\n",
       "      <th>Quartos</th>\n",
       "      <td>0.6072659697</td>\n",
       "      <td>1.0000000000</td>\n",
       "      <td>0.6683129703</td>\n",
       "      <td>0.5459910730</td>\n",
       "      <td>0.5343282981</td>\n",
       "      <td>0.1067691754</td>\n",
       "      <td>0.6873467056</td>\n",
       "    </tr>\n",
       "    <tr>\n",
       "      <th>Banheiros</th>\n",
       "      <td>0.6755244057</td>\n",
       "      <td>0.6683129703</td>\n",
       "      <td>1.0000000000</td>\n",
       "      <td>0.5513603953</td>\n",
       "      <td>0.5012295576</td>\n",
       "      <td>0.2445464166</td>\n",
       "      <td>0.6303129858</td>\n",
       "    </tr>\n",
       "    <tr>\n",
       "      <th>Vagas na garagem</th>\n",
       "      <td>0.6687552370</td>\n",
       "      <td>0.5459910730</td>\n",
       "      <td>0.5513603953</td>\n",
       "      <td>1.0000000000</td>\n",
       "      <td>0.4821481162</td>\n",
       "      <td>0.3325897962</td>\n",
       "      <td>0.5689178060</td>\n",
       "    </tr>\n",
       "    <tr>\n",
       "      <th>Area</th>\n",
       "      <td>0.5843891843</td>\n",
       "      <td>0.5343282981</td>\n",
       "      <td>0.5012295576</td>\n",
       "      <td>0.4821481162</td>\n",
       "      <td>1.0000000000</td>\n",
       "      <td>-0.0960002981</td>\n",
       "      <td>0.9415555932</td>\n",
       "    </tr>\n",
       "    <tr>\n",
       "      <th>ValorPorM2</th>\n",
       "      <td>0.5458681045</td>\n",
       "      <td>0.1067691754</td>\n",
       "      <td>0.2445464166</td>\n",
       "      <td>0.3325897962</td>\n",
       "      <td>-0.0960002981</td>\n",
       "      <td>1.0000000000</td>\n",
       "      <td>-0.0800187018</td>\n",
       "    </tr>\n",
       "    <tr>\n",
       "      <th>Area2</th>\n",
       "      <td>0.6772885755</td>\n",
       "      <td>0.6873467056</td>\n",
       "      <td>0.6303129858</td>\n",
       "      <td>0.5689178060</td>\n",
       "      <td>0.9415555932</td>\n",
       "      <td>-0.0800187018</td>\n",
       "      <td>1.0000000000</td>\n",
       "    </tr>\n",
       "  </tbody>\n",
       "</table>\n",
       "</div>"
      ],
      "text/plain": [
       "                        Valor      Quartos    Banheiros  Vagas na garagem  \\\n",
       "Valor            1.0000000000 0.6072659697 0.6755244057      0.6687552370   \n",
       "Quartos          0.6072659697 1.0000000000 0.6683129703      0.5459910730   \n",
       "Banheiros        0.6755244057 0.6683129703 1.0000000000      0.5513603953   \n",
       "Vagas na garagem 0.6687552370 0.5459910730 0.5513603953      1.0000000000   \n",
       "Area             0.5843891843 0.5343282981 0.5012295576      0.4821481162   \n",
       "ValorPorM2       0.5458681045 0.1067691754 0.2445464166      0.3325897962   \n",
       "Area2            0.6772885755 0.6873467056 0.6303129858      0.5689178060   \n",
       "\n",
       "                          Area    ValorPorM2         Area2  \n",
       "Valor             0.5843891843  0.5458681045  0.6772885755  \n",
       "Quartos           0.5343282981  0.1067691754  0.6873467056  \n",
       "Banheiros         0.5012295576  0.2445464166  0.6303129858  \n",
       "Vagas na garagem  0.4821481162  0.3325897962  0.5689178060  \n",
       "Area              1.0000000000 -0.0960002981  0.9415555932  \n",
       "ValorPorM2       -0.0960002981  1.0000000000 -0.0800187018  \n",
       "Area2             0.9415555932 -0.0800187018  1.0000000000  "
      ]
     },
     "execution_count": 467,
     "metadata": {},
     "output_type": "execute_result"
    }
   ],
   "source": [
    "df.corr()"
   ]
  },
  {
   "cell_type": "code",
   "execution_count": 468,
   "metadata": {},
   "outputs": [],
   "source": [
    "df.drop('ValorPorM2', axis = 1 , inplace =True)"
   ]
  },
  {
   "cell_type": "markdown",
   "metadata": {},
   "source": [
    "# Modelagem"
   ]
  },
  {
   "cell_type": "markdown",
   "metadata": {},
   "source": [
    "### Pre Processamento"
   ]
  },
  {
   "cell_type": "code",
   "execution_count": 469,
   "metadata": {},
   "outputs": [],
   "source": [
    "from sklearn.preprocessing import OneHotEncoder\n",
    "from sklearn.model_selection import train_test_split"
   ]
  },
  {
   "cell_type": "code",
   "execution_count": 470,
   "metadata": {},
   "outputs": [],
   "source": [
    "df['Banheiro Por Quartos'] = df['Banheiros'] / df['Quartos']\n",
    "#df['Area Por Quartos'] = df['Area'] / df['Quartos']"
   ]
  },
  {
   "cell_type": "code",
   "execution_count": 471,
   "metadata": {},
   "outputs": [],
   "source": [
    "x_train, x_test, y_train ,y_test = train_test_split(df.drop('Valor', axis=1), df['Valor'], test_size= 0.2 , random_state=19)"
   ]
  },
  {
   "cell_type": "markdown",
   "metadata": {},
   "source": [
    "#### Dummy categories"
   ]
  },
  {
   "cell_type": "code",
   "execution_count": 472,
   "metadata": {},
   "outputs": [],
   "source": [
    "encoderCategoria = OneHotEncoder()"
   ]
  },
  {
   "cell_type": "code",
   "execution_count": 473,
   "metadata": {},
   "outputs": [],
   "source": [
    "categories = encoderCategoria.fit_transform(x_train[['Categoria']])"
   ]
  },
  {
   "cell_type": "code",
   "execution_count": 474,
   "metadata": {},
   "outputs": [],
   "source": [
    "categories = pd.DataFrame(categories.toarray(), columns = encoderCategoria.get_feature_names_out(), index = x_train.index)"
   ]
  },
  {
   "cell_type": "code",
   "execution_count": 475,
   "metadata": {},
   "outputs": [],
   "source": [
    "x_train = x_train.join(categories).drop('Categoria', axis= 1)"
   ]
  },
  {
   "cell_type": "code",
   "execution_count": 476,
   "metadata": {},
   "outputs": [],
   "source": [
    "encoderRegiao = OneHotEncoder()"
   ]
  },
  {
   "cell_type": "code",
   "execution_count": 477,
   "metadata": {},
   "outputs": [],
   "source": [
    "regiao = encoderRegiao.fit_transform(x_train[['Regiao']])"
   ]
  },
  {
   "cell_type": "code",
   "execution_count": 478,
   "metadata": {},
   "outputs": [],
   "source": [
    "regiao = pd.DataFrame(regiao.toarray(), columns= encoderRegiao.get_feature_names_out(), index= x_train.index)"
   ]
  },
  {
   "cell_type": "code",
   "execution_count": 479,
   "metadata": {},
   "outputs": [],
   "source": [
    "x_train = x_train.join(regiao).drop('Regiao', axis = 1)"
   ]
  },
  {
   "cell_type": "code",
   "execution_count": 480,
   "metadata": {},
   "outputs": [],
   "source": [
    "encoderTipo = OneHotEncoder()"
   ]
  },
  {
   "cell_type": "code",
   "execution_count": 481,
   "metadata": {},
   "outputs": [],
   "source": [
    "tipo = encoderTipo.fit_transform(x_train[['TipoClasse']])"
   ]
  },
  {
   "cell_type": "code",
   "execution_count": 482,
   "metadata": {},
   "outputs": [],
   "source": [
    "tipo = pd.DataFrame(tipo.toarray() , columns= encoderTipo.get_feature_names_out(), index = x_train.index)"
   ]
  },
  {
   "cell_type": "code",
   "execution_count": 483,
   "metadata": {},
   "outputs": [],
   "source": [
    "x_train = x_train.join(tipo).drop('TipoClasse', axis = 1)"
   ]
  },
  {
   "cell_type": "markdown",
   "metadata": {},
   "source": [
    "#### Normalizacao"
   ]
  },
  {
   "cell_type": "code",
   "execution_count": 484,
   "metadata": {},
   "outputs": [],
   "source": [
    "from sklearn.preprocessing import StandardScaler"
   ]
  },
  {
   "cell_type": "code",
   "execution_count": 485,
   "metadata": {},
   "outputs": [],
   "source": [
    "norm = StandardScaler()"
   ]
  },
  {
   "cell_type": "code",
   "execution_count": 486,
   "metadata": {},
   "outputs": [],
   "source": [
    "x_train['Area'] = norm.fit_transform(x_train[['Area']])"
   ]
  },
  {
   "cell_type": "code",
   "execution_count": null,
   "metadata": {},
   "outputs": [],
   "source": []
  },
  {
   "cell_type": "markdown",
   "metadata": {},
   "source": [
    "### Modelo"
   ]
  },
  {
   "cell_type": "code",
   "execution_count": 487,
   "metadata": {},
   "outputs": [
    {
     "data": {
      "text/plain": [
       "<AxesSubplot:>"
      ]
     },
     "execution_count": 487,
     "metadata": {},
     "output_type": "execute_result"
    },
    {
     "data": {
      "image/png": "[encoded data removed]",
      "text/plain": [
       "<Figure size 432x288 with 1 Axes>"
      ]
     },
     "metadata": {
      "needs_background": "light"
     },
     "output_type": "display_data"
    }
   ],
   "source": [
    "y_train.hist()"
   ]
  },
  {
   "cell_type": "code",
   "execution_count": 488,
   "metadata": {},
   "outputs": [],
   "source": [
    "y_train = np.log2(y_train)"
   ]
  },
  {
   "cell_type": "code",
   "execution_count": 489,
   "metadata": {},
   "outputs": [
    {
     "data": {
      "text/plain": [
       "<AxesSubplot:>"
      ]
     },
     "execution_count": 489,
     "metadata": {},
     "output_type": "execute_result"
    },
    {
     "data": {
      "image/png": "[encoded data removed]",
      "text/plain": [
       "<Figure size 432x288 with 1 Axes>"
      ]
     },
     "metadata": {
      "needs_background": "light"
     },
     "output_type": "display_data"
    }
   ],
   "source": [
    "y_train.hist()"
   ]
  },
  {
   "cell_type": "code",
   "execution_count": 490,
   "metadata": {},
   "outputs": [],
   "source": [
    "x_train = x_train.select_dtypes(include = np.number)"
   ]
  },
  {
   "cell_type": "code",
   "execution_count": 491,
   "metadata": {},
   "outputs": [],
   "source": [
    "from sklearn.linear_model import LinearRegression"
   ]
  },
  {
   "cell_type": "code",
   "execution_count": 492,
   "metadata": {},
   "outputs": [],
   "source": [
    "regressao = LinearRegression()"
   ]
  },
  {
   "cell_type": "code",
   "execution_count": 493,
   "metadata": {},
   "outputs": [
    {
     "data": {
      "text/plain": [
       "LinearRegression()"
      ]
     },
     "execution_count": 493,
     "metadata": {},
     "output_type": "execute_result"
    }
   ],
   "source": [
    "regressao.fit(x_train, y_train)"
   ]
  },
  {
   "cell_type": "code",
   "execution_count": 494,
   "metadata": {},
   "outputs": [
    {
     "data": {
      "text/plain": [
       "0.7656741694523388"
      ]
     },
     "execution_count": 494,
     "metadata": {},
     "output_type": "execute_result"
    }
   ],
   "source": [
    "regressao.score(x_train, y_train)"
   ]
  },
  {
   "cell_type": "code",
   "execution_count": 496,
   "metadata": {},
   "outputs": [
    {
     "data": {
      "text/plain": [
       "<AxesSubplot:xlabel='Valor', ylabel='Quartos'>"
      ]
     },
     "execution_count": 496,
     "metadata": {},
     "output_type": "execute_result"
    },
    {
     "data": {
      "image/png": "[encoded data removed]",
      "text/plain": [
       "<Figure size 432x288 with 1 Axes>"
      ]
     },
     "metadata": {
      "needs_background": "light"
     },
     "output_type": "display_data"
    }
   ],
   "source": [
    "df.plot(kind = 'scatter' , x='Valor' , y='Quartos')"
   ]
  },
  {
   "cell_type": "code",
   "execution_count": 497,
   "metadata": {},
   "outputs": [
    {
     "data": {
      "text/html": [
       "<div>\n",
       "<style scoped>\n",
       "    .dataframe tbody tr th:only-of-type {\n",
       "        vertical-align: middle;\n",
       "    }\n",
       "\n",
       "    .dataframe tbody tr th {\n",
       "        vertical-align: top;\n",
       "    }\n",
       "\n",
       "    .dataframe thead th {\n",
       "        text-align: right;\n",
       "    }\n",
       "</style>\n",
       "<table border=\"1\" class=\"dataframe\">\n",
       "  <thead>\n",
       "    <tr style=\"text-align: right;\">\n",
       "      <th></th>\n",
       "      <th>Valor</th>\n",
       "      <th>Banheiros</th>\n",
       "      <th>Vagas na garagem</th>\n",
       "      <th>Area</th>\n",
       "      <th>Area2</th>\n",
       "      <th>Banheiro Por Quartos</th>\n",
       "    </tr>\n",
       "    <tr>\n",
       "      <th>Quartos</th>\n",
       "      <th></th>\n",
       "      <th></th>\n",
       "      <th></th>\n",
       "      <th></th>\n",
       "      <th></th>\n",
       "      <th></th>\n",
       "    </tr>\n",
       "  </thead>\n",
       "  <tbody>\n",
       "    <tr>\n",
       "      <th>1</th>\n",
       "      <td>344,279.0122699387</td>\n",
       "      <td>1.0552147239</td>\n",
       "      <td>0.9325153374</td>\n",
       "      <td>70.8773006135</td>\n",
       "      <td>7.1668153186</td>\n",
       "      <td>1.0552147239</td>\n",
       "    </tr>\n",
       "    <tr>\n",
       "      <th>2</th>\n",
       "      <td>484,519.3548972189</td>\n",
       "      <td>1.6390568319</td>\n",
       "      <td>1.1559854897</td>\n",
       "      <td>80.2351874244</td>\n",
       "      <td>8.7616330488</td>\n",
       "      <td>0.8195284160</td>\n",
       "    </tr>\n",
       "    <tr>\n",
       "      <th>3</th>\n",
       "      <td>775,296.7878302642</td>\n",
       "      <td>2.2634107286</td>\n",
       "      <td>1.6461168935</td>\n",
       "      <td>125.7790232186</td>\n",
       "      <td>10.8962189326</td>\n",
       "      <td>0.7544702429</td>\n",
       "    </tr>\n",
       "    <tr>\n",
       "      <th>4</th>\n",
       "      <td>1,950,776.8995305165</td>\n",
       "      <td>3.6018779343</td>\n",
       "      <td>2.6328638498</td>\n",
       "      <td>239.3887323944</td>\n",
       "      <td>14.9954794400</td>\n",
       "      <td>0.9004694836</td>\n",
       "    </tr>\n",
       "    <tr>\n",
       "      <th>5</th>\n",
       "      <td>2,485,620.6931818184</td>\n",
       "      <td>4.2575757576</td>\n",
       "      <td>2.9659090909</td>\n",
       "      <td>433.3409090909</td>\n",
       "      <td>20.2631055027</td>\n",
       "      <td>0.8515151515</td>\n",
       "    </tr>\n",
       "  </tbody>\n",
       "</table>\n",
       "</div>"
      ],
      "text/plain": [
       "                       Valor    Banheiros  Vagas na garagem           Area  \\\n",
       "Quartos                                                                      \n",
       "1         344,279.0122699387 1.0552147239      0.9325153374  70.8773006135   \n",
       "2         484,519.3548972189 1.6390568319      1.1559854897  80.2351874244   \n",
       "3         775,296.7878302642 2.2634107286      1.6461168935 125.7790232186   \n",
       "4       1,950,776.8995305165 3.6018779343      2.6328638498 239.3887323944   \n",
       "5       2,485,620.6931818184 4.2575757576      2.9659090909 433.3409090909   \n",
       "\n",
       "                Area2  Banheiro Por Quartos  \n",
       "Quartos                                      \n",
       "1        7.1668153186          1.0552147239  \n",
       "2        8.7616330488          0.8195284160  \n",
       "3       10.8962189326          0.7544702429  \n",
       "4       14.9954794400          0.9004694836  \n",
       "5       20.2631055027          0.8515151515  "
      ]
     },
     "execution_count": 497,
     "metadata": {},
     "output_type": "execute_result"
    }
   ],
   "source": [
    "df.groupby('Quartos').mean()"
   ]
  },
  {
   "cell_type": "markdown",
   "metadata": {},
   "source": [
    "#### Validação"
   ]
  },
  {
   "cell_type": "code",
   "execution_count": 498,
   "metadata": {},
   "outputs": [],
   "source": [
    "categories = encoderCategoria.transform(x_test[['Categoria']])"
   ]
  },
  {
   "cell_type": "code",
   "execution_count": 499,
   "metadata": {},
   "outputs": [],
   "source": [
    "categories = pd.DataFrame(categories.toarray(), columns= encoderCategoria.get_feature_names_out(), index = x_test.index)"
   ]
  },
  {
   "cell_type": "code",
   "execution_count": 500,
   "metadata": {},
   "outputs": [],
   "source": [
    "x_test = x_test.join(categories).drop('Categoria', axis = 1)"
   ]
  },
  {
   "cell_type": "code",
   "execution_count": 501,
   "metadata": {},
   "outputs": [],
   "source": [
    "regioes = pd.DataFrame(encoderRegiao.transform(x_test[['Regiao']]).toarray() , columns = encoderRegiao.get_feature_names_out(), index =x_test.index)"
   ]
  },
  {
   "cell_type": "code",
   "execution_count": 502,
   "metadata": {},
   "outputs": [],
   "source": [
    "x_test = x_test.join(regioes).drop('Regiao', axis =1)"
   ]
  },
  {
   "cell_type": "code",
   "execution_count": 503,
   "metadata": {},
   "outputs": [],
   "source": [
    "tipo = pd.DataFrame(encoderTipo.transform(x_test[['TipoClasse']]).toarray() , columns = encoderTipo.get_feature_names_out(), index =x_test.index)"
   ]
  },
  {
   "cell_type": "code",
   "execution_count": 504,
   "metadata": {},
   "outputs": [],
   "source": [
    "x_test = x_test.join(tipo).drop(['Tipo','TipoClasse'], axis =1)"
   ]
  },
  {
   "cell_type": "code",
   "execution_count": 505,
   "metadata": {},
   "outputs": [],
   "source": [
    "x_test['Area'] = norm.transform(x_test[['Area']])"
   ]
  },
  {
   "cell_type": "code",
   "execution_count": 506,
   "metadata": {},
   "outputs": [],
   "source": [
    "x_test = x_test.select_dtypes(include = np.number)\n",
    "y_test = np.log2(y_test)"
   ]
  },
  {
   "cell_type": "code",
   "execution_count": 507,
   "metadata": {},
   "outputs": [
    {
     "data": {
      "text/plain": [
       "0.7620480618798642"
      ]
     },
     "execution_count": 507,
     "metadata": {},
     "output_type": "execute_result"
    }
   ],
   "source": [
    "regressao.score(x_test, y_test)"
   ]
  },
  {
   "cell_type": "code",
   "execution_count": 508,
   "metadata": {},
   "outputs": [],
   "source": [
    "from sklearn.model_selection import cross_val_score"
   ]
  },
  {
   "cell_type": "code",
   "execution_count": 509,
   "metadata": {},
   "outputs": [],
   "source": [
    "testes = cross_val_score(regressao , x_train, y_train, cv = 100)"
   ]
  },
  {
   "cell_type": "code",
   "execution_count": 510,
   "metadata": {},
   "outputs": [
    {
     "data": {
      "text/plain": [
       "[75.50293745734864, 7.476406361012636]"
      ]
     },
     "execution_count": 510,
     "metadata": {},
     "output_type": "execute_result"
    }
   ],
   "source": [
    "[testes.mean()*100, testes.std()*100]"
   ]
  },
  {
   "cell_type": "code",
   "execution_count": 511,
   "metadata": {},
   "outputs": [
    {
     "data": {
      "text/plain": [
       "Regiao_Zona Leste         0.9896420806\n",
       "Regiao_Jardim da Penha    0.7670185679\n",
       "Regiao_Jardim Camburi     0.5835443218\n",
       "Regiao_Jucutuquara        0.3128304199\n",
       "Vagas na garagem          0.3008868115\n",
       "Quartos                   0.2643700667\n",
       "TipoClasse_Classe A       0.2182271064\n",
       "Banheiro Por Quartos      0.2043632750\n",
       "Categoria_Apartamentos    0.1945933202\n",
       "Area2                     0.1426339752\n",
       "Banheiros                 0.1010294079\n",
       "Regiao_Zona Norte        -0.0632832809\n",
       "Categoria_Casas          -0.1945933202\n",
       "TipoClasse_Classe B      -0.2182271064\n",
       "Area                     -0.2980971702\n",
       "Regiao_Zona Sul          -0.3636122047\n",
       "Regiao_Maruípe           -0.3767083805\n",
       "Regiao_Santo Antônio     -0.3876570608\n",
       "Regiao_Zona Oeste        -1.4617744633\n",
       "dtype: float64"
      ]
     },
     "execution_count": 511,
     "metadata": {},
     "output_type": "execute_result"
    }
   ],
   "source": [
    "pd.Series(regressao.coef_  , index = x_train.columns).sort_values(ascending= False)"
   ]
  },
  {
   "cell_type": "code",
   "execution_count": 512,
   "metadata": {},
   "outputs": [],
   "source": [
    "y_predict = regressao.predict(x_test)"
   ]
  },
  {
   "cell_type": "code",
   "execution_count": 513,
   "metadata": {},
   "outputs": [],
   "source": [
    "from sklearn.metrics import median_absolute_error, mean_squared_error, r2_score"
   ]
  },
  {
   "cell_type": "code",
   "execution_count": 514,
   "metadata": {},
   "outputs": [
    {
     "data": {
      "text/plain": [
       "0.7620480618798642"
      ]
     },
     "execution_count": 514,
     "metadata": {},
     "output_type": "execute_result"
    }
   ],
   "source": [
    "r2_score(y_test, y_predict)"
   ]
  },
  {
   "cell_type": "code",
   "execution_count": 515,
   "metadata": {},
   "outputs": [
    {
     "data": {
      "text/plain": [
       "4793   20.4169953965\n",
       "2839   17.6800298023\n",
       "75     21.4169953965\n",
       "2742   18.7795654759\n",
       "111    18.0950673016\n",
       "            ...     \n",
       "6169   20.3100801926\n",
       "4033   19.1456933747\n",
       "192    20.6971033157\n",
       "3107   18.8726748803\n",
       "5563   20.6540345938\n",
       "Name: Valor, Length: 1129, dtype: float64"
      ]
     },
     "execution_count": 515,
     "metadata": {},
     "output_type": "execute_result"
    }
   ],
   "source": [
    "y_test"
   ]
  },
  {
   "cell_type": "code",
   "execution_count": 516,
   "metadata": {},
   "outputs": [],
   "source": [
    "y_predict2 = 2**y_predict"
   ]
  },
  {
   "cell_type": "code",
   "execution_count": 517,
   "metadata": {},
   "outputs": [],
   "source": [
    "y_test2 = 2**y_test"
   ]
  },
  {
   "cell_type": "code",
   "execution_count": 518,
   "metadata": {},
   "outputs": [
    {
     "data": {
      "text/plain": [
       "0.7121735605870149"
      ]
     },
     "execution_count": 518,
     "metadata": {},
     "output_type": "execute_result"
    }
   ],
   "source": [
    "r2_score(y_test2, y_predict2)"
   ]
  },
  {
   "cell_type": "code",
   "execution_count": 519,
   "metadata": {},
   "outputs": [
    {
     "data": {
      "text/html": [
       "<div>\n",
       "<style scoped>\n",
       "    .dataframe tbody tr th:only-of-type {\n",
       "        vertical-align: middle;\n",
       "    }\n",
       "\n",
       "    .dataframe tbody tr th {\n",
       "        vertical-align: top;\n",
       "    }\n",
       "\n",
       "    .dataframe thead th {\n",
       "        text-align: right;\n",
       "    }\n",
       "</style>\n",
       "<table border=\"1\" class=\"dataframe\">\n",
       "  <thead>\n",
       "    <tr style=\"text-align: right;\">\n",
       "      <th></th>\n",
       "      <th>Quartos</th>\n",
       "      <th>Banheiros</th>\n",
       "      <th>Vagas na garagem</th>\n",
       "      <th>Area</th>\n",
       "      <th>Area2</th>\n",
       "      <th>Banheiro Por Quartos</th>\n",
       "      <th>Categoria_Apartamentos</th>\n",
       "      <th>Categoria_Casas</th>\n",
       "      <th>Regiao_Jardim Camburi</th>\n",
       "      <th>Regiao_Jardim da Penha</th>\n",
       "      <th>Regiao_Jucutuquara</th>\n",
       "      <th>Regiao_Maruípe</th>\n",
       "      <th>Regiao_Santo Antônio</th>\n",
       "      <th>Regiao_Zona Leste</th>\n",
       "      <th>Regiao_Zona Norte</th>\n",
       "      <th>Regiao_Zona Oeste</th>\n",
       "      <th>Regiao_Zona Sul</th>\n",
       "      <th>TipoClasse_Classe A</th>\n",
       "      <th>TipoClasse_Classe B</th>\n",
       "    </tr>\n",
       "  </thead>\n",
       "  <tbody>\n",
       "    <tr>\n",
       "      <th>4793</th>\n",
       "      <td>4</td>\n",
       "      <td>4</td>\n",
       "      <td>3</td>\n",
       "      <td>0.1474118845</td>\n",
       "      <td>12.9614813968</td>\n",
       "      <td>1.0000000000</td>\n",
       "      <td>1.0000000000</td>\n",
       "      <td>0.0000000000</td>\n",
       "      <td>1.0000000000</td>\n",
       "      <td>0.0000000000</td>\n",
       "      <td>0.0000000000</td>\n",
       "      <td>0.0000000000</td>\n",
       "      <td>0.0000000000</td>\n",
       "      <td>0.0000000000</td>\n",
       "      <td>0.0000000000</td>\n",
       "      <td>0.0000000000</td>\n",
       "      <td>0.0000000000</td>\n",
       "      <td>1.0000000000</td>\n",
       "      <td>0.0000000000</td>\n",
       "    </tr>\n",
       "    <tr>\n",
       "      <th>2839</th>\n",
       "      <td>2</td>\n",
       "      <td>1</td>\n",
       "      <td>1</td>\n",
       "      <td>-0.6007671190</td>\n",
       "      <td>7.8102496759</td>\n",
       "      <td>0.5000000000</td>\n",
       "      <td>1.0000000000</td>\n",
       "      <td>0.0000000000</td>\n",
       "      <td>1.0000000000</td>\n",
       "      <td>0.0000000000</td>\n",
       "      <td>0.0000000000</td>\n",
       "      <td>0.0000000000</td>\n",
       "      <td>0.0000000000</td>\n",
       "      <td>0.0000000000</td>\n",
       "      <td>0.0000000000</td>\n",
       "      <td>0.0000000000</td>\n",
       "      <td>0.0000000000</td>\n",
       "      <td>0.0000000000</td>\n",
       "      <td>1.0000000000</td>\n",
       "    </tr>\n",
       "    <tr>\n",
       "      <th>75</th>\n",
       "      <td>5</td>\n",
       "      <td>5</td>\n",
       "      <td>3</td>\n",
       "      <td>1.1892686275</td>\n",
       "      <td>17.8044938148</td>\n",
       "      <td>1.0000000000</td>\n",
       "      <td>0.0000000000</td>\n",
       "      <td>1.0000000000</td>\n",
       "      <td>0.0000000000</td>\n",
       "      <td>1.0000000000</td>\n",
       "      <td>0.0000000000</td>\n",
       "      <td>0.0000000000</td>\n",
       "      <td>0.0000000000</td>\n",
       "      <td>0.0000000000</td>\n",
       "      <td>0.0000000000</td>\n",
       "      <td>0.0000000000</td>\n",
       "      <td>0.0000000000</td>\n",
       "      <td>1.0000000000</td>\n",
       "      <td>0.0000000000</td>\n",
       "    </tr>\n",
       "    <tr>\n",
       "      <th>2742</th>\n",
       "      <td>2</td>\n",
       "      <td>2</td>\n",
       "      <td>2</td>\n",
       "      <td>-0.2511507622</td>\n",
       "      <td>10.5356537529</td>\n",
       "      <td>1.0000000000</td>\n",
       "      <td>1.0000000000</td>\n",
       "      <td>0.0000000000</td>\n",
       "      <td>0.0000000000</td>\n",
       "      <td>0.0000000000</td>\n",
       "      <td>0.0000000000</td>\n",
       "      <td>1.0000000000</td>\n",
       "      <td>0.0000000000</td>\n",
       "      <td>0.0000000000</td>\n",
       "      <td>0.0000000000</td>\n",
       "      <td>0.0000000000</td>\n",
       "      <td>0.0000000000</td>\n",
       "      <td>1.0000000000</td>\n",
       "      <td>0.0000000000</td>\n",
       "    </tr>\n",
       "    <tr>\n",
       "      <th>111</th>\n",
       "      <td>3</td>\n",
       "      <td>2</td>\n",
       "      <td>2</td>\n",
       "      <td>-0.2441584351</td>\n",
       "      <td>10.5830052443</td>\n",
       "      <td>0.6666666667</td>\n",
       "      <td>0.0000000000</td>\n",
       "      <td>1.0000000000</td>\n",
       "      <td>0.0000000000</td>\n",
       "      <td>0.0000000000</td>\n",
       "      <td>0.0000000000</td>\n",
       "      <td>0.0000000000</td>\n",
       "      <td>0.0000000000</td>\n",
       "      <td>0.0000000000</td>\n",
       "      <td>1.0000000000</td>\n",
       "      <td>0.0000000000</td>\n",
       "      <td>0.0000000000</td>\n",
       "      <td>0.0000000000</td>\n",
       "      <td>1.0000000000</td>\n",
       "    </tr>\n",
       "    <tr>\n",
       "      <th>...</th>\n",
       "      <td>...</td>\n",
       "      <td>...</td>\n",
       "      <td>...</td>\n",
       "      <td>...</td>\n",
       "      <td>...</td>\n",
       "      <td>...</td>\n",
       "      <td>...</td>\n",
       "      <td>...</td>\n",
       "      <td>...</td>\n",
       "      <td>...</td>\n",
       "      <td>...</td>\n",
       "      <td>...</td>\n",
       "      <td>...</td>\n",
       "      <td>...</td>\n",
       "      <td>...</td>\n",
       "      <td>...</td>\n",
       "      <td>...</td>\n",
       "      <td>...</td>\n",
       "      <td>...</td>\n",
       "    </tr>\n",
       "    <tr>\n",
       "      <th>6169</th>\n",
       "      <td>3</td>\n",
       "      <td>3</td>\n",
       "      <td>2</td>\n",
       "      <td>-0.1252888738</td>\n",
       "      <td>11.3578166916</td>\n",
       "      <td>1.0000000000</td>\n",
       "      <td>1.0000000000</td>\n",
       "      <td>0.0000000000</td>\n",
       "      <td>0.0000000000</td>\n",
       "      <td>0.0000000000</td>\n",
       "      <td>0.0000000000</td>\n",
       "      <td>0.0000000000</td>\n",
       "      <td>0.0000000000</td>\n",
       "      <td>1.0000000000</td>\n",
       "      <td>0.0000000000</td>\n",
       "      <td>0.0000000000</td>\n",
       "      <td>0.0000000000</td>\n",
       "      <td>0.0000000000</td>\n",
       "      <td>1.0000000000</td>\n",
       "    </tr>\n",
       "    <tr>\n",
       "      <th>4033</th>\n",
       "      <td>2</td>\n",
       "      <td>3</td>\n",
       "      <td>1</td>\n",
       "      <td>-0.5378361747</td>\n",
       "      <td>8.3666002653</td>\n",
       "      <td>1.5000000000</td>\n",
       "      <td>1.0000000000</td>\n",
       "      <td>0.0000000000</td>\n",
       "      <td>0.0000000000</td>\n",
       "      <td>1.0000000000</td>\n",
       "      <td>0.0000000000</td>\n",
       "      <td>0.0000000000</td>\n",
       "      <td>0.0000000000</td>\n",
       "      <td>0.0000000000</td>\n",
       "      <td>0.0000000000</td>\n",
       "      <td>0.0000000000</td>\n",
       "      <td>0.0000000000</td>\n",
       "      <td>0.0000000000</td>\n",
       "      <td>1.0000000000</td>\n",
       "    </tr>\n",
       "    <tr>\n",
       "      <th>192</th>\n",
       "      <td>4</td>\n",
       "      <td>5</td>\n",
       "      <td>2</td>\n",
       "      <td>1.2801688803</td>\n",
       "      <td>18.1659021246</td>\n",
       "      <td>1.2500000000</td>\n",
       "      <td>0.0000000000</td>\n",
       "      <td>1.0000000000</td>\n",
       "      <td>0.0000000000</td>\n",
       "      <td>1.0000000000</td>\n",
       "      <td>0.0000000000</td>\n",
       "      <td>0.0000000000</td>\n",
       "      <td>0.0000000000</td>\n",
       "      <td>0.0000000000</td>\n",
       "      <td>0.0000000000</td>\n",
       "      <td>0.0000000000</td>\n",
       "      <td>0.0000000000</td>\n",
       "      <td>0.0000000000</td>\n",
       "      <td>1.0000000000</td>\n",
       "    </tr>\n",
       "    <tr>\n",
       "      <th>3107</th>\n",
       "      <td>4</td>\n",
       "      <td>3</td>\n",
       "      <td>1</td>\n",
       "      <td>0.3222200628</td>\n",
       "      <td>13.8924439894</td>\n",
       "      <td>0.7500000000</td>\n",
       "      <td>1.0000000000</td>\n",
       "      <td>0.0000000000</td>\n",
       "      <td>0.0000000000</td>\n",
       "      <td>0.0000000000</td>\n",
       "      <td>0.0000000000</td>\n",
       "      <td>0.0000000000</td>\n",
       "      <td>0.0000000000</td>\n",
       "      <td>0.0000000000</td>\n",
       "      <td>0.0000000000</td>\n",
       "      <td>0.0000000000</td>\n",
       "      <td>1.0000000000</td>\n",
       "      <td>0.0000000000</td>\n",
       "      <td>1.0000000000</td>\n",
       "    </tr>\n",
       "    <tr>\n",
       "      <th>5563</th>\n",
       "      <td>3</td>\n",
       "      <td>3</td>\n",
       "      <td>2</td>\n",
       "      <td>-0.2721277436</td>\n",
       "      <td>10.3923048454</td>\n",
       "      <td>1.0000000000</td>\n",
       "      <td>1.0000000000</td>\n",
       "      <td>0.0000000000</td>\n",
       "      <td>0.0000000000</td>\n",
       "      <td>0.0000000000</td>\n",
       "      <td>0.0000000000</td>\n",
       "      <td>0.0000000000</td>\n",
       "      <td>0.0000000000</td>\n",
       "      <td>1.0000000000</td>\n",
       "      <td>0.0000000000</td>\n",
       "      <td>0.0000000000</td>\n",
       "      <td>0.0000000000</td>\n",
       "      <td>0.0000000000</td>\n",
       "      <td>1.0000000000</td>\n",
       "    </tr>\n",
       "  </tbody>\n",
       "</table>\n",
       "<p>1129 rows × 19 columns</p>\n",
       "</div>"
      ],
      "text/plain": [
       "      Quartos  Banheiros  Vagas na garagem          Area         Area2  \\\n",
       "4793        4          4                 3  0.1474118845 12.9614813968   \n",
       "2839        2          1                 1 -0.6007671190  7.8102496759   \n",
       "75          5          5                 3  1.1892686275 17.8044938148   \n",
       "2742        2          2                 2 -0.2511507622 10.5356537529   \n",
       "111         3          2                 2 -0.2441584351 10.5830052443   \n",
       "...       ...        ...               ...           ...           ...   \n",
       "6169        3          3                 2 -0.1252888738 11.3578166916   \n",
       "4033        2          3                 1 -0.5378361747  8.3666002653   \n",
       "192         4          5                 2  1.2801688803 18.1659021246   \n",
       "3107        4          3                 1  0.3222200628 13.8924439894   \n",
       "5563        3          3                 2 -0.2721277436 10.3923048454   \n",
       "\n",
       "      Banheiro Por Quartos  Categoria_Apartamentos  Categoria_Casas  \\\n",
       "4793          1.0000000000            1.0000000000     0.0000000000   \n",
       "2839          0.5000000000            1.0000000000     0.0000000000   \n",
       "75            1.0000000000            0.0000000000     1.0000000000   \n",
       "2742          1.0000000000            1.0000000000     0.0000000000   \n",
       "111           0.6666666667            0.0000000000     1.0000000000   \n",
       "...                    ...                     ...              ...   \n",
       "6169          1.0000000000            1.0000000000     0.0000000000   \n",
       "4033          1.5000000000            1.0000000000     0.0000000000   \n",
       "192           1.2500000000            0.0000000000     1.0000000000   \n",
       "3107          0.7500000000            1.0000000000     0.0000000000   \n",
       "5563          1.0000000000            1.0000000000     0.0000000000   \n",
       "\n",
       "      Regiao_Jardim Camburi  Regiao_Jardim da Penha  Regiao_Jucutuquara  \\\n",
       "4793           1.0000000000            0.0000000000        0.0000000000   \n",
       "2839           1.0000000000            0.0000000000        0.0000000000   \n",
       "75             0.0000000000            1.0000000000        0.0000000000   \n",
       "2742           0.0000000000            0.0000000000        0.0000000000   \n",
       "111            0.0000000000            0.0000000000        0.0000000000   \n",
       "...                     ...                     ...                 ...   \n",
       "6169           0.0000000000            0.0000000000        0.0000000000   \n",
       "4033           0.0000000000            1.0000000000        0.0000000000   \n",
       "192            0.0000000000            1.0000000000        0.0000000000   \n",
       "3107           0.0000000000            0.0000000000        0.0000000000   \n",
       "5563           0.0000000000            0.0000000000        0.0000000000   \n",
       "\n",
       "      Regiao_Maruípe  Regiao_Santo Antônio  Regiao_Zona Leste  \\\n",
       "4793    0.0000000000          0.0000000000       0.0000000000   \n",
       "2839    0.0000000000          0.0000000000       0.0000000000   \n",
       "75      0.0000000000          0.0000000000       0.0000000000   \n",
       "2742    1.0000000000          0.0000000000       0.0000000000   \n",
       "111     0.0000000000          0.0000000000       0.0000000000   \n",
       "...              ...                   ...                ...   \n",
       "6169    0.0000000000          0.0000000000       1.0000000000   \n",
       "4033    0.0000000000          0.0000000000       0.0000000000   \n",
       "192     0.0000000000          0.0000000000       0.0000000000   \n",
       "3107    0.0000000000          0.0000000000       0.0000000000   \n",
       "5563    0.0000000000          0.0000000000       1.0000000000   \n",
       "\n",
       "      Regiao_Zona Norte  Regiao_Zona Oeste  Regiao_Zona Sul  \\\n",
       "4793       0.0000000000       0.0000000000     0.0000000000   \n",
       "2839       0.0000000000       0.0000000000     0.0000000000   \n",
       "75         0.0000000000       0.0000000000     0.0000000000   \n",
       "2742       0.0000000000       0.0000000000     0.0000000000   \n",
       "111        1.0000000000       0.0000000000     0.0000000000   \n",
       "...                 ...                ...              ...   \n",
       "6169       0.0000000000       0.0000000000     0.0000000000   \n",
       "4033       0.0000000000       0.0000000000     0.0000000000   \n",
       "192        0.0000000000       0.0000000000     0.0000000000   \n",
       "3107       0.0000000000       0.0000000000     1.0000000000   \n",
       "5563       0.0000000000       0.0000000000     0.0000000000   \n",
       "\n",
       "      TipoClasse_Classe A  TipoClasse_Classe B  \n",
       "4793         1.0000000000         0.0000000000  \n",
       "2839         0.0000000000         1.0000000000  \n",
       "75           1.0000000000         0.0000000000  \n",
       "2742         1.0000000000         0.0000000000  \n",
       "111          0.0000000000         1.0000000000  \n",
       "...                   ...                  ...  \n",
       "6169         0.0000000000         1.0000000000  \n",
       "4033         0.0000000000         1.0000000000  \n",
       "192          0.0000000000         1.0000000000  \n",
       "3107         0.0000000000         1.0000000000  \n",
       "5563         0.0000000000         1.0000000000  \n",
       "\n",
       "[1129 rows x 19 columns]"
      ]
     },
     "execution_count": 519,
     "metadata": {},
     "output_type": "execute_result"
    }
   ],
   "source": [
    "x_test"
   ]
  },
  {
   "cell_type": "code",
   "execution_count": 520,
   "metadata": {},
   "outputs": [
    {
     "data": {
      "text/plain": [
       "0.1508627600385308"
      ]
     },
     "execution_count": 520,
     "metadata": {},
     "output_type": "execute_result"
    }
   ],
   "source": [
    "median_absolute_error(y_test2, y_predict2) / y_test2.mean()"
   ]
  },
  {
   "cell_type": "code",
   "execution_count": 521,
   "metadata": {},
   "outputs": [
    {
     "data": {
      "text/plain": [
       "891764.5945882989"
      ]
     },
     "execution_count": 521,
     "metadata": {},
     "output_type": "execute_result"
    }
   ],
   "source": [
    "y_predict2.mean()"
   ]
  },
  {
   "cell_type": "code",
   "execution_count": null,
   "metadata": {},
   "outputs": [],
   "source": []
  }
 ],
 "metadata": {
  "interpreter": {
   "hash": "18e03f19e2eea32137bb6b7634899948883c996f0eeacfc3548045b6b15590e6"
  },
  "kernelspec": {
   "display_name": "Python 3.7.4 64-bit ('base': conda)",
   "language": "python",
   "name": "python3"
  },
  "language_info": {
   "codemirror_mode": {
    "name": "ipython",
    "version": 3
   },
   "file_extension": ".py",
   "mimetype": "text/x-python",
   "name": "python",
   "nbconvert_exporter": "python",
   "pygments_lexer": "ipython3",
   "version": "3.7.4"
  },
  "orig_nbformat": 4
 },
 "nbformat": 4,
 "nbformat_minor": 2
}
