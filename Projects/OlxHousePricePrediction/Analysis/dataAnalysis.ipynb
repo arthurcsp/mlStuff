{
 "cells": [
  {
   "cell_type": "code",
   "execution_count": 806,
   "metadata": {},
   "outputs": [],
   "source": [
    "import pandas as pd \n",
    "import matplotlib.pyplot as plt \n",
    "pd.options.display.float_format = '{:,.4f}'.format\n",
    "import warnings\n",
    "warnings.simplefilter(action='ignore', category=FutureWarning)\n",
    "import numpy as np "
   ]
  },
  {
   "cell_type": "markdown",
   "metadata": {},
   "source": [
    "# Carga"
   ]
  },
  {
   "cell_type": "code",
   "execution_count": 807,
   "metadata": {},
   "outputs": [],
   "source": [
    "vixCasa = pd.read_csv(r'C:\\Users\\arthu\\OneDrive\\Projetos\\0-GitHub\\mlStuff\\Projects\\OlxHousePricePrediction\\Extraction\\data\\vixCasas.csv' , encoding='utf-16', sep='|')"
   ]
  },
  {
   "cell_type": "code",
   "execution_count": 808,
   "metadata": {},
   "outputs": [],
   "source": [
    "vixApp = pd.read_csv(r'C:\\Users\\arthu\\OneDrive\\Projetos\\0-GitHub\\mlStuff\\Projects\\OlxHousePricePrediction\\Extraction\\data\\vixApartamentos.csv' , encoding='utf-16', sep='|')"
   ]
  },
  {
   "cell_type": "code",
   "execution_count": 809,
   "metadata": {},
   "outputs": [],
   "source": [
    "df = pd.concat([vixCasa, vixApp], ignore_index=True)"
   ]
  },
  {
   "cell_type": "code",
   "execution_count": 810,
   "metadata": {},
   "outputs": [],
   "source": [
    "df = df.drop_duplicates(subset=(['Codigo']))"
   ]
  },
  {
   "cell_type": "markdown",
   "metadata": {},
   "source": [
    "# Tratamento de dados"
   ]
  },
  {
   "cell_type": "markdown",
   "metadata": {},
   "source": [
    "### Alterando tipo de dados"
   ]
  },
  {
   "cell_type": "code",
   "execution_count": 811,
   "metadata": {},
   "outputs": [],
   "source": [
    "df['Valor']= df['Valor'].map(lambda x : str(x).replace('R$ ','').replace('.','')).astype(float)"
   ]
  },
  {
   "cell_type": "code",
   "execution_count": 812,
   "metadata": {},
   "outputs": [],
   "source": [
    "df['Área útil'] =  df['Área útil'].map(lambda x : str(x).replace('m²' ,'')).astype(float)\n",
    "df['Área construída'] = df['Área construída'].map(lambda x : str(x).replace('m²' ,'')).astype(float)\n",
    "df['Area'] = df['Área útil'].fillna(df['Área construída'])"
   ]
  },
  {
   "cell_type": "code",
   "execution_count": 813,
   "metadata": {},
   "outputs": [],
   "source": [
    "df['Quartos'] = df['Quartos'].map(lambda x : 5 if x=='5 ou mais' else int(x))\n",
    "df['Banheiros'] = df['Banheiros'].fillna(0).map(lambda x : 5 if x=='5 ou mais' else int(x))\n",
    "df['Vagas na garagem'] = df['Vagas na garagem'].fillna(0).map(lambda x : 5 if x=='5 ou mais' else int(x))"
   ]
  },
  {
   "cell_type": "code",
   "execution_count": 814,
   "metadata": {},
   "outputs": [],
   "source": [
    "df.drop(['Link','Descricao','Área útil' , 'Área construída', 'Page' ,'Detalhes do imóvel', 'Condomínio', 'IPTU',\n",
    "       'Detalhes do condominio', 'Logradouro','CEP', 'Município', 'Codigo','Tipo'] , axis=1, inplace=True)"
   ]
  },
  {
   "cell_type": "code",
   "execution_count": 815,
   "metadata": {},
   "outputs": [],
   "source": [
    "df = df[df['Banheiros'] >0]\n",
    "df = df[df['Quartos'] >0]"
   ]
  },
  {
   "cell_type": "markdown",
   "metadata": {},
   "source": [
    "### Análise e remoção de outliers"
   ]
  },
  {
   "cell_type": "code",
   "execution_count": 816,
   "metadata": {},
   "outputs": [],
   "source": [
    "def fncCalculaLimites(x):\n",
    "    return x.quantile(0.75) + x.std()*1.5 , x.quantile(0.25) - x.std()*1.5 "
   ]
  },
  {
   "cell_type": "markdown",
   "metadata": {},
   "source": [
    "##### Valor"
   ]
  },
  {
   "cell_type": "code",
   "execution_count": 817,
   "metadata": {},
   "outputs": [
    {
     "data": {
      "image/png": "[encoded data removed]",
      "text/plain": [
       "<Figure size 2880x720 with 2 Axes>"
      ]
     },
     "metadata": {
      "needs_background": "light"
     },
     "output_type": "display_data"
    }
   ],
   "source": [
    "plt.figure(figsize=(40,10))\n",
    "plt.subplot(1,2,1)\n",
    "plt.ticklabel_format(style = 'plain')\n",
    "df['Valor'].hist(bins= 30)\n",
    "\n",
    "plt.subplot(1,2,2)\n",
    "df['Valor'].plot(kind = 'box')\n",
    "plt.show()"
   ]
  },
  {
   "cell_type": "code",
   "execution_count": 818,
   "metadata": {},
   "outputs": [
    {
     "data": {
      "text/plain": [
       "(22.73632578144708, 15.375346193339947)"
      ]
     },
     "execution_count": 818,
     "metadata": {},
     "output_type": "execute_result"
    }
   ],
   "source": [
    "fncCalculaLimites(np.log2(df[df['Valor']>0]['Valor']))"
   ]
  },
  {
   "cell_type": "code",
   "execution_count": 819,
   "metadata": {},
   "outputs": [
    {
     "data": {
      "text/plain": [
       "<AxesSubplot:>"
      ]
     },
     "execution_count": 819,
     "metadata": {},
     "output_type": "execute_result"
    },
    {
     "data": {
      "image/png": "[encoded data removed]",
      "text/plain": [
       "<Figure size 432x288 with 1 Axes>"
      ]
     },
     "metadata": {
      "needs_background": "light"
     },
     "output_type": "display_data"
    }
   ],
   "source": [
    "np.log2(df[df['Valor']>0]['Valor']).hist()"
   ]
  },
  {
   "cell_type": "code",
   "execution_count": 820,
   "metadata": {},
   "outputs": [
    {
     "data": {
      "text/html": [
       "<div>\n",
       "<style scoped>\n",
       "    .dataframe tbody tr th:only-of-type {\n",
       "        vertical-align: middle;\n",
       "    }\n",
       "\n",
       "    .dataframe tbody tr th {\n",
       "        vertical-align: top;\n",
       "    }\n",
       "\n",
       "    .dataframe thead th {\n",
       "        text-align: right;\n",
       "    }\n",
       "</style>\n",
       "<table border=\"1\" class=\"dataframe\">\n",
       "  <thead>\n",
       "    <tr style=\"text-align: right;\">\n",
       "      <th></th>\n",
       "      <th>Valor</th>\n",
       "      <th>Categoria</th>\n",
       "      <th>Quartos</th>\n",
       "      <th>Banheiros</th>\n",
       "      <th>Vagas na garagem</th>\n",
       "      <th>Bairro</th>\n",
       "      <th>Area</th>\n",
       "    </tr>\n",
       "  </thead>\n",
       "  <tbody>\n",
       "    <tr>\n",
       "      <th>92</th>\n",
       "      <td>9,000.0000</td>\n",
       "      <td>Casas</td>\n",
       "      <td>5</td>\n",
       "      <td>5</td>\n",
       "      <td>1</td>\n",
       "      <td>Praia do Canto</td>\n",
       "      <td>194.0000</td>\n",
       "    </tr>\n",
       "    <tr>\n",
       "      <th>130</th>\n",
       "      <td>0.0000</td>\n",
       "      <td>Casas</td>\n",
       "      <td>2</td>\n",
       "      <td>2</td>\n",
       "      <td>2</td>\n",
       "      <td>Centro</td>\n",
       "      <td>NaN</td>\n",
       "    </tr>\n",
       "    <tr>\n",
       "      <th>218</th>\n",
       "      <td>5,000.0000</td>\n",
       "      <td>Casas</td>\n",
       "      <td>2</td>\n",
       "      <td>2</td>\n",
       "      <td>0</td>\n",
       "      <td>São Pedro</td>\n",
       "      <td>NaN</td>\n",
       "    </tr>\n",
       "    <tr>\n",
       "      <th>270</th>\n",
       "      <td>6,000.0000</td>\n",
       "      <td>Casas</td>\n",
       "      <td>3</td>\n",
       "      <td>2</td>\n",
       "      <td>2</td>\n",
       "      <td>Joana D'arc</td>\n",
       "      <td>250.0000</td>\n",
       "    </tr>\n",
       "    <tr>\n",
       "      <th>271</th>\n",
       "      <td>5,000.0000</td>\n",
       "      <td>Casas</td>\n",
       "      <td>2</td>\n",
       "      <td>1</td>\n",
       "      <td>1</td>\n",
       "      <td>São Pedro</td>\n",
       "      <td>200.0000</td>\n",
       "    </tr>\n",
       "    <tr>\n",
       "      <th>...</th>\n",
       "      <td>...</td>\n",
       "      <td>...</td>\n",
       "      <td>...</td>\n",
       "      <td>...</td>\n",
       "      <td>...</td>\n",
       "      <td>...</td>\n",
       "      <td>...</td>\n",
       "    </tr>\n",
       "    <tr>\n",
       "      <th>6778</th>\n",
       "      <td>300.0000</td>\n",
       "      <td>Apartamentos</td>\n",
       "      <td>3</td>\n",
       "      <td>3</td>\n",
       "      <td>1</td>\n",
       "      <td>Centro</td>\n",
       "      <td>150.0000</td>\n",
       "    </tr>\n",
       "    <tr>\n",
       "      <th>6823</th>\n",
       "      <td>1,250.0000</td>\n",
       "      <td>Apartamentos</td>\n",
       "      <td>1</td>\n",
       "      <td>1</td>\n",
       "      <td>0</td>\n",
       "      <td>Centro</td>\n",
       "      <td>80.0000</td>\n",
       "    </tr>\n",
       "    <tr>\n",
       "      <th>6950</th>\n",
       "      <td>800.0000</td>\n",
       "      <td>Apartamentos</td>\n",
       "      <td>4</td>\n",
       "      <td>3</td>\n",
       "      <td>2</td>\n",
       "      <td>Jardim Camburi</td>\n",
       "      <td>NaN</td>\n",
       "    </tr>\n",
       "    <tr>\n",
       "      <th>7080</th>\n",
       "      <td>0.0000</td>\n",
       "      <td>Apartamentos</td>\n",
       "      <td>3</td>\n",
       "      <td>2</td>\n",
       "      <td>2</td>\n",
       "      <td>Santa Lúcia</td>\n",
       "      <td>0.0000</td>\n",
       "    </tr>\n",
       "    <tr>\n",
       "      <th>7101</th>\n",
       "      <td>0.0000</td>\n",
       "      <td>Apartamentos</td>\n",
       "      <td>2</td>\n",
       "      <td>1</td>\n",
       "      <td>1</td>\n",
       "      <td>Centro</td>\n",
       "      <td>0.0000</td>\n",
       "    </tr>\n",
       "  </tbody>\n",
       "</table>\n",
       "<p>195 rows × 7 columns</p>\n",
       "</div>"
      ],
      "text/plain": [
       "          Valor     Categoria  Quartos  Banheiros  Vagas na garagem  \\\n",
       "92   9,000.0000         Casas        5          5                 1   \n",
       "130      0.0000         Casas        2          2                 2   \n",
       "218  5,000.0000         Casas        2          2                 0   \n",
       "270  6,000.0000         Casas        3          2                 2   \n",
       "271  5,000.0000         Casas        2          1                 1   \n",
       "...         ...           ...      ...        ...               ...   \n",
       "6778   300.0000  Apartamentos        3          3                 1   \n",
       "6823 1,250.0000  Apartamentos        1          1                 0   \n",
       "6950   800.0000  Apartamentos        4          3                 2   \n",
       "7080     0.0000  Apartamentos        3          2                 2   \n",
       "7101     0.0000  Apartamentos        2          1                 1   \n",
       "\n",
       "              Bairro     Area  \n",
       "92    Praia do Canto 194.0000  \n",
       "130           Centro      NaN  \n",
       "218        São Pedro      NaN  \n",
       "270      Joana D'arc 250.0000  \n",
       "271        São Pedro 200.0000  \n",
       "...              ...      ...  \n",
       "6778          Centro 150.0000  \n",
       "6823          Centro  80.0000  \n",
       "6950  Jardim Camburi      NaN  \n",
       "7080     Santa Lúcia   0.0000  \n",
       "7101          Centro   0.0000  \n",
       "\n",
       "[195 rows x 7 columns]"
      ]
     },
     "execution_count": 820,
     "metadata": {},
     "output_type": "execute_result"
    }
   ],
   "source": [
    "df[df['Valor']<=16500]"
   ]
  },
  {
   "cell_type": "code",
   "execution_count": 821,
   "metadata": {},
   "outputs": [],
   "source": [
    "df = df[df['Valor']>30000]"
   ]
  },
  {
   "cell_type": "code",
   "execution_count": 822,
   "metadata": {},
   "outputs": [
    {
     "data": {
      "image/png": "[encoded data removed]",
      "text/plain": [
       "<Figure size 2880x720 with 2 Axes>"
      ]
     },
     "metadata": {
      "needs_background": "light"
     },
     "output_type": "display_data"
    }
   ],
   "source": [
    "plt.figure(figsize=(40,10))\n",
    "plt.subplot(1,2,1)\n",
    "plt.ticklabel_format(style = 'plain')\n",
    "df['Valor'].hist(bins= 30)\n",
    "\n",
    "plt.subplot(1,2,2)\n",
    "df['Valor'].plot(kind = 'box')\n",
    "plt.show()"
   ]
  },
  {
   "cell_type": "markdown",
   "metadata": {},
   "source": [
    "##### Area"
   ]
  },
  {
   "cell_type": "code",
   "execution_count": 823,
   "metadata": {},
   "outputs": [
    {
     "data": {
      "image/png": "[encoded data removed]",
      "text/plain": [
       "<Figure size 2880x720 with 2 Axes>"
      ]
     },
     "metadata": {
      "needs_background": "light"
     },
     "output_type": "display_data"
    }
   ],
   "source": [
    "plt.figure(figsize=(40,10))\n",
    "plt.subplot(1,2,1)\n",
    "plt.ticklabel_format(style = 'plain')\n",
    "df['Area'].hist(bins= 30)\n",
    "\n",
    "plt.subplot(1,2,2)\n",
    "df['Area'].plot(kind = 'box')\n",
    "plt.show()"
   ]
  },
  {
   "cell_type": "code",
   "execution_count": 824,
   "metadata": {},
   "outputs": [
    {
     "data": {
      "text/html": [
       "<div>\n",
       "<style scoped>\n",
       "    .dataframe tbody tr th:only-of-type {\n",
       "        vertical-align: middle;\n",
       "    }\n",
       "\n",
       "    .dataframe tbody tr th {\n",
       "        vertical-align: top;\n",
       "    }\n",
       "\n",
       "    .dataframe thead th {\n",
       "        text-align: right;\n",
       "    }\n",
       "</style>\n",
       "<table border=\"1\" class=\"dataframe\">\n",
       "  <thead>\n",
       "    <tr style=\"text-align: right;\">\n",
       "      <th></th>\n",
       "      <th>Valor</th>\n",
       "      <th>Categoria</th>\n",
       "      <th>Quartos</th>\n",
       "      <th>Banheiros</th>\n",
       "      <th>Vagas na garagem</th>\n",
       "      <th>Bairro</th>\n",
       "      <th>Area</th>\n",
       "    </tr>\n",
       "  </thead>\n",
       "  <tbody>\n",
       "    <tr>\n",
       "      <th>1</th>\n",
       "      <td>400,000.0000</td>\n",
       "      <td>Casas</td>\n",
       "      <td>3</td>\n",
       "      <td>2</td>\n",
       "      <td>2</td>\n",
       "      <td>Goiabeiras</td>\n",
       "      <td>0.0000</td>\n",
       "    </tr>\n",
       "    <tr>\n",
       "      <th>20</th>\n",
       "      <td>265,000.0000</td>\n",
       "      <td>Casas</td>\n",
       "      <td>2</td>\n",
       "      <td>2</td>\n",
       "      <td>1</td>\n",
       "      <td>Jucutuquara</td>\n",
       "      <td>0.0000</td>\n",
       "    </tr>\n",
       "    <tr>\n",
       "      <th>39</th>\n",
       "      <td>250,000.0000</td>\n",
       "      <td>Casas</td>\n",
       "      <td>3</td>\n",
       "      <td>2</td>\n",
       "      <td>2</td>\n",
       "      <td>Gurigica</td>\n",
       "      <td>0.0000</td>\n",
       "    </tr>\n",
       "    <tr>\n",
       "      <th>52</th>\n",
       "      <td>190,000.0000</td>\n",
       "      <td>Casas</td>\n",
       "      <td>3</td>\n",
       "      <td>4</td>\n",
       "      <td>2</td>\n",
       "      <td>Jucutuquara</td>\n",
       "      <td>0.0000</td>\n",
       "    </tr>\n",
       "    <tr>\n",
       "      <th>76</th>\n",
       "      <td>270,000.0000</td>\n",
       "      <td>Casas</td>\n",
       "      <td>3</td>\n",
       "      <td>2</td>\n",
       "      <td>1</td>\n",
       "      <td>Goiabeiras</td>\n",
       "      <td>0.0000</td>\n",
       "    </tr>\n",
       "    <tr>\n",
       "      <th>...</th>\n",
       "      <td>...</td>\n",
       "      <td>...</td>\n",
       "      <td>...</td>\n",
       "      <td>...</td>\n",
       "      <td>...</td>\n",
       "      <td>...</td>\n",
       "      <td>...</td>\n",
       "    </tr>\n",
       "    <tr>\n",
       "      <th>7296</th>\n",
       "      <td>782,000.0000</td>\n",
       "      <td>Apartamentos</td>\n",
       "      <td>3</td>\n",
       "      <td>3</td>\n",
       "      <td>2</td>\n",
       "      <td>Santa Luíza</td>\n",
       "      <td>0.0000</td>\n",
       "    </tr>\n",
       "    <tr>\n",
       "      <th>7342</th>\n",
       "      <td>779,004.0000</td>\n",
       "      <td>Apartamentos</td>\n",
       "      <td>3</td>\n",
       "      <td>2</td>\n",
       "      <td>2</td>\n",
       "      <td>Barro Vermelho</td>\n",
       "      <td>0.0000</td>\n",
       "    </tr>\n",
       "    <tr>\n",
       "      <th>7344</th>\n",
       "      <td>780,010.0000</td>\n",
       "      <td>Apartamentos</td>\n",
       "      <td>3</td>\n",
       "      <td>3</td>\n",
       "      <td>2</td>\n",
       "      <td>Santa Luíza</td>\n",
       "      <td>0.0000</td>\n",
       "    </tr>\n",
       "    <tr>\n",
       "      <th>7375</th>\n",
       "      <td>780,000.0000</td>\n",
       "      <td>Apartamentos</td>\n",
       "      <td>3</td>\n",
       "      <td>3</td>\n",
       "      <td>2</td>\n",
       "      <td>Santa Luíza</td>\n",
       "      <td>0.0000</td>\n",
       "    </tr>\n",
       "    <tr>\n",
       "      <th>7380</th>\n",
       "      <td>469,982.0000</td>\n",
       "      <td>Apartamentos</td>\n",
       "      <td>3</td>\n",
       "      <td>2</td>\n",
       "      <td>1</td>\n",
       "      <td>Jardim Camburi</td>\n",
       "      <td>0.0000</td>\n",
       "    </tr>\n",
       "  </tbody>\n",
       "</table>\n",
       "<p>183 rows × 7 columns</p>\n",
       "</div>"
      ],
      "text/plain": [
       "            Valor     Categoria  Quartos  Banheiros  Vagas na garagem  \\\n",
       "1    400,000.0000         Casas        3          2                 2   \n",
       "20   265,000.0000         Casas        2          2                 1   \n",
       "39   250,000.0000         Casas        3          2                 2   \n",
       "52   190,000.0000         Casas        3          4                 2   \n",
       "76   270,000.0000         Casas        3          2                 1   \n",
       "...           ...           ...      ...        ...               ...   \n",
       "7296 782,000.0000  Apartamentos        3          3                 2   \n",
       "7342 779,004.0000  Apartamentos        3          2                 2   \n",
       "7344 780,010.0000  Apartamentos        3          3                 2   \n",
       "7375 780,000.0000  Apartamentos        3          3                 2   \n",
       "7380 469,982.0000  Apartamentos        3          2                 1   \n",
       "\n",
       "              Bairro   Area  \n",
       "1         Goiabeiras 0.0000  \n",
       "20       Jucutuquara 0.0000  \n",
       "39          Gurigica 0.0000  \n",
       "52       Jucutuquara 0.0000  \n",
       "76        Goiabeiras 0.0000  \n",
       "...              ...    ...  \n",
       "7296     Santa Luíza 0.0000  \n",
       "7342  Barro Vermelho 0.0000  \n",
       "7344     Santa Luíza 0.0000  \n",
       "7375     Santa Luíza 0.0000  \n",
       "7380  Jardim Camburi 0.0000  \n",
       "\n",
       "[183 rows x 7 columns]"
      ]
     },
     "execution_count": 824,
     "metadata": {},
     "output_type": "execute_result"
    }
   ],
   "source": [
    "# Temos 341 itens com area 0 e podemos considerar erros de preenchimento\n",
    "df[df['Area']==0]"
   ]
  },
  {
   "cell_type": "code",
   "execution_count": 825,
   "metadata": {},
   "outputs": [],
   "source": [
    "# Removendo valores com erro de preenchimento\n",
    "df= df[df['Area']>0]"
   ]
  },
  {
   "cell_type": "code",
   "execution_count": 826,
   "metadata": {},
   "outputs": [],
   "source": [
    "max , min = fncCalculaLimites(df['Area'])\n",
    "df = df[(df['Area'] > min) & (df['Area'] < max)]"
   ]
  },
  {
   "cell_type": "code",
   "execution_count": 827,
   "metadata": {},
   "outputs": [
    {
     "data": {
      "image/png": "[encoded data removed]",
      "text/plain": [
       "<Figure size 2880x720 with 2 Axes>"
      ]
     },
     "metadata": {
      "needs_background": "light"
     },
     "output_type": "display_data"
    }
   ],
   "source": [
    "plt.figure(figsize=(40,10))\n",
    "plt.subplot(1,2,1)\n",
    "plt.ticklabel_format(style = 'plain')\n",
    "df['Area'].hist(bins= 30)\n",
    "\n",
    "plt.subplot(1,2,2)\n",
    "df['Area'].plot(kind = 'box')\n",
    "plt.show()"
   ]
  },
  {
   "cell_type": "markdown",
   "metadata": {},
   "source": [
    "### Campos descritivos"
   ]
  },
  {
   "cell_type": "markdown",
   "metadata": {},
   "source": [
    "##### Bairros"
   ]
  },
  {
   "cell_type": "code",
   "execution_count": 828,
   "metadata": {},
   "outputs": [
    {
     "data": {
      "text/plain": [
       "Jardim Camburi       1782\n",
       "Jardim da Penha       637\n",
       "Praia do Canto        542\n",
       "Mata da Praia         413\n",
       "Bento Ferreira        359\n",
       "                     ... \n",
       "Jesus de Nazareth       1\n",
       "Inhanguetá              1\n",
       "Fonte Grande            1\n",
       "Mário Cypreste          1\n",
       "Nazareth                1\n",
       "Name: Bairro, Length: 72, dtype: int64"
      ]
     },
     "execution_count": 828,
     "metadata": {},
     "output_type": "execute_result"
    }
   ],
   "source": [
    "df['Bairro'].value_counts()"
   ]
  },
  {
   "cell_type": "code",
   "execution_count": 829,
   "metadata": {},
   "outputs": [],
   "source": [
    "regioes ={\n",
    " 'Itararé':  'Maruípe' ,\n",
    " 'Santa Lúcia':  'Zona Leste' ,\n",
    " 'Jardim Camburi': 'Jardim Camburi'  ,\n",
    " 'Goiabeiras':  'Zona Norte' ,\n",
    " 'Santa Helena':  'Zona Leste' ,\n",
    " 'Ilha do Boi':   'Zona Leste',\n",
    " 'Jucutuquara':  'Jucutuquara' ,\n",
    " 'Praia do Canto': 'Zona Leste'  ,\n",
    " 'Centro':  'Zona Sul' ,\n",
    " 'Fradinhos':  'Jucutuquara' ,\n",
    " 'Mata da Praia': 'Jardim da Penha'  ,\n",
    " \"Joana D'arc\":  'Maruípe' ,\n",
    " 'Bento Ferreira':  'Jucutuquara' ,\n",
    " 'de Lourdes':  'Jucutuquara' ,\n",
    " 'República':  'Jardim da Penha' ,\n",
    " 'Santa Cecília': 'Maruípe'  ,\n",
    " 'Morada de Camburi': 'Jardim da Penha'  ,\n",
    " 'Maruípe': 'Maruípe'  ,\n",
    " 'Tabuazeiro': 'Maruípe'  ,\n",
    " 'Maria Ortiz':  'Zona Norte' ,\n",
    " 'Santo Antônio':  'Santo Antônio' ,\n",
    " 'Santa Martha':  'Maruípe' ,\n",
    " 'São Cristóvão':   'Maruípe',\n",
    " 'Santos Reis': 'Zona Oeste'  ,\n",
    " 'Enseada do Suá': 'Zona Leste'  ,\n",
    " 'Santos Dumont':  'Maruípe' ,\n",
    " 'Jardim da Penha':  'Jardim da Penha' ,\n",
    " 'Universitário':  'Santo Antônio' ,\n",
    " 'Solon Borges': 'Zona Norte'  ,\n",
    " 'Santa Tereza':  'Santo Antônio' ,\n",
    " 'Ilha do Frade':  'Zona Leste' ,\n",
    " 'da Penha':  'Maruípe' ,\n",
    " 'Horto': 'Jucutuquara'  ,\n",
    " 'Santa Clara':   'Zona Sul',\n",
    " 'São Pedro':  'Zona Oeste' ,\n",
    " 'Parque Moscoso':  'Zona Sul'  ,\n",
    " 'Consolação':  'Jucutuquara' ,\n",
    " 'São Benedito':  'Maruípe' ,\n",
    " 'Caratoíra': 'Santo Antônio'  ,\n",
    " 'Grande Vitória':  'Santo Antônio' ,\n",
    " 'Jesus de Nazareth': 'Jucutuquara'  ,\n",
    " 'Romão': 'Jucutuquara'  ,\n",
    " 'Bonfim':  'Maruípe' ,\n",
    " 'Praia do Suá': 'Zona Leste'  ,\n",
    " 'Mário Cypreste': 'Santo Antônio'  ,\n",
    " 'Jabour': 'Zona Norte'  ,\n",
    " 'Santa Luíza':  'Zona Leste' ,\n",
    " 'São José': 'Zona Oeste'  ,\n",
    " 'Pontal de Camburi': 'Jardim da Penha'  ,\n",
    " 'Andorinhas':  'Maruípe' ,\n",
    " 'Nova Palestina':  'Zona Oeste' ,\n",
    " 'Boa Vista': 'Jardim da Penha'  ,\n",
    " 'Redenção': 'Zona Oeste'  ,\n",
    " 'Antônio Honório':  'Zona Norte' ,\n",
    " 'Monte Belo':  'Jucutuquara' ,\n",
    " 'Barro Vermelho':  'Zona Leste' ,\n",
    " 'Resistência': 'Zona Oeste'  ,\n",
    " 'Bela Vista':  \t'Santo Antônio'  ,\n",
    " 'Santo André':  'Zona Oeste' ,\n",
    " 'Ilha do Príncipe':  'Zona Sul'  ,\n",
    " 'Ilha de Santa Maria': 'Jucutuquara'  ,\n",
    " 'Fonte Grande':  'Zona Sul' ,\n",
    " 'Estrelinha':  'Santo Antônio' ,\n",
    " 'Inhanguetá':  'Santo Antônio' ,\n",
    " 'Vila Rubim':  'Zona Sul' ,\n",
    " 'Cruzamento':  'Jucutuquara' ,\n",
    " 'Ilha das Caieiras': 'Zona Oeste'  ,\n",
    " 'do Moscoso': 'Zona Sul'  ,\n",
    " 'Forte São João':  'Jucutuquara' ,\n",
    " 'Segurança do Lar':  'Zona Norte' ,\n",
    " 'Piedade' : 'Zona Sul',\n",
    " 'Parque Industrial': 'Jardim Camburi'  ,\n",
    " 'Nazareth' :'Jucutuquara'\n",
    "}"
   ]
  },
  {
   "cell_type": "code",
   "execution_count": 830,
   "metadata": {},
   "outputs": [],
   "source": [
    "df['Regiao'] = df['Bairro'].map(regioes)"
   ]
  },
  {
   "cell_type": "code",
   "execution_count": 831,
   "metadata": {},
   "outputs": [
    {
     "data": {
      "text/plain": [
       "Jardim Camburi     1783\n",
       "Zona Leste         1516\n",
       "Jardim da Penha    1148\n",
       "Jucutuquara         512\n",
       "Zona Sul            298\n",
       "Maruípe             250\n",
       "Zona Norte          100\n",
       "Santo Antônio        56\n",
       "Zona Oeste           47\n",
       "Name: Regiao, dtype: int64"
      ]
     },
     "execution_count": 831,
     "metadata": {},
     "output_type": "execute_result"
    }
   ],
   "source": [
    "df['Regiao'].value_counts()"
   ]
  },
  {
   "cell_type": "code",
   "execution_count": 832,
   "metadata": {},
   "outputs": [
    {
     "data": {
      "text/html": [
       "<div>\n",
       "<style scoped>\n",
       "    .dataframe tbody tr th:only-of-type {\n",
       "        vertical-align: middle;\n",
       "    }\n",
       "\n",
       "    .dataframe tbody tr th {\n",
       "        vertical-align: top;\n",
       "    }\n",
       "\n",
       "    .dataframe thead th {\n",
       "        text-align: right;\n",
       "    }\n",
       "</style>\n",
       "<table border=\"1\" class=\"dataframe\">\n",
       "  <thead>\n",
       "    <tr style=\"text-align: right;\">\n",
       "      <th></th>\n",
       "      <th>Valor</th>\n",
       "      <th>Categoria</th>\n",
       "      <th>Quartos</th>\n",
       "      <th>Banheiros</th>\n",
       "      <th>Vagas na garagem</th>\n",
       "      <th>Bairro</th>\n",
       "      <th>Area</th>\n",
       "      <th>Regiao</th>\n",
       "    </tr>\n",
       "  </thead>\n",
       "  <tbody>\n",
       "    <tr>\n",
       "      <th>0</th>\n",
       "      <td>150,000.0000</td>\n",
       "      <td>Casas</td>\n",
       "      <td>3</td>\n",
       "      <td>2</td>\n",
       "      <td>1</td>\n",
       "      <td>Itararé</td>\n",
       "      <td>110.0000</td>\n",
       "      <td>Maruípe</td>\n",
       "    </tr>\n",
       "    <tr>\n",
       "      <th>2</th>\n",
       "      <td>150,000.0000</td>\n",
       "      <td>Casas</td>\n",
       "      <td>2</td>\n",
       "      <td>2</td>\n",
       "      <td>2</td>\n",
       "      <td>Itararé</td>\n",
       "      <td>125.0000</td>\n",
       "      <td>Maruípe</td>\n",
       "    </tr>\n",
       "    <tr>\n",
       "      <th>3</th>\n",
       "      <td>550,000.0000</td>\n",
       "      <td>Casas</td>\n",
       "      <td>2</td>\n",
       "      <td>1</td>\n",
       "      <td>1</td>\n",
       "      <td>Santa Lúcia</td>\n",
       "      <td>100.0000</td>\n",
       "      <td>Zona Leste</td>\n",
       "    </tr>\n",
       "    <tr>\n",
       "      <th>4</th>\n",
       "      <td>1,400,000.0000</td>\n",
       "      <td>Casas</td>\n",
       "      <td>4</td>\n",
       "      <td>2</td>\n",
       "      <td>2</td>\n",
       "      <td>Jardim Camburi</td>\n",
       "      <td>180.0000</td>\n",
       "      <td>Jardim Camburi</td>\n",
       "    </tr>\n",
       "    <tr>\n",
       "      <th>5</th>\n",
       "      <td>400,000.0000</td>\n",
       "      <td>Casas</td>\n",
       "      <td>2</td>\n",
       "      <td>1</td>\n",
       "      <td>0</td>\n",
       "      <td>Goiabeiras</td>\n",
       "      <td>140.0000</td>\n",
       "      <td>Zona Norte</td>\n",
       "    </tr>\n",
       "    <tr>\n",
       "      <th>...</th>\n",
       "      <td>...</td>\n",
       "      <td>...</td>\n",
       "      <td>...</td>\n",
       "      <td>...</td>\n",
       "      <td>...</td>\n",
       "      <td>...</td>\n",
       "      <td>...</td>\n",
       "      <td>...</td>\n",
       "    </tr>\n",
       "    <tr>\n",
       "      <th>7395</th>\n",
       "      <td>770,000.0000</td>\n",
       "      <td>Apartamentos</td>\n",
       "      <td>3</td>\n",
       "      <td>1</td>\n",
       "      <td>2</td>\n",
       "      <td>Jardim Camburi</td>\n",
       "      <td>90.0000</td>\n",
       "      <td>Jardim Camburi</td>\n",
       "    </tr>\n",
       "    <tr>\n",
       "      <th>7396</th>\n",
       "      <td>779,000.0000</td>\n",
       "      <td>Apartamentos</td>\n",
       "      <td>3</td>\n",
       "      <td>3</td>\n",
       "      <td>2</td>\n",
       "      <td>Santa Luíza</td>\n",
       "      <td>87.0000</td>\n",
       "      <td>Zona Leste</td>\n",
       "    </tr>\n",
       "    <tr>\n",
       "      <th>7397</th>\n",
       "      <td>480,000.0000</td>\n",
       "      <td>Apartamentos</td>\n",
       "      <td>2</td>\n",
       "      <td>2</td>\n",
       "      <td>2</td>\n",
       "      <td>Jardim Camburi</td>\n",
       "      <td>68.0000</td>\n",
       "      <td>Jardim Camburi</td>\n",
       "    </tr>\n",
       "    <tr>\n",
       "      <th>7398</th>\n",
       "      <td>459,500.0000</td>\n",
       "      <td>Apartamentos</td>\n",
       "      <td>2</td>\n",
       "      <td>2</td>\n",
       "      <td>1</td>\n",
       "      <td>Jardim Camburi</td>\n",
       "      <td>65.0000</td>\n",
       "      <td>Jardim Camburi</td>\n",
       "    </tr>\n",
       "    <tr>\n",
       "      <th>7399</th>\n",
       "      <td>569,000.0000</td>\n",
       "      <td>Apartamentos</td>\n",
       "      <td>3</td>\n",
       "      <td>2</td>\n",
       "      <td>2</td>\n",
       "      <td>Jardim Camburi</td>\n",
       "      <td>69.0000</td>\n",
       "      <td>Jardim Camburi</td>\n",
       "    </tr>\n",
       "  </tbody>\n",
       "</table>\n",
       "<p>5710 rows × 8 columns</p>\n",
       "</div>"
      ],
      "text/plain": [
       "              Valor     Categoria  Quartos  Banheiros  Vagas na garagem  \\\n",
       "0      150,000.0000         Casas        3          2                 1   \n",
       "2      150,000.0000         Casas        2          2                 2   \n",
       "3      550,000.0000         Casas        2          1                 1   \n",
       "4    1,400,000.0000         Casas        4          2                 2   \n",
       "5      400,000.0000         Casas        2          1                 0   \n",
       "...             ...           ...      ...        ...               ...   \n",
       "7395   770,000.0000  Apartamentos        3          1                 2   \n",
       "7396   779,000.0000  Apartamentos        3          3                 2   \n",
       "7397   480,000.0000  Apartamentos        2          2                 2   \n",
       "7398   459,500.0000  Apartamentos        2          2                 1   \n",
       "7399   569,000.0000  Apartamentos        3          2                 2   \n",
       "\n",
       "              Bairro     Area          Regiao  \n",
       "0            Itararé 110.0000         Maruípe  \n",
       "2            Itararé 125.0000         Maruípe  \n",
       "3        Santa Lúcia 100.0000      Zona Leste  \n",
       "4     Jardim Camburi 180.0000  Jardim Camburi  \n",
       "5         Goiabeiras 140.0000      Zona Norte  \n",
       "...              ...      ...             ...  \n",
       "7395  Jardim Camburi  90.0000  Jardim Camburi  \n",
       "7396     Santa Luíza  87.0000      Zona Leste  \n",
       "7397  Jardim Camburi  68.0000  Jardim Camburi  \n",
       "7398  Jardim Camburi  65.0000  Jardim Camburi  \n",
       "7399  Jardim Camburi  69.0000  Jardim Camburi  \n",
       "\n",
       "[5710 rows x 8 columns]"
      ]
     },
     "execution_count": 832,
     "metadata": {},
     "output_type": "execute_result"
    }
   ],
   "source": [
    "df "
   ]
  },
  {
   "cell_type": "code",
   "execution_count": 833,
   "metadata": {},
   "outputs": [
    {
     "data": {
      "text/html": [
       "<div>\n",
       "<style scoped>\n",
       "    .dataframe tbody tr th:only-of-type {\n",
       "        vertical-align: middle;\n",
       "    }\n",
       "\n",
       "    .dataframe tbody tr th {\n",
       "        vertical-align: top;\n",
       "    }\n",
       "\n",
       "    .dataframe thead th {\n",
       "        text-align: right;\n",
       "    }\n",
       "</style>\n",
       "<table border=\"1\" class=\"dataframe\">\n",
       "  <thead>\n",
       "    <tr style=\"text-align: right;\">\n",
       "      <th></th>\n",
       "      <th>Valor</th>\n",
       "      <th>Quartos</th>\n",
       "      <th>Banheiros</th>\n",
       "      <th>Vagas na garagem</th>\n",
       "      <th>Area</th>\n",
       "    </tr>\n",
       "  </thead>\n",
       "  <tbody>\n",
       "    <tr>\n",
       "      <th>Valor</th>\n",
       "      <td>1.0000</td>\n",
       "      <td>0.5718</td>\n",
       "      <td>0.6178</td>\n",
       "      <td>0.6497</td>\n",
       "      <td>0.6926</td>\n",
       "    </tr>\n",
       "    <tr>\n",
       "      <th>Quartos</th>\n",
       "      <td>0.5718</td>\n",
       "      <td>1.0000</td>\n",
       "      <td>0.6717</td>\n",
       "      <td>0.5623</td>\n",
       "      <td>0.5113</td>\n",
       "    </tr>\n",
       "    <tr>\n",
       "      <th>Banheiros</th>\n",
       "      <td>0.6178</td>\n",
       "      <td>0.6717</td>\n",
       "      <td>1.0000</td>\n",
       "      <td>0.5613</td>\n",
       "      <td>0.4787</td>\n",
       "    </tr>\n",
       "    <tr>\n",
       "      <th>Vagas na garagem</th>\n",
       "      <td>0.6497</td>\n",
       "      <td>0.5623</td>\n",
       "      <td>0.5613</td>\n",
       "      <td>1.0000</td>\n",
       "      <td>0.4981</td>\n",
       "    </tr>\n",
       "    <tr>\n",
       "      <th>Area</th>\n",
       "      <td>0.6926</td>\n",
       "      <td>0.5113</td>\n",
       "      <td>0.4787</td>\n",
       "      <td>0.4981</td>\n",
       "      <td>1.0000</td>\n",
       "    </tr>\n",
       "  </tbody>\n",
       "</table>\n",
       "</div>"
      ],
      "text/plain": [
       "                  Valor  Quartos  Banheiros  Vagas na garagem   Area\n",
       "Valor            1.0000   0.5718     0.6178            0.6497 0.6926\n",
       "Quartos          0.5718   1.0000     0.6717            0.5623 0.5113\n",
       "Banheiros        0.6178   0.6717     1.0000            0.5613 0.4787\n",
       "Vagas na garagem 0.6497   0.5623     0.5613            1.0000 0.4981\n",
       "Area             0.6926   0.5113     0.4787            0.4981 1.0000"
      ]
     },
     "execution_count": 833,
     "metadata": {},
     "output_type": "execute_result"
    }
   ],
   "source": [
    "df.corr()"
   ]
  },
  {
   "cell_type": "markdown",
   "metadata": {},
   "source": [
    "# Modelagem"
   ]
  },
  {
   "cell_type": "markdown",
   "metadata": {},
   "source": [
    "### Pre Processamento"
   ]
  },
  {
   "cell_type": "code",
   "execution_count": 834,
   "metadata": {},
   "outputs": [],
   "source": [
    "from sklearn.preprocessing import OneHotEncoder\n",
    "from sklearn.model_selection import train_test_split"
   ]
  },
  {
   "cell_type": "code",
   "execution_count": 835,
   "metadata": {},
   "outputs": [],
   "source": [
    "x_train, x_test, y_train ,y_test = train_test_split(df.drop('Valor', axis=1), df['Valor'], test_size= 0.2)"
   ]
  },
  {
   "cell_type": "markdown",
   "metadata": {},
   "source": [
    "#### Dummy categories"
   ]
  },
  {
   "cell_type": "code",
   "execution_count": 836,
   "metadata": {},
   "outputs": [],
   "source": [
    "encoderCategoria = OneHotEncoder()"
   ]
  },
  {
   "cell_type": "code",
   "execution_count": 837,
   "metadata": {},
   "outputs": [],
   "source": [
    "categories = encoderCategoria.fit_transform(x_train[['Categoria']])"
   ]
  },
  {
   "cell_type": "code",
   "execution_count": 838,
   "metadata": {},
   "outputs": [],
   "source": [
    "categories = pd.DataFrame(categories.toarray(), columns = encoderCategoria.get_feature_names_out(), index = x_train.index)"
   ]
  },
  {
   "cell_type": "code",
   "execution_count": 839,
   "metadata": {},
   "outputs": [],
   "source": [
    "x_train = x_train.join(categories).drop('Categoria', axis= 1)"
   ]
  },
  {
   "cell_type": "code",
   "execution_count": 840,
   "metadata": {},
   "outputs": [],
   "source": [
    "encoderRegiao = OneHotEncoder()"
   ]
  },
  {
   "cell_type": "code",
   "execution_count": 841,
   "metadata": {},
   "outputs": [],
   "source": [
    "regiao = encoderRegiao.fit_transform(x_train[['Regiao']])"
   ]
  },
  {
   "cell_type": "code",
   "execution_count": 842,
   "metadata": {},
   "outputs": [],
   "source": [
    "regiao = pd.DataFrame(regiao.toarray(), columns= encoderRegiao.get_feature_names_out(), index= x_train.index)"
   ]
  },
  {
   "cell_type": "code",
   "execution_count": 843,
   "metadata": {},
   "outputs": [],
   "source": [
    "x_train = x_train.join(regiao).drop('Regiao', axis = 1)"
   ]
  },
  {
   "cell_type": "markdown",
   "metadata": {},
   "source": [
    "#### Normalizacao"
   ]
  },
  {
   "cell_type": "code",
   "execution_count": 844,
   "metadata": {},
   "outputs": [],
   "source": [
    "from sklearn.preprocessing import StandardScaler"
   ]
  },
  {
   "cell_type": "code",
   "execution_count": 845,
   "metadata": {},
   "outputs": [],
   "source": [
    "norm = StandardScaler()"
   ]
  },
  {
   "cell_type": "code",
   "execution_count": 846,
   "metadata": {},
   "outputs": [],
   "source": [
    "x_train['Area'] = norm.fit_transform(x_train[['Area']])"
   ]
  },
  {
   "cell_type": "markdown",
   "metadata": {},
   "source": [
    "### Modelo"
   ]
  },
  {
   "cell_type": "code",
   "execution_count": 847,
   "metadata": {},
   "outputs": [
    {
     "data": {
      "text/plain": [
       "<AxesSubplot:>"
      ]
     },
     "execution_count": 847,
     "metadata": {},
     "output_type": "execute_result"
    },
    {
     "data": {
      "image/png": "[encoded data removed]",
      "text/plain": [
       "<Figure size 432x288 with 1 Axes>"
      ]
     },
     "metadata": {
      "needs_background": "light"
     },
     "output_type": "display_data"
    }
   ],
   "source": [
    "y_train.hist()"
   ]
  },
  {
   "cell_type": "code",
   "execution_count": 848,
   "metadata": {},
   "outputs": [],
   "source": [
    "y_train = np.log2(y_train)"
   ]
  },
  {
   "cell_type": "code",
   "execution_count": 849,
   "metadata": {},
   "outputs": [
    {
     "data": {
      "text/plain": [
       "<AxesSubplot:>"
      ]
     },
     "execution_count": 849,
     "metadata": {},
     "output_type": "execute_result"
    },
    {
     "data": {
      "image/png": "[encoded data removed]",
      "text/plain": [
       "<Figure size 432x288 with 1 Axes>"
      ]
     },
     "metadata": {
      "needs_background": "light"
     },
     "output_type": "display_data"
    }
   ],
   "source": [
    "y_train.hist()"
   ]
  },
  {
   "cell_type": "code",
   "execution_count": 850,
   "metadata": {},
   "outputs": [],
   "source": [
    "x_train = x_train.select_dtypes(include = np.number)"
   ]
  },
  {
   "cell_type": "code",
   "execution_count": 851,
   "metadata": {},
   "outputs": [],
   "source": [
    "from sklearn.linear_model import LinearRegression"
   ]
  },
  {
   "cell_type": "code",
   "execution_count": 852,
   "metadata": {},
   "outputs": [],
   "source": [
    "regressao = LinearRegression()"
   ]
  },
  {
   "cell_type": "code",
   "execution_count": 853,
   "metadata": {},
   "outputs": [
    {
     "data": {
      "text/plain": [
       "LinearRegression()"
      ]
     },
     "execution_count": 853,
     "metadata": {},
     "output_type": "execute_result"
    }
   ],
   "source": [
    "regressao.fit(x_train, y_train)"
   ]
  },
  {
   "cell_type": "code",
   "execution_count": 854,
   "metadata": {},
   "outputs": [
    {
     "data": {
      "text/plain": [
       "0.7546100567962417"
      ]
     },
     "execution_count": 854,
     "metadata": {},
     "output_type": "execute_result"
    }
   ],
   "source": [
    "regressao.score(x_train, y_train)"
   ]
  },
  {
   "cell_type": "code",
   "execution_count": 855,
   "metadata": {},
   "outputs": [
    {
     "data": {
      "text/html": [
       "<div>\n",
       "<style scoped>\n",
       "    .dataframe tbody tr th:only-of-type {\n",
       "        vertical-align: middle;\n",
       "    }\n",
       "\n",
       "    .dataframe tbody tr th {\n",
       "        vertical-align: top;\n",
       "    }\n",
       "\n",
       "    .dataframe thead th {\n",
       "        text-align: right;\n",
       "    }\n",
       "</style>\n",
       "<table border=\"1\" class=\"dataframe\">\n",
       "  <thead>\n",
       "    <tr style=\"text-align: right;\">\n",
       "      <th></th>\n",
       "      <th>Quartos</th>\n",
       "      <th>Banheiros</th>\n",
       "      <th>Vagas na garagem</th>\n",
       "      <th>Area</th>\n",
       "      <th>Categoria_Apartamentos</th>\n",
       "      <th>Categoria_Casas</th>\n",
       "      <th>Regiao_Jardim Camburi</th>\n",
       "      <th>Regiao_Jardim da Penha</th>\n",
       "      <th>Regiao_Jucutuquara</th>\n",
       "      <th>Regiao_Maruípe</th>\n",
       "      <th>Regiao_Santo Antônio</th>\n",
       "      <th>Regiao_Zona Leste</th>\n",
       "      <th>Regiao_Zona Norte</th>\n",
       "      <th>Regiao_Zona Oeste</th>\n",
       "      <th>Regiao_Zona Sul</th>\n",
       "    </tr>\n",
       "  </thead>\n",
       "  <tbody>\n",
       "    <tr>\n",
       "      <th>2790</th>\n",
       "      <td>1</td>\n",
       "      <td>1</td>\n",
       "      <td>1</td>\n",
       "      <td>-0.6278</td>\n",
       "      <td>1.0000</td>\n",
       "      <td>0.0000</td>\n",
       "      <td>1.0000</td>\n",
       "      <td>0.0000</td>\n",
       "      <td>0.0000</td>\n",
       "      <td>0.0000</td>\n",
       "      <td>0.0000</td>\n",
       "      <td>0.0000</td>\n",
       "      <td>0.0000</td>\n",
       "      <td>0.0000</td>\n",
       "      <td>0.0000</td>\n",
       "    </tr>\n",
       "    <tr>\n",
       "      <th>4388</th>\n",
       "      <td>3</td>\n",
       "      <td>3</td>\n",
       "      <td>2</td>\n",
       "      <td>-0.0215</td>\n",
       "      <td>1.0000</td>\n",
       "      <td>0.0000</td>\n",
       "      <td>1.0000</td>\n",
       "      <td>0.0000</td>\n",
       "      <td>0.0000</td>\n",
       "      <td>0.0000</td>\n",
       "      <td>0.0000</td>\n",
       "      <td>0.0000</td>\n",
       "      <td>0.0000</td>\n",
       "      <td>0.0000</td>\n",
       "      <td>0.0000</td>\n",
       "    </tr>\n",
       "    <tr>\n",
       "      <th>5124</th>\n",
       "      <td>3</td>\n",
       "      <td>2</td>\n",
       "      <td>1</td>\n",
       "      <td>-0.2839</td>\n",
       "      <td>1.0000</td>\n",
       "      <td>0.0000</td>\n",
       "      <td>0.0000</td>\n",
       "      <td>1.0000</td>\n",
       "      <td>0.0000</td>\n",
       "      <td>0.0000</td>\n",
       "      <td>0.0000</td>\n",
       "      <td>0.0000</td>\n",
       "      <td>0.0000</td>\n",
       "      <td>0.0000</td>\n",
       "      <td>0.0000</td>\n",
       "    </tr>\n",
       "    <tr>\n",
       "      <th>1207</th>\n",
       "      <td>5</td>\n",
       "      <td>5</td>\n",
       "      <td>3</td>\n",
       "      <td>1.0978</td>\n",
       "      <td>0.0000</td>\n",
       "      <td>1.0000</td>\n",
       "      <td>0.0000</td>\n",
       "      <td>1.0000</td>\n",
       "      <td>0.0000</td>\n",
       "      <td>0.0000</td>\n",
       "      <td>0.0000</td>\n",
       "      <td>0.0000</td>\n",
       "      <td>0.0000</td>\n",
       "      <td>0.0000</td>\n",
       "      <td>0.0000</td>\n",
       "    </tr>\n",
       "    <tr>\n",
       "      <th>2810</th>\n",
       "      <td>2</td>\n",
       "      <td>2</td>\n",
       "      <td>1</td>\n",
       "      <td>-0.4296</td>\n",
       "      <td>1.0000</td>\n",
       "      <td>0.0000</td>\n",
       "      <td>0.0000</td>\n",
       "      <td>0.0000</td>\n",
       "      <td>0.0000</td>\n",
       "      <td>0.0000</td>\n",
       "      <td>0.0000</td>\n",
       "      <td>1.0000</td>\n",
       "      <td>0.0000</td>\n",
       "      <td>0.0000</td>\n",
       "      <td>0.0000</td>\n",
       "    </tr>\n",
       "    <tr>\n",
       "      <th>...</th>\n",
       "      <td>...</td>\n",
       "      <td>...</td>\n",
       "      <td>...</td>\n",
       "      <td>...</td>\n",
       "      <td>...</td>\n",
       "      <td>...</td>\n",
       "      <td>...</td>\n",
       "      <td>...</td>\n",
       "      <td>...</td>\n",
       "      <td>...</td>\n",
       "      <td>...</td>\n",
       "      <td>...</td>\n",
       "      <td>...</td>\n",
       "      <td>...</td>\n",
       "      <td>...</td>\n",
       "    </tr>\n",
       "    <tr>\n",
       "      <th>5841</th>\n",
       "      <td>3</td>\n",
       "      <td>2</td>\n",
       "      <td>1</td>\n",
       "      <td>-0.3130</td>\n",
       "      <td>1.0000</td>\n",
       "      <td>0.0000</td>\n",
       "      <td>0.0000</td>\n",
       "      <td>0.0000</td>\n",
       "      <td>0.0000</td>\n",
       "      <td>0.0000</td>\n",
       "      <td>0.0000</td>\n",
       "      <td>1.0000</td>\n",
       "      <td>0.0000</td>\n",
       "      <td>0.0000</td>\n",
       "      <td>0.0000</td>\n",
       "    </tr>\n",
       "    <tr>\n",
       "      <th>6671</th>\n",
       "      <td>4</td>\n",
       "      <td>4</td>\n",
       "      <td>2</td>\n",
       "      <td>-0.1848</td>\n",
       "      <td>1.0000</td>\n",
       "      <td>0.0000</td>\n",
       "      <td>1.0000</td>\n",
       "      <td>0.0000</td>\n",
       "      <td>0.0000</td>\n",
       "      <td>0.0000</td>\n",
       "      <td>0.0000</td>\n",
       "      <td>0.0000</td>\n",
       "      <td>0.0000</td>\n",
       "      <td>0.0000</td>\n",
       "      <td>0.0000</td>\n",
       "    </tr>\n",
       "    <tr>\n",
       "      <th>6412</th>\n",
       "      <td>2</td>\n",
       "      <td>1</td>\n",
       "      <td>1</td>\n",
       "      <td>-0.4646</td>\n",
       "      <td>1.0000</td>\n",
       "      <td>0.0000</td>\n",
       "      <td>0.0000</td>\n",
       "      <td>1.0000</td>\n",
       "      <td>0.0000</td>\n",
       "      <td>0.0000</td>\n",
       "      <td>0.0000</td>\n",
       "      <td>0.0000</td>\n",
       "      <td>0.0000</td>\n",
       "      <td>0.0000</td>\n",
       "      <td>0.0000</td>\n",
       "    </tr>\n",
       "    <tr>\n",
       "      <th>4386</th>\n",
       "      <td>3</td>\n",
       "      <td>2</td>\n",
       "      <td>2</td>\n",
       "      <td>-0.3713</td>\n",
       "      <td>1.0000</td>\n",
       "      <td>0.0000</td>\n",
       "      <td>1.0000</td>\n",
       "      <td>0.0000</td>\n",
       "      <td>0.0000</td>\n",
       "      <td>0.0000</td>\n",
       "      <td>0.0000</td>\n",
       "      <td>0.0000</td>\n",
       "      <td>0.0000</td>\n",
       "      <td>0.0000</td>\n",
       "      <td>0.0000</td>\n",
       "    </tr>\n",
       "    <tr>\n",
       "      <th>5509</th>\n",
       "      <td>3</td>\n",
       "      <td>2</td>\n",
       "      <td>1</td>\n",
       "      <td>-0.4296</td>\n",
       "      <td>1.0000</td>\n",
       "      <td>0.0000</td>\n",
       "      <td>1.0000</td>\n",
       "      <td>0.0000</td>\n",
       "      <td>0.0000</td>\n",
       "      <td>0.0000</td>\n",
       "      <td>0.0000</td>\n",
       "      <td>0.0000</td>\n",
       "      <td>0.0000</td>\n",
       "      <td>0.0000</td>\n",
       "      <td>0.0000</td>\n",
       "    </tr>\n",
       "  </tbody>\n",
       "</table>\n",
       "<p>4568 rows × 15 columns</p>\n",
       "</div>"
      ],
      "text/plain": [
       "      Quartos  Banheiros  Vagas na garagem    Area  Categoria_Apartamentos  \\\n",
       "2790        1          1                 1 -0.6278                  1.0000   \n",
       "4388        3          3                 2 -0.0215                  1.0000   \n",
       "5124        3          2                 1 -0.2839                  1.0000   \n",
       "1207        5          5                 3  1.0978                  0.0000   \n",
       "2810        2          2                 1 -0.4296                  1.0000   \n",
       "...       ...        ...               ...     ...                     ...   \n",
       "5841        3          2                 1 -0.3130                  1.0000   \n",
       "6671        4          4                 2 -0.1848                  1.0000   \n",
       "6412        2          1                 1 -0.4646                  1.0000   \n",
       "4386        3          2                 2 -0.3713                  1.0000   \n",
       "5509        3          2                 1 -0.4296                  1.0000   \n",
       "\n",
       "      Categoria_Casas  Regiao_Jardim Camburi  Regiao_Jardim da Penha  \\\n",
       "2790           0.0000                 1.0000                  0.0000   \n",
       "4388           0.0000                 1.0000                  0.0000   \n",
       "5124           0.0000                 0.0000                  1.0000   \n",
       "1207           1.0000                 0.0000                  1.0000   \n",
       "2810           0.0000                 0.0000                  0.0000   \n",
       "...               ...                    ...                     ...   \n",
       "5841           0.0000                 0.0000                  0.0000   \n",
       "6671           0.0000                 1.0000                  0.0000   \n",
       "6412           0.0000                 0.0000                  1.0000   \n",
       "4386           0.0000                 1.0000                  0.0000   \n",
       "5509           0.0000                 1.0000                  0.0000   \n",
       "\n",
       "      Regiao_Jucutuquara  Regiao_Maruípe  Regiao_Santo Antônio  \\\n",
       "2790              0.0000          0.0000                0.0000   \n",
       "4388              0.0000          0.0000                0.0000   \n",
       "5124              0.0000          0.0000                0.0000   \n",
       "1207              0.0000          0.0000                0.0000   \n",
       "2810              0.0000          0.0000                0.0000   \n",
       "...                  ...             ...                   ...   \n",
       "5841              0.0000          0.0000                0.0000   \n",
       "6671              0.0000          0.0000                0.0000   \n",
       "6412              0.0000          0.0000                0.0000   \n",
       "4386              0.0000          0.0000                0.0000   \n",
       "5509              0.0000          0.0000                0.0000   \n",
       "\n",
       "      Regiao_Zona Leste  Regiao_Zona Norte  Regiao_Zona Oeste  Regiao_Zona Sul  \n",
       "2790             0.0000             0.0000             0.0000           0.0000  \n",
       "4388             0.0000             0.0000             0.0000           0.0000  \n",
       "5124             0.0000             0.0000             0.0000           0.0000  \n",
       "1207             0.0000             0.0000             0.0000           0.0000  \n",
       "2810             1.0000             0.0000             0.0000           0.0000  \n",
       "...                 ...                ...                ...              ...  \n",
       "5841             1.0000             0.0000             0.0000           0.0000  \n",
       "6671             0.0000             0.0000             0.0000           0.0000  \n",
       "6412             0.0000             0.0000             0.0000           0.0000  \n",
       "4386             0.0000             0.0000             0.0000           0.0000  \n",
       "5509             0.0000             0.0000             0.0000           0.0000  \n",
       "\n",
       "[4568 rows x 15 columns]"
      ]
     },
     "execution_count": 855,
     "metadata": {},
     "output_type": "execute_result"
    }
   ],
   "source": [
    "x_train"
   ]
  },
  {
   "cell_type": "code",
   "execution_count": 856,
   "metadata": {},
   "outputs": [
    {
     "data": {
      "text/plain": [
       "<AxesSubplot:xlabel='Valor', ylabel='Quartos'>"
      ]
     },
     "execution_count": 856,
     "metadata": {},
     "output_type": "execute_result"
    },
    {
     "data": {
      "image/png": "[encoded data removed]",
      "text/plain": [
       "<Figure size 432x288 with 1 Axes>"
      ]
     },
     "metadata": {
      "needs_background": "light"
     },
     "output_type": "display_data"
    }
   ],
   "source": [
    "df.plot(kind = 'scatter' , x='Valor' , y='Quartos')"
   ]
  },
  {
   "cell_type": "code",
   "execution_count": 857,
   "metadata": {},
   "outputs": [
    {
     "data": {
      "text/html": [
       "<div>\n",
       "<style scoped>\n",
       "    .dataframe tbody tr th:only-of-type {\n",
       "        vertical-align: middle;\n",
       "    }\n",
       "\n",
       "    .dataframe tbody tr th {\n",
       "        vertical-align: top;\n",
       "    }\n",
       "\n",
       "    .dataframe thead th {\n",
       "        text-align: right;\n",
       "    }\n",
       "</style>\n",
       "<table border=\"1\" class=\"dataframe\">\n",
       "  <thead>\n",
       "    <tr style=\"text-align: right;\">\n",
       "      <th></th>\n",
       "      <th>Valor</th>\n",
       "      <th>Banheiros</th>\n",
       "      <th>Vagas na garagem</th>\n",
       "      <th>Area</th>\n",
       "    </tr>\n",
       "    <tr>\n",
       "      <th>Quartos</th>\n",
       "      <th></th>\n",
       "      <th></th>\n",
       "      <th></th>\n",
       "      <th></th>\n",
       "    </tr>\n",
       "  </thead>\n",
       "  <tbody>\n",
       "    <tr>\n",
       "      <th>1</th>\n",
       "      <td>461,661.9157</td>\n",
       "      <td>1.0843</td>\n",
       "      <td>0.9382</td>\n",
       "      <td>92.2360</td>\n",
       "    </tr>\n",
       "    <tr>\n",
       "      <th>2</th>\n",
       "      <td>483,789.1645</td>\n",
       "      <td>1.6373</td>\n",
       "      <td>1.1548</td>\n",
       "      <td>79.9988</td>\n",
       "    </tr>\n",
       "    <tr>\n",
       "      <th>3</th>\n",
       "      <td>773,816.0511</td>\n",
       "      <td>2.2629</td>\n",
       "      <td>1.6464</td>\n",
       "      <td>125.8773</td>\n",
       "    </tr>\n",
       "    <tr>\n",
       "      <th>4</th>\n",
       "      <td>1,989,197.9478</td>\n",
       "      <td>3.6011</td>\n",
       "      <td>2.6328</td>\n",
       "      <td>240.9021</td>\n",
       "    </tr>\n",
       "    <tr>\n",
       "      <th>5</th>\n",
       "      <td>3,165,519.8074</td>\n",
       "      <td>4.2770</td>\n",
       "      <td>3.1757</td>\n",
       "      <td>512.0000</td>\n",
       "    </tr>\n",
       "  </tbody>\n",
       "</table>\n",
       "</div>"
      ],
      "text/plain": [
       "                 Valor  Banheiros  Vagas na garagem     Area\n",
       "Quartos                                                     \n",
       "1         461,661.9157     1.0843            0.9382  92.2360\n",
       "2         483,789.1645     1.6373            1.1548  79.9988\n",
       "3         773,816.0511     2.2629            1.6464 125.8773\n",
       "4       1,989,197.9478     3.6011            2.6328 240.9021\n",
       "5       3,165,519.8074     4.2770            3.1757 512.0000"
      ]
     },
     "execution_count": 857,
     "metadata": {},
     "output_type": "execute_result"
    }
   ],
   "source": [
    "df.groupby('Quartos').mean()"
   ]
  },
  {
   "cell_type": "markdown",
   "metadata": {},
   "source": [
    "#### Validação"
   ]
  },
  {
   "cell_type": "code",
   "execution_count": 858,
   "metadata": {},
   "outputs": [],
   "source": [
    "categories = encoderCategoria.transform(x_test[['Categoria']])"
   ]
  },
  {
   "cell_type": "code",
   "execution_count": 859,
   "metadata": {},
   "outputs": [],
   "source": [
    "categories = pd.DataFrame(categories.toarray(), columns= encoderCategoria.get_feature_names_out(), index = x_test.index)"
   ]
  },
  {
   "cell_type": "code",
   "execution_count": 860,
   "metadata": {},
   "outputs": [],
   "source": [
    "x_test = x_test.join(categories).drop('Categoria', axis = 1)"
   ]
  },
  {
   "cell_type": "code",
   "execution_count": 861,
   "metadata": {},
   "outputs": [],
   "source": [
    "regioes = pd.DataFrame(encoderRegiao.transform(x_test[['Regiao']]).toarray() , columns = encoderRegiao.get_feature_names_out(), index =x_test.index)"
   ]
  },
  {
   "cell_type": "code",
   "execution_count": 862,
   "metadata": {},
   "outputs": [],
   "source": [
    "x_test = x_test.join(regioes).drop('Regiao', axis =1)"
   ]
  },
  {
   "cell_type": "code",
   "execution_count": 863,
   "metadata": {},
   "outputs": [],
   "source": [
    "x_test['Area'] = norm.transform(x_test[['Area']])"
   ]
  },
  {
   "cell_type": "code",
   "execution_count": 864,
   "metadata": {},
   "outputs": [],
   "source": [
    "x_test = x_test.select_dtypes(include = np.number)\n",
    "y_test = np.log2(y_test)"
   ]
  },
  {
   "cell_type": "code",
   "execution_count": 865,
   "metadata": {},
   "outputs": [
    {
     "data": {
      "text/plain": [
       "0.7421469986303256"
      ]
     },
     "execution_count": 865,
     "metadata": {},
     "output_type": "execute_result"
    }
   ],
   "source": [
    "regressao.score(x_test, y_test)"
   ]
  },
  {
   "cell_type": "code",
   "execution_count": 866,
   "metadata": {},
   "outputs": [],
   "source": [
    "from sklearn.model_selection import cross_val_score"
   ]
  },
  {
   "cell_type": "code",
   "execution_count": 867,
   "metadata": {},
   "outputs": [],
   "source": [
    "testes = cross_val_score(regressao , x_train, y_train, cv = 100)"
   ]
  },
  {
   "cell_type": "code",
   "execution_count": 868,
   "metadata": {},
   "outputs": [
    {
     "data": {
      "text/plain": [
       "0.7400110029689921"
      ]
     },
     "execution_count": 868,
     "metadata": {},
     "output_type": "execute_result"
    }
   ],
   "source": [
    "testes.mean()"
   ]
  },
  {
   "cell_type": "code",
   "execution_count": null,
   "metadata": {},
   "outputs": [],
   "source": []
  }
 ],
 "metadata": {
  "interpreter": {
   "hash": "18e03f19e2eea32137bb6b7634899948883c996f0eeacfc3548045b6b15590e6"
  },
  "kernelspec": {
   "display_name": "Python 3.7.4 64-bit ('base': conda)",
   "language": "python",
   "name": "python3"
  },
  "language_info": {
   "codemirror_mode": {
    "name": "ipython",
    "version": 3
   },
   "file_extension": ".py",
   "mimetype": "text/x-python",
   "name": "python",
   "nbconvert_exporter": "python",
   "pygments_lexer": "ipython3",
   "version": "3.7.4"
  },
  "orig_nbformat": 4
 },
 "nbformat": 4,
 "nbformat_minor": 2
}
