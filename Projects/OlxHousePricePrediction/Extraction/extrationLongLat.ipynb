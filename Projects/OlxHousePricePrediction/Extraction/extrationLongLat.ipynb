{
 "cells": [
  {
   "cell_type": "code",
   "execution_count": 26,
   "metadata": {},
   "outputs": [],
   "source": [
    "import pandas as pd \n",
    "from api_geolocation import pos"
   ]
  },
  {
   "cell_type": "code",
   "execution_count": 27,
   "metadata": {},
   "outputs": [],
   "source": [
    "vixApp = pd.read_csv(r'C:\\Users\\arthu\\OneDrive\\Projetos\\0-GitHub\\mlStuff\\Projects\\OlxHousePricePrediction\\Extraction\\data\\vixApartamentos.csv' , encoding='utf-16', sep='|')"
   ]
  },
  {
   "cell_type": "code",
   "execution_count": 28,
   "metadata": {},
   "outputs": [],
   "source": [
    "vixCasa = pd.read_csv(r'C:\\Users\\arthu\\OneDrive\\Projetos\\0-GitHub\\mlStuff\\Projects\\OlxHousePricePrediction\\Extraction\\data\\vixCasas.csv' , encoding='utf-16', sep='|')"
   ]
  },
  {
   "cell_type": "code",
   "execution_count": 29,
   "metadata": {},
   "outputs": [],
   "source": [
    "df = pd.concat([vixCasa, vixApp], ignore_index=True)"
   ]
  },
  {
   "cell_type": "code",
   "execution_count": 30,
   "metadata": {},
   "outputs": [],
   "source": [
    "df = df['CEP'].drop_duplicates()"
   ]
  },
  {
   "cell_type": "code",
   "execution_count": 31,
   "metadata": {},
   "outputs": [
    {
     "data": {
      "text/plain": [
       "0       29047503\n",
       "1       29075910\n",
       "3       29056260\n",
       "4       29090720\n",
       "5       29075075\n",
       "          ...   \n",
       "7313    29057944\n",
       "7314    29055920\n",
       "7326    29055190\n",
       "7354    29041603\n",
       "7374    29090121\n",
       "Name: CEP, Length: 1367, dtype: int64"
      ]
     },
     "execution_count": 31,
     "metadata": {},
     "output_type": "execute_result"
    }
   ],
   "source": [
    "df "
   ]
  },
  {
   "cell_type": "code",
   "execution_count": 32,
   "metadata": {},
   "outputs": [],
   "source": [
    "def fncLongLat(x):\n",
    "    endereco = 'CEP EM VITORIA - ES ' + str(x)\n",
    "    try: \n",
    "        long, lat = pos(endereco)\n",
    "    except:\n",
    "        long, lat =[0,0]\n",
    "    return long, lat"
   ]
  },
  {
   "cell_type": "code",
   "execution_count": 33,
   "metadata": {},
   "outputs": [],
   "source": [
    "posicoes = []"
   ]
  },
  {
   "cell_type": "code",
   "execution_count": 34,
   "metadata": {},
   "outputs": [],
   "source": [
    "for index, i in enumerate(df):\n",
    "    temp= {}\n",
    "    temp['Codigo'] = i\n",
    "    endereco = 'CEP EM VITORIA - ES ' + str(i)\n",
    "    temp['Posicao'] = pos(endereco)\n",
    "    posicoes.append(temp)"
   ]
  },
  {
   "cell_type": "code",
   "execution_count": 35,
   "metadata": {},
   "outputs": [],
   "source": [
    "df = pd.DataFrame(posicoes)"
   ]
  },
  {
   "cell_type": "code",
   "execution_count": 36,
   "metadata": {},
   "outputs": [
    {
     "data": {
      "text/html": [
       "<div>\n",
       "<style scoped>\n",
       "    .dataframe tbody tr th:only-of-type {\n",
       "        vertical-align: middle;\n",
       "    }\n",
       "\n",
       "    .dataframe tbody tr th {\n",
       "        vertical-align: top;\n",
       "    }\n",
       "\n",
       "    .dataframe thead th {\n",
       "        text-align: right;\n",
       "    }\n",
       "</style>\n",
       "<table border=\"1\" class=\"dataframe\">\n",
       "  <thead>\n",
       "    <tr style=\"text-align: right;\">\n",
       "      <th></th>\n",
       "      <th>Codigo</th>\n",
       "      <th>Posicao</th>\n",
       "    </tr>\n",
       "  </thead>\n",
       "  <tbody>\n",
       "    <tr>\n",
       "      <th>0</th>\n",
       "      <td>29047503</td>\n",
       "      <td>[-20.3196644, -40.3384748]</td>\n",
       "    </tr>\n",
       "    <tr>\n",
       "      <th>1</th>\n",
       "      <td>29075910</td>\n",
       "      <td>[-20.2753813, -40.3030297]</td>\n",
       "    </tr>\n",
       "    <tr>\n",
       "      <th>2</th>\n",
       "      <td>29056260</td>\n",
       "      <td>[-20.3042733, -40.3004066]</td>\n",
       "    </tr>\n",
       "    <tr>\n",
       "      <th>3</th>\n",
       "      <td>29090720</td>\n",
       "      <td>[-20.2515352, -40.2672093]</td>\n",
       "    </tr>\n",
       "    <tr>\n",
       "      <th>4</th>\n",
       "      <td>29075075</td>\n",
       "      <td>[-20.2659048, -40.299271]</td>\n",
       "    </tr>\n",
       "    <tr>\n",
       "      <th>...</th>\n",
       "      <td>...</td>\n",
       "      <td>...</td>\n",
       "    </tr>\n",
       "    <tr>\n",
       "      <th>1362</th>\n",
       "      <td>29057944</td>\n",
       "      <td>[-20.3196644, -40.3384748]</td>\n",
       "    </tr>\n",
       "    <tr>\n",
       "      <th>1363</th>\n",
       "      <td>29055920</td>\n",
       "      <td>[-20.3196644, -40.3384748]</td>\n",
       "    </tr>\n",
       "    <tr>\n",
       "      <th>1364</th>\n",
       "      <td>29055190</td>\n",
       "      <td>[-20.3017475, -40.292016]</td>\n",
       "    </tr>\n",
       "    <tr>\n",
       "      <th>1365</th>\n",
       "      <td>29041603</td>\n",
       "      <td>[-20.3080754, -40.3220581]</td>\n",
       "    </tr>\n",
       "    <tr>\n",
       "      <th>1366</th>\n",
       "      <td>29090121</td>\n",
       "      <td>[-20.3196644, -40.3384748]</td>\n",
       "    </tr>\n",
       "  </tbody>\n",
       "</table>\n",
       "<p>1367 rows × 2 columns</p>\n",
       "</div>"
      ],
      "text/plain": [
       "        Codigo                     Posicao\n",
       "0     29047503  [-20.3196644, -40.3384748]\n",
       "1     29075910  [-20.2753813, -40.3030297]\n",
       "2     29056260  [-20.3042733, -40.3004066]\n",
       "3     29090720  [-20.2515352, -40.2672093]\n",
       "4     29075075   [-20.2659048, -40.299271]\n",
       "...        ...                         ...\n",
       "1362  29057944  [-20.3196644, -40.3384748]\n",
       "1363  29055920  [-20.3196644, -40.3384748]\n",
       "1364  29055190   [-20.3017475, -40.292016]\n",
       "1365  29041603  [-20.3080754, -40.3220581]\n",
       "1366  29090121  [-20.3196644, -40.3384748]\n",
       "\n",
       "[1367 rows x 2 columns]"
      ]
     },
     "execution_count": 36,
     "metadata": {},
     "output_type": "execute_result"
    }
   ],
   "source": [
    "df "
   ]
  },
  {
   "cell_type": "code",
   "execution_count": 37,
   "metadata": {},
   "outputs": [],
   "source": [
    "df['lat'] = df['Posicao'].map(lambda x : x[0] )\n",
    "df['long'] = df['Posicao'].map(lambda x : x[1] )"
   ]
  },
  {
   "cell_type": "code",
   "execution_count": 38,
   "metadata": {},
   "outputs": [],
   "source": [
    "df.to_csv('data/vixPosicoes.csv' , encoding='utf-16', sep='|' , index = False)"
   ]
  },
  {
   "cell_type": "code",
   "execution_count": 42,
   "metadata": {},
   "outputs": [
    {
     "ename": "TypeError",
     "evalue": "unhashable type: 'list'",
     "output_type": "error",
     "traceback": [
      "\u001b[1;31m---------------------------------------------------------------------------\u001b[0m",
      "\u001b[1;31mTypeError\u001b[0m                                 Traceback (most recent call last)",
      "\u001b[1;32mpandas\\_libs\\hashtable_class_helper.pxi\u001b[0m in \u001b[0;36mpandas._libs.hashtable.PyObjectHashTable.map_locations\u001b[1;34m()\u001b[0m\n",
      "\u001b[1;31mTypeError\u001b[0m: unhashable type: 'list'"
     ]
    },
    {
     "name": "stderr",
     "output_type": "stream",
     "text": [
      "Exception ignored in: 'pandas._libs.index.IndexEngine._call_map_locations'\n",
      "Traceback (most recent call last):\n",
      "  File \"pandas\\_libs\\hashtable_class_helper.pxi\", line 5231, in pandas._libs.hashtable.PyObjectHashTable.map_locations\n",
      "TypeError: unhashable type: 'list'\n"
     ]
    },
    {
     "data": {
      "text/plain": [
       "[-20.3196644, -40.3384748]    366\n",
       "[-20.2832708, -40.293051]       7\n",
       "[-20.3094455, -40.2927762]      2\n",
       "[-20.2976595, -40.3077916]      2\n",
       "[-20.3030014, -40.3075137]      2\n",
       "                             ... \n",
       "[-20.2536299, -40.2670089]      1\n",
       "[-20.3049513, -40.3020253]      1\n",
       "[-20.306332, -40.3049743]       1\n",
       "[-20.305409, -40.3483501]       1\n",
       "[-20.3080754, -40.3220581]      1\n",
       "Name: Posicao, Length: 972, dtype: int64"
      ]
     },
     "execution_count": 42,
     "metadata": {},
     "output_type": "execute_result"
    }
   ],
   "source": [
    "df['Posicao'].value_counts()"
   ]
  },
  {
   "cell_type": "code",
   "execution_count": null,
   "metadata": {},
   "outputs": [],
   "source": []
  }
 ],
 "metadata": {
  "interpreter": {
   "hash": "18e03f19e2eea32137bb6b7634899948883c996f0eeacfc3548045b6b15590e6"
  },
  "kernelspec": {
   "display_name": "Python 3.7.4 64-bit ('base': conda)",
   "language": "python",
   "name": "python3"
  },
  "language_info": {
   "codemirror_mode": {
    "name": "ipython",
    "version": 3
   },
   "file_extension": ".py",
   "mimetype": "text/x-python",
   "name": "python",
   "nbconvert_exporter": "python",
   "pygments_lexer": "ipython3",
   "version": "3.7.4"
  },
  "orig_nbformat": 4
 },
 "nbformat": 4,
 "nbformat_minor": 2
}
