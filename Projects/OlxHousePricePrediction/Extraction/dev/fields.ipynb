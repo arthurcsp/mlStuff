{
 "cells": [
  {
   "cell_type": "code",
   "execution_count": 92,
   "metadata": {},
   "outputs": [],
   "source": [
    "from bs4 import BeautifulSoup\n",
    "import pandas as pd \n",
    "import requests"
   ]
  },
  {
   "cell_type": "code",
   "execution_count": 93,
   "metadata": {},
   "outputs": [],
   "source": [
    "link = 'https://es.olx.com.br/norte-do-espirito-santo/imoveis/linda-cobertura-linear-240-m2-excelente-barro-vermelho-950493040'\n",
    "codigo = 950493040\n",
    "houseRequest = requests.get(link , headers={'User-Agent': 'Mozilla/5.0'})\n",
    "assert houseRequest.status_code == 200 , 'Status code error'"
   ]
  },
  {
   "cell_type": "code",
   "execution_count": 94,
   "metadata": {},
   "outputs": [],
   "source": [
    "soup = BeautifulSoup(houseRequest.content, 'html.parser')"
   ]
  },
  {
   "cell_type": "code",
   "execution_count": 95,
   "metadata": {},
   "outputs": [],
   "source": [
    "fields ={}\n",
    "fields['Codigo'] = codigo"
   ]
  },
  {
   "cell_type": "code",
   "execution_count": 96,
   "metadata": {},
   "outputs": [],
   "source": [
    "#Valor\n",
    "value = soup.find('div',{'data-testid' :'ad-price-wrapper'}).find('h2').get_text()\n",
    "fields['Valor'] = value"
   ]
  },
  {
   "cell_type": "code",
   "execution_count": 97,
   "metadata": {},
   "outputs": [],
   "source": [
    "#Detalhes\n",
    "for i in soup.find('div',{'data-testid' :'ad-properties'}):\n",
    "    detailType = i.find('dt').get_text()\n",
    "    try:\n",
    "        value =i.find('a').get_text()\n",
    "    except:\n",
    "        value =i.find('dd').get_text()\n",
    "    fields[detailType]=value"
   ]
  },
  {
   "cell_type": "code",
   "execution_count": 98,
   "metadata": {},
   "outputs": [],
   "source": [
    "#Localização\n",
    "for i in soup.find_all('div',{'data-testid' :'ad-properties'})[1]:\n",
    "    detailType = i.find('dt').get_text()\n",
    "    try:\n",
    "        value =i.find('a').get_text()\n",
    "    except:\n",
    "        value =i.find('dd').get_text()\n",
    "    fields[detailType]=value"
   ]
  },
  {
   "cell_type": "code",
   "execution_count": 99,
   "metadata": {},
   "outputs": [
    {
     "data": {
      "text/plain": [
       "{'Codigo': 950493040,\n",
       " 'Valor': 'R$ 1.500.000',\n",
       " 'Categoria': 'Apartamentos',\n",
       " 'Tipo': 'Venda - apartamento cobertura',\n",
       " 'Área útil': '240m²',\n",
       " 'Quartos': '3',\n",
       " 'Banheiros': '2',\n",
       " 'Vagas na garagem': '4',\n",
       " 'Detalhes do imóvel': 'Piscina',\n",
       " 'Detalhes do condominio': 'Permitido animais, Elevador, Piscina',\n",
       " 'CEP': '29057600',\n",
       " 'Município': 'Vitória',\n",
       " 'Bairro': 'Barro Vermelho',\n",
       " 'Logradouro': 'Rua Pedro Daniel'}"
      ]
     },
     "execution_count": 99,
     "metadata": {},
     "output_type": "execute_result"
    }
   ],
   "source": [
    "fields"
   ]
  },
  {
   "cell_type": "code",
   "execution_count": null,
   "metadata": {},
   "outputs": [],
   "source": []
  }
 ],
 "metadata": {
  "interpreter": {
   "hash": "18e03f19e2eea32137bb6b7634899948883c996f0eeacfc3548045b6b15590e6"
  },
  "kernelspec": {
   "display_name": "Python 3.7.4 64-bit ('base': conda)",
   "language": "python",
   "name": "python3"
  },
  "language_info": {
   "codemirror_mode": {
    "name": "ipython",
    "version": 3
   },
   "file_extension": ".py",
   "mimetype": "text/x-python",
   "name": "python",
   "nbconvert_exporter": "python",
   "pygments_lexer": "ipython3",
   "version": "3.7.4"
  },
  "orig_nbformat": 4
 },
 "nbformat": 4,
 "nbformat_minor": 2
}
